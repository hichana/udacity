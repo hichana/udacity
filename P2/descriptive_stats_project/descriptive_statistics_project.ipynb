{
 "cells": [
  {
   "cell_type": "code",
   "execution_count": 2,
   "metadata": {},
   "outputs": [
    {
     "data": {
      "text/plain": [
       "'Re-reading project notes'"
      ]
     },
     "execution_count": 2,
     "metadata": {},
     "output_type": "execute_result"
    }
   ],
   "source": [
    "\"\"\"Re-reading project notes\"\"\"\n",
    "# standard deck of cards\n",
    "# Values: Ace = 1, J,Q,K = 10\n",
    "# statistics for the sum of scores when making three card draws\n",
    "    # choose cards without replacement for each draw\n",
    "    # hand replaced into deck and deck shuffled after each draw"
   ]
  },
  {
   "cell_type": "markdown",
   "metadata": {},
   "source": [
    "### Q1: A histogram is provided that accurately reflects the card values’ relative frequency distribution."
   ]
  },
  {
   "cell_type": "code",
   "execution_count": 3,
   "metadata": {
    "scrolled": true
   },
   "outputs": [
    {
     "data": {
      "text/plain": [
       "[1,\n",
       " 1,\n",
       " 1,\n",
       " 1,\n",
       " 2,\n",
       " 2,\n",
       " 2,\n",
       " 2,\n",
       " 3,\n",
       " 3,\n",
       " 3,\n",
       " 3,\n",
       " 4,\n",
       " 4,\n",
       " 4,\n",
       " 4,\n",
       " 5,\n",
       " 5,\n",
       " 5,\n",
       " 5,\n",
       " 6,\n",
       " 6,\n",
       " 6,\n",
       " 6,\n",
       " 7,\n",
       " 7,\n",
       " 7,\n",
       " 7,\n",
       " 8,\n",
       " 8,\n",
       " 8,\n",
       " 8,\n",
       " 9,\n",
       " 9,\n",
       " 9,\n",
       " 9,\n",
       " 10,\n",
       " 10,\n",
       " 10,\n",
       " 10,\n",
       " 10,\n",
       " 10,\n",
       " 10,\n",
       " 10,\n",
       " 10,\n",
       " 10,\n",
       " 10,\n",
       " 10,\n",
       " 10,\n",
       " 10,\n",
       " 10,\n",
       " 10]"
      ]
     },
     "execution_count": 3,
     "metadata": {},
     "output_type": "execute_result"
    }
   ],
   "source": [
    "\"\"\"Make list of 52 values from deck of cards\"\"\"\n",
    "value_freq_map = {1:4,2:4,3:4,4:4,5:4,6:4,7:4,8:4,9:4,10:16}\n",
    "\n",
    "def make_values_list(dict):\n",
    "    values_list = []\n",
    "    for key, value in dict.items():\n",
    "        for i in range(value):\n",
    "            values_list.append(key)\n",
    "    return values_list \n",
    "        \n",
    "all_values = make_values_list(value_freq_map)\n",
    "all_values"
   ]
  },
  {
   "cell_type": "markdown",
   "metadata": {},
   "source": [
    "Note, the value of a single card value is a discrete random variable, but the average of a hand of cards is a continuous random variable."
   ]
  },
  {
   "cell_type": "code",
   "execution_count": 4,
   "metadata": {},
   "outputs": [
    {
     "data": {
      "text/html": [
       "<div>\n",
       "<table border=\"1\" class=\"dataframe\">\n",
       "  <thead>\n",
       "    <tr style=\"text-align: right;\">\n",
       "      <th></th>\n",
       "      <th>value</th>\n",
       "      <th>frequency</th>\n",
       "    </tr>\n",
       "  </thead>\n",
       "  <tbody>\n",
       "    <tr>\n",
       "      <th>0</th>\n",
       "      <td>1</td>\n",
       "      <td>4</td>\n",
       "    </tr>\n",
       "    <tr>\n",
       "      <th>1</th>\n",
       "      <td>2</td>\n",
       "      <td>4</td>\n",
       "    </tr>\n",
       "    <tr>\n",
       "      <th>2</th>\n",
       "      <td>3</td>\n",
       "      <td>4</td>\n",
       "    </tr>\n",
       "    <tr>\n",
       "      <th>3</th>\n",
       "      <td>4</td>\n",
       "      <td>4</td>\n",
       "    </tr>\n",
       "    <tr>\n",
       "      <th>4</th>\n",
       "      <td>5</td>\n",
       "      <td>4</td>\n",
       "    </tr>\n",
       "    <tr>\n",
       "      <th>5</th>\n",
       "      <td>6</td>\n",
       "      <td>4</td>\n",
       "    </tr>\n",
       "    <tr>\n",
       "      <th>6</th>\n",
       "      <td>7</td>\n",
       "      <td>4</td>\n",
       "    </tr>\n",
       "    <tr>\n",
       "      <th>7</th>\n",
       "      <td>8</td>\n",
       "      <td>4</td>\n",
       "    </tr>\n",
       "    <tr>\n",
       "      <th>8</th>\n",
       "      <td>9</td>\n",
       "      <td>4</td>\n",
       "    </tr>\n",
       "    <tr>\n",
       "      <th>9</th>\n",
       "      <td>10</td>\n",
       "      <td>16</td>\n",
       "    </tr>\n",
       "  </tbody>\n",
       "</table>\n",
       "</div>"
      ],
      "text/plain": [
       "   value  frequency\n",
       "0      1          4\n",
       "1      2          4\n",
       "2      3          4\n",
       "3      4          4\n",
       "4      5          4\n",
       "5      6          4\n",
       "6      7          4\n",
       "7      8          4\n",
       "8      9          4\n",
       "9     10         16"
      ]
     },
     "execution_count": 4,
     "metadata": {},
     "output_type": "execute_result"
    }
   ],
   "source": [
    "from collections import defaultdict\n",
    "import pandas as pd\n",
    "\n",
    "d = defaultdict(int)\n",
    "for value in all_values:\n",
    "    d[value] += 1\n",
    "\n",
    "grp_values = sorted(d.items())\n",
    "values_df = pd.DataFrame(grp_values, columns=(\"value\",\"frequency\"))\n",
    "values_df"
   ]
  },
  {
   "cell_type": "code",
   "execution_count": 5,
   "metadata": {},
   "outputs": [
    {
     "data": {
      "image/png": "[encoded data removed]",
      "text/plain": [
       "<matplotlib.figure.Figure at 0x105b981d0>"
      ]
     },
     "metadata": {},
     "output_type": "display_data"
    }
   ],
   "source": [
    "\"\"\"Plot list in histogram\"\"\"\n",
    "import seaborn as sns\n",
    "import matplotlib.pyplot as plt\n",
    "\n",
    "fig, ax = plt.subplots()\n",
    "\n",
    "sns.set_style(\"whitegrid\")\n",
    "sns.barplot(x=\"value\", y=\"frequency\", data=values_df)\n",
    "\n",
    "\n",
    "ax.set_title(\"Relative Frequency Histogram for Single Draw\")\n",
    "ax.set_ylabel(\"Frequency\")\n",
    "ax.set_xlabel(\"Card Value\")\n",
    "plt.show()"
   ]
  },
  {
   "cell_type": "code",
   "execution_count": 6,
   "metadata": {},
   "outputs": [
    {
     "data": {
      "image/png": "[encoded data removed]",
      "text/plain": [
       "<matplotlib.figure.Figure at 0x10d2fbb38>"
      ]
     },
     "metadata": {},
     "output_type": "display_data"
    }
   ],
   "source": [
    "\"\"\"Plot list in histogram\"\"\"\n",
    "import seaborn as sns\n",
    "import matplotlib.pyplot as plt\n",
    "\n",
    "fig, ax = plt.subplots()\n",
    "\n",
    "sns.distplot(all_values, bins=10, hist_kws={\"range\":(0.5,10.5)}, ax=ax, kde=False)\n",
    "\n",
    "ax.set_title(\"Relative Frequency Histogram for Single Draw\")\n",
    "ax.set_ylabel(\"Frequency\")\n",
    "ax.set_xlabel(\"Card Value\")\n",
    "plt.xticks(range(11))\n",
    "plt.show()"
   ]
  },
  {
   "cell_type": "code",
   "execution_count": 7,
   "metadata": {},
   "outputs": [
    {
     "data": {
      "text/plain": [
       "6.538461538461538"
      ]
     },
     "execution_count": 7,
     "metadata": {},
     "output_type": "execute_result"
    }
   ],
   "source": [
    "# true population mean\n",
    "import statistics as stats\n",
    "\n",
    "dist_mean = stats.mean(all_values)\n",
    "dist_mean"
   ]
  },
  {
   "cell_type": "code",
   "execution_count": 8,
   "metadata": {},
   "outputs": [
    {
     "data": {
      "text/plain": [
       "7.0"
      ]
     },
     "execution_count": 8,
     "metadata": {},
     "output_type": "execute_result"
    }
   ],
   "source": [
    "# population median value\n",
    "dist_median = stats.median(all_values)\n",
    "dist_median"
   ]
  },
  {
   "cell_type": "code",
   "execution_count": 9,
   "metadata": {},
   "outputs": [
    {
     "data": {
      "text/plain": [
       "3.1529079279875685"
      ]
     },
     "execution_count": 9,
     "metadata": {},
     "output_type": "execute_result"
    }
   ],
   "source": [
    "# population standard deviation\n",
    "dist_pstdev = stats.pstdev(all_values)\n",
    "dist_pstdev"
   ]
  },
  {
   "cell_type": "markdown",
   "metadata": {},
   "source": [
    "### Q2: At least thirty samples have been performed and the summed values from each sample have been reported in a supplemental file."
   ]
  },
  {
   "cell_type": "code",
   "execution_count": 10,
   "metadata": {
    "collapsed": true,
    "scrolled": true
   },
   "outputs": [],
   "source": [
    "\"\"\"Create deck of cards\"\"\"\n",
    "import itertools as it\n",
    "\n",
    "RANKS = \"123456789TJQK\"\n",
    "SUITS = \"HSCD\"\n",
    "deck = list(it.product(RANKS,SUITS))"
   ]
  },
  {
   "cell_type": "code",
   "execution_count": 11,
   "metadata": {},
   "outputs": [
    {
     "data": {
      "text/plain": [
       "[[('4', 'D'), ('T', 'S'), ('9', 'C')],\n",
       " [('3', 'H'), ('6', 'D'), ('T', 'C')],\n",
       " [('8', 'C'), ('J', 'H'), ('T', 'S')],\n",
       " [('2', 'H'), ('T', 'C'), ('1', 'H')],\n",
       " [('8', 'C'), ('5', 'H'), ('9', 'D')],\n",
       " [('4', 'C'), ('4', 'H'), ('Q', 'S')],\n",
       " [('8', 'C'), ('9', 'C'), ('9', 'D')],\n",
       " [('8', 'C'), ('7', 'S'), ('J', 'H')],\n",
       " [('3', 'S'), ('4', 'C'), ('J', 'H')],\n",
       " [('3', 'S'), ('9', 'S'), ('7', 'H')],\n",
       " [('Q', 'D'), ('1', 'H'), ('J', 'C')],\n",
       " [('K', 'S'), ('2', 'H'), ('3', 'C')],\n",
       " [('K', 'H'), ('T', 'S'), ('1', 'C')],\n",
       " [('5', 'D'), ('K', 'S'), ('1', 'S')],\n",
       " [('5', 'S'), ('8', 'C'), ('T', 'C')],\n",
       " [('Q', 'C'), ('7', 'H'), ('Q', 'S')],\n",
       " [('K', 'C'), ('7', 'D'), ('7', 'S')],\n",
       " [('Q', 'C'), ('K', 'D'), ('T', 'H')],\n",
       " [('8', 'H'), ('3', 'H'), ('6', 'D')],\n",
       " [('2', 'C'), ('1', 'C'), ('3', 'H')],\n",
       " [('8', 'D'), ('4', 'S'), ('5', 'H')],\n",
       " [('J', 'D'), ('7', 'D'), ('K', 'S')],\n",
       " [('J', 'H'), ('5', 'D'), ('7', 'C')],\n",
       " [('9', 'H'), ('7', 'H'), ('T', 'H')],\n",
       " [('6', 'C'), ('9', 'C'), ('T', 'S')],\n",
       " [('7', 'C'), ('T', 'S'), ('4', 'C')],\n",
       " [('6', 'S'), ('J', 'D'), ('1', 'S')],\n",
       " [('5', 'S'), ('T', 'C'), ('J', 'C')],\n",
       " [('Q', 'H'), ('3', 'C'), ('Q', 'H')],\n",
       " [('6', 'H'), ('9', 'C'), ('T', 'H')]]"
      ]
     },
     "execution_count": 11,
     "metadata": {},
     "output_type": "execute_result"
    }
   ],
   "source": [
    "\"\"\"Generate Sampling of cards\"\"\"\n",
    "import random as rand\n",
    "\n",
    "my_seed = 3\n",
    "rand.seed(my_seed)\n",
    "\n",
    "def draw_hand(num_cards):\n",
    "    hand = []\n",
    "    for i in range(num_cards):\n",
    "        card = deck[rand.randrange(len(deck))]\n",
    "        hand.append(card)\n",
    "    return hand\n",
    "    \n",
    "def hands_sampling(num_cards, num_samples):\n",
    "    all_hands = []\n",
    "    for i in range(num_samples):\n",
    "        hand = draw_hand(num_cards)\n",
    "        all_hands.append(hand)\n",
    "    return all_hands\n",
    "\n",
    "sample_size = 30\n",
    "num_cards = 3\n",
    "sample_set = hands_sampling(num_cards, sample_size)\n",
    "sample_set"
   ]
  },
  {
   "cell_type": "code",
   "execution_count": 12,
   "metadata": {
    "scrolled": true
   },
   "outputs": [
    {
     "data": {
      "text/plain": [
       "[23,\n",
       " 19,\n",
       " 28,\n",
       " 13,\n",
       " 22,\n",
       " 18,\n",
       " 26,\n",
       " 25,\n",
       " 17,\n",
       " 19,\n",
       " 21,\n",
       " 15,\n",
       " 21,\n",
       " 16,\n",
       " 23,\n",
       " 27,\n",
       " 24,\n",
       " 30,\n",
       " 17,\n",
       " 6,\n",
       " 17,\n",
       " 27,\n",
       " 22,\n",
       " 26,\n",
       " 25,\n",
       " 21,\n",
       " 17,\n",
       " 25,\n",
       " 23,\n",
       " 25]"
      ]
     },
     "execution_count": 12,
     "metadata": {},
     "output_type": "execute_result"
    }
   ],
   "source": [
    "\"\"\"Sum values from each hand\"\"\"\n",
    "# find card value\n",
    "def card_value(card):\n",
    "    try:\n",
    "        value = int(card[0])\n",
    "        return value\n",
    "    except:\n",
    "        return 10\n",
    "    \n",
    "# sum the hand\n",
    "def sum_hand(hand):\n",
    "    hand_sum = 0\n",
    "    for card in hand:\n",
    "        hand_sum += card_value(card)\n",
    "    return hand_sum\n",
    "        \n",
    "# use list comprehension  to make list of all summed hands from sampling\n",
    "sum_hands = [sum_hand(hand) for hand in sample_set]\n",
    "sum_hands"
   ]
  },
  {
   "cell_type": "markdown",
   "metadata": {},
   "source": [
    "### Q3: At least two measures of central tendency and two measures of variability are accurately reported to summarize and describe the samples taken for Question 2."
   ]
  },
  {
   "cell_type": "code",
   "execution_count": 13,
   "metadata": {},
   "outputs": [
    {
     "data": {
      "text/plain": [
       "21.266666666666666"
      ]
     },
     "execution_count": 13,
     "metadata": {},
     "output_type": "execute_result"
    }
   ],
   "source": [
    "# mean\n",
    "dist_mean = stats.mean(sum_hands)\n",
    "dist_mean"
   ]
  },
  {
   "cell_type": "code",
   "execution_count": 14,
   "metadata": {},
   "outputs": [
    {
     "data": {
      "text/plain": [
       "22.0"
      ]
     },
     "execution_count": 14,
     "metadata": {},
     "output_type": "execute_result"
    }
   ],
   "source": [
    "# median\n",
    "dist_median = stats.median(sum_hands)\n",
    "dist_median"
   ]
  },
  {
   "cell_type": "code",
   "execution_count": 15,
   "metadata": {},
   "outputs": [
    {
     "data": {
      "text/plain": [
       "5.14569343427494"
      ]
     },
     "execution_count": 15,
     "metadata": {},
     "output_type": "execute_result"
    }
   ],
   "source": [
    "# standard deviation\n",
    "dist_stdev = stats.stdev(sum_hands)\n",
    "dist_stdev"
   ]
  },
  {
   "cell_type": "markdown",
   "metadata": {},
   "source": [
    "Interquartile range: The interquartile range (IQR) is the difference between the 75th and 25th percentile of the data. It is a measure of the dispersion similar to standard deviation or variance, but is much more robust against outliers "
   ]
  },
  {
   "cell_type": "code",
   "execution_count": 16,
   "metadata": {},
   "outputs": [
    {
     "data": {
      "text/plain": [
       "7.75"
      ]
     },
     "execution_count": 16,
     "metadata": {},
     "output_type": "execute_result"
    }
   ],
   "source": [
    "# interquartile range\n",
    "from scipy.stats import iqr\n",
    "\n",
    "iqr(sum_hands)"
   ]
  },
  {
   "cell_type": "markdown",
   "metadata": {},
   "source": [
    "### Q4: A histogram accurately reflecting the sampled data is provided. Discussion of the shape is provided, including a comparison to that of the histogram of the original card values."
   ]
  },
  {
   "cell_type": "code",
   "execution_count": 17,
   "metadata": {},
   "outputs": [
    {
     "data": {
      "text/plain": [
       "[6,\n",
       " 13,\n",
       " 15,\n",
       " 16,\n",
       " 17,\n",
       " 17,\n",
       " 17,\n",
       " 17,\n",
       " 18,\n",
       " 19,\n",
       " 19,\n",
       " 21,\n",
       " 21,\n",
       " 21,\n",
       " 22,\n",
       " 22,\n",
       " 23,\n",
       " 23,\n",
       " 23,\n",
       " 24,\n",
       " 25,\n",
       " 25,\n",
       " 25,\n",
       " 25,\n",
       " 26,\n",
       " 26,\n",
       " 27,\n",
       " 27,\n",
       " 28,\n",
       " 30]"
      ]
     },
     "execution_count": 17,
     "metadata": {},
     "output_type": "execute_result"
    }
   ],
   "source": [
    "# how to plot this one?\n",
    "# what are the values sorted?\n",
    "sorted(sum_hands)"
   ]
  },
  {
   "cell_type": "code",
   "execution_count": 18,
   "metadata": {},
   "outputs": [
    {
     "data": {
      "text/html": [
       "<div>\n",
       "<table border=\"1\" class=\"dataframe\">\n",
       "  <thead>\n",
       "    <tr style=\"text-align: right;\">\n",
       "      <th></th>\n",
       "      <th>value</th>\n",
       "      <th>frequency</th>\n",
       "    </tr>\n",
       "  </thead>\n",
       "  <tbody>\n",
       "    <tr>\n",
       "      <th>0</th>\n",
       "      <td>6</td>\n",
       "      <td>1</td>\n",
       "    </tr>\n",
       "    <tr>\n",
       "      <th>1</th>\n",
       "      <td>13</td>\n",
       "      <td>1</td>\n",
       "    </tr>\n",
       "    <tr>\n",
       "      <th>2</th>\n",
       "      <td>15</td>\n",
       "      <td>1</td>\n",
       "    </tr>\n",
       "    <tr>\n",
       "      <th>3</th>\n",
       "      <td>16</td>\n",
       "      <td>1</td>\n",
       "    </tr>\n",
       "    <tr>\n",
       "      <th>4</th>\n",
       "      <td>17</td>\n",
       "      <td>4</td>\n",
       "    </tr>\n",
       "    <tr>\n",
       "      <th>5</th>\n",
       "      <td>18</td>\n",
       "      <td>1</td>\n",
       "    </tr>\n",
       "    <tr>\n",
       "      <th>6</th>\n",
       "      <td>19</td>\n",
       "      <td>2</td>\n",
       "    </tr>\n",
       "    <tr>\n",
       "      <th>7</th>\n",
       "      <td>21</td>\n",
       "      <td>3</td>\n",
       "    </tr>\n",
       "    <tr>\n",
       "      <th>8</th>\n",
       "      <td>22</td>\n",
       "      <td>2</td>\n",
       "    </tr>\n",
       "    <tr>\n",
       "      <th>9</th>\n",
       "      <td>23</td>\n",
       "      <td>3</td>\n",
       "    </tr>\n",
       "    <tr>\n",
       "      <th>10</th>\n",
       "      <td>24</td>\n",
       "      <td>1</td>\n",
       "    </tr>\n",
       "    <tr>\n",
       "      <th>11</th>\n",
       "      <td>25</td>\n",
       "      <td>4</td>\n",
       "    </tr>\n",
       "    <tr>\n",
       "      <th>12</th>\n",
       "      <td>26</td>\n",
       "      <td>2</td>\n",
       "    </tr>\n",
       "    <tr>\n",
       "      <th>13</th>\n",
       "      <td>27</td>\n",
       "      <td>2</td>\n",
       "    </tr>\n",
       "    <tr>\n",
       "      <th>14</th>\n",
       "      <td>28</td>\n",
       "      <td>1</td>\n",
       "    </tr>\n",
       "    <tr>\n",
       "      <th>15</th>\n",
       "      <td>30</td>\n",
       "      <td>1</td>\n",
       "    </tr>\n",
       "  </tbody>\n",
       "</table>\n",
       "</div>"
      ],
      "text/plain": [
       "    value  frequency\n",
       "0       6          1\n",
       "1      13          1\n",
       "2      15          1\n",
       "3      16          1\n",
       "4      17          4\n",
       "5      18          1\n",
       "6      19          2\n",
       "7      21          3\n",
       "8      22          2\n",
       "9      23          3\n",
       "10     24          1\n",
       "11     25          4\n",
       "12     26          2\n",
       "13     27          2\n",
       "14     28          1\n",
       "15     30          1"
      ]
     },
     "execution_count": 18,
     "metadata": {},
     "output_type": "execute_result"
    }
   ],
   "source": [
    "sum_hands_dict = defaultdict(int)\n",
    "for value in sum_hands:\n",
    "    sum_hands_dict[value] += 1\n",
    "\n",
    "grp_sum_hands = sorted(sum_hands_dict.items())\n",
    "sum_hands_df = pd.DataFrame(grp_sum_hands, columns=(\"value\",\"frequency\"))\n",
    "sum_hands_df"
   ]
  },
  {
   "cell_type": "code",
   "execution_count": 19,
   "metadata": {},
   "outputs": [
    {
     "data": {
      "image/png": "[encoded data removed]",
      "text/plain": [
       "<matplotlib.figure.Figure at 0x112c67470>"
      ]
     },
     "metadata": {},
     "output_type": "display_data"
    }
   ],
   "source": [
    "\"\"\"Plot list in histogram\"\"\"\n",
    "fig, ax = plt.subplots()\n",
    "\n",
    "sns.barplot(x=\"value\", y=\"frequency\", data=sum_hands_df)\n",
    "\n",
    "ax.set_title(\"Relative Frequency: sum of {} card draw\".format(num_cards))\n",
    "ax.set_ylabel(\"Frequency\")\n",
    "ax.set_xlabel(\"Card Value\")\n",
    "plt.show()"
   ]
  },
  {
   "cell_type": "markdown",
   "metadata": {},
   "source": [
    "The distribution of the summed values of each hand is approximately symmetric with a slight negative skew towards the lower values (for example, 3 or 4). The skew effectively shifts the mean of the distribution higher - in this case to 19.637 - and can be accounted for considering the previous distribution show the card values. In that distribution we can see that it is highly negatively skewed due to the fact that the probability of drawing a card with a value of 10 is higher than all the other possible values which are lower, from 1 to 9.  "
   ]
  },
  {
   "cell_type": "code",
   "execution_count": 20,
   "metadata": {
    "scrolled": false
   },
   "outputs": [
    {
     "data": {
      "image/png": "[encoded data removed]",
      "text/plain": [
       "<matplotlib.figure.Figure at 0x112fa15f8>"
      ]
     },
     "metadata": {},
     "output_type": "display_data"
    }
   ],
   "source": [
    "\"\"\"Plot list in histogram\"\"\"\n",
    "fig, ax = plt.subplots()\n",
    "\n",
    "# calculate number of bins\n",
    "num_bins = max(sum_hands) - min(sum_hands) + 1\n",
    "\n",
    "sns.distplot(sum_hands, bins=num_bins, hist_kws={\"range\":(min(sum_hands)-.5,max(sum_hands)+.5)}, ax=ax, kde=False)\n",
    "\n",
    "ax.set_title(\"Sums of Hand Values Frequency Chart: {} sample size\".format(sample_size))\n",
    "ax.set_ylabel(\"Frequency\")\n",
    "ax.set_xlabel(\"Card Value\")\n",
    "plt.xticks(range(num_cards,len(sum_hands)+1))\n",
    "plt.show()"
   ]
  },
  {
   "cell_type": "markdown",
   "metadata": {},
   "source": [
    "### Estimates on values from future draws"
   ]
  },
  {
   "cell_type": "code",
   "execution_count": 21,
   "metadata": {},
   "outputs": [
    {
     "data": {
      "text/plain": [
       "21.266666666666666"
      ]
     },
     "execution_count": 21,
     "metadata": {},
     "output_type": "execute_result"
    }
   ],
   "source": [
    "# point estimate for population mean mu (little x-bar)\n",
    "dist_mean = stats.mean(sum_hands)\n",
    "dist_mean"
   ]
  },
  {
   "cell_type": "code",
   "execution_count": 22,
   "metadata": {},
   "outputs": [
    {
     "data": {
      "text/plain": [
       "5.14569343427494"
      ]
     },
     "execution_count": 22,
     "metadata": {},
     "output_type": "execute_result"
    }
   ],
   "source": [
    "# unbiased estimator for population standard deviation (ddof=1)\n",
    "dist_stdev = stats.stdev(sum_hands)\n",
    "dist_stdev"
   ]
  },
  {
   "cell_type": "code",
   "execution_count": 23,
   "metadata": {},
   "outputs": [
    {
     "data": {
      "text/plain": [
       "0.9394707893195372"
      ]
     },
     "execution_count": 23,
     "metadata": {},
     "output_type": "execute_result"
    }
   ],
   "source": [
    "# standard error of the mean\n",
    "import math\n",
    "std_err = dist_stdev/math.sqrt(sample_size)\n",
    "std_err"
   ]
  },
  {
   "cell_type": "code",
   "execution_count": 24,
   "metadata": {},
   "outputs": [
    {
     "data": {
      "text/plain": [
       "1.5454294484306388"
      ]
     },
     "execution_count": 24,
     "metadata": {},
     "output_type": "execute_result"
    }
   ],
   "source": [
    "# for 90% confidence interval\n",
    "sample_90ci = 1.645 * std_err\n",
    "sample_90ci"
   ]
  },
  {
   "cell_type": "code",
   "execution_count": 25,
   "metadata": {},
   "outputs": [
    {
     "data": {
      "text/plain": [
       "19.721237218236027"
      ]
     },
     "execution_count": 25,
     "metadata": {},
     "output_type": "execute_result"
    }
   ],
   "source": [
    "sample_min = dist_mean - sample_90ci\n",
    "sample_min"
   ]
  },
  {
   "cell_type": "code",
   "execution_count": 26,
   "metadata": {},
   "outputs": [
    {
     "data": {
      "text/plain": [
       "22.812096115097305"
      ]
     },
     "execution_count": 26,
     "metadata": {},
     "output_type": "execute_result"
    }
   ],
   "source": [
    "sample_max = dist_mean + sample_90ci\n",
    "sample_max"
   ]
  },
  {
   "cell_type": "code",
   "execution_count": 27,
   "metadata": {},
   "outputs": [
    {
     "data": {
      "text/plain": [
       "(19.721374731439461, 22.81195860189387)"
      ]
     },
     "execution_count": 27,
     "metadata": {},
     "output_type": "execute_result"
    }
   ],
   "source": [
    "from scipy import stats as scistats\n",
    "\n",
    "scistats.norm.interval(.9, loc=dist_mean, scale=dist_stdev/math.sqrt(sample_size))"
   ]
  },
  {
   "cell_type": "markdown",
   "metadata": {},
   "source": [
    "I'm taking a single sample. 95% of intervals constructed in this way will contain the population mean. I hope this is one of such intervals. "
   ]
  },
  {
   "cell_type": "markdown",
   "metadata": {
    "variables": {
     "num_cards": "3"
    }
   },
   "source": [
    "Let $X$ = The sum of all {{num_cards}} card hands.\n",
    "\n",
    "And\n",
    "\n",
    "Find the probability of $\\bar{X}$ being greater than 20.\n",
    "$$P(\\bar{X} \\ge 20)$$"
   ]
  },
  {
   "cell_type": "markdown",
   "metadata": {
    "collapsed": true
   },
   "source": [
    "Standardize both sides of the inequality:\n",
    "\n",
    "$$P(\\frac{\\bar{X}-\\mu}{\\frac{\\sigma}{\\sqrt{n}}} \\ge \\frac{20-\\bar{x}}{\\frac{\\hat{s}}{\\sqrt{n}}})$$"
   ]
  },
  {
   "cell_type": "markdown",
   "metadata": {},
   "source": [
    "$$P(\\frac{\\bar{X}-\\mu}{\\frac{\\sigma}{\\sqrt{n}}} \\ge \\frac{20-21.266}{\\frac{5.1457}{\\sqrt{30}}})$$"
   ]
  },
  {
   "cell_type": "markdown",
   "metadata": {},
   "source": [
    "$$P(Z \\ge -1.3483)$$"
   ]
  },
  {
   "cell_type": "markdown",
   "metadata": {},
   "source": [
    "Corresponds to:\n",
    "\n",
    "$$0.5 + P(0 \\le Z \\le 1.3483)$$"
   ]
  },
  {
   "cell_type": "markdown",
   "metadata": {},
   "source": [
    "$$\\approx .5 + .4115$$\n",
    "$$\\approx .9115$$\n",
    "91.15%"
   ]
  },
  {
   "cell_type": "code",
   "execution_count": null,
   "metadata": {
    "collapsed": true
   },
   "outputs": [],
   "source": []
  }
 ],
 "metadata": {
  "kernelspec": {
   "display_name": "Python 3",
   "language": "python",
   "name": "python3"
  },
  "language_info": {
   "codemirror_mode": {
    "name": "ipython",
    "version": 3
   },
   "file_extension": ".py",
   "mimetype": "text/x-python",
   "name": "python",
   "nbconvert_exporter": "python",
   "pygments_lexer": "ipython3",
   "version": "3.6.0"
  }
 },
 "nbformat": 4,
 "nbformat_minor": 2
}
