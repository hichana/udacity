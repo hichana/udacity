{
 "cells": [
  {
   "cell_type": "markdown",
   "metadata": {},
   "source": [
    "# The Lahman Baseball Database - Data Wrangling and Exploration\n",
    "\n",
    "Matthew Chana - March 25th 2017"
   ]
  },
  {
   "cell_type": "markdown",
   "metadata": {
    "collapsed": true
   },
   "source": [
    "### SUMMARY\n",
    "\n",
    "##### The Lahman Baseball Database\n",
    "The Lahman Baseball Database is a comprehensive record of batting and pitching statistics from 1871 to 2016. It also contains fielding statistics, standings, team stats, managerial records, post-season data, and a number of other data points.\n",
    "\n",
    "##### Batting Average vs. General Measures of Success\n",
    "In this investigation I will focus on a clear measure of performance - career batting average, which is arguably the most important statistic with respect to hitting in baseball. ** *Does career batting average correlate to general notions of success such appearing in an All-Star game, garnering a high salary or winning awards?* ** One would expect so. If it does, perhaps a more unique investigation using a less obvious statistic can be extended from the initial one.\n",
    "\n",
    "The most relevant tables from The Lahman Baseball Database for the investigation are:\n",
    "\n",
    "* Regular-season batting statistics (Batting.csv)\n",
    "* All-Star appearances (AllstarFull.csv)\n",
    "* Player salary (Salaries.csv)\n",
    "* Awards received (AwardsPlayers.csv)\n",
    "\n",
    "##### Players Considered for the Investigation\n",
    "Batting average in baseball is an excellent measure of performance, but really only for players who are expected to hit at least fairly well. I will discard pitchers for this reason, and I will only consider players with 250 more games in which they have batted.\n",
    "\n",
    "One interesting note - a player to look out for in many of these tables is Hank Aaron (playerID: aaronha01), who one of the most regarded players in baseball history."
   ]
  },
  {
   "cell_type": "markdown",
   "metadata": {},
   "source": [
    "### DATA WRANGLING\n",
    "\n",
    "##### Create List of Players Considered for the Investigation"
   ]
  },
  {
   "cell_type": "code",
   "execution_count": 51,
   "metadata": {
    "collapsed": true
   },
   "outputs": [],
   "source": [
    "import pandas as pd\n",
    "import seaborn as sns\n",
    "import matplotlib.pyplot as plt\n",
    "\n",
    "# display all columns for each dataframe\n",
    "pd.set_option('display.max_columns', None)\n",
    "\n",
    "# display 6 rows (top 3 and bottom 3) for each dataframe\n",
    "pd.set_option('display.max_rows', 6)"
   ]
  },
  {
   "cell_type": "code",
   "execution_count": 52,
   "metadata": {
    "collapsed": true
   },
   "outputs": [],
   "source": [
    "# funciton to make loading tables easier\n",
    "def load(data_file):\n",
    "    return pd.read_csv('supporting-files/baseballdatabank-2017/core/' + data_file)"
   ]
  },
  {
   "cell_type": "markdown",
   "metadata": {},
   "source": [
    "The Appearances table from the Lahman Baseball Database contains each player's number of appearances, including number of times played in each position and number of games in which the player batted, for each season since 1871. This table will allow for a new table to be created that only includes non-pitchers and players batting 250 or more games."
   ]
  },
  {
   "cell_type": "code",
   "execution_count": 53,
   "metadata": {
    "collapsed": false
   },
   "outputs": [
    {
     "data": {
      "text/html": [
       "<div>\n",
       "<table border=\"1\" class=\"dataframe\">\n",
       "  <thead>\n",
       "    <tr style=\"text-align: right;\">\n",
       "      <th></th>\n",
       "      <th>yearID</th>\n",
       "      <th>teamID</th>\n",
       "      <th>lgID</th>\n",
       "      <th>playerID</th>\n",
       "      <th>G_all</th>\n",
       "      <th>GS</th>\n",
       "      <th>G_batting</th>\n",
       "      <th>G_defense</th>\n",
       "      <th>G_p</th>\n",
       "      <th>G_c</th>\n",
       "      <th>G_1b</th>\n",
       "      <th>G_2b</th>\n",
       "      <th>G_3b</th>\n",
       "      <th>G_ss</th>\n",
       "      <th>G_lf</th>\n",
       "      <th>G_cf</th>\n",
       "      <th>G_rf</th>\n",
       "      <th>G_of</th>\n",
       "      <th>G_dh</th>\n",
       "      <th>G_ph</th>\n",
       "      <th>G_pr</th>\n",
       "    </tr>\n",
       "  </thead>\n",
       "  <tbody>\n",
       "    <tr>\n",
       "      <th>0</th>\n",
       "      <td>1871</td>\n",
       "      <td>TRO</td>\n",
       "      <td>NaN</td>\n",
       "      <td>abercda01</td>\n",
       "      <td>1</td>\n",
       "      <td>NaN</td>\n",
       "      <td>1</td>\n",
       "      <td>1</td>\n",
       "      <td>0</td>\n",
       "      <td>0</td>\n",
       "      <td>0</td>\n",
       "      <td>0</td>\n",
       "      <td>0</td>\n",
       "      <td>1</td>\n",
       "      <td>0</td>\n",
       "      <td>0</td>\n",
       "      <td>0</td>\n",
       "      <td>0</td>\n",
       "      <td>NaN</td>\n",
       "      <td>NaN</td>\n",
       "      <td>NaN</td>\n",
       "    </tr>\n",
       "    <tr>\n",
       "      <th>1</th>\n",
       "      <td>1871</td>\n",
       "      <td>RC1</td>\n",
       "      <td>NaN</td>\n",
       "      <td>addybo01</td>\n",
       "      <td>25</td>\n",
       "      <td>NaN</td>\n",
       "      <td>25</td>\n",
       "      <td>25</td>\n",
       "      <td>0</td>\n",
       "      <td>0</td>\n",
       "      <td>0</td>\n",
       "      <td>22</td>\n",
       "      <td>0</td>\n",
       "      <td>3</td>\n",
       "      <td>0</td>\n",
       "      <td>0</td>\n",
       "      <td>0</td>\n",
       "      <td>0</td>\n",
       "      <td>NaN</td>\n",
       "      <td>NaN</td>\n",
       "      <td>NaN</td>\n",
       "    </tr>\n",
       "    <tr>\n",
       "      <th>2</th>\n",
       "      <td>1871</td>\n",
       "      <td>CL1</td>\n",
       "      <td>NaN</td>\n",
       "      <td>allisar01</td>\n",
       "      <td>29</td>\n",
       "      <td>NaN</td>\n",
       "      <td>29</td>\n",
       "      <td>29</td>\n",
       "      <td>0</td>\n",
       "      <td>0</td>\n",
       "      <td>0</td>\n",
       "      <td>2</td>\n",
       "      <td>0</td>\n",
       "      <td>0</td>\n",
       "      <td>0</td>\n",
       "      <td>29</td>\n",
       "      <td>0</td>\n",
       "      <td>29</td>\n",
       "      <td>NaN</td>\n",
       "      <td>NaN</td>\n",
       "      <td>NaN</td>\n",
       "    </tr>\n",
       "    <tr>\n",
       "      <th>...</th>\n",
       "      <td>...</td>\n",
       "      <td>...</td>\n",
       "      <td>...</td>\n",
       "      <td>...</td>\n",
       "      <td>...</td>\n",
       "      <td>...</td>\n",
       "      <td>...</td>\n",
       "      <td>...</td>\n",
       "      <td>...</td>\n",
       "      <td>...</td>\n",
       "      <td>...</td>\n",
       "      <td>...</td>\n",
       "      <td>...</td>\n",
       "      <td>...</td>\n",
       "      <td>...</td>\n",
       "      <td>...</td>\n",
       "      <td>...</td>\n",
       "      <td>...</td>\n",
       "      <td>...</td>\n",
       "      <td>...</td>\n",
       "      <td>...</td>\n",
       "    </tr>\n",
       "    <tr>\n",
       "      <th>102758</th>\n",
       "      <td>2016</td>\n",
       "      <td>CHN</td>\n",
       "      <td>NL</td>\n",
       "      <td>zobribe01</td>\n",
       "      <td>147</td>\n",
       "      <td>142.0</td>\n",
       "      <td>147</td>\n",
       "      <td>146</td>\n",
       "      <td>0</td>\n",
       "      <td>0</td>\n",
       "      <td>1</td>\n",
       "      <td>119</td>\n",
       "      <td>0</td>\n",
       "      <td>1</td>\n",
       "      <td>27</td>\n",
       "      <td>0</td>\n",
       "      <td>24</td>\n",
       "      <td>46</td>\n",
       "      <td>0.0</td>\n",
       "      <td>4.0</td>\n",
       "      <td>0.0</td>\n",
       "    </tr>\n",
       "    <tr>\n",
       "      <th>102759</th>\n",
       "      <td>2016</td>\n",
       "      <td>SEA</td>\n",
       "      <td>AL</td>\n",
       "      <td>zuninmi01</td>\n",
       "      <td>55</td>\n",
       "      <td>48.0</td>\n",
       "      <td>55</td>\n",
       "      <td>52</td>\n",
       "      <td>0</td>\n",
       "      <td>52</td>\n",
       "      <td>0</td>\n",
       "      <td>0</td>\n",
       "      <td>0</td>\n",
       "      <td>0</td>\n",
       "      <td>0</td>\n",
       "      <td>0</td>\n",
       "      <td>0</td>\n",
       "      <td>0</td>\n",
       "      <td>2.0</td>\n",
       "      <td>3.0</td>\n",
       "      <td>0.0</td>\n",
       "    </tr>\n",
       "    <tr>\n",
       "      <th>102760</th>\n",
       "      <td>2016</td>\n",
       "      <td>SEA</td>\n",
       "      <td>AL</td>\n",
       "      <td>zychto01</td>\n",
       "      <td>12</td>\n",
       "      <td>0.0</td>\n",
       "      <td>0</td>\n",
       "      <td>12</td>\n",
       "      <td>12</td>\n",
       "      <td>0</td>\n",
       "      <td>0</td>\n",
       "      <td>0</td>\n",
       "      <td>0</td>\n",
       "      <td>0</td>\n",
       "      <td>0</td>\n",
       "      <td>0</td>\n",
       "      <td>0</td>\n",
       "      <td>0</td>\n",
       "      <td>0.0</td>\n",
       "      <td>0.0</td>\n",
       "      <td>0.0</td>\n",
       "    </tr>\n",
       "  </tbody>\n",
       "</table>\n",
       "<p>102761 rows × 21 columns</p>\n",
       "</div>"
      ],
      "text/plain": [
       "        yearID teamID lgID   playerID  G_all     GS  G_batting  G_defense  \\\n",
       "0         1871    TRO  NaN  abercda01      1    NaN          1          1   \n",
       "1         1871    RC1  NaN   addybo01     25    NaN         25         25   \n",
       "2         1871    CL1  NaN  allisar01     29    NaN         29         29   \n",
       "...        ...    ...  ...        ...    ...    ...        ...        ...   \n",
       "102758    2016    CHN   NL  zobribe01    147  142.0        147        146   \n",
       "102759    2016    SEA   AL  zuninmi01     55   48.0         55         52   \n",
       "102760    2016    SEA   AL   zychto01     12    0.0          0         12   \n",
       "\n",
       "        G_p  G_c  G_1b  G_2b  G_3b  G_ss  G_lf  G_cf  G_rf  G_of  G_dh  G_ph  \\\n",
       "0         0    0     0     0     0     1     0     0     0     0   NaN   NaN   \n",
       "1         0    0     0    22     0     3     0     0     0     0   NaN   NaN   \n",
       "2         0    0     0     2     0     0     0    29     0    29   NaN   NaN   \n",
       "...     ...  ...   ...   ...   ...   ...   ...   ...   ...   ...   ...   ...   \n",
       "102758    0    0     1   119     0     1    27     0    24    46   0.0   4.0   \n",
       "102759    0   52     0     0     0     0     0     0     0     0   2.0   3.0   \n",
       "102760   12    0     0     0     0     0     0     0     0     0   0.0   0.0   \n",
       "\n",
       "        G_pr  \n",
       "0        NaN  \n",
       "1        NaN  \n",
       "2        NaN  \n",
       "...      ...  \n",
       "102758   0.0  \n",
       "102759   0.0  \n",
       "102760   0.0  \n",
       "\n",
       "[102761 rows x 21 columns]"
      ]
     },
     "execution_count": 53,
     "metadata": {},
     "output_type": "execute_result"
    }
   ],
   "source": [
    "# load the appearances table\n",
    "appearances_full = load('Appearances.csv')\n",
    "appearances_full"
   ]
  },
  {
   "cell_type": "code",
   "execution_count": 54,
   "metadata": {
    "collapsed": false
   },
   "outputs": [
    {
     "data": {
      "text/html": [
       "<div>\n",
       "<table border=\"1\" class=\"dataframe\">\n",
       "  <thead>\n",
       "    <tr style=\"text-align: right;\">\n",
       "      <th></th>\n",
       "      <th>G_all</th>\n",
       "      <th>GS</th>\n",
       "      <th>G_batting</th>\n",
       "      <th>G_defense</th>\n",
       "      <th>G_p</th>\n",
       "      <th>G_c</th>\n",
       "      <th>G_1b</th>\n",
       "      <th>G_2b</th>\n",
       "      <th>G_3b</th>\n",
       "      <th>G_ss</th>\n",
       "      <th>G_lf</th>\n",
       "      <th>G_cf</th>\n",
       "      <th>G_rf</th>\n",
       "      <th>G_of</th>\n",
       "      <th>G_dh</th>\n",
       "      <th>G_ph</th>\n",
       "      <th>G_pr</th>\n",
       "    </tr>\n",
       "    <tr>\n",
       "      <th>playerID</th>\n",
       "      <th></th>\n",
       "      <th></th>\n",
       "      <th></th>\n",
       "      <th></th>\n",
       "      <th></th>\n",
       "      <th></th>\n",
       "      <th></th>\n",
       "      <th></th>\n",
       "      <th></th>\n",
       "      <th></th>\n",
       "      <th></th>\n",
       "      <th></th>\n",
       "      <th></th>\n",
       "      <th></th>\n",
       "      <th></th>\n",
       "      <th></th>\n",
       "      <th></th>\n",
       "    </tr>\n",
       "  </thead>\n",
       "  <tbody>\n",
       "    <tr>\n",
       "      <th>aardsda01</th>\n",
       "      <td>331</td>\n",
       "      <td>0.0</td>\n",
       "      <td>139</td>\n",
       "      <td>331</td>\n",
       "      <td>331</td>\n",
       "      <td>0</td>\n",
       "      <td>0</td>\n",
       "      <td>0</td>\n",
       "      <td>0</td>\n",
       "      <td>0</td>\n",
       "      <td>0</td>\n",
       "      <td>0</td>\n",
       "      <td>0</td>\n",
       "      <td>0</td>\n",
       "      <td>0.0</td>\n",
       "      <td>0.0</td>\n",
       "      <td>0.0</td>\n",
       "    </tr>\n",
       "    <tr>\n",
       "      <th>aaronha01</th>\n",
       "      <td>3298</td>\n",
       "      <td>3173.0</td>\n",
       "      <td>3298</td>\n",
       "      <td>2985</td>\n",
       "      <td>0</td>\n",
       "      <td>0</td>\n",
       "      <td>210</td>\n",
       "      <td>43</td>\n",
       "      <td>7</td>\n",
       "      <td>0</td>\n",
       "      <td>315</td>\n",
       "      <td>308</td>\n",
       "      <td>2174</td>\n",
       "      <td>2760</td>\n",
       "      <td>201.0</td>\n",
       "      <td>122.0</td>\n",
       "      <td>1.0</td>\n",
       "    </tr>\n",
       "    <tr>\n",
       "      <th>aaronto01</th>\n",
       "      <td>437</td>\n",
       "      <td>206.0</td>\n",
       "      <td>437</td>\n",
       "      <td>346</td>\n",
       "      <td>0</td>\n",
       "      <td>0</td>\n",
       "      <td>232</td>\n",
       "      <td>7</td>\n",
       "      <td>10</td>\n",
       "      <td>0</td>\n",
       "      <td>135</td>\n",
       "      <td>1</td>\n",
       "      <td>2</td>\n",
       "      <td>137</td>\n",
       "      <td>0.0</td>\n",
       "      <td>102.0</td>\n",
       "      <td>35.0</td>\n",
       "    </tr>\n",
       "    <tr>\n",
       "      <th>...</th>\n",
       "      <td>...</td>\n",
       "      <td>...</td>\n",
       "      <td>...</td>\n",
       "      <td>...</td>\n",
       "      <td>...</td>\n",
       "      <td>...</td>\n",
       "      <td>...</td>\n",
       "      <td>...</td>\n",
       "      <td>...</td>\n",
       "      <td>...</td>\n",
       "      <td>...</td>\n",
       "      <td>...</td>\n",
       "      <td>...</td>\n",
       "      <td>...</td>\n",
       "      <td>...</td>\n",
       "      <td>...</td>\n",
       "      <td>...</td>\n",
       "    </tr>\n",
       "    <tr>\n",
       "      <th>zuverge01</th>\n",
       "      <td>266</td>\n",
       "      <td>31.0</td>\n",
       "      <td>266</td>\n",
       "      <td>265</td>\n",
       "      <td>265</td>\n",
       "      <td>0</td>\n",
       "      <td>0</td>\n",
       "      <td>0</td>\n",
       "      <td>0</td>\n",
       "      <td>0</td>\n",
       "      <td>0</td>\n",
       "      <td>0</td>\n",
       "      <td>0</td>\n",
       "      <td>0</td>\n",
       "      <td>0.0</td>\n",
       "      <td>0.0</td>\n",
       "      <td>1.0</td>\n",
       "    </tr>\n",
       "    <tr>\n",
       "      <th>zwilldu01</th>\n",
       "      <td>366</td>\n",
       "      <td>310.0</td>\n",
       "      <td>366</td>\n",
       "      <td>339</td>\n",
       "      <td>0</td>\n",
       "      <td>0</td>\n",
       "      <td>3</td>\n",
       "      <td>0</td>\n",
       "      <td>0</td>\n",
       "      <td>0</td>\n",
       "      <td>0</td>\n",
       "      <td>334</td>\n",
       "      <td>4</td>\n",
       "      <td>338</td>\n",
       "      <td>0.0</td>\n",
       "      <td>24.0</td>\n",
       "      <td>1.0</td>\n",
       "    </tr>\n",
       "    <tr>\n",
       "      <th>zychto01</th>\n",
       "      <td>25</td>\n",
       "      <td>1.0</td>\n",
       "      <td>0</td>\n",
       "      <td>25</td>\n",
       "      <td>25</td>\n",
       "      <td>0</td>\n",
       "      <td>0</td>\n",
       "      <td>0</td>\n",
       "      <td>0</td>\n",
       "      <td>0</td>\n",
       "      <td>0</td>\n",
       "      <td>0</td>\n",
       "      <td>0</td>\n",
       "      <td>0</td>\n",
       "      <td>0.0</td>\n",
       "      <td>0.0</td>\n",
       "      <td>0.0</td>\n",
       "    </tr>\n",
       "  </tbody>\n",
       "</table>\n",
       "<p>18912 rows × 17 columns</p>\n",
       "</div>"
      ],
      "text/plain": [
       "           G_all      GS  G_batting  G_defense  G_p  G_c  G_1b  G_2b  G_3b  \\\n",
       "playerID                                                                     \n",
       "aardsda01    331     0.0        139        331  331    0     0     0     0   \n",
       "aaronha01   3298  3173.0       3298       2985    0    0   210    43     7   \n",
       "aaronto01    437   206.0        437        346    0    0   232     7    10   \n",
       "...          ...     ...        ...        ...  ...  ...   ...   ...   ...   \n",
       "zuverge01    266    31.0        266        265  265    0     0     0     0   \n",
       "zwilldu01    366   310.0        366        339    0    0     3     0     0   \n",
       "zychto01      25     1.0          0         25   25    0     0     0     0   \n",
       "\n",
       "           G_ss  G_lf  G_cf  G_rf  G_of   G_dh   G_ph  G_pr  \n",
       "playerID                                                     \n",
       "aardsda01     0     0     0     0     0    0.0    0.0   0.0  \n",
       "aaronha01     0   315   308  2174  2760  201.0  122.0   1.0  \n",
       "aaronto01     0   135     1     2   137    0.0  102.0  35.0  \n",
       "...         ...   ...   ...   ...   ...    ...    ...   ...  \n",
       "zuverge01     0     0     0     0     0    0.0    0.0   1.0  \n",
       "zwilldu01     0     0   334     4   338    0.0   24.0   1.0  \n",
       "zychto01      0     0     0     0     0    0.0    0.0   0.0  \n",
       "\n",
       "[18912 rows x 17 columns]"
      ]
     },
     "execution_count": 54,
     "metadata": {},
     "output_type": "execute_result"
    }
   ],
   "source": [
    "# group and sum to find career appearances for each player based on unique playerID\n",
    "career_appearances = appearances_full.groupby(appearances_full.playerID).sum()\n",
    "\n",
    "# drop the yearID column\n",
    "career_appearances = career_appearances.drop('yearID', axis=1)\n",
    "\n",
    "career_appearances"
   ]
  },
  {
   "cell_type": "markdown",
   "metadata": {},
   "source": [
    "The Appearances table doesn't define who is to be considered a pitcher, first baseman, left fielder, and so forth. It only records the number of games a player made an apperance. Let's consider a pitcher to be any player who made more than 90% of his appearances as a pitcher."
   ]
  },
  {
   "cell_type": "code",
   "execution_count": 55,
   "metadata": {
    "collapsed": true
   },
   "outputs": [],
   "source": [
    "# function to determine who is NOT a pitcher based on a threshold\n",
    "def is_not_pitcher(row):\n",
    "    try: \n",
    "        ratio = float(row[4]) / sum(row[4:13])\n",
    "    except:\n",
    "        return False\n",
    "    return ratio < 0.90"
   ]
  },
  {
   "cell_type": "code",
   "execution_count": 56,
   "metadata": {
    "collapsed": false
   },
   "outputs": [
    {
     "data": {
      "text/html": [
       "<div>\n",
       "<table border=\"1\" class=\"dataframe\">\n",
       "  <thead>\n",
       "    <tr style=\"text-align: right;\">\n",
       "      <th></th>\n",
       "      <th>G_all</th>\n",
       "      <th>GS</th>\n",
       "      <th>G_batting</th>\n",
       "      <th>G_defense</th>\n",
       "      <th>G_p</th>\n",
       "      <th>G_c</th>\n",
       "      <th>G_1b</th>\n",
       "      <th>G_2b</th>\n",
       "      <th>G_3b</th>\n",
       "      <th>G_ss</th>\n",
       "      <th>G_lf</th>\n",
       "      <th>G_cf</th>\n",
       "      <th>G_rf</th>\n",
       "      <th>G_of</th>\n",
       "      <th>G_dh</th>\n",
       "      <th>G_ph</th>\n",
       "      <th>G_pr</th>\n",
       "    </tr>\n",
       "    <tr>\n",
       "      <th>playerID</th>\n",
       "      <th></th>\n",
       "      <th></th>\n",
       "      <th></th>\n",
       "      <th></th>\n",
       "      <th></th>\n",
       "      <th></th>\n",
       "      <th></th>\n",
       "      <th></th>\n",
       "      <th></th>\n",
       "      <th></th>\n",
       "      <th></th>\n",
       "      <th></th>\n",
       "      <th></th>\n",
       "      <th></th>\n",
       "      <th></th>\n",
       "      <th></th>\n",
       "      <th></th>\n",
       "    </tr>\n",
       "  </thead>\n",
       "  <tbody>\n",
       "    <tr>\n",
       "      <th>aaronha01</th>\n",
       "      <td>3298</td>\n",
       "      <td>3173.0</td>\n",
       "      <td>3298</td>\n",
       "      <td>2985</td>\n",
       "      <td>0</td>\n",
       "      <td>0</td>\n",
       "      <td>210</td>\n",
       "      <td>43</td>\n",
       "      <td>7</td>\n",
       "      <td>0</td>\n",
       "      <td>315</td>\n",
       "      <td>308</td>\n",
       "      <td>2174</td>\n",
       "      <td>2760</td>\n",
       "      <td>201.0</td>\n",
       "      <td>122.0</td>\n",
       "      <td>1.0</td>\n",
       "    </tr>\n",
       "    <tr>\n",
       "      <th>aaronto01</th>\n",
       "      <td>437</td>\n",
       "      <td>206.0</td>\n",
       "      <td>437</td>\n",
       "      <td>346</td>\n",
       "      <td>0</td>\n",
       "      <td>0</td>\n",
       "      <td>232</td>\n",
       "      <td>7</td>\n",
       "      <td>10</td>\n",
       "      <td>0</td>\n",
       "      <td>135</td>\n",
       "      <td>1</td>\n",
       "      <td>2</td>\n",
       "      <td>137</td>\n",
       "      <td>0.0</td>\n",
       "      <td>102.0</td>\n",
       "      <td>35.0</td>\n",
       "    </tr>\n",
       "    <tr>\n",
       "      <th>abadan01</th>\n",
       "      <td>15</td>\n",
       "      <td>4.0</td>\n",
       "      <td>15</td>\n",
       "      <td>9</td>\n",
       "      <td>0</td>\n",
       "      <td>0</td>\n",
       "      <td>8</td>\n",
       "      <td>0</td>\n",
       "      <td>0</td>\n",
       "      <td>0</td>\n",
       "      <td>0</td>\n",
       "      <td>0</td>\n",
       "      <td>1</td>\n",
       "      <td>1</td>\n",
       "      <td>0.0</td>\n",
       "      <td>7.0</td>\n",
       "      <td>1.0</td>\n",
       "    </tr>\n",
       "    <tr>\n",
       "      <th>...</th>\n",
       "      <td>...</td>\n",
       "      <td>...</td>\n",
       "      <td>...</td>\n",
       "      <td>...</td>\n",
       "      <td>...</td>\n",
       "      <td>...</td>\n",
       "      <td>...</td>\n",
       "      <td>...</td>\n",
       "      <td>...</td>\n",
       "      <td>...</td>\n",
       "      <td>...</td>\n",
       "      <td>...</td>\n",
       "      <td>...</td>\n",
       "      <td>...</td>\n",
       "      <td>...</td>\n",
       "      <td>...</td>\n",
       "      <td>...</td>\n",
       "    </tr>\n",
       "    <tr>\n",
       "      <th>zupofr01</th>\n",
       "      <td>16</td>\n",
       "      <td>1.0</td>\n",
       "      <td>16</td>\n",
       "      <td>13</td>\n",
       "      <td>0</td>\n",
       "      <td>13</td>\n",
       "      <td>0</td>\n",
       "      <td>0</td>\n",
       "      <td>0</td>\n",
       "      <td>0</td>\n",
       "      <td>0</td>\n",
       "      <td>0</td>\n",
       "      <td>0</td>\n",
       "      <td>0</td>\n",
       "      <td>0.0</td>\n",
       "      <td>5.0</td>\n",
       "      <td>0.0</td>\n",
       "    </tr>\n",
       "    <tr>\n",
       "      <th>zuvelpa01</th>\n",
       "      <td>209</td>\n",
       "      <td>138.0</td>\n",
       "      <td>209</td>\n",
       "      <td>197</td>\n",
       "      <td>0</td>\n",
       "      <td>0</td>\n",
       "      <td>0</td>\n",
       "      <td>55</td>\n",
       "      <td>14</td>\n",
       "      <td>133</td>\n",
       "      <td>0</td>\n",
       "      <td>0</td>\n",
       "      <td>0</td>\n",
       "      <td>0</td>\n",
       "      <td>3.0</td>\n",
       "      <td>14.0</td>\n",
       "      <td>9.0</td>\n",
       "    </tr>\n",
       "    <tr>\n",
       "      <th>zwilldu01</th>\n",
       "      <td>366</td>\n",
       "      <td>310.0</td>\n",
       "      <td>366</td>\n",
       "      <td>339</td>\n",
       "      <td>0</td>\n",
       "      <td>0</td>\n",
       "      <td>3</td>\n",
       "      <td>0</td>\n",
       "      <td>0</td>\n",
       "      <td>0</td>\n",
       "      <td>0</td>\n",
       "      <td>334</td>\n",
       "      <td>4</td>\n",
       "      <td>338</td>\n",
       "      <td>0.0</td>\n",
       "      <td>24.0</td>\n",
       "      <td>1.0</td>\n",
       "    </tr>\n",
       "  </tbody>\n",
       "</table>\n",
       "<p>10305 rows × 17 columns</p>\n",
       "</div>"
      ],
      "text/plain": [
       "           G_all      GS  G_batting  G_defense  G_p  G_c  G_1b  G_2b  G_3b  \\\n",
       "playerID                                                                     \n",
       "aaronha01   3298  3173.0       3298       2985    0    0   210    43     7   \n",
       "aaronto01    437   206.0        437        346    0    0   232     7    10   \n",
       "abadan01      15     4.0         15          9    0    0     8     0     0   \n",
       "...          ...     ...        ...        ...  ...  ...   ...   ...   ...   \n",
       "zupofr01      16     1.0         16         13    0   13     0     0     0   \n",
       "zuvelpa01    209   138.0        209        197    0    0     0    55    14   \n",
       "zwilldu01    366   310.0        366        339    0    0     3     0     0   \n",
       "\n",
       "           G_ss  G_lf  G_cf  G_rf  G_of   G_dh   G_ph  G_pr  \n",
       "playerID                                                     \n",
       "aaronha01     0   315   308  2174  2760  201.0  122.0   1.0  \n",
       "aaronto01     0   135     1     2   137    0.0  102.0  35.0  \n",
       "abadan01      0     0     0     1     1    0.0    7.0   1.0  \n",
       "...         ...   ...   ...   ...   ...    ...    ...   ...  \n",
       "zupofr01      0     0     0     0     0    0.0    5.0   0.0  \n",
       "zuvelpa01   133     0     0     0     0    3.0   14.0   9.0  \n",
       "zwilldu01     0     0   334     4   338    0.0   24.0   1.0  \n",
       "\n",
       "[10305 rows x 17 columns]"
      ]
     },
     "execution_count": 56,
     "metadata": {},
     "output_type": "execute_result"
    }
   ],
   "source": [
    "# create dataframe of players who are NOT pitchers\n",
    "not_pitchers = career_appearances[career_appearances.apply(is_not_pitcher, axis=1)]\n",
    "not_pitchers"
   ]
  },
  {
   "cell_type": "code",
   "execution_count": 57,
   "metadata": {
    "collapsed": false
   },
   "outputs": [
    {
     "data": {
      "text/html": [
       "<div>\n",
       "<table border=\"1\" class=\"dataframe\">\n",
       "  <thead>\n",
       "    <tr style=\"text-align: right;\">\n",
       "      <th></th>\n",
       "      <th>G_all</th>\n",
       "      <th>GS</th>\n",
       "      <th>G_batting</th>\n",
       "      <th>G_defense</th>\n",
       "      <th>G_p</th>\n",
       "      <th>G_c</th>\n",
       "      <th>G_1b</th>\n",
       "      <th>G_2b</th>\n",
       "      <th>G_3b</th>\n",
       "      <th>G_ss</th>\n",
       "      <th>G_lf</th>\n",
       "      <th>G_cf</th>\n",
       "      <th>G_rf</th>\n",
       "      <th>G_of</th>\n",
       "      <th>G_dh</th>\n",
       "      <th>G_ph</th>\n",
       "      <th>G_pr</th>\n",
       "    </tr>\n",
       "    <tr>\n",
       "      <th>playerID</th>\n",
       "      <th></th>\n",
       "      <th></th>\n",
       "      <th></th>\n",
       "      <th></th>\n",
       "      <th></th>\n",
       "      <th></th>\n",
       "      <th></th>\n",
       "      <th></th>\n",
       "      <th></th>\n",
       "      <th></th>\n",
       "      <th></th>\n",
       "      <th></th>\n",
       "      <th></th>\n",
       "      <th></th>\n",
       "      <th></th>\n",
       "      <th></th>\n",
       "      <th></th>\n",
       "    </tr>\n",
       "  </thead>\n",
       "  <tbody>\n",
       "    <tr>\n",
       "      <th>aaronha01</th>\n",
       "      <td>3298</td>\n",
       "      <td>3173.0</td>\n",
       "      <td>3298</td>\n",
       "      <td>2985</td>\n",
       "      <td>0</td>\n",
       "      <td>0</td>\n",
       "      <td>210</td>\n",
       "      <td>43</td>\n",
       "      <td>7</td>\n",
       "      <td>0</td>\n",
       "      <td>315</td>\n",
       "      <td>308</td>\n",
       "      <td>2174</td>\n",
       "      <td>2760</td>\n",
       "      <td>201.0</td>\n",
       "      <td>122.0</td>\n",
       "      <td>1.0</td>\n",
       "    </tr>\n",
       "    <tr>\n",
       "      <th>aaronto01</th>\n",
       "      <td>437</td>\n",
       "      <td>206.0</td>\n",
       "      <td>437</td>\n",
       "      <td>346</td>\n",
       "      <td>0</td>\n",
       "      <td>0</td>\n",
       "      <td>232</td>\n",
       "      <td>7</td>\n",
       "      <td>10</td>\n",
       "      <td>0</td>\n",
       "      <td>135</td>\n",
       "      <td>1</td>\n",
       "      <td>2</td>\n",
       "      <td>137</td>\n",
       "      <td>0.0</td>\n",
       "      <td>102.0</td>\n",
       "      <td>35.0</td>\n",
       "    </tr>\n",
       "    <tr>\n",
       "      <th>abbated01</th>\n",
       "      <td>855</td>\n",
       "      <td>NaN</td>\n",
       "      <td>855</td>\n",
       "      <td>855</td>\n",
       "      <td>0</td>\n",
       "      <td>0</td>\n",
       "      <td>0</td>\n",
       "      <td>419</td>\n",
       "      <td>20</td>\n",
       "      <td>388</td>\n",
       "      <td>0</td>\n",
       "      <td>2</td>\n",
       "      <td>1</td>\n",
       "      <td>3</td>\n",
       "      <td>NaN</td>\n",
       "      <td>NaN</td>\n",
       "      <td>NaN</td>\n",
       "    </tr>\n",
       "    <tr>\n",
       "      <th>...</th>\n",
       "      <td>...</td>\n",
       "      <td>...</td>\n",
       "      <td>...</td>\n",
       "      <td>...</td>\n",
       "      <td>...</td>\n",
       "      <td>...</td>\n",
       "      <td>...</td>\n",
       "      <td>...</td>\n",
       "      <td>...</td>\n",
       "      <td>...</td>\n",
       "      <td>...</td>\n",
       "      <td>...</td>\n",
       "      <td>...</td>\n",
       "      <td>...</td>\n",
       "      <td>...</td>\n",
       "      <td>...</td>\n",
       "      <td>...</td>\n",
       "    </tr>\n",
       "    <tr>\n",
       "      <th>zuninmi01</th>\n",
       "      <td>350</td>\n",
       "      <td>323.0</td>\n",
       "      <td>350</td>\n",
       "      <td>344</td>\n",
       "      <td>0</td>\n",
       "      <td>344</td>\n",
       "      <td>0</td>\n",
       "      <td>0</td>\n",
       "      <td>0</td>\n",
       "      <td>0</td>\n",
       "      <td>0</td>\n",
       "      <td>0</td>\n",
       "      <td>0</td>\n",
       "      <td>0</td>\n",
       "      <td>3.0</td>\n",
       "      <td>7.0</td>\n",
       "      <td>1.0</td>\n",
       "    </tr>\n",
       "    <tr>\n",
       "      <th>zupcibo01</th>\n",
       "      <td>319</td>\n",
       "      <td>198.0</td>\n",
       "      <td>319</td>\n",
       "      <td>285</td>\n",
       "      <td>0</td>\n",
       "      <td>0</td>\n",
       "      <td>1</td>\n",
       "      <td>0</td>\n",
       "      <td>2</td>\n",
       "      <td>0</td>\n",
       "      <td>100</td>\n",
       "      <td>112</td>\n",
       "      <td>96</td>\n",
       "      <td>282</td>\n",
       "      <td>11.0</td>\n",
       "      <td>25.0</td>\n",
       "      <td>34.0</td>\n",
       "    </tr>\n",
       "    <tr>\n",
       "      <th>zwilldu01</th>\n",
       "      <td>366</td>\n",
       "      <td>310.0</td>\n",
       "      <td>366</td>\n",
       "      <td>339</td>\n",
       "      <td>0</td>\n",
       "      <td>0</td>\n",
       "      <td>3</td>\n",
       "      <td>0</td>\n",
       "      <td>0</td>\n",
       "      <td>0</td>\n",
       "      <td>0</td>\n",
       "      <td>334</td>\n",
       "      <td>4</td>\n",
       "      <td>338</td>\n",
       "      <td>0.0</td>\n",
       "      <td>24.0</td>\n",
       "      <td>1.0</td>\n",
       "    </tr>\n",
       "  </tbody>\n",
       "</table>\n",
       "<p>4190 rows × 17 columns</p>\n",
       "</div>"
      ],
      "text/plain": [
       "           G_all      GS  G_batting  G_defense  G_p  G_c  G_1b  G_2b  G_3b  \\\n",
       "playerID                                                                     \n",
       "aaronha01   3298  3173.0       3298       2985    0    0   210    43     7   \n",
       "aaronto01    437   206.0        437        346    0    0   232     7    10   \n",
       "abbated01    855     NaN        855        855    0    0     0   419    20   \n",
       "...          ...     ...        ...        ...  ...  ...   ...   ...   ...   \n",
       "zuninmi01    350   323.0        350        344    0  344     0     0     0   \n",
       "zupcibo01    319   198.0        319        285    0    0     1     0     2   \n",
       "zwilldu01    366   310.0        366        339    0    0     3     0     0   \n",
       "\n",
       "           G_ss  G_lf  G_cf  G_rf  G_of   G_dh   G_ph  G_pr  \n",
       "playerID                                                     \n",
       "aaronha01     0   315   308  2174  2760  201.0  122.0   1.0  \n",
       "aaronto01     0   135     1     2   137    0.0  102.0  35.0  \n",
       "abbated01   388     0     2     1     3    NaN    NaN   NaN  \n",
       "...         ...   ...   ...   ...   ...    ...    ...   ...  \n",
       "zuninmi01     0     0     0     0     0    3.0    7.0   1.0  \n",
       "zupcibo01     0   100   112    96   282   11.0   25.0  34.0  \n",
       "zwilldu01     0     0   334     4   338    0.0   24.0   1.0  \n",
       "\n",
       "[4190 rows x 17 columns]"
      ]
     },
     "execution_count": 57,
     "metadata": {},
     "output_type": "execute_result"
    }
   ],
   "source": [
    "# narrow down to players batting 250 or more career games\n",
    "players = not_pitchers[not_pitchers['G_batting'] > 250]\n",
    "players"
   ]
  },
  {
   "cell_type": "code",
   "execution_count": 58,
   "metadata": {
    "collapsed": false
   },
   "outputs": [],
   "source": [
    "# create a list of players who are NOT pitchers and who have batted 250 or more games\n",
    "players_list = list(players.index)\n",
    "# players_list"
   ]
  },
  {
   "cell_type": "markdown",
   "metadata": {
    "variables": {
     "len(career_appearances)": "18912",
     "len(list(players.index))": "4190"
    }
   },
   "source": [
    "We stared off with {{len(career_appearances)}} unique players who's appearances were recorded in the Appearances table. We are left with {{len(list(players.index))}} players who are NOT pitchers and who have batted more than 250 times."
   ]
  },
  {
   "cell_type": "markdown",
   "metadata": {},
   "source": [
    "##### Prepare Relevant Dataframes for Analysis"
   ]
  },
  {
   "cell_type": "markdown",
   "metadata": {},
   "source": [
    "##### Regular-season batting statistics (Batting.csv):\n",
    "Batting statistics have been recorded since..."
   ]
  },
  {
   "cell_type": "code",
   "execution_count": 59,
   "metadata": {
    "collapsed": false
   },
   "outputs": [
    {
     "data": {
      "text/html": [
       "<div>\n",
       "<table border=\"1\" class=\"dataframe\">\n",
       "  <thead>\n",
       "    <tr style=\"text-align: right;\">\n",
       "      <th></th>\n",
       "      <th>stint</th>\n",
       "      <th>G</th>\n",
       "      <th>AB</th>\n",
       "      <th>R</th>\n",
       "      <th>H</th>\n",
       "      <th>2B</th>\n",
       "      <th>3B</th>\n",
       "      <th>HR</th>\n",
       "      <th>RBI</th>\n",
       "      <th>SB</th>\n",
       "      <th>CS</th>\n",
       "      <th>BB</th>\n",
       "      <th>SO</th>\n",
       "      <th>IBB</th>\n",
       "      <th>HBP</th>\n",
       "      <th>SH</th>\n",
       "      <th>SF</th>\n",
       "      <th>GIDP</th>\n",
       "      <th>lifetime_BA</th>\n",
       "    </tr>\n",
       "    <tr>\n",
       "      <th>playerID</th>\n",
       "      <th></th>\n",
       "      <th></th>\n",
       "      <th></th>\n",
       "      <th></th>\n",
       "      <th></th>\n",
       "      <th></th>\n",
       "      <th></th>\n",
       "      <th></th>\n",
       "      <th></th>\n",
       "      <th></th>\n",
       "      <th></th>\n",
       "      <th></th>\n",
       "      <th></th>\n",
       "      <th></th>\n",
       "      <th></th>\n",
       "      <th></th>\n",
       "      <th></th>\n",
       "      <th></th>\n",
       "      <th></th>\n",
       "    </tr>\n",
       "  </thead>\n",
       "  <tbody>\n",
       "    <tr>\n",
       "      <th>aardsda01</th>\n",
       "      <td>9</td>\n",
       "      <td>331</td>\n",
       "      <td>4</td>\n",
       "      <td>0</td>\n",
       "      <td>0</td>\n",
       "      <td>0</td>\n",
       "      <td>0</td>\n",
       "      <td>0</td>\n",
       "      <td>0.0</td>\n",
       "      <td>0.0</td>\n",
       "      <td>0.0</td>\n",
       "      <td>0</td>\n",
       "      <td>2.0</td>\n",
       "      <td>0.0</td>\n",
       "      <td>0.0</td>\n",
       "      <td>1.0</td>\n",
       "      <td>0.0</td>\n",
       "      <td>0.0</td>\n",
       "      <td>0.0000</td>\n",
       "    </tr>\n",
       "    <tr>\n",
       "      <th>aaronha01</th>\n",
       "      <td>23</td>\n",
       "      <td>3298</td>\n",
       "      <td>12364</td>\n",
       "      <td>2174</td>\n",
       "      <td>3771</td>\n",
       "      <td>624</td>\n",
       "      <td>98</td>\n",
       "      <td>755</td>\n",
       "      <td>2297.0</td>\n",
       "      <td>240.0</td>\n",
       "      <td>73.0</td>\n",
       "      <td>1402</td>\n",
       "      <td>1383.0</td>\n",
       "      <td>293.0</td>\n",
       "      <td>32.0</td>\n",
       "      <td>21.0</td>\n",
       "      <td>121.0</td>\n",
       "      <td>328.0</td>\n",
       "      <td>0.3050</td>\n",
       "    </tr>\n",
       "    <tr>\n",
       "      <th>aaronto01</th>\n",
       "      <td>7</td>\n",
       "      <td>437</td>\n",
       "      <td>944</td>\n",
       "      <td>102</td>\n",
       "      <td>216</td>\n",
       "      <td>42</td>\n",
       "      <td>6</td>\n",
       "      <td>13</td>\n",
       "      <td>94.0</td>\n",
       "      <td>9.0</td>\n",
       "      <td>8.0</td>\n",
       "      <td>86</td>\n",
       "      <td>145.0</td>\n",
       "      <td>3.0</td>\n",
       "      <td>0.0</td>\n",
       "      <td>9.0</td>\n",
       "      <td>6.0</td>\n",
       "      <td>36.0</td>\n",
       "      <td>0.2288</td>\n",
       "    </tr>\n",
       "    <tr>\n",
       "      <th>...</th>\n",
       "      <td>...</td>\n",
       "      <td>...</td>\n",
       "      <td>...</td>\n",
       "      <td>...</td>\n",
       "      <td>...</td>\n",
       "      <td>...</td>\n",
       "      <td>...</td>\n",
       "      <td>...</td>\n",
       "      <td>...</td>\n",
       "      <td>...</td>\n",
       "      <td>...</td>\n",
       "      <td>...</td>\n",
       "      <td>...</td>\n",
       "      <td>...</td>\n",
       "      <td>...</td>\n",
       "      <td>...</td>\n",
       "      <td>...</td>\n",
       "      <td>...</td>\n",
       "      <td>...</td>\n",
       "    </tr>\n",
       "    <tr>\n",
       "      <th>zuvelpa01</th>\n",
       "      <td>9</td>\n",
       "      <td>209</td>\n",
       "      <td>491</td>\n",
       "      <td>41</td>\n",
       "      <td>109</td>\n",
       "      <td>17</td>\n",
       "      <td>2</td>\n",
       "      <td>2</td>\n",
       "      <td>20.0</td>\n",
       "      <td>2.0</td>\n",
       "      <td>0.0</td>\n",
       "      <td>34</td>\n",
       "      <td>50.0</td>\n",
       "      <td>1.0</td>\n",
       "      <td>2.0</td>\n",
       "      <td>18.0</td>\n",
       "      <td>0.0</td>\n",
       "      <td>8.0</td>\n",
       "      <td>0.2220</td>\n",
       "    </tr>\n",
       "    <tr>\n",
       "      <th>zuverge01</th>\n",
       "      <td>12</td>\n",
       "      <td>266</td>\n",
       "      <td>142</td>\n",
       "      <td>5</td>\n",
       "      <td>21</td>\n",
       "      <td>2</td>\n",
       "      <td>1</td>\n",
       "      <td>0</td>\n",
       "      <td>7.0</td>\n",
       "      <td>0.0</td>\n",
       "      <td>1.0</td>\n",
       "      <td>9</td>\n",
       "      <td>39.0</td>\n",
       "      <td>0.0</td>\n",
       "      <td>0.0</td>\n",
       "      <td>16.0</td>\n",
       "      <td>0.0</td>\n",
       "      <td>3.0</td>\n",
       "      <td>0.1479</td>\n",
       "    </tr>\n",
       "    <tr>\n",
       "      <th>zwilldu01</th>\n",
       "      <td>4</td>\n",
       "      <td>366</td>\n",
       "      <td>1280</td>\n",
       "      <td>167</td>\n",
       "      <td>364</td>\n",
       "      <td>76</td>\n",
       "      <td>15</td>\n",
       "      <td>30</td>\n",
       "      <td>202.0</td>\n",
       "      <td>46.0</td>\n",
       "      <td>NaN</td>\n",
       "      <td>128</td>\n",
       "      <td>139.0</td>\n",
       "      <td>NaN</td>\n",
       "      <td>4.0</td>\n",
       "      <td>31.0</td>\n",
       "      <td>NaN</td>\n",
       "      <td>NaN</td>\n",
       "      <td>0.2844</td>\n",
       "    </tr>\n",
       "  </tbody>\n",
       "</table>\n",
       "<p>16902 rows × 19 columns</p>\n",
       "</div>"
      ],
      "text/plain": [
       "           stint     G     AB     R     H   2B  3B   HR     RBI     SB    CS  \\\n",
       "playerID                                                                       \n",
       "aardsda01      9   331      4     0     0    0   0    0     0.0    0.0   0.0   \n",
       "aaronha01     23  3298  12364  2174  3771  624  98  755  2297.0  240.0  73.0   \n",
       "aaronto01      7   437    944   102   216   42   6   13    94.0    9.0   8.0   \n",
       "...          ...   ...    ...   ...   ...  ...  ..  ...     ...    ...   ...   \n",
       "zuvelpa01      9   209    491    41   109   17   2    2    20.0    2.0   0.0   \n",
       "zuverge01     12   266    142     5    21    2   1    0     7.0    0.0   1.0   \n",
       "zwilldu01      4   366   1280   167   364   76  15   30   202.0   46.0   NaN   \n",
       "\n",
       "             BB      SO    IBB   HBP    SH     SF   GIDP  lifetime_BA  \n",
       "playerID                                                               \n",
       "aardsda01     0     2.0    0.0   0.0   1.0    0.0    0.0       0.0000  \n",
       "aaronha01  1402  1383.0  293.0  32.0  21.0  121.0  328.0       0.3050  \n",
       "aaronto01    86   145.0    3.0   0.0   9.0    6.0   36.0       0.2288  \n",
       "...         ...     ...    ...   ...   ...    ...    ...          ...  \n",
       "zuvelpa01    34    50.0    1.0   2.0  18.0    0.0    8.0       0.2220  \n",
       "zuverge01     9    39.0    0.0   0.0  16.0    0.0    3.0       0.1479  \n",
       "zwilldu01   128   139.0    NaN   4.0  31.0    NaN    NaN       0.2844  \n",
       "\n",
       "[16902 rows x 19 columns]"
      ]
     },
     "execution_count": 59,
     "metadata": {},
     "output_type": "execute_result"
    }
   ],
   "source": [
    "# load original batting table\n",
    "batting = load('Batting.csv')\n",
    "\n",
    "# group by playerID and sum to find career statistics for each player \n",
    "batting_career = batting.groupby(batting.playerID).sum()\n",
    "\n",
    "# drop the yearID column\n",
    "batting_career = batting_career.drop('yearID',axis=1)\n",
    "\n",
    "# calculate career batting average\n",
    "batting_career['lifetime_BA'] = round((batting_career['H']/batting_career['AB']),4)\n",
    "\n",
    "# remove players who never batted (NaN)\n",
    "batting_career.dropna(subset=['lifetime_BA'], inplace=True)\n",
    "\n",
    "batting_career"
   ]
  },
  {
   "cell_type": "markdown",
   "metadata": {
    "variables": {
     "len(batting_career.index)": "16902"
    }
   },
   "source": [
    "There are {{len(batting_career.index)}} unique players who's career batting statistics we are left with after removing any players who never batted. Players who are are pitchers or who have batted less than 250 times still need to be removed."
   ]
  },
  {
   "cell_type": "code",
   "execution_count": 60,
   "metadata": {
    "collapsed": true
   },
   "outputs": [],
   "source": [
    "# function returns True if a playerID from any given dataframe is in the players_list\n",
    "def remove_from_df(id):\n",
    "    return id in players_list"
   ]
  },
  {
   "cell_type": "code",
   "execution_count": 61,
   "metadata": {
    "collapsed": false
   },
   "outputs": [
    {
     "data": {
      "text/html": [
       "<div>\n",
       "<table border=\"1\" class=\"dataframe\">\n",
       "  <thead>\n",
       "    <tr style=\"text-align: right;\">\n",
       "      <th></th>\n",
       "      <th>stint</th>\n",
       "      <th>G</th>\n",
       "      <th>AB</th>\n",
       "      <th>R</th>\n",
       "      <th>H</th>\n",
       "      <th>2B</th>\n",
       "      <th>3B</th>\n",
       "      <th>HR</th>\n",
       "      <th>RBI</th>\n",
       "      <th>SB</th>\n",
       "      <th>CS</th>\n",
       "      <th>BB</th>\n",
       "      <th>SO</th>\n",
       "      <th>IBB</th>\n",
       "      <th>HBP</th>\n",
       "      <th>SH</th>\n",
       "      <th>SF</th>\n",
       "      <th>GIDP</th>\n",
       "      <th>lifetime_BA</th>\n",
       "    </tr>\n",
       "    <tr>\n",
       "      <th>playerID</th>\n",
       "      <th></th>\n",
       "      <th></th>\n",
       "      <th></th>\n",
       "      <th></th>\n",
       "      <th></th>\n",
       "      <th></th>\n",
       "      <th></th>\n",
       "      <th></th>\n",
       "      <th></th>\n",
       "      <th></th>\n",
       "      <th></th>\n",
       "      <th></th>\n",
       "      <th></th>\n",
       "      <th></th>\n",
       "      <th></th>\n",
       "      <th></th>\n",
       "      <th></th>\n",
       "      <th></th>\n",
       "      <th></th>\n",
       "    </tr>\n",
       "  </thead>\n",
       "  <tbody>\n",
       "    <tr>\n",
       "      <th>aaronha01</th>\n",
       "      <td>23</td>\n",
       "      <td>3298</td>\n",
       "      <td>12364</td>\n",
       "      <td>2174</td>\n",
       "      <td>3771</td>\n",
       "      <td>624</td>\n",
       "      <td>98</td>\n",
       "      <td>755</td>\n",
       "      <td>2297.0</td>\n",
       "      <td>240.0</td>\n",
       "      <td>73.0</td>\n",
       "      <td>1402</td>\n",
       "      <td>1383.0</td>\n",
       "      <td>293.0</td>\n",
       "      <td>32.0</td>\n",
       "      <td>21.0</td>\n",
       "      <td>121.0</td>\n",
       "      <td>328.0</td>\n",
       "      <td>0.3050</td>\n",
       "    </tr>\n",
       "    <tr>\n",
       "      <th>aaronto01</th>\n",
       "      <td>7</td>\n",
       "      <td>437</td>\n",
       "      <td>944</td>\n",
       "      <td>102</td>\n",
       "      <td>216</td>\n",
       "      <td>42</td>\n",
       "      <td>6</td>\n",
       "      <td>13</td>\n",
       "      <td>94.0</td>\n",
       "      <td>9.0</td>\n",
       "      <td>8.0</td>\n",
       "      <td>86</td>\n",
       "      <td>145.0</td>\n",
       "      <td>3.0</td>\n",
       "      <td>0.0</td>\n",
       "      <td>9.0</td>\n",
       "      <td>6.0</td>\n",
       "      <td>36.0</td>\n",
       "      <td>0.2288</td>\n",
       "    </tr>\n",
       "    <tr>\n",
       "      <th>abbated01</th>\n",
       "      <td>11</td>\n",
       "      <td>855</td>\n",
       "      <td>3044</td>\n",
       "      <td>355</td>\n",
       "      <td>772</td>\n",
       "      <td>99</td>\n",
       "      <td>43</td>\n",
       "      <td>11</td>\n",
       "      <td>324.0</td>\n",
       "      <td>142.0</td>\n",
       "      <td>NaN</td>\n",
       "      <td>289</td>\n",
       "      <td>16.0</td>\n",
       "      <td>NaN</td>\n",
       "      <td>33.0</td>\n",
       "      <td>93.0</td>\n",
       "      <td>NaN</td>\n",
       "      <td>NaN</td>\n",
       "      <td>0.2536</td>\n",
       "    </tr>\n",
       "    <tr>\n",
       "      <th>...</th>\n",
       "      <td>...</td>\n",
       "      <td>...</td>\n",
       "      <td>...</td>\n",
       "      <td>...</td>\n",
       "      <td>...</td>\n",
       "      <td>...</td>\n",
       "      <td>...</td>\n",
       "      <td>...</td>\n",
       "      <td>...</td>\n",
       "      <td>...</td>\n",
       "      <td>...</td>\n",
       "      <td>...</td>\n",
       "      <td>...</td>\n",
       "      <td>...</td>\n",
       "      <td>...</td>\n",
       "      <td>...</td>\n",
       "      <td>...</td>\n",
       "      <td>...</td>\n",
       "      <td>...</td>\n",
       "    </tr>\n",
       "    <tr>\n",
       "      <th>zuninmi01</th>\n",
       "      <td>4</td>\n",
       "      <td>350</td>\n",
       "      <td>1125</td>\n",
       "      <td>117</td>\n",
       "      <td>219</td>\n",
       "      <td>43</td>\n",
       "      <td>2</td>\n",
       "      <td>50</td>\n",
       "      <td>133.0</td>\n",
       "      <td>1.0</td>\n",
       "      <td>4.0</td>\n",
       "      <td>75</td>\n",
       "      <td>404.0</td>\n",
       "      <td>1.0</td>\n",
       "      <td>31.0</td>\n",
       "      <td>8.0</td>\n",
       "      <td>8.0</td>\n",
       "      <td>23.0</td>\n",
       "      <td>0.1947</td>\n",
       "    </tr>\n",
       "    <tr>\n",
       "      <th>zupcibo01</th>\n",
       "      <td>6</td>\n",
       "      <td>319</td>\n",
       "      <td>795</td>\n",
       "      <td>99</td>\n",
       "      <td>199</td>\n",
       "      <td>47</td>\n",
       "      <td>4</td>\n",
       "      <td>7</td>\n",
       "      <td>80.0</td>\n",
       "      <td>7.0</td>\n",
       "      <td>5.0</td>\n",
       "      <td>57</td>\n",
       "      <td>137.0</td>\n",
       "      <td>3.0</td>\n",
       "      <td>6.0</td>\n",
       "      <td>20.0</td>\n",
       "      <td>8.0</td>\n",
       "      <td>15.0</td>\n",
       "      <td>0.2503</td>\n",
       "    </tr>\n",
       "    <tr>\n",
       "      <th>zwilldu01</th>\n",
       "      <td>4</td>\n",
       "      <td>366</td>\n",
       "      <td>1280</td>\n",
       "      <td>167</td>\n",
       "      <td>364</td>\n",
       "      <td>76</td>\n",
       "      <td>15</td>\n",
       "      <td>30</td>\n",
       "      <td>202.0</td>\n",
       "      <td>46.0</td>\n",
       "      <td>NaN</td>\n",
       "      <td>128</td>\n",
       "      <td>139.0</td>\n",
       "      <td>NaN</td>\n",
       "      <td>4.0</td>\n",
       "      <td>31.0</td>\n",
       "      <td>NaN</td>\n",
       "      <td>NaN</td>\n",
       "      <td>0.2844</td>\n",
       "    </tr>\n",
       "  </tbody>\n",
       "</table>\n",
       "<p>4190 rows × 19 columns</p>\n",
       "</div>"
      ],
      "text/plain": [
       "           stint     G     AB     R     H   2B  3B   HR     RBI     SB    CS  \\\n",
       "playerID                                                                       \n",
       "aaronha01     23  3298  12364  2174  3771  624  98  755  2297.0  240.0  73.0   \n",
       "aaronto01      7   437    944   102   216   42   6   13    94.0    9.0   8.0   \n",
       "abbated01     11   855   3044   355   772   99  43   11   324.0  142.0   NaN   \n",
       "...          ...   ...    ...   ...   ...  ...  ..  ...     ...    ...   ...   \n",
       "zuninmi01      4   350   1125   117   219   43   2   50   133.0    1.0   4.0   \n",
       "zupcibo01      6   319    795    99   199   47   4    7    80.0    7.0   5.0   \n",
       "zwilldu01      4   366   1280   167   364   76  15   30   202.0   46.0   NaN   \n",
       "\n",
       "             BB      SO    IBB   HBP    SH     SF   GIDP  lifetime_BA  \n",
       "playerID                                                               \n",
       "aaronha01  1402  1383.0  293.0  32.0  21.0  121.0  328.0       0.3050  \n",
       "aaronto01    86   145.0    3.0   0.0   9.0    6.0   36.0       0.2288  \n",
       "abbated01   289    16.0    NaN  33.0  93.0    NaN    NaN       0.2536  \n",
       "...         ...     ...    ...   ...   ...    ...    ...          ...  \n",
       "zuninmi01    75   404.0    1.0  31.0   8.0    8.0   23.0       0.1947  \n",
       "zupcibo01    57   137.0    3.0   6.0  20.0    8.0   15.0       0.2503  \n",
       "zwilldu01   128   139.0    NaN   4.0  31.0    NaN    NaN       0.2844  \n",
       "\n",
       "[4190 rows x 19 columns]"
      ]
     },
     "execution_count": 61,
     "metadata": {},
     "output_type": "execute_result"
    }
   ],
   "source": [
    "# remove any player who is NOT in the players_list\n",
    "batting_career = batting_career[batting_career.index.map(remove_from_df)]\n",
    "\n",
    "batting_career"
   ]
  },
  {
   "cell_type": "markdown",
   "metadata": {
    "variables": {
     "len(batting_career)": "4190"
    }
   },
   "source": [
    "There are now {{len(batting_career)}} players who are not pitchers and who have batted more than 250 games who's career Regular-season batting statistics we can use for the investigation."
   ]
  },
  {
   "cell_type": "markdown",
   "metadata": {},
   "source": [
    "##### All-Star appearances (AllstarFull.csv):\n",
    "What is an appropriate measure of All-Star appearances other than just calculating the total number of times a player was sent to the All-Star game? One method may simply be to find the ratio of the number of All-Star appearances to the number of years a player played. To find this I will first use the Master table (Master.csv) from the Lahman Baseball Database to compute the number of years in each player career."
   ]
  },
  {
   "cell_type": "code",
   "execution_count": 62,
   "metadata": {
    "collapsed": false
   },
   "outputs": [
    {
     "data": {
      "text/html": [
       "<div>\n",
       "<table border=\"1\" class=\"dataframe\">\n",
       "  <thead>\n",
       "    <tr style=\"text-align: right;\">\n",
       "      <th></th>\n",
       "      <th>playerID</th>\n",
       "      <th>birthYear</th>\n",
       "      <th>birthMonth</th>\n",
       "      <th>birthDay</th>\n",
       "      <th>birthCountry</th>\n",
       "      <th>birthState</th>\n",
       "      <th>birthCity</th>\n",
       "      <th>deathYear</th>\n",
       "      <th>deathMonth</th>\n",
       "      <th>deathDay</th>\n",
       "      <th>deathCountry</th>\n",
       "      <th>deathState</th>\n",
       "      <th>deathCity</th>\n",
       "      <th>nameFirst</th>\n",
       "      <th>nameLast</th>\n",
       "      <th>nameGiven</th>\n",
       "      <th>weight</th>\n",
       "      <th>height</th>\n",
       "      <th>bats</th>\n",
       "      <th>throws</th>\n",
       "      <th>debut</th>\n",
       "      <th>finalGame</th>\n",
       "      <th>retroID</th>\n",
       "      <th>bbrefID</th>\n",
       "      <th>career-years</th>\n",
       "    </tr>\n",
       "    <tr>\n",
       "      <th>playerID</th>\n",
       "      <th></th>\n",
       "      <th></th>\n",
       "      <th></th>\n",
       "      <th></th>\n",
       "      <th></th>\n",
       "      <th></th>\n",
       "      <th></th>\n",
       "      <th></th>\n",
       "      <th></th>\n",
       "      <th></th>\n",
       "      <th></th>\n",
       "      <th></th>\n",
       "      <th></th>\n",
       "      <th></th>\n",
       "      <th></th>\n",
       "      <th></th>\n",
       "      <th></th>\n",
       "      <th></th>\n",
       "      <th></th>\n",
       "      <th></th>\n",
       "      <th></th>\n",
       "      <th></th>\n",
       "      <th></th>\n",
       "      <th></th>\n",
       "      <th></th>\n",
       "    </tr>\n",
       "  </thead>\n",
       "  <tbody>\n",
       "    <tr>\n",
       "      <th>aardsda01</th>\n",
       "      <td>aardsda01</td>\n",
       "      <td>1981.0</td>\n",
       "      <td>12.0</td>\n",
       "      <td>27.0</td>\n",
       "      <td>USA</td>\n",
       "      <td>CO</td>\n",
       "      <td>Denver</td>\n",
       "      <td>NaN</td>\n",
       "      <td>NaN</td>\n",
       "      <td>NaN</td>\n",
       "      <td>NaN</td>\n",
       "      <td>NaN</td>\n",
       "      <td>NaN</td>\n",
       "      <td>David</td>\n",
       "      <td>Aardsma</td>\n",
       "      <td>David Allan</td>\n",
       "      <td>215.0</td>\n",
       "      <td>75.0</td>\n",
       "      <td>R</td>\n",
       "      <td>R</td>\n",
       "      <td>2004-04-06</td>\n",
       "      <td>2015-08-23</td>\n",
       "      <td>aardd001</td>\n",
       "      <td>aardsda01</td>\n",
       "      <td>11.386301</td>\n",
       "    </tr>\n",
       "    <tr>\n",
       "      <th>aaronha01</th>\n",
       "      <td>aaronha01</td>\n",
       "      <td>1934.0</td>\n",
       "      <td>2.0</td>\n",
       "      <td>5.0</td>\n",
       "      <td>USA</td>\n",
       "      <td>AL</td>\n",
       "      <td>Mobile</td>\n",
       "      <td>NaN</td>\n",
       "      <td>NaN</td>\n",
       "      <td>NaN</td>\n",
       "      <td>NaN</td>\n",
       "      <td>NaN</td>\n",
       "      <td>NaN</td>\n",
       "      <td>Hank</td>\n",
       "      <td>Aaron</td>\n",
       "      <td>Henry Louis</td>\n",
       "      <td>180.0</td>\n",
       "      <td>72.0</td>\n",
       "      <td>R</td>\n",
       "      <td>R</td>\n",
       "      <td>1954-04-13</td>\n",
       "      <td>1976-10-03</td>\n",
       "      <td>aaroh101</td>\n",
       "      <td>aaronha01</td>\n",
       "      <td>22.490411</td>\n",
       "    </tr>\n",
       "    <tr>\n",
       "      <th>aaronto01</th>\n",
       "      <td>aaronto01</td>\n",
       "      <td>1939.0</td>\n",
       "      <td>8.0</td>\n",
       "      <td>5.0</td>\n",
       "      <td>USA</td>\n",
       "      <td>AL</td>\n",
       "      <td>Mobile</td>\n",
       "      <td>1984.0</td>\n",
       "      <td>8.0</td>\n",
       "      <td>16.0</td>\n",
       "      <td>USA</td>\n",
       "      <td>GA</td>\n",
       "      <td>Atlanta</td>\n",
       "      <td>Tommie</td>\n",
       "      <td>Aaron</td>\n",
       "      <td>Tommie Lee</td>\n",
       "      <td>190.0</td>\n",
       "      <td>75.0</td>\n",
       "      <td>R</td>\n",
       "      <td>R</td>\n",
       "      <td>1962-04-10</td>\n",
       "      <td>1971-09-26</td>\n",
       "      <td>aarot101</td>\n",
       "      <td>aaronto01</td>\n",
       "      <td>9.468493</td>\n",
       "    </tr>\n",
       "    <tr>\n",
       "      <th>...</th>\n",
       "      <td>...</td>\n",
       "      <td>...</td>\n",
       "      <td>...</td>\n",
       "      <td>...</td>\n",
       "      <td>...</td>\n",
       "      <td>...</td>\n",
       "      <td>...</td>\n",
       "      <td>...</td>\n",
       "      <td>...</td>\n",
       "      <td>...</td>\n",
       "      <td>...</td>\n",
       "      <td>...</td>\n",
       "      <td>...</td>\n",
       "      <td>...</td>\n",
       "      <td>...</td>\n",
       "      <td>...</td>\n",
       "      <td>...</td>\n",
       "      <td>...</td>\n",
       "      <td>...</td>\n",
       "      <td>...</td>\n",
       "      <td>...</td>\n",
       "      <td>...</td>\n",
       "      <td>...</td>\n",
       "      <td>...</td>\n",
       "      <td>...</td>\n",
       "    </tr>\n",
       "    <tr>\n",
       "      <th>zuverge01</th>\n",
       "      <td>zuverge01</td>\n",
       "      <td>1924.0</td>\n",
       "      <td>8.0</td>\n",
       "      <td>20.0</td>\n",
       "      <td>USA</td>\n",
       "      <td>MI</td>\n",
       "      <td>Holland</td>\n",
       "      <td>2014.0</td>\n",
       "      <td>9.0</td>\n",
       "      <td>8.0</td>\n",
       "      <td>USA</td>\n",
       "      <td>AZ</td>\n",
       "      <td>Tempe</td>\n",
       "      <td>George</td>\n",
       "      <td>Zuverink</td>\n",
       "      <td>George</td>\n",
       "      <td>195.0</td>\n",
       "      <td>76.0</td>\n",
       "      <td>R</td>\n",
       "      <td>R</td>\n",
       "      <td>1951-04-21</td>\n",
       "      <td>1959-06-15</td>\n",
       "      <td>zuveg101</td>\n",
       "      <td>zuverge01</td>\n",
       "      <td>8.156164</td>\n",
       "    </tr>\n",
       "    <tr>\n",
       "      <th>zwilldu01</th>\n",
       "      <td>zwilldu01</td>\n",
       "      <td>1888.0</td>\n",
       "      <td>11.0</td>\n",
       "      <td>2.0</td>\n",
       "      <td>USA</td>\n",
       "      <td>MO</td>\n",
       "      <td>St. Louis</td>\n",
       "      <td>1978.0</td>\n",
       "      <td>3.0</td>\n",
       "      <td>27.0</td>\n",
       "      <td>USA</td>\n",
       "      <td>CA</td>\n",
       "      <td>La Crescenta</td>\n",
       "      <td>Dutch</td>\n",
       "      <td>Zwilling</td>\n",
       "      <td>Edward Harrison</td>\n",
       "      <td>160.0</td>\n",
       "      <td>66.0</td>\n",
       "      <td>L</td>\n",
       "      <td>L</td>\n",
       "      <td>1910-08-14</td>\n",
       "      <td>1916-07-12</td>\n",
       "      <td>zwild101</td>\n",
       "      <td>zwilldu01</td>\n",
       "      <td>5.915068</td>\n",
       "    </tr>\n",
       "    <tr>\n",
       "      <th>zychto01</th>\n",
       "      <td>zychto01</td>\n",
       "      <td>1990.0</td>\n",
       "      <td>8.0</td>\n",
       "      <td>7.0</td>\n",
       "      <td>USA</td>\n",
       "      <td>IL</td>\n",
       "      <td>Monee</td>\n",
       "      <td>NaN</td>\n",
       "      <td>NaN</td>\n",
       "      <td>NaN</td>\n",
       "      <td>NaN</td>\n",
       "      <td>NaN</td>\n",
       "      <td>NaN</td>\n",
       "      <td>Tony</td>\n",
       "      <td>Zych</td>\n",
       "      <td>Anthony Aaron</td>\n",
       "      <td>190.0</td>\n",
       "      <td>75.0</td>\n",
       "      <td>R</td>\n",
       "      <td>R</td>\n",
       "      <td>2015-09-04</td>\n",
       "      <td>2016-08-24</td>\n",
       "      <td>zycht001</td>\n",
       "      <td>zychto01</td>\n",
       "      <td>0.972603</td>\n",
       "    </tr>\n",
       "  </tbody>\n",
       "</table>\n",
       "<p>18910 rows × 25 columns</p>\n",
       "</div>"
      ],
      "text/plain": [
       "            playerID  birthYear  birthMonth  birthDay birthCountry birthState  \\\n",
       "playerID                                                                        \n",
       "aardsda01  aardsda01     1981.0        12.0      27.0          USA         CO   \n",
       "aaronha01  aaronha01     1934.0         2.0       5.0          USA         AL   \n",
       "aaronto01  aaronto01     1939.0         8.0       5.0          USA         AL   \n",
       "...              ...        ...         ...       ...          ...        ...   \n",
       "zuverge01  zuverge01     1924.0         8.0      20.0          USA         MI   \n",
       "zwilldu01  zwilldu01     1888.0        11.0       2.0          USA         MO   \n",
       "zychto01    zychto01     1990.0         8.0       7.0          USA         IL   \n",
       "\n",
       "           birthCity  deathYear  deathMonth  deathDay deathCountry deathState  \\\n",
       "playerID                                                                        \n",
       "aardsda01     Denver        NaN         NaN       NaN          NaN        NaN   \n",
       "aaronha01     Mobile        NaN         NaN       NaN          NaN        NaN   \n",
       "aaronto01     Mobile     1984.0         8.0      16.0          USA         GA   \n",
       "...              ...        ...         ...       ...          ...        ...   \n",
       "zuverge01    Holland     2014.0         9.0       8.0          USA         AZ   \n",
       "zwilldu01  St. Louis     1978.0         3.0      27.0          USA         CA   \n",
       "zychto01       Monee        NaN         NaN       NaN          NaN        NaN   \n",
       "\n",
       "              deathCity nameFirst  nameLast        nameGiven  weight  height  \\\n",
       "playerID                                                                       \n",
       "aardsda01           NaN     David   Aardsma      David Allan   215.0    75.0   \n",
       "aaronha01           NaN      Hank     Aaron      Henry Louis   180.0    72.0   \n",
       "aaronto01       Atlanta    Tommie     Aaron       Tommie Lee   190.0    75.0   \n",
       "...                 ...       ...       ...              ...     ...     ...   \n",
       "zuverge01         Tempe    George  Zuverink           George   195.0    76.0   \n",
       "zwilldu01  La Crescenta     Dutch  Zwilling  Edward Harrison   160.0    66.0   \n",
       "zychto01            NaN      Tony      Zych    Anthony Aaron   190.0    75.0   \n",
       "\n",
       "          bats throws      debut  finalGame   retroID    bbrefID  career-years  \n",
       "playerID                                                                        \n",
       "aardsda01    R      R 2004-04-06 2015-08-23  aardd001  aardsda01     11.386301  \n",
       "aaronha01    R      R 1954-04-13 1976-10-03  aaroh101  aaronha01     22.490411  \n",
       "aaronto01    R      R 1962-04-10 1971-09-26  aarot101  aaronto01      9.468493  \n",
       "...        ...    ...        ...        ...       ...        ...           ...  \n",
       "zuverge01    R      R 1951-04-21 1959-06-15  zuveg101  zuverge01      8.156164  \n",
       "zwilldu01    L      L 1910-08-14 1916-07-12  zwild101  zwilldu01      5.915068  \n",
       "zychto01     R      R 2015-09-04 2016-08-24  zycht001   zychto01      0.972603  \n",
       "\n",
       "[18910 rows x 25 columns]"
      ]
     },
     "execution_count": 62,
     "metadata": {},
     "output_type": "execute_result"
    }
   ],
   "source": [
    "# load master table\n",
    "master = load('Master.csv')\n",
    "\n",
    "# COMPUTE NUMBER OF YEARS PLAYED\n",
    "# convert debut and finalGame columns to timestamps\n",
    "master['debut'] = pd.to_datetime(master['debut'])\n",
    "master['finalGame'] = pd.to_datetime(master['finalGame'])\n",
    "\n",
    "# some rows don't have data - remove them\n",
    "master.dropna(subset=['debut'], inplace=True)\n",
    "master.dropna(subset=['finalGame'], inplace=True)\n",
    "\n",
    "# calculate and add column for difference between debut and final game played\n",
    "master['career-years'] =  master['finalGame'] - master['debut']\n",
    "\n",
    "# converts days to years\n",
    "master['career-years'] = master['career-years'].apply(lambda x: x.days / 365)\n",
    "\n",
    "# group by playerID\n",
    "master = master.groupby(master.playerID).first()\n",
    "\n",
    "# remove any row with player career less than 2 years\n",
    "# master = master[master['career-years'] > 2]\n",
    "\n",
    "master"
   ]
  },
  {
   "cell_type": "markdown",
   "metadata": {},
   "source": [
    "Now the number of years played for each player can be used to find the ratio of all-star games played."
   ]
  },
  {
   "cell_type": "code",
   "execution_count": 63,
   "metadata": {
    "collapsed": false
   },
   "outputs": [
    {
     "data": {
      "text/html": [
       "<div>\n",
       "<table border=\"1\" class=\"dataframe\">\n",
       "  <thead>\n",
       "    <tr style=\"text-align: right;\">\n",
       "      <th></th>\n",
       "      <th>GP</th>\n",
       "      <th>sent_to_AS</th>\n",
       "      <th>career-years</th>\n",
       "      <th>avg-all-star</th>\n",
       "    </tr>\n",
       "  </thead>\n",
       "  <tbody>\n",
       "    <tr>\n",
       "      <th>aaronha01</th>\n",
       "      <td>24.0</td>\n",
       "      <td>25.0</td>\n",
       "      <td>22.490411</td>\n",
       "      <td>1.111585</td>\n",
       "    </tr>\n",
       "    <tr>\n",
       "      <th>abreubo01</th>\n",
       "      <td>2.0</td>\n",
       "      <td>2.0</td>\n",
       "      <td>18.084932</td>\n",
       "      <td>0.110589</td>\n",
       "    </tr>\n",
       "    <tr>\n",
       "      <th>abreujo02</th>\n",
       "      <td>1.0</td>\n",
       "      <td>1.0</td>\n",
       "      <td>2.509589</td>\n",
       "      <td>0.398472</td>\n",
       "    </tr>\n",
       "    <tr>\n",
       "      <th>...</th>\n",
       "      <td>...</td>\n",
       "      <td>...</td>\n",
       "      <td>...</td>\n",
       "      <td>...</td>\n",
       "    </tr>\n",
       "    <tr>\n",
       "      <th>zimmery01</th>\n",
       "      <td>1.0</td>\n",
       "      <td>1.0</td>\n",
       "      <td>11.093151</td>\n",
       "      <td>0.090146</td>\n",
       "    </tr>\n",
       "    <tr>\n",
       "      <th>ziskri01</th>\n",
       "      <td>2.0</td>\n",
       "      <td>2.0</td>\n",
       "      <td>12.043836</td>\n",
       "      <td>0.166060</td>\n",
       "    </tr>\n",
       "    <tr>\n",
       "      <th>zobribe01</th>\n",
       "      <td>2.0</td>\n",
       "      <td>3.0</td>\n",
       "      <td>10.178082</td>\n",
       "      <td>0.294751</td>\n",
       "    </tr>\n",
       "  </tbody>\n",
       "</table>\n",
       "<p>1024 rows × 4 columns</p>\n",
       "</div>"
      ],
      "text/plain": [
       "             GP  sent_to_AS  career-years  avg-all-star\n",
       "aaronha01  24.0        25.0     22.490411      1.111585\n",
       "abreubo01   2.0         2.0     18.084932      0.110589\n",
       "abreujo02   1.0         1.0      2.509589      0.398472\n",
       "...         ...         ...           ...           ...\n",
       "zimmery01   1.0         1.0     11.093151      0.090146\n",
       "ziskri01    2.0         2.0     12.043836      0.166060\n",
       "zobribe01   2.0         3.0     10.178082      0.294751\n",
       "\n",
       "[1024 rows x 4 columns]"
      ]
     },
     "execution_count": 63,
     "metadata": {},
     "output_type": "execute_result"
    }
   ],
   "source": [
    "# load original all-star appearances table\n",
    "all_star = load('AllstarFull.csv')\n",
    "\n",
    "# count number of times player was sent to all-star game(s)\n",
    "all_star['sent_to_AS'] = 1\n",
    "\n",
    "# group by playerID and compute career all-star appearances\n",
    "all_star_career = all_star.groupby(all_star.playerID).sum()\n",
    "\n",
    "# drop unecessary columns (yearID, gameNum and startingPos)\n",
    "all_star_career = all_star_career.drop(['yearID','gameNum','startingPos'],axis=1)\n",
    "\n",
    "# concatenate this dataframe with career-years from master dataframe\n",
    "all_star_career = pd.concat([all_star_career, master['career-years']], axis=1)\n",
    "\n",
    "# remove any row with NaN for sent_to_AS (player never went to All-Star game)\n",
    "all_star_career.dropna(subset=['sent_to_AS'], inplace=True)\n",
    "\n",
    "# calculate all-star appearances average\n",
    "all_star_career['avg-all-star'] = all_star_career['sent_to_AS'] / all_star_career['career-years']\n",
    "\n",
    "# remove any row with NaN for average\n",
    "# all_star_career.dropna(subset=['avg-all-star'], inplace=True)\n",
    "\n",
    "# remove any player who is NOT in the players_list\n",
    "all_star_career = all_star_career[all_star_career.index.map(remove_from_df)]\n",
    "\n",
    "all_star_career"
   ]
  },
  {
   "cell_type": "markdown",
   "metadata": {
    "variables": {
     "len(all_star_career)": "1024"
    }
   },
   "source": [
    "There are now {{len(all_star_career)}} players who are not pitchers and who have batted more than 250 games who's career career average for All-Star appearances we can use for the investigation. Note, a player's career average All-Star appearances may be greater than 1 for players (Hank Aaron for example). This is because at periods in the 50's and 60's [more than one all star game was played](http://www.nytimes.com/2008/07/15/sports/baseball/15sandomir.html) more than one All-Star game may have been played."
   ]
  },
  {
   "cell_type": "markdown",
   "metadata": {},
   "source": [
    "##### Player salary (Salaries.csv):\n",
    "A player's salary in 1985 dollars is not what it would be in 2016 dollars, so I've adjusted for inflation using the [United States Bureau of Labor Statistics' Consumer Price Index](https://www.bls.gov/data/) historical data (each year adjusted independently and then the average taken of all a player's salaries over the course of a baseball career). Each salary was adjusted to the 2016 annual average (2017 doesn't yet have a year-end average. I then average the salary across a player's career."
   ]
  },
  {
   "cell_type": "code",
   "execution_count": 64,
   "metadata": {
    "collapsed": false
   },
   "outputs": [
    {
     "data": {
      "text/html": [
       "<div>\n",
       "<table border=\"1\" class=\"dataframe\">\n",
       "  <thead>\n",
       "    <tr style=\"text-align: right;\">\n",
       "      <th></th>\n",
       "      <th>avg-salary</th>\n",
       "      <th>avg-salary-adj</th>\n",
       "    </tr>\n",
       "    <tr>\n",
       "      <th>playerID</th>\n",
       "      <th></th>\n",
       "      <th></th>\n",
       "    </tr>\n",
       "  </thead>\n",
       "  <tbody>\n",
       "    <tr>\n",
       "      <th>abbotku01</th>\n",
       "      <td>470778</td>\n",
       "      <td>686487</td>\n",
       "    </tr>\n",
       "    <tr>\n",
       "      <th>abnersh01</th>\n",
       "      <td>144700</td>\n",
       "      <td>259552</td>\n",
       "    </tr>\n",
       "    <tr>\n",
       "      <th>abreubo01</th>\n",
       "      <td>7773729</td>\n",
       "      <td>9231062</td>\n",
       "    </tr>\n",
       "    <tr>\n",
       "      <th>...</th>\n",
       "      <td>...</td>\n",
       "      <td>...</td>\n",
       "    </tr>\n",
       "    <tr>\n",
       "      <th>zobribe01</th>\n",
       "      <td>4169510</td>\n",
       "      <td>4278451</td>\n",
       "    </tr>\n",
       "    <tr>\n",
       "      <th>zuninmi01</th>\n",
       "      <td>513800</td>\n",
       "      <td>520585</td>\n",
       "    </tr>\n",
       "    <tr>\n",
       "      <th>zupcibo01</th>\n",
       "      <td>143667</td>\n",
       "      <td>243803</td>\n",
       "    </tr>\n",
       "  </tbody>\n",
       "</table>\n",
       "<p>1715 rows × 2 columns</p>\n",
       "</div>"
      ],
      "text/plain": [
       "           avg-salary  avg-salary-adj\n",
       "playerID                             \n",
       "abbotku01      470778          686487\n",
       "abnersh01      144700          259552\n",
       "abreubo01     7773729         9231062\n",
       "...               ...             ...\n",
       "zobribe01     4169510         4278451\n",
       "zuninmi01      513800          520585\n",
       "zupcibo01      143667          243803\n",
       "\n",
       "[1715 rows x 2 columns]"
      ]
     },
     "execution_count": 64,
     "metadata": {},
     "output_type": "execute_result"
    }
   ],
   "source": [
    "# load the salaries and cpi dataframes\n",
    "salaries = load('Salaries.csv')\n",
    "cpi = load('consumer_price_index.csv')\n",
    "\n",
    "# function queries the cpi dataframe to find a value corresponding to the year x\n",
    "def cpi_val(x):\n",
    "    return float(cpi.loc[cpi['Year'] == x, 'Annual-Avg'].values[0])\n",
    "\n",
    "# computes/creates new column for avergage adjusted salary\n",
    "salaries['avg-adjusted'] = (240.007 * salaries['salary']) / salaries['yearID'].apply(cpi_val)\n",
    "\n",
    "# supress scientific notation in the dataframe\n",
    "pd.set_option('display.float_format', lambda x: '%.0f' % x)\n",
    "\n",
    "# COMPUTE AVERAGE SALARY OVER THE COURSE OF A PLAYER'S CAREER\n",
    "# group by playerID and find the average\n",
    "salaries_career = salaries.groupby(salaries.playerID).mean()\n",
    "# drop yearID column\n",
    "salaries_career = salaries_career.drop('yearID', axis=1)\n",
    "# rename column to 'avg-salar-adj'\n",
    "salaries_career.columns = ['avg-salary', 'avg-salary-adj']\n",
    "\n",
    "# remove any player who is NOT in the players_list\n",
    "salaries_career = salaries_career[salaries_career.index.map(remove_from_df)]\n",
    "\n",
    "salaries_career"
   ]
  },
  {
   "cell_type": "markdown",
   "metadata": {
    "variables": {
     "len(salaries_career)": "1715"
    }
   },
   "source": [
    "There are now {{len(salaries_career)}} players who are not pitchers and who have batted more than 250 games who's career career average for All-Star appearances we can use for the investigation. "
   ]
  },
  {
   "cell_type": "markdown",
   "metadata": {},
   "source": [
    "##### Awards received (AwardsPlayers.csv):\n",
    "Similarly to the All-Star apperances table, the average awards received per year as a ratio between the number of awards received and the number of years a player played will be calcualted here."
   ]
  },
  {
   "cell_type": "code",
   "execution_count": 65,
   "metadata": {
    "collapsed": false
   },
   "outputs": [
    {
     "data": {
      "text/html": [
       "<div>\n",
       "<table border=\"1\" class=\"dataframe\">\n",
       "  <thead>\n",
       "    <tr style=\"text-align: right;\">\n",
       "      <th></th>\n",
       "      <th>awarded</th>\n",
       "      <th>career-years</th>\n",
       "      <th>avg-awards</th>\n",
       "    </tr>\n",
       "  </thead>\n",
       "  <tbody>\n",
       "    <tr>\n",
       "      <th>aaronha01</th>\n",
       "      <td>16.0</td>\n",
       "      <td>22.490411</td>\n",
       "      <td>0.711414</td>\n",
       "    </tr>\n",
       "    <tr>\n",
       "      <th>abreubo01</th>\n",
       "      <td>2.0</td>\n",
       "      <td>18.084932</td>\n",
       "      <td>0.110589</td>\n",
       "    </tr>\n",
       "    <tr>\n",
       "      <th>abreujo02</th>\n",
       "      <td>2.0</td>\n",
       "      <td>2.509589</td>\n",
       "      <td>0.796943</td>\n",
       "    </tr>\n",
       "    <tr>\n",
       "      <th>...</th>\n",
       "      <td>...</td>\n",
       "      <td>...</td>\n",
       "      <td>...</td>\n",
       "    </tr>\n",
       "    <tr>\n",
       "      <th>zimmery01</th>\n",
       "      <td>4.0</td>\n",
       "      <td>11.093151</td>\n",
       "      <td>0.360583</td>\n",
       "    </tr>\n",
       "    <tr>\n",
       "      <th>ziskri01</th>\n",
       "      <td>2.0</td>\n",
       "      <td>12.043836</td>\n",
       "      <td>0.166060</td>\n",
       "    </tr>\n",
       "    <tr>\n",
       "      <th>zobribe01</th>\n",
       "      <td>1.0</td>\n",
       "      <td>10.178082</td>\n",
       "      <td>0.098250</td>\n",
       "    </tr>\n",
       "  </tbody>\n",
       "</table>\n",
       "<p>893 rows × 3 columns</p>\n",
       "</div>"
      ],
      "text/plain": [
       "           awarded  career-years  avg-awards\n",
       "aaronha01     16.0     22.490411    0.711414\n",
       "abreubo01      2.0     18.084932    0.110589\n",
       "abreujo02      2.0      2.509589    0.796943\n",
       "...            ...           ...         ...\n",
       "zimmery01      4.0     11.093151    0.360583\n",
       "ziskri01       2.0     12.043836    0.166060\n",
       "zobribe01      1.0     10.178082    0.098250\n",
       "\n",
       "[893 rows x 3 columns]"
      ]
     },
     "execution_count": 65,
     "metadata": {},
     "output_type": "execute_result"
    }
   ],
   "source": [
    "# load original awards dataframe\n",
    "awards_players = load('AwardsPlayers.csv')\n",
    "\n",
    "# tally up total awards\n",
    "awards_players['awarded'] = 1\n",
    "\n",
    "# group by awards received over course of career\n",
    "awards_players_career = awards_players.groupby(awards_players.playerID).sum()\n",
    "\n",
    "# drop yearID\n",
    "awards_players_career = awards_players_career.drop('yearID', axis=1)\n",
    "\n",
    "# COMPUTE THE AVERAGE NUMBER OF AWARDS WON OVER THE COURSE OF A PLAYER'S CAREER\n",
    "# concatenate this dataframe with career-years from master dataframe\n",
    "awards_players_career = pd.concat([awards_players_career, master['career-years']], axis=1)\n",
    "\n",
    "# undo supress scientific notation\n",
    "pd.set_option('display.float_format', None)\n",
    "\n",
    "# remove any row with NaN (artifact of concatenating)\n",
    "awards_players_career.dropna(inplace=True)\n",
    "\n",
    "# calculate all-star appearances average\n",
    "awards_players_career['avg-awards'] = awards_players_career['awarded'] / awards_players_career['career-years']\n",
    "\n",
    "# remove any player who is NOT in the players_list\n",
    "awards_players_career = awards_players_career[awards_players_career.index.map(remove_from_df)]\n",
    "\n",
    "awards_players_career"
   ]
  },
  {
   "cell_type": "markdown",
   "metadata": {
    "variables": {
     "len(awards_players_career)": "893"
    }
   },
   "source": [
    "There are now {{len(awards_players_career)}} players who are not pitchers and who have batted more than 250 games who's career career average for All-Star appearances we can use for the investigation. "
   ]
  },
  {
   "cell_type": "markdown",
   "metadata": {},
   "source": [
    "### DATA EXPLORATION\n",
    "\n",
    "I'm going to mainly be looking for correlations between career batting average and three variables measuring success - awards received, All-Star appearances and salary."
   ]
  },
  {
   "cell_type": "markdown",
   "metadata": {},
   "source": [
    "##### Lifetime batting average vs. average awards received:"
   ]
  },
  {
   "cell_type": "code",
   "execution_count": 66,
   "metadata": {
    "collapsed": false
   },
   "outputs": [
    {
     "data": {
      "text/html": [
       "<div>\n",
       "<table border=\"1\" class=\"dataframe\">\n",
       "  <thead>\n",
       "    <tr style=\"text-align: right;\">\n",
       "      <th></th>\n",
       "      <th>awarded</th>\n",
       "      <th>career-years</th>\n",
       "      <th>avg-awards</th>\n",
       "      <th>lifetime_BA</th>\n",
       "    </tr>\n",
       "  </thead>\n",
       "  <tbody>\n",
       "    <tr>\n",
       "      <th>aaronha01</th>\n",
       "      <td>16.0</td>\n",
       "      <td>22.490411</td>\n",
       "      <td>0.711414</td>\n",
       "      <td>0.3050</td>\n",
       "    </tr>\n",
       "    <tr>\n",
       "      <th>abreubo01</th>\n",
       "      <td>2.0</td>\n",
       "      <td>18.084932</td>\n",
       "      <td>0.110589</td>\n",
       "      <td>0.2913</td>\n",
       "    </tr>\n",
       "    <tr>\n",
       "      <th>abreujo02</th>\n",
       "      <td>2.0</td>\n",
       "      <td>2.509589</td>\n",
       "      <td>0.796943</td>\n",
       "      <td>0.2995</td>\n",
       "    </tr>\n",
       "    <tr>\n",
       "      <th>...</th>\n",
       "      <td>...</td>\n",
       "      <td>...</td>\n",
       "      <td>...</td>\n",
       "      <td>...</td>\n",
       "    </tr>\n",
       "    <tr>\n",
       "      <th>zimmery01</th>\n",
       "      <td>4.0</td>\n",
       "      <td>11.093151</td>\n",
       "      <td>0.360583</td>\n",
       "      <td>0.2779</td>\n",
       "    </tr>\n",
       "    <tr>\n",
       "      <th>ziskri01</th>\n",
       "      <td>2.0</td>\n",
       "      <td>12.043836</td>\n",
       "      <td>0.166060</td>\n",
       "      <td>0.2871</td>\n",
       "    </tr>\n",
       "    <tr>\n",
       "      <th>zobribe01</th>\n",
       "      <td>1.0</td>\n",
       "      <td>10.178082</td>\n",
       "      <td>0.098250</td>\n",
       "      <td>0.2659</td>\n",
       "    </tr>\n",
       "  </tbody>\n",
       "</table>\n",
       "<p>893 rows × 4 columns</p>\n",
       "</div>"
      ],
      "text/plain": [
       "           awarded  career-years  avg-awards  lifetime_BA\n",
       "aaronha01     16.0     22.490411    0.711414       0.3050\n",
       "abreubo01      2.0     18.084932    0.110589       0.2913\n",
       "abreujo02      2.0      2.509589    0.796943       0.2995\n",
       "...            ...           ...         ...          ...\n",
       "zimmery01      4.0     11.093151    0.360583       0.2779\n",
       "ziskri01       2.0     12.043836    0.166060       0.2871\n",
       "zobribe01      1.0     10.178082    0.098250       0.2659\n",
       "\n",
       "[893 rows x 4 columns]"
      ]
     },
     "execution_count": 66,
     "metadata": {},
     "output_type": "execute_result"
    }
   ],
   "source": [
    "# create a new dataframe containing the two sets to plot\n",
    "awards_ba = pd.concat([awards_players_career, batting_career['lifetime_BA']], axis=1)\n",
    "awards_ba.dropna(inplace=True)\n",
    "awards_ba"
   ]
  },
  {
   "cell_type": "code",
   "execution_count": 67,
   "metadata": {
    "collapsed": false
   },
   "outputs": [
    {
     "data": {
      "image/png": "[encoded data removed]",
      "text/plain": [
       "<matplotlib.figure.Figure at 0x11aa93b70>"
      ]
     },
     "metadata": {},
     "output_type": "display_data"
    }
   ],
   "source": [
    "ax = sns.regplot(x='lifetime_BA', y='avg-awards', data=awards_ba, scatter_kws={'alpha':0.5})\n",
    "plt.show()"
   ]
  },
  {
   "cell_type": "markdown",
   "metadata": {},
   "source": [
    "The scatter plot with regression line plotted appear to show a correlation between lifetime batting average and average awards received over the course of a player's career, as expected. But what is the correlation quantified?"
   ]
  },
  {
   "cell_type": "code",
   "execution_count": 68,
   "metadata": {
    "collapsed": false
   },
   "outputs": [
    {
     "data": {
      "text/html": [
       "<div>\n",
       "<table border=\"1\" class=\"dataframe\">\n",
       "  <thead>\n",
       "    <tr style=\"text-align: right;\">\n",
       "      <th></th>\n",
       "      <th>lifetime_BA</th>\n",
       "      <th>avg-awards</th>\n",
       "    </tr>\n",
       "  </thead>\n",
       "  <tbody>\n",
       "    <tr>\n",
       "      <th>lifetime_BA</th>\n",
       "      <td>1.000000</td>\n",
       "      <td>0.420179</td>\n",
       "    </tr>\n",
       "    <tr>\n",
       "      <th>avg-awards</th>\n",
       "      <td>0.420179</td>\n",
       "      <td>1.000000</td>\n",
       "    </tr>\n",
       "  </tbody>\n",
       "</table>\n",
       "</div>"
      ],
      "text/plain": [
       "             lifetime_BA  avg-awards\n",
       "lifetime_BA     1.000000    0.420179\n",
       "avg-awards      0.420179    1.000000"
      ]
     },
     "execution_count": 68,
     "metadata": {},
     "output_type": "execute_result"
    }
   ],
   "source": [
    "# pearson's r for ba vs. awards\n",
    "awards_ba[['lifetime_BA','avg-awards']].corr()"
   ]
  },
  {
   "cell_type": "markdown",
   "metadata": {},
   "source": [
    "A Pearson's correlation score of approximately 0.42 reveals a moderate positive correlation between the variables."
   ]
  },
  {
   "cell_type": "markdown",
   "metadata": {},
   "source": [
    "##### Lifetime batting average vs. average All-Star appearances:"
   ]
  },
  {
   "cell_type": "code",
   "execution_count": 69,
   "metadata": {
    "collapsed": false
   },
   "outputs": [
    {
     "data": {
      "text/html": [
       "<div>\n",
       "<table border=\"1\" class=\"dataframe\">\n",
       "  <thead>\n",
       "    <tr style=\"text-align: right;\">\n",
       "      <th></th>\n",
       "      <th>GP</th>\n",
       "      <th>sent_to_AS</th>\n",
       "      <th>career-years</th>\n",
       "      <th>avg-all-star</th>\n",
       "      <th>lifetime_BA</th>\n",
       "    </tr>\n",
       "  </thead>\n",
       "  <tbody>\n",
       "    <tr>\n",
       "      <th>aaronha01</th>\n",
       "      <td>24.0</td>\n",
       "      <td>25.0</td>\n",
       "      <td>22.490411</td>\n",
       "      <td>1.111585</td>\n",
       "      <td>0.3050</td>\n",
       "    </tr>\n",
       "    <tr>\n",
       "      <th>abreubo01</th>\n",
       "      <td>2.0</td>\n",
       "      <td>2.0</td>\n",
       "      <td>18.084932</td>\n",
       "      <td>0.110589</td>\n",
       "      <td>0.2913</td>\n",
       "    </tr>\n",
       "    <tr>\n",
       "      <th>abreujo02</th>\n",
       "      <td>1.0</td>\n",
       "      <td>1.0</td>\n",
       "      <td>2.509589</td>\n",
       "      <td>0.398472</td>\n",
       "      <td>0.2995</td>\n",
       "    </tr>\n",
       "    <tr>\n",
       "      <th>...</th>\n",
       "      <td>...</td>\n",
       "      <td>...</td>\n",
       "      <td>...</td>\n",
       "      <td>...</td>\n",
       "      <td>...</td>\n",
       "    </tr>\n",
       "    <tr>\n",
       "      <th>zimmery01</th>\n",
       "      <td>1.0</td>\n",
       "      <td>1.0</td>\n",
       "      <td>11.093151</td>\n",
       "      <td>0.090146</td>\n",
       "      <td>0.2779</td>\n",
       "    </tr>\n",
       "    <tr>\n",
       "      <th>ziskri01</th>\n",
       "      <td>2.0</td>\n",
       "      <td>2.0</td>\n",
       "      <td>12.043836</td>\n",
       "      <td>0.166060</td>\n",
       "      <td>0.2871</td>\n",
       "    </tr>\n",
       "    <tr>\n",
       "      <th>zobribe01</th>\n",
       "      <td>2.0</td>\n",
       "      <td>3.0</td>\n",
       "      <td>10.178082</td>\n",
       "      <td>0.294751</td>\n",
       "      <td>0.2659</td>\n",
       "    </tr>\n",
       "  </tbody>\n",
       "</table>\n",
       "<p>1024 rows × 5 columns</p>\n",
       "</div>"
      ],
      "text/plain": [
       "             GP  sent_to_AS  career-years  avg-all-star  lifetime_BA\n",
       "aaronha01  24.0        25.0     22.490411      1.111585       0.3050\n",
       "abreubo01   2.0         2.0     18.084932      0.110589       0.2913\n",
       "abreujo02   1.0         1.0      2.509589      0.398472       0.2995\n",
       "...         ...         ...           ...           ...          ...\n",
       "zimmery01   1.0         1.0     11.093151      0.090146       0.2779\n",
       "ziskri01    2.0         2.0     12.043836      0.166060       0.2871\n",
       "zobribe01   2.0         3.0     10.178082      0.294751       0.2659\n",
       "\n",
       "[1024 rows x 5 columns]"
      ]
     },
     "execution_count": 69,
     "metadata": {},
     "output_type": "execute_result"
    }
   ],
   "source": [
    "# create a new dataframe containing the two sets to plot\n",
    "all_star_ba = pd.concat([all_star_career, batting_career['lifetime_BA']], axis=1)\n",
    "all_star_ba.dropna(inplace=True)\n",
    "all_star_ba"
   ]
  },
  {
   "cell_type": "code",
   "execution_count": 70,
   "metadata": {
    "collapsed": false
   },
   "outputs": [
    {
     "data": {
      "image/png": "[encoded data removed]",
      "text/plain": [
       "<matplotlib.figure.Figure at 0x118b36f98>"
      ]
     },
     "metadata": {},
     "output_type": "display_data"
    }
   ],
   "source": [
    "ax = sns.regplot(x='lifetime_BA', y='avg-all-star', data=all_star_ba, scatter_kws={'alpha':0.5})\n",
    "plt.show()"
   ]
  },
  {
   "cell_type": "markdown",
   "metadata": {},
   "source": [
    "Again, as expected a correlation between lifetime batting average and the average All-Star appearances for a given player."
   ]
  },
  {
   "cell_type": "code",
   "execution_count": 71,
   "metadata": {
    "collapsed": false
   },
   "outputs": [
    {
     "data": {
      "text/html": [
       "<div>\n",
       "<table border=\"1\" class=\"dataframe\">\n",
       "  <thead>\n",
       "    <tr style=\"text-align: right;\">\n",
       "      <th></th>\n",
       "      <th>lifetime_BA</th>\n",
       "      <th>avg-all-star</th>\n",
       "    </tr>\n",
       "  </thead>\n",
       "  <tbody>\n",
       "    <tr>\n",
       "      <th>lifetime_BA</th>\n",
       "      <td>1.000000</td>\n",
       "      <td>0.347765</td>\n",
       "    </tr>\n",
       "    <tr>\n",
       "      <th>avg-all-star</th>\n",
       "      <td>0.347765</td>\n",
       "      <td>1.000000</td>\n",
       "    </tr>\n",
       "  </tbody>\n",
       "</table>\n",
       "</div>"
      ],
      "text/plain": [
       "              lifetime_BA  avg-all-star\n",
       "lifetime_BA      1.000000      0.347765\n",
       "avg-all-star     0.347765      1.000000"
      ]
     },
     "execution_count": 71,
     "metadata": {},
     "output_type": "execute_result"
    }
   ],
   "source": [
    "all_star_ba[['lifetime_BA','avg-all-star']].corr()"
   ]
  },
  {
   "cell_type": "markdown",
   "metadata": {},
   "source": [
    "It's on the lower end of a moderate positive correlation but it's there."
   ]
  },
  {
   "cell_type": "markdown",
   "metadata": {},
   "source": [
    "##### Lifetime batting average vs. career average salary:"
   ]
  },
  {
   "cell_type": "code",
   "execution_count": 72,
   "metadata": {
    "collapsed": false
   },
   "outputs": [
    {
     "data": {
      "text/html": [
       "<div>\n",
       "<table border=\"1\" class=\"dataframe\">\n",
       "  <thead>\n",
       "    <tr style=\"text-align: right;\">\n",
       "      <th></th>\n",
       "      <th>avg-salary</th>\n",
       "      <th>avg-salary-adj</th>\n",
       "      <th>lifetime_BA</th>\n",
       "    </tr>\n",
       "  </thead>\n",
       "  <tbody>\n",
       "    <tr>\n",
       "      <th>abbotku01</th>\n",
       "      <td>4.707778e+05</td>\n",
       "      <td>6.864872e+05</td>\n",
       "      <td>0.2559</td>\n",
       "    </tr>\n",
       "    <tr>\n",
       "      <th>abnersh01</th>\n",
       "      <td>1.447000e+05</td>\n",
       "      <td>2.595522e+05</td>\n",
       "      <td>0.2274</td>\n",
       "    </tr>\n",
       "    <tr>\n",
       "      <th>abreubo01</th>\n",
       "      <td>7.773729e+06</td>\n",
       "      <td>9.231062e+06</td>\n",
       "      <td>0.2913</td>\n",
       "    </tr>\n",
       "    <tr>\n",
       "      <th>...</th>\n",
       "      <td>...</td>\n",
       "      <td>...</td>\n",
       "      <td>...</td>\n",
       "    </tr>\n",
       "    <tr>\n",
       "      <th>zobribe01</th>\n",
       "      <td>4.169510e+06</td>\n",
       "      <td>4.278451e+06</td>\n",
       "      <td>0.2659</td>\n",
       "    </tr>\n",
       "    <tr>\n",
       "      <th>zuninmi01</th>\n",
       "      <td>5.138000e+05</td>\n",
       "      <td>5.205846e+05</td>\n",
       "      <td>0.1947</td>\n",
       "    </tr>\n",
       "    <tr>\n",
       "      <th>zupcibo01</th>\n",
       "      <td>1.436667e+05</td>\n",
       "      <td>2.438034e+05</td>\n",
       "      <td>0.2503</td>\n",
       "    </tr>\n",
       "  </tbody>\n",
       "</table>\n",
       "<p>1715 rows × 3 columns</p>\n",
       "</div>"
      ],
      "text/plain": [
       "             avg-salary  avg-salary-adj  lifetime_BA\n",
       "abbotku01  4.707778e+05    6.864872e+05       0.2559\n",
       "abnersh01  1.447000e+05    2.595522e+05       0.2274\n",
       "abreubo01  7.773729e+06    9.231062e+06       0.2913\n",
       "...                 ...             ...          ...\n",
       "zobribe01  4.169510e+06    4.278451e+06       0.2659\n",
       "zuninmi01  5.138000e+05    5.205846e+05       0.1947\n",
       "zupcibo01  1.436667e+05    2.438034e+05       0.2503\n",
       "\n",
       "[1715 rows x 3 columns]"
      ]
     },
     "execution_count": 72,
     "metadata": {},
     "output_type": "execute_result"
    }
   ],
   "source": [
    "# create a new dataframe containing the two sets to plot\n",
    "salary_ba = pd.concat([salaries_career, batting_career['lifetime_BA']], axis=1)\n",
    "salary_ba.dropna(inplace=True)\n",
    "salary_ba"
   ]
  },
  {
   "cell_type": "code",
   "execution_count": 73,
   "metadata": {
    "collapsed": false
   },
   "outputs": [
    {
     "data": {
      "image/png": "[encoded data removed]",
      "text/plain": [
       "<matplotlib.figure.Figure at 0x118d5ab70>"
      ]
     },
     "metadata": {},
     "output_type": "display_data"
    }
   ],
   "source": [
    "ax = sns.regplot(x='lifetime_BA', y='avg-salary-adj', data=salary_ba, scatter_kws={'alpha':0.5})\n",
    "plt.show()"
   ]
  },
  {
   "cell_type": "markdown",
   "metadata": {},
   "source": [
    "This seems like a slightly more obvious correlation in which career average salary rises as batting average rises."
   ]
  },
  {
   "cell_type": "code",
   "execution_count": 74,
   "metadata": {
    "collapsed": false
   },
   "outputs": [
    {
     "data": {
      "text/html": [
       "<div>\n",
       "<table border=\"1\" class=\"dataframe\">\n",
       "  <thead>\n",
       "    <tr style=\"text-align: right;\">\n",
       "      <th></th>\n",
       "      <th>lifetime_BA</th>\n",
       "      <th>avg-salary-adj</th>\n",
       "    </tr>\n",
       "  </thead>\n",
       "  <tbody>\n",
       "    <tr>\n",
       "      <th>lifetime_BA</th>\n",
       "      <td>1.000000</td>\n",
       "      <td>0.493643</td>\n",
       "    </tr>\n",
       "    <tr>\n",
       "      <th>avg-salary-adj</th>\n",
       "      <td>0.493643</td>\n",
       "      <td>1.000000</td>\n",
       "    </tr>\n",
       "  </tbody>\n",
       "</table>\n",
       "</div>"
      ],
      "text/plain": [
       "                lifetime_BA  avg-salary-adj\n",
       "lifetime_BA        1.000000        0.493643\n",
       "avg-salary-adj     0.493643        1.000000"
      ]
     },
     "execution_count": 74,
     "metadata": {},
     "output_type": "execute_result"
    }
   ],
   "source": [
    "salary_ba[['lifetime_BA','avg-salary-adj']].corr()"
   ]
  },
  {
   "cell_type": "markdown",
   "metadata": {},
   "source": [
    "Pearson's correlation here is a solid moderate."
   ]
  },
  {
   "cell_type": "markdown",
   "metadata": {},
   "source": [
    "### ALTERNATE INVESTIGATION\n",
    "What about a more obscure statistic relating to a player's performance other than lifetime batting average? One thing that interests me is how 'adaptable' a player is in field positions. For example, a player may be a catcher at one point in his career and then switch to being a second baseman. Or perhaps a player alternates betwen second and thrid base throughout the season. Looking at the below 'players' table (for example playerID abbated01) reveals that this does happen.  "
   ]
  },
  {
   "cell_type": "code",
   "execution_count": null,
   "metadata": {
    "collapsed": false
   },
   "outputs": [],
   "source": [
    "players"
   ]
  },
  {
   "cell_type": "markdown",
   "metadata": {},
   "source": [
    "##### Calculate player adaptability score:\n",
    "For each player's set of appearances, I will create a 'player adaptability score' which is calculated by looking at the possible field-positions in baseball (again excluding pitchers). \n",
    "\n",
    "For each player's total appearances, it is three minus the standard deviation (unbiased estimator, s-hat) divided by the mean.\n",
    "\n",
    "$$\\text{Player Position Adaptability } = 3-\\frac{\\hat{s}}{\\mu}$$"
   ]
  },
  {
   "cell_type": "code",
   "execution_count": null,
   "metadata": {
    "collapsed": false
   },
   "outputs": [],
   "source": [
    "# create player position adaptability score\n",
    "# positions = ['G_p','G_c','G_1b','G_2b','G_3b','G_ss','G_lf','G_cf','G_rf']\n",
    "positions = ['G_c','G_1b','G_2b','G_3b','G_ss','G_lf','G_cf','G_rf']\n",
    "players['adapt_score'] = 3 - round((players[positions].std(axis=1, ddof=1)/players[positions].mean(axis=1)),4)\n",
    "players"
   ]
  },
  {
   "cell_type": "markdown",
   "metadata": {},
   "source": [
    "Now it seems appropriate to plot adaptability score against our three measures of success."
   ]
  },
  {
   "cell_type": "markdown",
   "metadata": {},
   "source": [
    "##### Player adaptability score vs. awards received:"
   ]
  },
  {
   "cell_type": "code",
   "execution_count": null,
   "metadata": {
    "collapsed": false
   },
   "outputs": [],
   "source": [
    "awards_as = pd.concat([awards_players_career, players['adapt_score']], axis=1)\n",
    "awards_as.dropna(inplace=True)\n",
    "awards_as"
   ]
  },
  {
   "cell_type": "code",
   "execution_count": null,
   "metadata": {
    "collapsed": false
   },
   "outputs": [],
   "source": [
    "ax = sns.regplot(x='adapt_score', y='avg-awards', data=awards_as, scatter_kws={'alpha':0.5})\n",
    "plt.show()"
   ]
  },
  {
   "cell_type": "code",
   "execution_count": null,
   "metadata": {
    "collapsed": false
   },
   "outputs": [],
   "source": [
    "awards_as[['adapt_score','avg-awards']].corr()"
   ]
  },
  {
   "cell_type": "markdown",
   "metadata": {},
   "source": [
    "There is a weak negative correlation between player adaptability score and average awars received."
   ]
  },
  {
   "cell_type": "markdown",
   "metadata": {},
   "source": [
    "##### Player adaptability score vs. All-Star appearacnes:"
   ]
  },
  {
   "cell_type": "code",
   "execution_count": null,
   "metadata": {
    "collapsed": false
   },
   "outputs": [],
   "source": [
    "all_star_as = pd.concat([all_star_career, players['adapt_score']], axis=1)\n",
    "all_star_as.dropna(inplace=True)\n",
    "all_star_as"
   ]
  },
  {
   "cell_type": "code",
   "execution_count": null,
   "metadata": {
    "collapsed": false
   },
   "outputs": [],
   "source": [
    "ax = sns.regplot(x='adapt_score', y='avg-all-star', data=all_star_as, scatter_kws={'alpha':0.5})\n",
    "plt.show()"
   ]
  },
  {
   "cell_type": "code",
   "execution_count": null,
   "metadata": {
    "collapsed": false
   },
   "outputs": [],
   "source": [
    "all_star_as[['adapt_score','avg-all-star']].corr()"
   ]
  },
  {
   "cell_type": "markdown",
   "metadata": {},
   "source": [
    "A slightly more negative correlation between player adaptability score and average All-Star apperances."
   ]
  },
  {
   "cell_type": "markdown",
   "metadata": {},
   "source": [
    "##### Player adaptability score vs. career salary average:"
   ]
  },
  {
   "cell_type": "code",
   "execution_count": null,
   "metadata": {
    "collapsed": false
   },
   "outputs": [],
   "source": [
    "salary_as = pd.concat([salaries_career, players['adapt_score']], axis=1)\n",
    "salary_as.dropna(inplace=True)\n",
    "salary_as"
   ]
  },
  {
   "cell_type": "code",
   "execution_count": null,
   "metadata": {
    "collapsed": false,
    "scrolled": false
   },
   "outputs": [],
   "source": [
    "ax = sns.regplot(x='adapt_score', y='avg-salary-adj', data=salary_as, scatter_kws={'alpha':0.5})\n",
    "plt.show()"
   ]
  },
  {
   "cell_type": "code",
   "execution_count": null,
   "metadata": {
    "collapsed": false
   },
   "outputs": [],
   "source": [
    "salary_as[['adapt_score','avg-salary-adj']].corr()"
   ]
  },
  {
   "cell_type": "markdown",
   "metadata": {
    "collapsed": false
   },
   "source": [
    "Yet an even stronger, but still weak, negative correlation between player adaptabiltiy and average salary."
   ]
  },
  {
   "cell_type": "code",
   "execution_count": null,
   "metadata": {
    "collapsed": true
   },
   "outputs": [],
   "source": []
  },
  {
   "cell_type": "code",
   "execution_count": null,
   "metadata": {
    "collapsed": true
   },
   "outputs": [],
   "source": []
  },
  {
   "cell_type": "code",
   "execution_count": null,
   "metadata": {
    "collapsed": true
   },
   "outputs": [],
   "source": []
  },
  {
   "cell_type": "code",
   "execution_count": null,
   "metadata": {
    "collapsed": true
   },
   "outputs": [],
   "source": []
  },
  {
   "cell_type": "code",
   "execution_count": null,
   "metadata": {
    "collapsed": true
   },
   "outputs": [],
   "source": []
  },
  {
   "cell_type": "code",
   "execution_count": null,
   "metadata": {
    "collapsed": true
   },
   "outputs": [],
   "source": []
  },
  {
   "cell_type": "code",
   "execution_count": null,
   "metadata": {
    "collapsed": true
   },
   "outputs": [],
   "source": []
  },
  {
   "cell_type": "markdown",
   "metadata": {
    "collapsed": true
   },
   "source": [
    "# junk code below - disregard"
   ]
  },
  {
   "cell_type": "code",
   "execution_count": 81,
   "metadata": {
    "collapsed": false
   },
   "outputs": [
    {
     "data": {
      "image/png": "[encoded data removed]",
      "text/plain": [
       "<matplotlib.figure.Figure at 0x11799f5c0>"
      ]
     },
     "metadata": {},
     "output_type": "display_data"
    },
    {
     "data": {
      "image/png": "[encoded data removed]",
      "text/plain": [
       "<matplotlib.figure.Figure at 0x11794b320>"
      ]
     },
     "metadata": {},
     "output_type": "display_data"
    }
   ],
   "source": [
    "# test hist\n",
    "lifetime_ba = salary_ba['lifetime_BA']\n",
    "avg_salary_adj = salary_ba['avg-salary-adj']\n",
    "\n",
    "fig, ax = plt.subplots()\n",
    "fig, ax2 = plt.subplots()\n",
    "\n",
    "sns.distplot(lifetime_ba, ax=ax, kde=False)\n",
    "sns.distplot(avg_salary_adj, ax=ax2, kde=False)\n",
    "plt.show()"
   ]
  },
  {
   "cell_type": "code",
   "execution_count": null,
   "metadata": {
    "collapsed": false
   },
   "outputs": [],
   "source": [
    "# remove anyone with less than 25 games\n",
    "def more_x_games(row):\n",
    "    sum_games = sum(row[4:13])\n",
    "    return sum_games > 249"
   ]
  },
  {
   "cell_type": "code",
   "execution_count": null,
   "metadata": {
    "collapsed": false
   },
   "outputs": [],
   "source": [
    "# remove anyone with less than 25 games\n",
    "players = not_pitchers[not_pitchers.apply(more_x_games, axis=1)]\n",
    "players"
   ]
  },
  {
   "cell_type": "code",
   "execution_count": null,
   "metadata": {
    "collapsed": false
   },
   "outputs": [],
   "source": [
    "# calculate career homerun average\n",
    "batting_career['lifetime_HR'] = round(batting_career['HR']/batting_career['AB'],4)"
   ]
  },
  {
   "cell_type": "markdown",
   "metadata": {},
   "source": [
    "##### Batting-Post"
   ]
  },
  {
   "cell_type": "code",
   "execution_count": null,
   "metadata": {
    "collapsed": false
   },
   "outputs": [],
   "source": [
    "# load original post-season batting table\n",
    "batting_post = load('BattingPost.csv')\n",
    "\n",
    "# group by playerID and sum to find career post-season statistics for each player\n",
    "batting_post_career = batting_post.groupby(batting_post.playerID).sum()\n",
    "\n",
    "# drop yearID field\n",
    "batting_post_career = batting_post_career.drop('yearID',axis=1)\n",
    "\n",
    "# calculate lifetime batting average\n",
    "batting_post_career['lifetime_post_BA'] = round((batting_post_career['H']/batting_post_career['AB']),4)\n",
    "\n",
    "# remove players who never batted (NaN)\n",
    "batting_post_career.dropna(subset=['lifetime_post_BA'], inplace=True)\n",
    "\n",
    "# remove players with fewer than 25 At-Bats\n",
    "batting_post_career = batting_post_career[batting_post_career['AB'] > 25]\n",
    "\n",
    "# fill NaN fields with 0 WHY need this?\n",
    "# batting_post_career.fillna(value=0, inplace=True)\n",
    "\n",
    "# remove anyone from dataframe who is a pitcher or has played less than 25 games\n",
    "batting_post_career = batting_post_career[batting_post_career.index.map(remove_from_df)]\n",
    "\n",
    "batting_post_career"
   ]
  },
  {
   "cell_type": "markdown",
   "metadata": {
    "collapsed": true
   },
   "source": [
    "# LOOK FOR CORRELATIONS - HOMERUNS"
   ]
  },
  {
   "cell_type": "code",
   "execution_count": null,
   "metadata": {
    "collapsed": false
   },
   "outputs": [],
   "source": [
    "awards_hr = pd.concat([awards_players_career, batting_career['lifetime_HR']], axis=1)\n",
    "awards_hr.dropna(inplace=True)\n",
    "awards_hr"
   ]
  },
  {
   "cell_type": "code",
   "execution_count": null,
   "metadata": {
    "collapsed": false
   },
   "outputs": [],
   "source": [
    "ax = sns.regplot(x='lifetime_HR', y='avg-awards', data=awards_hr, scatter_kws={'alpha':0.5})\n",
    "\n",
    "plt.show()"
   ]
  },
  {
   "cell_type": "code",
   "execution_count": null,
   "metadata": {
    "collapsed": false
   },
   "outputs": [],
   "source": [
    "awards_hr[['lifetime_HR','avg-awards']].corr()"
   ]
  },
  {
   "cell_type": "code",
   "execution_count": null,
   "metadata": {
    "collapsed": false
   },
   "outputs": [],
   "source": [
    "all_star_hr = pd.concat([all_star_career, batting_career['lifetime_HR']], axis=1)\n",
    "all_star_hr.dropna(inplace=True)\n",
    "all_star_hr"
   ]
  },
  {
   "cell_type": "code",
   "execution_count": null,
   "metadata": {
    "collapsed": false
   },
   "outputs": [],
   "source": [
    "ax = sns.regplot(x='lifetime_HR', y='avg-all-star', data=all_star_hr, scatter_kws={'alpha':0.5})\n",
    "plt.show()"
   ]
  },
  {
   "cell_type": "code",
   "execution_count": null,
   "metadata": {
    "collapsed": false
   },
   "outputs": [],
   "source": [
    "all_star_hr[['lifetime_HR','avg-all-star']].corr()"
   ]
  },
  {
   "cell_type": "code",
   "execution_count": null,
   "metadata": {
    "collapsed": false
   },
   "outputs": [],
   "source": [
    "salary_hr = pd.concat([salaries_career, batting_career['lifetime_HR']], axis=1)\n",
    "\n",
    "salary_hr.dropna(inplace=True)\n",
    "\n",
    "salary_hr"
   ]
  },
  {
   "cell_type": "code",
   "execution_count": null,
   "metadata": {
    "collapsed": false
   },
   "outputs": [],
   "source": [
    "ax = sns.regplot(x='lifetime_HR', y='avg-salary-adj', data=salary_hr, scatter_kws={'alpha':0.5})\n",
    "plt.show()"
   ]
  },
  {
   "cell_type": "code",
   "execution_count": null,
   "metadata": {
    "collapsed": false
   },
   "outputs": [],
   "source": [
    "salary_hr[['lifetime_HR','avg-salary-adj']].corr()"
   ]
  },
  {
   "cell_type": "code",
   "execution_count": null,
   "metadata": {
    "collapsed": false
   },
   "outputs": [],
   "source": [
    "# test plot\n",
    "# import seaborn as sns\n",
    "# import matplotlib.pyplot as plt\n",
    "\n",
    "# sns.set()\n",
    "# cols = ['H','HR','RBI','GP','awarded']\n",
    "# sns.pairplot(main_df[cols], size=2.5)\n",
    "# plt.show()"
   ]
  }
 ],
 "metadata": {
  "anaconda-cloud": {},
  "kernelspec": {
   "display_name": "Python [conda env:bunnies]",
   "language": "python",
   "name": "conda-env-bunnies-py"
  },
  "language_info": {
   "codemirror_mode": {
    "name": "ipython",
    "version": 3
   },
   "file_extension": ".py",
   "mimetype": "text/x-python",
   "name": "python",
   "nbconvert_exporter": "python",
   "pygments_lexer": "ipython3",
   "version": "3.5.2"
  },
  "latex_envs": {
   "LaTeX_envs_menu_present": true,
   "bibliofile": "biblio.bib",
   "cite_by": "apalike",
   "current_citInitial": 1,
   "eqLabelWithNumbers": true,
   "eqNumInitial": 1,
   "hotkeys": {
    "equation": "Ctrl-E",
    "itemize": "Ctrl-I"
   },
   "labels_anchors": false,
   "latex_user_defs": false,
   "report_style_numbering": false,
   "user_envs_cfg": false
  }
 },
 "nbformat": 4,
 "nbformat_minor": 1
}
