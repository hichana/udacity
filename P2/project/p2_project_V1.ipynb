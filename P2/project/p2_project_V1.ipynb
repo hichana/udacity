{
 "cells": [
  {
   "cell_type": "markdown",
   "metadata": {},
   "source": [
    "# The Lahman Baseball Database Exploratory Data Analysis"
   ]
  },
  {
   "cell_type": "markdown",
   "metadata": {},
   "source": [
    "### Summary:"
   ]
  },
  {
   "cell_type": "markdown",
   "metadata": {
    "collapsed": true
   },
   "source": [
    "The Lahman Baseball Database is a comprehensive record of batting and pitching statistics from 1871 to 2016. It also contains fielding statistics, standings, team stats, managerial records, post-season data, and a number of other data points. Any given investigation of this data set could consume many many hours and would likely uncover a range of interesting findings. Here I will initially focus more narrowly on some general trends related to performance and measures of success. My hope is that an additional, more unique, investigation can be extended from the initial one."
   ]
  },
  {
   "cell_type": "markdown",
   "metadata": {},
   "source": [
    "### INITIAL INVESTIGATION - Exploratory Data Analysis"
   ]
  },
  {
   "cell_type": "markdown",
   "metadata": {},
   "source": [
    "it's hard to argue agaist the notion of hitting being a very important factor in baseball. For the purposes of this investigation it's the low-hanging fruit that I'll investigate first. \n",
    "\n",
    "\n",
    "The most relevant tables from The Lahman Baseball Database are that measure performance and success are:\n",
    "* Regular-season batting statistics (Batting.csv)\n",
    "* Post-season batting statistics (BattingPost.csv)\n",
    "* All-Star appearances (AllstarFull.csv)\n",
    "* Player salary (Salaries.csv)\n",
    "* Awards received (AwardsPlayers.csv)\n",
    "\n",
    "Let's have a look at the tables, starting with the most recent activity from 2016:"
   ]
  },
  {
   "cell_type": "markdown",
   "metadata": {},
   "source": [
    "##### LOAD TABLES:"
   ]
  },
  {
   "cell_type": "code",
   "execution_count": 1,
   "metadata": {
    "collapsed": true
   },
   "outputs": [],
   "source": [
    "# import declarations and settings\n",
    "import pandas as pd\n",
    "pd.set_option('display.max_columns', None)\n",
    "pd.set_option('display.max_rows', 6)"
   ]
  },
  {
   "cell_type": "code",
   "execution_count": 2,
   "metadata": {
    "collapsed": true
   },
   "outputs": [],
   "source": [
    "# a function to make loading tables easier\n",
    "def load(data_file):\n",
    "    return pd.read_csv('supporting-files/baseballdatabank-2017/core/' + data_file)"
   ]
  },
  {
   "cell_type": "markdown",
   "metadata": {},
   "source": [
    "##### Regular Season Batting Statistics"
   ]
  },
  {
   "cell_type": "code",
   "execution_count": 3,
   "metadata": {
    "collapsed": false
   },
   "outputs": [
    {
     "data": {
      "text/html": [
       "<div>\n",
       "<table border=\"1\" class=\"dataframe\">\n",
       "  <thead>\n",
       "    <tr style=\"text-align: right;\">\n",
       "      <th></th>\n",
       "      <th>playerID</th>\n",
       "      <th>yearID</th>\n",
       "      <th>stint</th>\n",
       "      <th>teamID</th>\n",
       "      <th>lgID</th>\n",
       "      <th>G</th>\n",
       "      <th>AB</th>\n",
       "      <th>R</th>\n",
       "      <th>H</th>\n",
       "      <th>2B</th>\n",
       "      <th>3B</th>\n",
       "      <th>HR</th>\n",
       "      <th>RBI</th>\n",
       "      <th>SB</th>\n",
       "      <th>CS</th>\n",
       "      <th>BB</th>\n",
       "      <th>SO</th>\n",
       "      <th>IBB</th>\n",
       "      <th>HBP</th>\n",
       "      <th>SH</th>\n",
       "      <th>SF</th>\n",
       "      <th>GIDP</th>\n",
       "    </tr>\n",
       "  </thead>\n",
       "  <tbody>\n",
       "    <tr>\n",
       "      <th>0</th>\n",
       "      <td>abercda01</td>\n",
       "      <td>1871</td>\n",
       "      <td>1</td>\n",
       "      <td>TRO</td>\n",
       "      <td>NaN</td>\n",
       "      <td>1</td>\n",
       "      <td>4</td>\n",
       "      <td>0</td>\n",
       "      <td>0</td>\n",
       "      <td>0</td>\n",
       "      <td>0</td>\n",
       "      <td>0</td>\n",
       "      <td>0.0</td>\n",
       "      <td>0.0</td>\n",
       "      <td>0.0</td>\n",
       "      <td>0</td>\n",
       "      <td>0.0</td>\n",
       "      <td>NaN</td>\n",
       "      <td>NaN</td>\n",
       "      <td>NaN</td>\n",
       "      <td>NaN</td>\n",
       "      <td>NaN</td>\n",
       "    </tr>\n",
       "    <tr>\n",
       "      <th>1</th>\n",
       "      <td>addybo01</td>\n",
       "      <td>1871</td>\n",
       "      <td>1</td>\n",
       "      <td>RC1</td>\n",
       "      <td>NaN</td>\n",
       "      <td>25</td>\n",
       "      <td>118</td>\n",
       "      <td>30</td>\n",
       "      <td>32</td>\n",
       "      <td>6</td>\n",
       "      <td>0</td>\n",
       "      <td>0</td>\n",
       "      <td>13.0</td>\n",
       "      <td>8.0</td>\n",
       "      <td>1.0</td>\n",
       "      <td>4</td>\n",
       "      <td>0.0</td>\n",
       "      <td>NaN</td>\n",
       "      <td>NaN</td>\n",
       "      <td>NaN</td>\n",
       "      <td>NaN</td>\n",
       "      <td>NaN</td>\n",
       "    </tr>\n",
       "    <tr>\n",
       "      <th>2</th>\n",
       "      <td>allisar01</td>\n",
       "      <td>1871</td>\n",
       "      <td>1</td>\n",
       "      <td>CL1</td>\n",
       "      <td>NaN</td>\n",
       "      <td>29</td>\n",
       "      <td>137</td>\n",
       "      <td>28</td>\n",
       "      <td>40</td>\n",
       "      <td>4</td>\n",
       "      <td>5</td>\n",
       "      <td>0</td>\n",
       "      <td>19.0</td>\n",
       "      <td>3.0</td>\n",
       "      <td>1.0</td>\n",
       "      <td>2</td>\n",
       "      <td>5.0</td>\n",
       "      <td>NaN</td>\n",
       "      <td>NaN</td>\n",
       "      <td>NaN</td>\n",
       "      <td>NaN</td>\n",
       "      <td>NaN</td>\n",
       "    </tr>\n",
       "    <tr>\n",
       "      <th>...</th>\n",
       "      <td>...</td>\n",
       "      <td>...</td>\n",
       "      <td>...</td>\n",
       "      <td>...</td>\n",
       "      <td>...</td>\n",
       "      <td>...</td>\n",
       "      <td>...</td>\n",
       "      <td>...</td>\n",
       "      <td>...</td>\n",
       "      <td>...</td>\n",
       "      <td>...</td>\n",
       "      <td>...</td>\n",
       "      <td>...</td>\n",
       "      <td>...</td>\n",
       "      <td>...</td>\n",
       "      <td>...</td>\n",
       "      <td>...</td>\n",
       "      <td>...</td>\n",
       "      <td>...</td>\n",
       "      <td>...</td>\n",
       "      <td>...</td>\n",
       "      <td>...</td>\n",
       "    </tr>\n",
       "    <tr>\n",
       "      <th>102813</th>\n",
       "      <td>zobribe01</td>\n",
       "      <td>2016</td>\n",
       "      <td>1</td>\n",
       "      <td>CHN</td>\n",
       "      <td>NL</td>\n",
       "      <td>147</td>\n",
       "      <td>523</td>\n",
       "      <td>94</td>\n",
       "      <td>142</td>\n",
       "      <td>31</td>\n",
       "      <td>3</td>\n",
       "      <td>18</td>\n",
       "      <td>76.0</td>\n",
       "      <td>6.0</td>\n",
       "      <td>4.0</td>\n",
       "      <td>96</td>\n",
       "      <td>82.0</td>\n",
       "      <td>6.0</td>\n",
       "      <td>4.0</td>\n",
       "      <td>4.0</td>\n",
       "      <td>4.0</td>\n",
       "      <td>17.0</td>\n",
       "    </tr>\n",
       "    <tr>\n",
       "      <th>102814</th>\n",
       "      <td>zuninmi01</td>\n",
       "      <td>2016</td>\n",
       "      <td>1</td>\n",
       "      <td>SEA</td>\n",
       "      <td>AL</td>\n",
       "      <td>55</td>\n",
       "      <td>164</td>\n",
       "      <td>16</td>\n",
       "      <td>34</td>\n",
       "      <td>7</td>\n",
       "      <td>0</td>\n",
       "      <td>12</td>\n",
       "      <td>31.0</td>\n",
       "      <td>0.0</td>\n",
       "      <td>0.0</td>\n",
       "      <td>21</td>\n",
       "      <td>65.0</td>\n",
       "      <td>0.0</td>\n",
       "      <td>6.0</td>\n",
       "      <td>0.0</td>\n",
       "      <td>1.0</td>\n",
       "      <td>0.0</td>\n",
       "    </tr>\n",
       "    <tr>\n",
       "      <th>102815</th>\n",
       "      <td>zychto01</td>\n",
       "      <td>2016</td>\n",
       "      <td>1</td>\n",
       "      <td>SEA</td>\n",
       "      <td>AL</td>\n",
       "      <td>12</td>\n",
       "      <td>0</td>\n",
       "      <td>0</td>\n",
       "      <td>0</td>\n",
       "      <td>0</td>\n",
       "      <td>0</td>\n",
       "      <td>0</td>\n",
       "      <td>0.0</td>\n",
       "      <td>0.0</td>\n",
       "      <td>0.0</td>\n",
       "      <td>0</td>\n",
       "      <td>0.0</td>\n",
       "      <td>0.0</td>\n",
       "      <td>0.0</td>\n",
       "      <td>0.0</td>\n",
       "      <td>0.0</td>\n",
       "      <td>0.0</td>\n",
       "    </tr>\n",
       "  </tbody>\n",
       "</table>\n",
       "<p>102816 rows × 22 columns</p>\n",
       "</div>"
      ],
      "text/plain": [
       "         playerID  yearID  stint teamID lgID    G   AB   R    H  2B  3B  HR  \\\n",
       "0       abercda01    1871      1    TRO  NaN    1    4   0    0   0   0   0   \n",
       "1        addybo01    1871      1    RC1  NaN   25  118  30   32   6   0   0   \n",
       "2       allisar01    1871      1    CL1  NaN   29  137  28   40   4   5   0   \n",
       "...           ...     ...    ...    ...  ...  ...  ...  ..  ...  ..  ..  ..   \n",
       "102813  zobribe01    2016      1    CHN   NL  147  523  94  142  31   3  18   \n",
       "102814  zuninmi01    2016      1    SEA   AL   55  164  16   34   7   0  12   \n",
       "102815   zychto01    2016      1    SEA   AL   12    0   0    0   0   0   0   \n",
       "\n",
       "         RBI   SB   CS  BB    SO  IBB  HBP   SH   SF  GIDP  \n",
       "0        0.0  0.0  0.0   0   0.0  NaN  NaN  NaN  NaN   NaN  \n",
       "1       13.0  8.0  1.0   4   0.0  NaN  NaN  NaN  NaN   NaN  \n",
       "2       19.0  3.0  1.0   2   5.0  NaN  NaN  NaN  NaN   NaN  \n",
       "...      ...  ...  ...  ..   ...  ...  ...  ...  ...   ...  \n",
       "102813  76.0  6.0  4.0  96  82.0  6.0  4.0  4.0  4.0  17.0  \n",
       "102814  31.0  0.0  0.0  21  65.0  0.0  6.0  0.0  1.0   0.0  \n",
       "102815   0.0  0.0  0.0   0   0.0  0.0  0.0  0.0  0.0   0.0  \n",
       "\n",
       "[102816 rows x 22 columns]"
      ]
     },
     "execution_count": 3,
     "metadata": {},
     "output_type": "execute_result"
    }
   ],
   "source": [
    "batting = load('Batting.csv')\n",
    "batting"
   ]
  },
  {
   "cell_type": "markdown",
   "metadata": {},
   "source": [
    "#### Post Season Batting Statistics"
   ]
  },
  {
   "cell_type": "code",
   "execution_count": 4,
   "metadata": {
    "collapsed": false
   },
   "outputs": [
    {
     "data": {
      "text/html": [
       "<div>\n",
       "<table border=\"1\" class=\"dataframe\">\n",
       "  <thead>\n",
       "    <tr style=\"text-align: right;\">\n",
       "      <th></th>\n",
       "      <th>yearID</th>\n",
       "      <th>round</th>\n",
       "      <th>playerID</th>\n",
       "      <th>teamID</th>\n",
       "      <th>lgID</th>\n",
       "      <th>G</th>\n",
       "      <th>AB</th>\n",
       "      <th>R</th>\n",
       "      <th>H</th>\n",
       "      <th>2B</th>\n",
       "      <th>3B</th>\n",
       "      <th>HR</th>\n",
       "      <th>RBI</th>\n",
       "      <th>SB</th>\n",
       "      <th>CS</th>\n",
       "      <th>BB</th>\n",
       "      <th>SO</th>\n",
       "      <th>IBB</th>\n",
       "      <th>HBP</th>\n",
       "      <th>SH</th>\n",
       "      <th>SF</th>\n",
       "      <th>GIDP</th>\n",
       "    </tr>\n",
       "  </thead>\n",
       "  <tbody>\n",
       "    <tr>\n",
       "      <th>0</th>\n",
       "      <td>1884</td>\n",
       "      <td>WS</td>\n",
       "      <td>becanbu01</td>\n",
       "      <td>NY4</td>\n",
       "      <td>AA</td>\n",
       "      <td>1</td>\n",
       "      <td>2</td>\n",
       "      <td>0</td>\n",
       "      <td>1</td>\n",
       "      <td>0</td>\n",
       "      <td>0</td>\n",
       "      <td>0</td>\n",
       "      <td>0</td>\n",
       "      <td>0</td>\n",
       "      <td>NaN</td>\n",
       "      <td>0</td>\n",
       "      <td>0</td>\n",
       "      <td>0</td>\n",
       "      <td>NaN</td>\n",
       "      <td>NaN</td>\n",
       "      <td>NaN</td>\n",
       "      <td>NaN</td>\n",
       "    </tr>\n",
       "    <tr>\n",
       "      <th>1</th>\n",
       "      <td>1884</td>\n",
       "      <td>WS</td>\n",
       "      <td>bradyst01</td>\n",
       "      <td>NY4</td>\n",
       "      <td>AA</td>\n",
       "      <td>3</td>\n",
       "      <td>10</td>\n",
       "      <td>1</td>\n",
       "      <td>0</td>\n",
       "      <td>0</td>\n",
       "      <td>0</td>\n",
       "      <td>0</td>\n",
       "      <td>0</td>\n",
       "      <td>0</td>\n",
       "      <td>NaN</td>\n",
       "      <td>0</td>\n",
       "      <td>1</td>\n",
       "      <td>0</td>\n",
       "      <td>NaN</td>\n",
       "      <td>NaN</td>\n",
       "      <td>NaN</td>\n",
       "      <td>NaN</td>\n",
       "    </tr>\n",
       "    <tr>\n",
       "      <th>2</th>\n",
       "      <td>1884</td>\n",
       "      <td>WS</td>\n",
       "      <td>carrocl01</td>\n",
       "      <td>PRO</td>\n",
       "      <td>NL</td>\n",
       "      <td>3</td>\n",
       "      <td>10</td>\n",
       "      <td>2</td>\n",
       "      <td>1</td>\n",
       "      <td>0</td>\n",
       "      <td>0</td>\n",
       "      <td>0</td>\n",
       "      <td>1</td>\n",
       "      <td>0</td>\n",
       "      <td>NaN</td>\n",
       "      <td>1</td>\n",
       "      <td>1</td>\n",
       "      <td>0</td>\n",
       "      <td>NaN</td>\n",
       "      <td>NaN</td>\n",
       "      <td>NaN</td>\n",
       "      <td>NaN</td>\n",
       "    </tr>\n",
       "    <tr>\n",
       "      <th>...</th>\n",
       "      <td>...</td>\n",
       "      <td>...</td>\n",
       "      <td>...</td>\n",
       "      <td>...</td>\n",
       "      <td>...</td>\n",
       "      <td>...</td>\n",
       "      <td>...</td>\n",
       "      <td>...</td>\n",
       "      <td>...</td>\n",
       "      <td>...</td>\n",
       "      <td>...</td>\n",
       "      <td>...</td>\n",
       "      <td>...</td>\n",
       "      <td>...</td>\n",
       "      <td>...</td>\n",
       "      <td>...</td>\n",
       "      <td>...</td>\n",
       "      <td>...</td>\n",
       "      <td>...</td>\n",
       "      <td>...</td>\n",
       "      <td>...</td>\n",
       "      <td>...</td>\n",
       "    </tr>\n",
       "    <tr>\n",
       "      <th>13540</th>\n",
       "      <td>2016</td>\n",
       "      <td>NLCS</td>\n",
       "      <td>zobribe01</td>\n",
       "      <td>CHN</td>\n",
       "      <td>NL</td>\n",
       "      <td>6</td>\n",
       "      <td>20</td>\n",
       "      <td>3</td>\n",
       "      <td>3</td>\n",
       "      <td>1</td>\n",
       "      <td>0</td>\n",
       "      <td>0</td>\n",
       "      <td>1</td>\n",
       "      <td>0</td>\n",
       "      <td>0.0</td>\n",
       "      <td>4</td>\n",
       "      <td>3</td>\n",
       "      <td>0</td>\n",
       "      <td>0.0</td>\n",
       "      <td>0.0</td>\n",
       "      <td>1.0</td>\n",
       "      <td>0.0</td>\n",
       "    </tr>\n",
       "    <tr>\n",
       "      <th>13541</th>\n",
       "      <td>2016</td>\n",
       "      <td>NLDS1</td>\n",
       "      <td>zobribe01</td>\n",
       "      <td>CHN</td>\n",
       "      <td>NL</td>\n",
       "      <td>4</td>\n",
       "      <td>16</td>\n",
       "      <td>1</td>\n",
       "      <td>3</td>\n",
       "      <td>2</td>\n",
       "      <td>0</td>\n",
       "      <td>0</td>\n",
       "      <td>2</td>\n",
       "      <td>0</td>\n",
       "      <td>0.0</td>\n",
       "      <td>0</td>\n",
       "      <td>4</td>\n",
       "      <td>0</td>\n",
       "      <td>0.0</td>\n",
       "      <td>0.0</td>\n",
       "      <td>0.0</td>\n",
       "      <td>0.0</td>\n",
       "    </tr>\n",
       "    <tr>\n",
       "      <th>13542</th>\n",
       "      <td>2016</td>\n",
       "      <td>WS</td>\n",
       "      <td>zobribe01</td>\n",
       "      <td>CHN</td>\n",
       "      <td>NL</td>\n",
       "      <td>7</td>\n",
       "      <td>28</td>\n",
       "      <td>5</td>\n",
       "      <td>10</td>\n",
       "      <td>2</td>\n",
       "      <td>1</td>\n",
       "      <td>0</td>\n",
       "      <td>2</td>\n",
       "      <td>0</td>\n",
       "      <td>0.0</td>\n",
       "      <td>3</td>\n",
       "      <td>4</td>\n",
       "      <td>0</td>\n",
       "      <td>0.0</td>\n",
       "      <td>0.0</td>\n",
       "      <td>0.0</td>\n",
       "      <td>0.0</td>\n",
       "    </tr>\n",
       "  </tbody>\n",
       "</table>\n",
       "<p>13543 rows × 22 columns</p>\n",
       "</div>"
      ],
      "text/plain": [
       "       yearID  round   playerID teamID lgID  G  AB  R   H  2B  3B  HR  RBI  \\\n",
       "0        1884     WS  becanbu01    NY4   AA  1   2  0   1   0   0   0    0   \n",
       "1        1884     WS  bradyst01    NY4   AA  3  10  1   0   0   0   0    0   \n",
       "2        1884     WS  carrocl01    PRO   NL  3  10  2   1   0   0   0    1   \n",
       "...       ...    ...        ...    ...  ... ..  .. ..  ..  ..  ..  ..  ...   \n",
       "13540    2016   NLCS  zobribe01    CHN   NL  6  20  3   3   1   0   0    1   \n",
       "13541    2016  NLDS1  zobribe01    CHN   NL  4  16  1   3   2   0   0    2   \n",
       "13542    2016     WS  zobribe01    CHN   NL  7  28  5  10   2   1   0    2   \n",
       "\n",
       "       SB   CS  BB  SO  IBB  HBP   SH   SF  GIDP  \n",
       "0       0  NaN   0   0    0  NaN  NaN  NaN   NaN  \n",
       "1       0  NaN   0   1    0  NaN  NaN  NaN   NaN  \n",
       "2       0  NaN   1   1    0  NaN  NaN  NaN   NaN  \n",
       "...    ..  ...  ..  ..  ...  ...  ...  ...   ...  \n",
       "13540   0  0.0   4   3    0  0.0  0.0  1.0   0.0  \n",
       "13541   0  0.0   0   4    0  0.0  0.0  0.0   0.0  \n",
       "13542   0  0.0   3   4    0  0.0  0.0  0.0   0.0  \n",
       "\n",
       "[13543 rows x 22 columns]"
      ]
     },
     "execution_count": 4,
     "metadata": {},
     "output_type": "execute_result"
    }
   ],
   "source": [
    "batting_post = load('BattingPost.csv')\n",
    "batting_post"
   ]
  },
  {
   "cell_type": "markdown",
   "metadata": {},
   "source": [
    "##### All-Star Appearances"
   ]
  },
  {
   "cell_type": "code",
   "execution_count": 5,
   "metadata": {
    "collapsed": false
   },
   "outputs": [
    {
     "data": {
      "text/html": [
       "<div>\n",
       "<table border=\"1\" class=\"dataframe\">\n",
       "  <thead>\n",
       "    <tr style=\"text-align: right;\">\n",
       "      <th></th>\n",
       "      <th>playerID</th>\n",
       "      <th>yearID</th>\n",
       "      <th>gameNum</th>\n",
       "      <th>gameID</th>\n",
       "      <th>teamID</th>\n",
       "      <th>lgID</th>\n",
       "      <th>GP</th>\n",
       "      <th>startingPos</th>\n",
       "    </tr>\n",
       "  </thead>\n",
       "  <tbody>\n",
       "    <tr>\n",
       "      <th>0</th>\n",
       "      <td>gomezle01</td>\n",
       "      <td>1933</td>\n",
       "      <td>0</td>\n",
       "      <td>ALS193307060</td>\n",
       "      <td>NYA</td>\n",
       "      <td>AL</td>\n",
       "      <td>1.0</td>\n",
       "      <td>1.0</td>\n",
       "    </tr>\n",
       "    <tr>\n",
       "      <th>1</th>\n",
       "      <td>ferreri01</td>\n",
       "      <td>1933</td>\n",
       "      <td>0</td>\n",
       "      <td>ALS193307060</td>\n",
       "      <td>BOS</td>\n",
       "      <td>AL</td>\n",
       "      <td>1.0</td>\n",
       "      <td>2.0</td>\n",
       "    </tr>\n",
       "    <tr>\n",
       "      <th>2</th>\n",
       "      <td>gehrilo01</td>\n",
       "      <td>1933</td>\n",
       "      <td>0</td>\n",
       "      <td>ALS193307060</td>\n",
       "      <td>NYA</td>\n",
       "      <td>AL</td>\n",
       "      <td>1.0</td>\n",
       "      <td>3.0</td>\n",
       "    </tr>\n",
       "    <tr>\n",
       "      <th>...</th>\n",
       "      <td>...</td>\n",
       "      <td>...</td>\n",
       "      <td>...</td>\n",
       "      <td>...</td>\n",
       "      <td>...</td>\n",
       "      <td>...</td>\n",
       "      <td>...</td>\n",
       "      <td>...</td>\n",
       "    </tr>\n",
       "    <tr>\n",
       "      <th>5145</th>\n",
       "      <td>syndeno01</td>\n",
       "      <td>2016</td>\n",
       "      <td>0</td>\n",
       "      <td>ALS201607120</td>\n",
       "      <td>NYN</td>\n",
       "      <td>NL</td>\n",
       "      <td>0.0</td>\n",
       "      <td>NaN</td>\n",
       "    </tr>\n",
       "    <tr>\n",
       "      <th>5146</th>\n",
       "      <td>teherju01</td>\n",
       "      <td>2016</td>\n",
       "      <td>0</td>\n",
       "      <td>ALS201607120</td>\n",
       "      <td>ATL</td>\n",
       "      <td>NL</td>\n",
       "      <td>1.0</td>\n",
       "      <td>NaN</td>\n",
       "    </tr>\n",
       "    <tr>\n",
       "      <th>5147</th>\n",
       "      <td>zobribe01</td>\n",
       "      <td>2016</td>\n",
       "      <td>0</td>\n",
       "      <td>ALS201607120</td>\n",
       "      <td>CHN</td>\n",
       "      <td>NL</td>\n",
       "      <td>1.0</td>\n",
       "      <td>4.0</td>\n",
       "    </tr>\n",
       "  </tbody>\n",
       "</table>\n",
       "<p>5148 rows × 8 columns</p>\n",
       "</div>"
      ],
      "text/plain": [
       "       playerID  yearID  gameNum        gameID teamID lgID   GP  startingPos\n",
       "0     gomezle01    1933        0  ALS193307060    NYA   AL  1.0          1.0\n",
       "1     ferreri01    1933        0  ALS193307060    BOS   AL  1.0          2.0\n",
       "2     gehrilo01    1933        0  ALS193307060    NYA   AL  1.0          3.0\n",
       "...         ...     ...      ...           ...    ...  ...  ...          ...\n",
       "5145  syndeno01    2016        0  ALS201607120    NYN   NL  0.0          NaN\n",
       "5146  teherju01    2016        0  ALS201607120    ATL   NL  1.0          NaN\n",
       "5147  zobribe01    2016        0  ALS201607120    CHN   NL  1.0          4.0\n",
       "\n",
       "[5148 rows x 8 columns]"
      ]
     },
     "execution_count": 5,
     "metadata": {},
     "output_type": "execute_result"
    }
   ],
   "source": [
    "all_star = load('AllstarFull.csv')\n",
    "all_star"
   ]
  },
  {
   "cell_type": "markdown",
   "metadata": {},
   "source": [
    "##### Player salary\n",
    "Note, I've adjusted for inflation using the United States Bureau of Labor Statistics' Consumer Price Index historical data. Each salary was adjusted to the 2016 annual average."
   ]
  },
  {
   "cell_type": "code",
   "execution_count": 7,
   "metadata": {
    "collapsed": false
   },
   "outputs": [
    {
     "data": {
      "text/html": [
       "<div>\n",
       "<table border=\"1\" class=\"dataframe\">\n",
       "  <thead>\n",
       "    <tr style=\"text-align: right;\">\n",
       "      <th></th>\n",
       "      <th>yearID</th>\n",
       "      <th>teamID</th>\n",
       "      <th>lgID</th>\n",
       "      <th>playerID</th>\n",
       "      <th>salary</th>\n",
       "      <th>adjusted</th>\n",
       "    </tr>\n",
       "  </thead>\n",
       "  <tbody>\n",
       "    <tr>\n",
       "      <th>0</th>\n",
       "      <td>1985</td>\n",
       "      <td>ATL</td>\n",
       "      <td>NL</td>\n",
       "      <td>barkele01</td>\n",
       "      <td>870000</td>\n",
       "      <td>1940577</td>\n",
       "    </tr>\n",
       "    <tr>\n",
       "      <th>1</th>\n",
       "      <td>1985</td>\n",
       "      <td>ATL</td>\n",
       "      <td>NL</td>\n",
       "      <td>bedrost01</td>\n",
       "      <td>550000</td>\n",
       "      <td>1226802</td>\n",
       "    </tr>\n",
       "    <tr>\n",
       "      <th>2</th>\n",
       "      <td>1985</td>\n",
       "      <td>ATL</td>\n",
       "      <td>NL</td>\n",
       "      <td>benedbr01</td>\n",
       "      <td>545000</td>\n",
       "      <td>1215649</td>\n",
       "    </tr>\n",
       "    <tr>\n",
       "      <th>...</th>\n",
       "      <td>...</td>\n",
       "      <td>...</td>\n",
       "      <td>...</td>\n",
       "      <td>...</td>\n",
       "      <td>...</td>\n",
       "      <td>...</td>\n",
       "    </tr>\n",
       "    <tr>\n",
       "      <th>26425</th>\n",
       "      <td>2016</td>\n",
       "      <td>WSN</td>\n",
       "      <td>NL</td>\n",
       "      <td>treinbl01</td>\n",
       "      <td>524900</td>\n",
       "      <td>524900</td>\n",
       "    </tr>\n",
       "    <tr>\n",
       "      <th>26426</th>\n",
       "      <td>2016</td>\n",
       "      <td>WSN</td>\n",
       "      <td>NL</td>\n",
       "      <td>werthja01</td>\n",
       "      <td>21733615</td>\n",
       "      <td>21733615</td>\n",
       "    </tr>\n",
       "    <tr>\n",
       "      <th>26427</th>\n",
       "      <td>2016</td>\n",
       "      <td>WSN</td>\n",
       "      <td>NL</td>\n",
       "      <td>zimmery01</td>\n",
       "      <td>14000000</td>\n",
       "      <td>14000000</td>\n",
       "    </tr>\n",
       "  </tbody>\n",
       "</table>\n",
       "<p>26428 rows × 6 columns</p>\n",
       "</div>"
      ],
      "text/plain": [
       "       yearID teamID lgID   playerID    salary  adjusted\n",
       "0        1985    ATL   NL  barkele01    870000   1940577\n",
       "1        1985    ATL   NL  bedrost01    550000   1226802\n",
       "2        1985    ATL   NL  benedbr01    545000   1215649\n",
       "...       ...    ...  ...        ...       ...       ...\n",
       "26425    2016    WSN   NL  treinbl01    524900    524900\n",
       "26426    2016    WSN   NL  werthja01  21733615  21733615\n",
       "26427    2016    WSN   NL  zimmery01  14000000  14000000\n",
       "\n",
       "[26428 rows x 6 columns]"
      ]
     },
     "execution_count": 7,
     "metadata": {},
     "output_type": "execute_result"
    }
   ],
   "source": [
    "# load the salaries and cpi dataframes\n",
    "salaries = load('Salaries.csv')\n",
    "cpi = load('consumer_price_index.csv')\n",
    "\n",
    "# lambda function queries the cpi dataframe to find a value corresponding to a year\n",
    "cpi_val = lambda x: float(cpi.loc[cpi['Year'] == x, 'Annual-Avg'].values[0])\n",
    "\n",
    "# vectorized operation to create 'adjusted' column and compute adjusted salary using lambda function\n",
    "salaries['adjusted'] = (240.007 * salaries['salary']) / salaries['yearID'].apply(cpi_val)\n",
    "\n",
    "# setting to supress scientific notation in the dataframe\n",
    "pd.set_option('display.float_format', lambda x: '%.0f' % x)\n",
    "\n",
    "salaries"
   ]
  },
  {
   "cell_type": "markdown",
   "metadata": {},
   "source": [
    "##### Awards Received"
   ]
  },
  {
   "cell_type": "code",
   "execution_count": null,
   "metadata": {
    "collapsed": false
   },
   "outputs": [],
   "source": [
    "award_players = load('AwardsPlayers.csv')\n",
    "award_players"
   ]
  },
  {
   "cell_type": "markdown",
   "metadata": {},
   "source": [
    "Some initial obserations and notes:\n",
    "* Post-season batting statistics for all field players, except pitchers, will be the primary measure of performance. Fielding statistics would have been a useful measure as well, however the fielding data here is not comprehensive  or well structured enough to be helpful for this exploration.\n",
    "* Limited to regular season\n",
    "* All-Star participation, awards received and salary will be the measures of success.\n",
    "* Measures of performance will be computed/normalized over the career of a given player.\n"
   ]
  },
  {
   "cell_type": "markdown",
   "metadata": {},
   "source": [
    "# TEST: Clean, align and scatter plot"
   ]
  },
  {
   "cell_type": "code",
   "execution_count": null,
   "metadata": {
    "collapsed": false
   },
   "outputs": [],
   "source": [
    "# compute career batting statistics\n",
    "batting_career = batting.groupby(batting.playerID).sum()\n",
    "\n",
    "# calculate lifetime batting average\n",
    "batting_career['lifetime_ba'] = round((batting_career['H']/batting_career['AB']),4)\n",
    "\n",
    "# fillna\n",
    "batting_career.fillna(value=0, inplace=True)\n",
    "\n",
    "# drop yearID field\n",
    "batting_career = batting_career.drop('yearID',axis=1)\n",
    "batting_career"
   ]
  },
  {
   "cell_type": "code",
   "execution_count": null,
   "metadata": {
    "collapsed": false
   },
   "outputs": [],
   "source": [
    "# compute career all-star appearances\n",
    "all_star_career = all_star.groupby(all_star.playerID).sum()\n",
    "\n",
    "# drop yearID, gameNum and startingPos\n",
    "all_star_career = all_star_career.drop(['yearID','gameNum','startingPos'],axis=1)\n",
    "all_star_career\n",
    "\n",
    "# Hank Aaron should be 25"
   ]
  },
  {
   "cell_type": "code",
   "execution_count": null,
   "metadata": {
    "collapsed": true
   },
   "outputs": [],
   "source": [
    "# omit salary until figure out how to adjust for inflation"
   ]
  },
  {
   "cell_type": "code",
   "execution_count": null,
   "metadata": {
    "collapsed": false
   },
   "outputs": [],
   "source": [
    "# compute total awards\n",
    "award_players['awarded'] = 1\n",
    "awards_players_career = award_players.groupby(award_players.playerID).sum()\n",
    "\n",
    "# drop yearID\n",
    "awards_players_career = awards_players_career.drop('yearID', axis=1)\n",
    "awards_players_career"
   ]
  },
  {
   "cell_type": "code",
   "execution_count": null,
   "metadata": {
    "collapsed": false
   },
   "outputs": [],
   "source": [
    "# concatenate the tables\n",
    "main_df = pd.concat([batting_career,all_star_career,awards_players_career], axis=1)\n",
    "\n",
    "# fill NaN with 0.0\n",
    "main_df.fillna(value=0, inplace=True)\n",
    "main_df"
   ]
  },
  {
   "cell_type": "code",
   "execution_count": null,
   "metadata": {
    "collapsed": false
   },
   "outputs": [],
   "source": [
    "# test plot\n",
    "import seaborn as sns\n",
    "import matplotlib.pyplot as plt\n",
    "\n",
    "sns.set()\n",
    "cols = ['H','HR','RBI','GP','awarded']\n",
    "sns.pairplot(main_df[cols], size=2.5)\n",
    "plt.show()"
   ]
  },
  {
   "cell_type": "markdown",
   "metadata": {},
   "source": [
    "# Adaptability score"
   ]
  },
  {
   "cell_type": "code",
   "execution_count": null,
   "metadata": {
    "collapsed": false
   },
   "outputs": [],
   "source": [
    "# load data\n",
    "appearances_full = pd.read_csv('supporting-files/baseballdatabank-2017/core/Appearances.csv')\n",
    "appearances_full"
   ]
  },
  {
   "cell_type": "code",
   "execution_count": null,
   "metadata": {
    "collapsed": false
   },
   "outputs": [],
   "source": [
    "# collapse and sum by player ID\n",
    "appearances = appearances_full.groupby(appearances_full.playerID).sum()\n",
    "\n",
    "\n",
    "\n",
    "# drop yearID column\n",
    "appearances = appearances.drop('yearID', axis=1)\n",
    "appearances"
   ]
  },
  {
   "cell_type": "code",
   "execution_count": null,
   "metadata": {
    "collapsed": false
   },
   "outputs": [],
   "source": [
    "# create player position adaptability score\n",
    "positions = ['G_p','G_c','G_1b','G_2b','G_3b','G_ss','G_lf','G_cf','G_rf']\n",
    "appearances['adapt_score'] = 3 - round((appearances[positions].std(axis=1, ddof=1)/appearances[positions].mean(axis=1)),4)\n",
    "\n",
    "\n",
    "\n",
    "# total apperances\n",
    "appearances"
   ]
  },
  {
   "cell_type": "code",
   "execution_count": null,
   "metadata": {
    "collapsed": false
   },
   "outputs": [],
   "source": [
    "# remove any players who never made on-field appearances\n",
    "appearances.dropna(subset=['adapt_score'], inplace=True)\n",
    "appearances"
   ]
  },
  {
   "cell_type": "code",
   "execution_count": null,
   "metadata": {
    "collapsed": false
   },
   "outputs": [],
   "source": [
    "# check again for adaptabilty scores that were not computed\n",
    "rows_count = len(appearances.index)\n",
    "adapt_nan = appearances['adapt_score'].isnull().sum()\n",
    "print(\"Rows in the table: %s\" %rows_count)\n",
    "print(\"Player position adaptability scores not computed: %s\" %adapt_nan)"
   ]
  },
  {
   "cell_type": "code",
   "execution_count": null,
   "metadata": {
    "collapsed": false
   },
   "outputs": [],
   "source": [
    "appearances['adapt_score']"
   ]
  },
  {
   "cell_type": "code",
   "execution_count": null,
   "metadata": {
    "collapsed": false
   },
   "outputs": [],
   "source": [
    "main_df"
   ]
  },
  {
   "cell_type": "code",
   "execution_count": null,
   "metadata": {
    "collapsed": false
   },
   "outputs": [],
   "source": [
    "new_df = pd.concat([main_df, appearances['adapt_score']], axis=1)\n",
    "new_df"
   ]
  },
  {
   "cell_type": "code",
   "execution_count": null,
   "metadata": {
    "collapsed": true
   },
   "outputs": [],
   "source": [
    "new_df.dropna(subset=['adapt_score'], inplace=True)"
   ]
  },
  {
   "cell_type": "code",
   "execution_count": null,
   "metadata": {
    "collapsed": false
   },
   "outputs": [],
   "source": [
    "sns.set()\n",
    "cols = ['H','HR','RBI','GP','awarded', 'adapt_score','lifetime_ba']\n",
    "sns.pairplot(new_df[cols], size=2.5)\n",
    "plt.show()"
   ]
  },
  {
   "cell_type": "code",
   "execution_count": null,
   "metadata": {
    "collapsed": true
   },
   "outputs": [],
   "source": []
  },
  {
   "cell_type": "markdown",
   "metadata": {},
   "source": [
    "I want to align these tables so that a player's career post-season batting statistics line up \n",
    "\n",
    "\n",
    "Things that stand out from looking at these data:\n",
    "* the 'playerID' field is the stand-out identifier that is present in each table\n",
    "* a player's measurements (number of hits in a given year for example) span multiple years and will \n",
    "\n",
    "If I could pull one measure from each table, it would be:\n",
    "* Calculate career hits from the Batting Table: Getting a hit is probably the most reasonable measure of hitting ability.\n",
    "* Number of times the player was sent to the All-Star game from the All-Star Table\n",
    "* Average career salary from the Salary Table\n",
    "\n",
    "Combine these two\n",
    "* Number of awards received from the AwardPlayers Table\n",
    "* Number of awards shared from the AwardSharePlayers Table\n",
    "\n",
    "One challenge with aligning these measurements from their respective tables is... So I'll have to collapse and average data where appropriate."
   ]
  },
  {
   "cell_type": "markdown",
   "metadata": {},
   "source": [
    "##### Calculate career hits"
   ]
  }
 ],
 "metadata": {
  "anaconda-cloud": {},
  "kernelspec": {
   "display_name": "Python [conda env:bunnies]",
   "language": "python",
   "name": "conda-env-bunnies-py"
  },
  "language_info": {
   "codemirror_mode": {
    "name": "ipython",
    "version": 3
   },
   "file_extension": ".py",
   "mimetype": "text/x-python",
   "name": "python",
   "nbconvert_exporter": "python",
   "pygments_lexer": "ipython3",
   "version": "3.5.2"
  },
  "latex_envs": {
   "LaTeX_envs_menu_present": true,
   "bibliofile": "biblio.bib",
   "cite_by": "apalike",
   "current_citInitial": 1,
   "eqLabelWithNumbers": true,
   "eqNumInitial": 1,
   "hotkeys": {
    "equation": "Ctrl-E",
    "itemize": "Ctrl-I"
   },
   "labels_anchors": false,
   "latex_user_defs": false,
   "report_style_numbering": false,
   "user_envs_cfg": false
  }
 },
 "nbformat": 4,
 "nbformat_minor": 1
}
