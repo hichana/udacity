{
 "cells": [
  {
   "cell_type": "code",
   "execution_count": null,
   "metadata": {
    "collapsed": true
   },
   "outputs": [],
   "source": [
    "\"\"\"Notes from Project Description\"\"\"\n",
    "# Standard deck of 52 cards, 13 cards in each of 4 suits\n",
    "# value is assigned to each card\n",
    "    # Ace = 1\n",
    "    # 2-10\n",
    "    # Jack, Queen, King = 10"
   ]
  },
  {
   "cell_type": "markdown",
   "metadata": {},
   "source": [
    "### Q1: A histogram is provided that accurately reflects the card values’ relative frequency distribution."
   ]
  },
  {
   "cell_type": "code",
   "execution_count": 186,
   "metadata": {
    "scrolled": true
   },
   "outputs": [
    {
     "data": {
      "text/plain": [
       "[1,\n",
       " 1,\n",
       " 1,\n",
       " 1,\n",
       " 2,\n",
       " 2,\n",
       " 2,\n",
       " 2,\n",
       " 3,\n",
       " 3,\n",
       " 3,\n",
       " 3,\n",
       " 4,\n",
       " 4,\n",
       " 4,\n",
       " 4,\n",
       " 5,\n",
       " 5,\n",
       " 5,\n",
       " 5,\n",
       " 6,\n",
       " 6,\n",
       " 6,\n",
       " 6,\n",
       " 7,\n",
       " 7,\n",
       " 7,\n",
       " 7,\n",
       " 8,\n",
       " 8,\n",
       " 8,\n",
       " 8,\n",
       " 9,\n",
       " 9,\n",
       " 9,\n",
       " 9,\n",
       " 10,\n",
       " 10,\n",
       " 10,\n",
       " 10,\n",
       " 10,\n",
       " 10,\n",
       " 10,\n",
       " 10,\n",
       " 10,\n",
       " 10,\n",
       " 10,\n",
       " 10,\n",
       " 10,\n",
       " 10,\n",
       " 10,\n",
       " 10]"
      ]
     },
     "execution_count": 186,
     "metadata": {},
     "output_type": "execute_result"
    }
   ],
   "source": [
    "\"\"\"Make list of 52 values from deck of cards\"\"\"\n",
    "value_freq_map = {1:4,2:4,3:4,4:4,5:4,6:4,7:4,8:4,9:4,10:16}\n",
    "\n",
    "def make_values_list(dict):\n",
    "    values_list = []\n",
    "    for key, value in dict.items():\n",
    "        for i in range(value):\n",
    "            values_list.append(key)\n",
    "    return values_list \n",
    "        \n",
    "all_values = make_values_list(value_freq_map)\n",
    "all_values"
   ]
  },
  {
   "cell_type": "code",
   "execution_count": 187,
   "metadata": {},
   "outputs": [
    {
     "data": {
      "image/png": "[encoded data removed]",
      "text/plain": [
       "<matplotlib.figure.Figure at 0x1190200f0>"
      ]
     },
     "metadata": {},
     "output_type": "display_data"
    }
   ],
   "source": [
    "\"\"\"Plot list in histogram\"\"\"\n",
    "import seaborn as sns\n",
    "import matplotlib.pyplot as plt\n",
    "\n",
    "fig, ax = plt.subplots()\n",
    "\n",
    "sns.distplot(all_values, bins=10, hist_kws={\"range\":(0.5,10.5)}, ax=ax, kde=False)\n",
    "\n",
    "ax.set_title(\"Card Values Frequency Chart\")\n",
    "ax.set_ylabel(\"Frequency\")\n",
    "ax.set_xlabel(\"Card Value\")\n",
    "plt.xticks(range(11))\n",
    "plt.show()"
   ]
  },
  {
   "cell_type": "code",
   "execution_count": 188,
   "metadata": {},
   "outputs": [],
   "source": [
    "# mean\n",
    "import statistics as stats\n",
    "\n",
    "dist_mean = stats.mean(all_values)"
   ]
  },
  {
   "cell_type": "code",
   "execution_count": 189,
   "metadata": {},
   "outputs": [
    {
     "data": {
      "text/plain": [
       "7.0"
      ]
     },
     "execution_count": 189,
     "metadata": {},
     "output_type": "execute_result"
    }
   ],
   "source": [
    "# median\n",
    "dist_median = stats.median(all_values)\n",
    "dist_median"
   ]
  },
  {
   "cell_type": "code",
   "execution_count": 190,
   "metadata": {},
   "outputs": [
    {
     "data": {
      "text/plain": [
       "3.1836687337621736"
      ]
     },
     "execution_count": 190,
     "metadata": {},
     "output_type": "execute_result"
    }
   ],
   "source": [
    "# stdev\n",
    "dist_stdev = stats.stdev(all_values)\n",
    "dist_stdev"
   ]
  },
  {
   "cell_type": "markdown",
   "metadata": {},
   "source": [
    "### Q2: At least thirty samples have been performed and the summed values from each sample have been reported in a supplemental file."
   ]
  },
  {
   "cell_type": "code",
   "execution_count": 224,
   "metadata": {
    "scrolled": true
   },
   "outputs": [
    {
     "data": {
      "text/plain": [
       "[['4D', '6S', 'JC'],\n",
       " ['10C', '8H', '9D'],\n",
       " ['4S', '9S', '7D'],\n",
       " ['4D', '9S', 'QC'],\n",
       " ['JC', '3C', '5C'],\n",
       " ['5S', '10S', 'QS'],\n",
       " ['7S', '3H', '2C'],\n",
       " ['3S', '4H', 'JS'],\n",
       " ['KH', '7S', '10H'],\n",
       " ['9S', '10D', '6C'],\n",
       " ['5D', 'QH', '9C'],\n",
       " ['QD', 'JH', '5C'],\n",
       " ['2S', 'JS', '2H'],\n",
       " ['KC', '7D', 'AH'],\n",
       " ['7S', '2C', '10C'],\n",
       " ['7H', '9H', '9D'],\n",
       " ['AH', 'AC', '2C'],\n",
       " ['4S', '5H', '3C'],\n",
       " ['6H', '6D', '7S'],\n",
       " ['8S', 'JC', '10H'],\n",
       " ['7D', '5S', '5H'],\n",
       " ['9H', 'AS', '10H'],\n",
       " ['AS', '10D', 'AH'],\n",
       " ['8H', 'JH', '10H'],\n",
       " ['QS', 'AC', 'JC'],\n",
       " ['6H', 'JS', '5H'],\n",
       " ['3H', '3H', 'KH'],\n",
       " ['10H', '5S', '2C'],\n",
       " ['10D', '5D', 'JH'],\n",
       " ['4H', '3S', 'JC']]"
      ]
     },
     "execution_count": 224,
     "metadata": {},
     "output_type": "execute_result"
    }
   ],
   "source": [
    "\"\"\"Generate Sampling of cards\"\"\"\n",
    "import random as rand\n",
    "\n",
    "my_seed = 3\n",
    "rand.seed(my_seed)\n",
    "   \n",
    "def draw_hand(num_cards):\n",
    "    hand = []\n",
    "    \n",
    "    face_values = ['A','2','3','4','5','6','7','8','9','10','J','Q','K']\n",
    "    suits = ['C','D','H','S']\n",
    "    \n",
    "    for draw in range(num_cards):\n",
    "        rand_face = face_values[rand.randrange(len(face_values))]\n",
    "        rand_suit = suits[rand.randrange(len(suits))] \n",
    "        card = rand_face + rand_suit\n",
    "        hand.append(card)\n",
    "    return hand\n",
    "        \n",
    "def hands_sampling(num_cards, num_samples):\n",
    "    all_hands = []\n",
    "    for i in range(num_samples):\n",
    "        hand = draw_hand(num_cards)\n",
    "        all_hands.append(hand)\n",
    "    return all_hands\n",
    "    \n",
    "sample_set = hands_sampling(3, 30)\n",
    "sample_set"
   ]
  },
  {
   "cell_type": "code",
   "execution_count": 230,
   "metadata": {
    "collapsed": true,
    "scrolled": true
   },
   "outputs": [],
   "source": [
    "import itertools as it\n",
    "\n",
    "RANKS = \"123456789TJQK\"\n",
    "SUITS = \"HSCD\"\n",
    "deck = list(it.product(RANKS,SUITS))\n",
    "# deck # note, deck is a list of tuples"
   ]
  },
  {
   "cell_type": "code",
   "execution_count": 248,
   "metadata": {},
   "outputs": [
    {
     "data": {
      "text/plain": [
       "[[('Q', 'H'), ('K', 'H'), ('7', 'S')],\n",
       " [('5', 'H'), ('6', 'D'), ('T', 'C')],\n",
       " [('7', 'S'), ('6', 'C'), ('9', 'D')],\n",
       " [('7', 'C'), ('2', 'S'), ('7', 'H')],\n",
       " [('9', 'H'), ('4', 'D'), ('7', 'C')],\n",
       " [('Q', 'D'), ('3', 'C'), ('7', 'C')],\n",
       " [('Q', 'H'), ('T', 'H'), ('K', 'H')],\n",
       " [('T', 'S'), ('J', 'D'), ('9', 'S')],\n",
       " [('J', 'D'), ('8', 'C'), ('3', 'S')],\n",
       " [('J', 'S'), ('7', 'S'), ('3', 'S')],\n",
       " [('3', 'C'), ('2', 'C'), ('8', 'D')],\n",
       " [('Q', 'D'), ('8', 'C'), ('Q', 'H')],\n",
       " [('9', 'S'), ('8', 'H'), ('T', 'S')],\n",
       " [('Q', 'C'), ('3', 'D'), ('3', 'H')],\n",
       " [('5', 'S'), ('K', 'H'), ('4', 'H')],\n",
       " [('3', 'S'), ('T', 'S'), ('9', 'H')],\n",
       " [('6', 'H'), ('4', 'C'), ('Q', 'H')],\n",
       " [('9', 'C'), ('K', 'S'), ('5', 'C')],\n",
       " [('J', 'C'), ('Q', 'S'), ('7', 'C')],\n",
       " [('T', 'C'), ('T', 'S'), ('T', 'S')],\n",
       " [('5', 'S'), ('4', 'S'), ('5', 'D')],\n",
       " [('1', 'S'), ('5', 'S'), ('8', 'C')],\n",
       " [('K', 'D'), ('7', 'H'), ('4', 'H')],\n",
       " [('3', 'D'), ('T', 'H'), ('6', 'D')],\n",
       " [('4', 'D'), ('6', 'H'), ('8', 'C')],\n",
       " [('K', 'S'), ('3', 'S'), ('7', 'C')],\n",
       " [('Q', 'H'), ('8', 'C'), ('Q', 'H')],\n",
       " [('T', 'C'), ('4', 'S'), ('8', 'S')],\n",
       " [('T', 'S'), ('J', 'S'), ('9', 'D')],\n",
       " [('1', 'S'), ('8', 'C'), ('Q', 'C')]]"
      ]
     },
     "execution_count": 248,
     "metadata": {},
     "output_type": "execute_result"
    }
   ],
   "source": [
    "\"\"\"Generate Sampling of cards\"\"\"\n",
    "import random as rand\n",
    "\n",
    "my_seed = 3\n",
    "rand.seed(my_seed)\n",
    "\n",
    "def draw_hand(num_cards):\n",
    "    hand = []\n",
    "    for i in range(num_cards):\n",
    "        card = deck[rand.randrange(len(deck))]\n",
    "        hand.append(card)\n",
    "    return hand\n",
    "    \n",
    "def hands_sampling(num_cards, num_samples):\n",
    "    all_hands = []\n",
    "    for i in range(num_samples):\n",
    "        hand = draw_hand(num_cards)\n",
    "        all_hands.append(hand)\n",
    "    return all_hands\n",
    "\n",
    "sample_set = hands_sampling(3, 30)\n",
    "sample_set"
   ]
  },
  {
   "cell_type": "code",
   "execution_count": 249,
   "metadata": {
    "scrolled": true
   },
   "outputs": [
    {
     "data": {
      "text/plain": [
       "[27,\n",
       " 21,\n",
       " 22,\n",
       " 16,\n",
       " 20,\n",
       " 20,\n",
       " 30,\n",
       " 29,\n",
       " 21,\n",
       " 20,\n",
       " 13,\n",
       " 28,\n",
       " 27,\n",
       " 16,\n",
       " 19,\n",
       " 22,\n",
       " 20,\n",
       " 24,\n",
       " 27,\n",
       " 30,\n",
       " 14,\n",
       " 14,\n",
       " 21,\n",
       " 19,\n",
       " 18,\n",
       " 20,\n",
       " 28,\n",
       " 22,\n",
       " 29,\n",
       " 19]"
      ]
     },
     "execution_count": 249,
     "metadata": {},
     "output_type": "execute_result"
    }
   ],
   "source": [
    "def card_value(card):\n",
    "    try:\n",
    "        value = int(card[0])\n",
    "        return value\n",
    "    except:\n",
    "        return 10\n",
    "    \n",
    "def sum_hand(hand):\n",
    "    hand_sum = 0\n",
    "    for card in hand:\n",
    "        hand_sum += card_value(card)\n",
    "    return hand_sum\n",
    "        \n",
    "sum_hands = [sum_hand(hand) for hand in sample_set]\n",
    "sum_hands"
   ]
  },
  {
   "cell_type": "code",
   "execution_count": null,
   "metadata": {
    "collapsed": true
   },
   "outputs": [],
   "source": []
  },
  {
   "cell_type": "code",
   "execution_count": null,
   "metadata": {
    "collapsed": true
   },
   "outputs": [],
   "source": []
  }
 ],
 "metadata": {
  "kernelspec": {
   "display_name": "Python 3",
   "language": "python",
   "name": "python3"
  },
  "language_info": {
   "codemirror_mode": {
    "name": "ipython",
    "version": 3
   },
   "file_extension": ".py",
   "mimetype": "text/x-python",
   "name": "python",
   "nbconvert_exporter": "python",
   "pygments_lexer": "ipython3",
   "version": "3.6.0"
  }
 },
 "nbformat": 4,
 "nbformat_minor": 2
}
