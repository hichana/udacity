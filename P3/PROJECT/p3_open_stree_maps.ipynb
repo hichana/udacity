{
 "cells": [
  {
   "cell_type": "markdown",
   "metadata": {},
   "source": [
    "# P3 - Open Street Map Project"
   ]
  },
  {
   "cell_type": "markdown",
   "metadata": {},
   "source": [
    "##### Create sample the OSM file\n",
    "\n",
    "OSM file is much too bit to work with - make a sample viable for development."
   ]
  },
  {
   "cell_type": "code",
   "execution_count": 30,
   "metadata": {
    "collapsed": false
   },
   "outputs": [],
   "source": [
    "import xml.etree.ElementTree as ET  # Use cElementTree or lxml if too slow\n",
    "\n",
    "OSM_FILE = \"/Users/mchana/GitHub/udacity/large_files/new-orleans-city.osm\"  # Replace this with your osm file\n",
    "SAMPLE_FILE = \"supporting_files/new-orleans-city_sample_k1000_relations.osm\"\n",
    "\n",
    "k = 1000 # Parameter: take every k-th top level element\n",
    "\n",
    "# def get_element(osm_file, tags=('node', 'way', 'relation')):\n",
    "# def get_element(osm_file, tags=('way',)):\n",
    "def get_element(osm_file, tags=('relation',)):\n",
    "    \"\"\"Yield element if it is the right type of tag\n",
    "\n",
    "    Reference:\n",
    "    http://stackoverflow.com/questions/3095434/inserting-newlines-in-xml-file-generated-via-xml-etree-elementtree-in-python\n",
    "    \"\"\"\n",
    "#     context = iter(ET.iterparse(osm_file, events=('start', 'end')))\n",
    "    context = ET.iterparse(osm_file, events=('start', 'end'))\n",
    "    _, root = next(context)\n",
    "    for event, elem in context:\n",
    "        if event == 'end' and elem.tag in tags:\n",
    "            yield elem\n",
    "        root.clear()\n",
    "\n",
    "\n",
    "with open(SAMPLE_FILE, 'w') as output:\n",
    "    output.write(\"\"\"<?xml version=\"1.0\" encoding=\"UTF-8\"?>\\n\"\"\")\n",
    "    output.write('<osm>\\n  ')\n",
    "\n",
    "    # Write every kth top level element\n",
    "    for i, element in enumerate(get_element(OSM_FILE)):\n",
    "        if i % k == 0:\n",
    "            output.write(ET.tostring(element, encoding='unicode'))\n",
    "\n",
    "    output.write('</osm>')"
   ]
  },
  {
   "cell_type": "markdown",
   "metadata": {},
   "source": [
    "##### Manually inspect the data\n",
    "\n",
    "From a visual perspective, how is the data structured?"
   ]
  },
  {
   "cell_type": "markdown",
   "metadata": {},
   "source": [
    "How is the sample osm file structured?\n",
    "\n",
    "* osm element is the root\n",
    "* Only sub-elements I'm interested in are 'node' (a single lat/lon point, possibly with 'tags'), 'way'(roads, boundaries, with nested 'nodes ' and also possibly with 'tags'), 'relation'(logical or geographic relationship between elements, with nested 'member', 'tags', etc. - ex. 'ways' making up a \"route\" for cycling or hiking)\n",
    "* Each 'node' nested in a 'way' can be defined elsewhere, but is referenced in the 'way'\n",
    "* main things that seem to be present (as ways) are highways, natural (water bodies, etc.) and buildings\n",
    "* Appears 'nodes' that are nested in 'ways' are first defined at beginning of XML document, 'ways' are in the middle, and 'relations' are at the end\n",
    "* Appears a node can be:\n",
    "    * basically a lat and lon \n",
    "    * be a lat and lon but with nested 'tags' with other info, like name of a church, type of religion, street address, etc.\n",
    "    \n",
    "    \n",
    "Questions:\n",
    "* Why do some 'node's have the street address for a building? Are they supposed to be there (ex. a 'way' representing a building will reference that 'node' to point to the address) or is this a human mistake?"
   ]
  },
  {
   "cell_type": "markdown",
   "metadata": {
    "collapsed": true
   },
   "source": [
    "I should parse the data and get it into some structure (python list, dict, etc. or even pandas df) so that I can test fields for Validity, Accuracy, Completeness, Consistency and Uniformity."
   ]
  }
 ],
 "metadata": {
  "anaconda-cloud": {},
  "kernelspec": {
   "display_name": "Python [conda env:bunnies]",
   "language": "python",
   "name": "conda-env-bunnies-py"
  },
  "language_info": {
   "codemirror_mode": {
    "name": "ipython",
    "version": 3
   },
   "file_extension": ".py",
   "mimetype": "text/x-python",
   "name": "python",
   "nbconvert_exporter": "python",
   "pygments_lexer": "ipython3",
   "version": "3.5.2"
  },
  "latex_envs": {
   "LaTeX_envs_menu_present": true,
   "bibliofile": "biblio.bib",
   "cite_by": "apalike",
   "current_citInitial": 1,
   "eqLabelWithNumbers": true,
   "eqNumInitial": 1,
   "hotkeys": {
    "equation": "Ctrl-E",
    "itemize": "Ctrl-I"
   },
   "labels_anchors": false,
   "latex_user_defs": false,
   "report_style_numbering": false,
   "user_envs_cfg": false
  }
 },
 "nbformat": 4,
 "nbformat_minor": 1
}
