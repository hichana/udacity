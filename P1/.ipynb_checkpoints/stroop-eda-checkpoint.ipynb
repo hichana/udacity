{
 "cells": [
  {
   "cell_type": "markdown",
   "metadata": {},
   "source": [
    "# Stroop Effect EDA"
   ]
  },
  {
   "cell_type": "markdown",
   "metadata": {},
   "source": [
    "### Project Notes: \n",
    "##### Summary\n",
    "This jupyter notebook is my submission for the P1 'Test a Perceptual Phenomenon project'. Before answering any questions I've decided to conduct some exploratory data analysis here to generate leads for conducting an appropriate statistical test.\n",
    "\n",
    "##### About the Stroop Effect Test\n",
    "As descibed in the Instuctions section for this Udacity project, the experiement investigating the Stroop Effect is as follows:\n",
    "\n",
    "![image](supporting-files/stroop-summary.png)\n",
    "\n",
    "Additionally, the [University of Washington's Stroop Effect online test](https://faculty.washington.edu/chudler/java/ready.html) was linked to in the P1 project description as a way to try the test out. This may be intereesting to investigate as well."
   ]
  },
  {
   "cell_type": "markdown",
   "metadata": {},
   "source": [
    "### Exploratory Data Analysis:"
   ]
  },
  {
   "cell_type": "markdown",
   "metadata": {},
   "source": [
    "##### Load and Visualize the Data"
   ]
  },
  {
   "cell_type": "code",
   "execution_count": 98,
   "metadata": {
    "collapsed": true
   },
   "outputs": [],
   "source": [
    "import pandas as pd"
   ]
  },
  {
   "cell_type": "code",
   "execution_count": 160,
   "metadata": {
    "collapsed": false
   },
   "outputs": [
    {
     "data": {
      "text/html": [
       "<div>\n",
       "<table border=\"1\" class=\"dataframe\">\n",
       "  <thead>\n",
       "    <tr style=\"text-align: right;\">\n",
       "      <th></th>\n",
       "      <th>Congruent</th>\n",
       "      <th>Incongruent</th>\n",
       "    </tr>\n",
       "  </thead>\n",
       "  <tbody>\n",
       "    <tr>\n",
       "      <th>0</th>\n",
       "      <td>12.079</td>\n",
       "      <td>19.278</td>\n",
       "    </tr>\n",
       "    <tr>\n",
       "      <th>1</th>\n",
       "      <td>16.791</td>\n",
       "      <td>18.741</td>\n",
       "    </tr>\n",
       "    <tr>\n",
       "      <th>2</th>\n",
       "      <td>9.564</td>\n",
       "      <td>21.214</td>\n",
       "    </tr>\n",
       "    <tr>\n",
       "      <th>3</th>\n",
       "      <td>8.630</td>\n",
       "      <td>15.687</td>\n",
       "    </tr>\n",
       "    <tr>\n",
       "      <th>4</th>\n",
       "      <td>14.669</td>\n",
       "      <td>22.803</td>\n",
       "    </tr>\n",
       "  </tbody>\n",
       "</table>\n",
       "</div>"
      ],
      "text/plain": [
       "   Congruent  Incongruent\n",
       "0     12.079       19.278\n",
       "1     16.791       18.741\n",
       "2      9.564       21.214\n",
       "3      8.630       15.687\n",
       "4     14.669       22.803"
      ]
     },
     "execution_count": 160,
     "metadata": {},
     "output_type": "execute_result"
    }
   ],
   "source": [
    "# load stroop data, view first five rows\n",
    "stroop = pd.read_csv('supporting-files/stroopdata.csv')\n",
    "stroop.head()"
   ]
  },
  {
   "cell_type": "markdown",
   "metadata": {},
   "source": [
    "##### Group and plot the Congruent and Incongruent Conditions"
   ]
  },
  {
   "cell_type": "code",
   "execution_count": 102,
   "metadata": {
    "collapsed": false
   },
   "outputs": [
    {
     "data": {
      "image/png": "[encoded data removed]",
      "text/plain": [
       "<matplotlib.figure.Figure at 0x118240b38>"
      ]
     },
     "metadata": {},
     "output_type": "display_data"
    }
   ],
   "source": [
    "import seaborn as sns\n",
    "import matplotlib.pyplot as plt\n",
    "\n",
    "cong = stroop['Congruent']\n",
    "incong = stroop['Incongruent']\n",
    "\n",
    "fig, (ax1, ax2) = plt.subplots(ncols=2, sharey=True)\n",
    "\n",
    "sns.distplot(cong, bins=range(5,45,5), color='green', ax=ax1, kde=False)\n",
    "sns.distplot(incong, bins=range(5,45,5), color='magenta', ax=ax2, kde=False)\n",
    "\n",
    "plt.show()"
   ]
  },
  {
   "cell_type": "markdown",
   "metadata": {},
   "source": [
    "Clearly the Incongruent condition is taking longer to complete for most participants. This may lead to an interesting test of hypothesis to see whether or not the mean time to complete the Incongruent set is significantly longer than that of the Congruent set."
   ]
  },
  {
   "cell_type": "markdown",
   "metadata": {},
   "source": [
    "##### Compare the University of Washington's grouped data with the Udacity data"
   ]
  },
  {
   "cell_type": "markdown",
   "metadata": {},
   "source": [
    "Another feature of the University of Washington's Stroop test is the page displayed after taking the test on both the Congruent and Incongruent sets of words. There, one enters the time taken on both tests and is presented with a grouped breakdown of all participants' performance up until that point. When I completed the test I was the 204,083th person who's times were recorded. I captured the values manually and added them to the below dataframe. The intervals in this grouped data represent the **increase** in time taken to complete the test between the Congruent and Incongruent sets of words."
   ]
  },
  {
   "cell_type": "code",
   "execution_count": 132,
   "metadata": {
    "collapsed": false
   },
   "outputs": [
    {
     "data": {
      "text/html": [
       "<div>\n",
       "<table border=\"1\" class=\"dataframe\">\n",
       "  <thead>\n",
       "    <tr style=\"text-align: right;\">\n",
       "      <th></th>\n",
       "      <th>Interval</th>\n",
       "      <th>Midpoint</th>\n",
       "      <th>Total</th>\n",
       "    </tr>\n",
       "  </thead>\n",
       "  <tbody>\n",
       "    <tr>\n",
       "      <th>0</th>\n",
       "      <td>0-5 sec</td>\n",
       "      <td>2.5</td>\n",
       "      <td>40098</td>\n",
       "    </tr>\n",
       "    <tr>\n",
       "      <th>1</th>\n",
       "      <td>5-10 sec</td>\n",
       "      <td>7.5</td>\n",
       "      <td>52420</td>\n",
       "    </tr>\n",
       "    <tr>\n",
       "      <th>2</th>\n",
       "      <td>10-15 sec</td>\n",
       "      <td>12.5</td>\n",
       "      <td>48947</td>\n",
       "    </tr>\n",
       "    <tr>\n",
       "      <th>3</th>\n",
       "      <td>15-20 sec</td>\n",
       "      <td>17.5</td>\n",
       "      <td>23050</td>\n",
       "    </tr>\n",
       "    <tr>\n",
       "      <th>4</th>\n",
       "      <td>20-25 sec</td>\n",
       "      <td>22.5</td>\n",
       "      <td>11958</td>\n",
       "    </tr>\n",
       "    <tr>\n",
       "      <th>5</th>\n",
       "      <td>25-30 sec</td>\n",
       "      <td>27.5</td>\n",
       "      <td>4927</td>\n",
       "    </tr>\n",
       "    <tr>\n",
       "      <th>6</th>\n",
       "      <td>30-35 sec</td>\n",
       "      <td>32.5</td>\n",
       "      <td>3047</td>\n",
       "    </tr>\n",
       "    <tr>\n",
       "      <th>7</th>\n",
       "      <td>35-40 sec</td>\n",
       "      <td>37.5</td>\n",
       "      <td>1930</td>\n",
       "    </tr>\n",
       "    <tr>\n",
       "      <th>8</th>\n",
       "      <td>More than 40 sec</td>\n",
       "      <td>42.5</td>\n",
       "      <td>3897</td>\n",
       "    </tr>\n",
       "  </tbody>\n",
       "</table>\n",
       "</div>"
      ],
      "text/plain": [
       "           Interval  Midpoint  Total\n",
       "0           0-5 sec       2.5  40098\n",
       "1          5-10 sec       7.5  52420\n",
       "2         10-15 sec      12.5  48947\n",
       "3         15-20 sec      17.5  23050\n",
       "4         20-25 sec      22.5  11958\n",
       "5         25-30 sec      27.5   4927\n",
       "6         30-35 sec      32.5   3047\n",
       "7         35-40 sec      37.5   1930\n",
       "8  More than 40 sec      42.5   3897"
      ]
     },
     "execution_count": 132,
     "metadata": {},
     "output_type": "execute_result"
    }
   ],
   "source": [
    "interval = ['0-5 sec','5-10 sec','10-15 sec','15-20 sec','20-25 sec','25-30 sec','30-35 sec','35-40 sec','More than 40 sec']\n",
    "grouped_values = [40098,52420,48947,23050,11958,4927,3047,1930,3897]\n",
    "midpoint = [2.5, 7.5, 12.5, 17.5, 22.5, 27.5, 32.5, 37.5, 42.5]\n",
    "\n",
    "uw_grouped_data = pd.DataFrame({'Interval':interval,\n",
    "                               'Midpoint':midpoint,\n",
    "                               'Total':grouped_values})\n",
    "uw_grouped_data"
   ]
  },
  {
   "cell_type": "markdown",
   "metadata": {},
   "source": [
    "Two important notes about the University of Washington data:\n",
    "\n",
    "First, a small percentage of people (approximately 6%) claimed that the Incongruent word set took them **less** time to complete than the Congruent set. While this may have been true for some, I'll maintain here that this can be disregarded given the fact that the data is compiled from manual user-input (people selecting a radio button to note their times and submitting the result instead of the website somehow calculating this for them). People may be just clicking through, selecting one of the first times they can in order to get to the summary page to see the full summary of all participants' times. This calls into question the accuracy of the data as a whole but I'll assume the rest of it is not significantly inaccurate.\n",
    "\n",
    "Second, slightly less than 2% of participants took more than 40 seconds longer to complete the Incongruent set compared to the Congruent. Given this is a small percentage and mostly follows the somewhat normally distributed nature of the data I'll group all times lasting more than 40 seconds as between 40 and 45 seconds."
   ]
  },
  {
   "cell_type": "code",
   "execution_count": 162,
   "metadata": {
    "collapsed": false
   },
   "outputs": [
    {
     "data": {
      "text/html": [
       "<div>\n",
       "<table border=\"1\" class=\"dataframe\">\n",
       "  <thead>\n",
       "    <tr style=\"text-align: right;\">\n",
       "      <th></th>\n",
       "      <th>Congruent</th>\n",
       "      <th>Incongruent</th>\n",
       "      <th>Difference</th>\n",
       "    </tr>\n",
       "  </thead>\n",
       "  <tbody>\n",
       "    <tr>\n",
       "      <th>0</th>\n",
       "      <td>12.079</td>\n",
       "      <td>19.278</td>\n",
       "      <td>7.199</td>\n",
       "    </tr>\n",
       "    <tr>\n",
       "      <th>1</th>\n",
       "      <td>16.791</td>\n",
       "      <td>18.741</td>\n",
       "      <td>1.950</td>\n",
       "    </tr>\n",
       "    <tr>\n",
       "      <th>2</th>\n",
       "      <td>9.564</td>\n",
       "      <td>21.214</td>\n",
       "      <td>11.650</td>\n",
       "    </tr>\n",
       "    <tr>\n",
       "      <th>3</th>\n",
       "      <td>8.630</td>\n",
       "      <td>15.687</td>\n",
       "      <td>7.057</td>\n",
       "    </tr>\n",
       "    <tr>\n",
       "      <th>4</th>\n",
       "      <td>14.669</td>\n",
       "      <td>22.803</td>\n",
       "      <td>8.134</td>\n",
       "    </tr>\n",
       "  </tbody>\n",
       "</table>\n",
       "</div>"
      ],
      "text/plain": [
       "   Congruent  Incongruent  Difference\n",
       "0     12.079       19.278       7.199\n",
       "1     16.791       18.741       1.950\n",
       "2      9.564       21.214      11.650\n",
       "3      8.630       15.687       7.057\n",
       "4     14.669       22.803       8.134"
      ]
     },
     "execution_count": 162,
     "metadata": {},
     "output_type": "execute_result"
    }
   ],
   "source": [
    "# Compute the difference between Congruent and Incongruent sets for Udacity data\n",
    "for row in stroop:\n",
    "    stroop['Difference'] = abs(stroop['Congruent'] - stroop['Incongruent'])\n",
    "    \n",
    "stroop.head()"
   ]
  },
  {
   "cell_type": "code",
   "execution_count": 163,
   "metadata": {
    "collapsed": false
   },
   "outputs": [
    {
     "data": {
      "image/png": "[encoded data removed]",
      "text/plain": [
       "<matplotlib.figure.Figure at 0x118812c88>"
      ]
     },
     "metadata": {},
     "output_type": "display_data"
    }
   ],
   "source": [
    "# plot the grouped differences in time for both the University of Washington data and the Udacity data\n",
    "fig, (ax1,ax2) = plt.subplots(ncols=2, sharey = False)\n",
    "\n",
    "uw_totals = uw_grouped_data['Total']\n",
    "\n",
    "sns.distplot(midpoint, hist_kws={'weights':uw_totals}, bins=range(0,50,5), ax=ax1, kde=False)\n",
    "sns.distplot(stroop['Difference'], bins=range(0,50,5), ax=ax2, kde=False)\n",
    "\n",
    "ax1.set_xlabel(\"University of Washington\")\n",
    "ax2.set_xlabel('Udacity')\n",
    "plt.show()"
   ]
  },
  {
   "cell_type": "markdown",
   "metadata": {},
   "source": [
    "Compute the mean for both the UW set and the Udacity set"
   ]
  },
  {
   "cell_type": "code",
   "execution_count": 164,
   "metadata": {
    "collapsed": false
   },
   "outputs": [
    {
     "data": {
      "text/html": [
       "<div>\n",
       "<table border=\"1\" class=\"dataframe\">\n",
       "  <thead>\n",
       "    <tr style=\"text-align: right;\">\n",
       "      <th></th>\n",
       "      <th>Interval</th>\n",
       "      <th>Midpoint</th>\n",
       "      <th>Total</th>\n",
       "      <th>freq_total</th>\n",
       "    </tr>\n",
       "  </thead>\n",
       "  <tbody>\n",
       "    <tr>\n",
       "      <th>0</th>\n",
       "      <td>0-5 sec</td>\n",
       "      <td>2.5</td>\n",
       "      <td>40098</td>\n",
       "      <td>100245.0</td>\n",
       "    </tr>\n",
       "    <tr>\n",
       "      <th>1</th>\n",
       "      <td>5-10 sec</td>\n",
       "      <td>7.5</td>\n",
       "      <td>52420</td>\n",
       "      <td>393150.0</td>\n",
       "    </tr>\n",
       "    <tr>\n",
       "      <th>2</th>\n",
       "      <td>10-15 sec</td>\n",
       "      <td>12.5</td>\n",
       "      <td>48947</td>\n",
       "      <td>611837.5</td>\n",
       "    </tr>\n",
       "    <tr>\n",
       "      <th>3</th>\n",
       "      <td>15-20 sec</td>\n",
       "      <td>17.5</td>\n",
       "      <td>23050</td>\n",
       "      <td>403375.0</td>\n",
       "    </tr>\n",
       "    <tr>\n",
       "      <th>4</th>\n",
       "      <td>20-25 sec</td>\n",
       "      <td>22.5</td>\n",
       "      <td>11958</td>\n",
       "      <td>269055.0</td>\n",
       "    </tr>\n",
       "    <tr>\n",
       "      <th>5</th>\n",
       "      <td>25-30 sec</td>\n",
       "      <td>27.5</td>\n",
       "      <td>4927</td>\n",
       "      <td>135492.5</td>\n",
       "    </tr>\n",
       "    <tr>\n",
       "      <th>6</th>\n",
       "      <td>30-35 sec</td>\n",
       "      <td>32.5</td>\n",
       "      <td>3047</td>\n",
       "      <td>99027.5</td>\n",
       "    </tr>\n",
       "    <tr>\n",
       "      <th>7</th>\n",
       "      <td>35-40 sec</td>\n",
       "      <td>37.5</td>\n",
       "      <td>1930</td>\n",
       "      <td>72375.0</td>\n",
       "    </tr>\n",
       "    <tr>\n",
       "      <th>8</th>\n",
       "      <td>More than 40 sec</td>\n",
       "      <td>42.5</td>\n",
       "      <td>3897</td>\n",
       "      <td>165622.5</td>\n",
       "    </tr>\n",
       "  </tbody>\n",
       "</table>\n",
       "</div>"
      ],
      "text/plain": [
       "           Interval  Midpoint  Total  freq_total\n",
       "0           0-5 sec       2.5  40098    100245.0\n",
       "1          5-10 sec       7.5  52420    393150.0\n",
       "2         10-15 sec      12.5  48947    611837.5\n",
       "3         15-20 sec      17.5  23050    403375.0\n",
       "4         20-25 sec      22.5  11958    269055.0\n",
       "5         25-30 sec      27.5   4927    135492.5\n",
       "6         30-35 sec      32.5   3047     99027.5\n",
       "7         35-40 sec      37.5   1930     72375.0\n",
       "8  More than 40 sec      42.5   3897    165622.5"
      ]
     },
     "execution_count": 164,
     "metadata": {},
     "output_type": "execute_result"
    }
   ],
   "source": [
    "# add column to uw data set to get frequency totals for each bin\n",
    "for row in uw_grouped_data:\n",
    "    uw_grouped_data['freq_total'] = uw_grouped_data['Midpoint'] * uw_grouped_data['Total']\n",
    "    \n",
    "uw_grouped_data"
   ]
  },
  {
   "cell_type": "code",
   "execution_count": 165,
   "metadata": {
    "collapsed": false
   },
   "outputs": [
    {
     "name": "stdout",
     "output_type": "stream",
     "text": [
      "The mean UW time is: 11.83\n",
      "The mean Udacity time is: 7.96\n"
     ]
    }
   ],
   "source": [
    "# Calculate the means for each set\n",
    "import statistics as stats\n",
    "\n",
    "uw_mean = uw_grouped_data['freq_total'].sum() / uw_grouped_data['Total'].sum()\n",
    "udacity_mean = stats.mean(stroop['Difference'])\n",
    "print('The mean UW time is: %s' % round(uw_mean,2))\n",
    "print('The mean Udacity time is: %s' % round(udacity_mean,2))"
   ]
  },
  {
   "cell_type": "markdown",
   "metadata": {},
   "source": [
    "Is the Udacity mean time of 7.96 seconds significantly different from the University of Washington's time of 11.83 seconds? This can also be investigated with a statistical hypothesis test."
   ]
  },
  {
   "cell_type": "code",
   "execution_count": null,
   "metadata": {
    "collapsed": true
   },
   "outputs": [],
   "source": []
  }
 ],
 "metadata": {
  "anaconda-cloud": {},
  "kernelspec": {
   "display_name": "Python [conda env:bunnies]",
   "language": "python",
   "name": "conda-env-bunnies-py"
  },
  "language_info": {
   "codemirror_mode": {
    "name": "ipython",
    "version": 3
   },
   "file_extension": ".py",
   "mimetype": "text/x-python",
   "name": "python",
   "nbconvert_exporter": "python",
   "pygments_lexer": "ipython3",
   "version": "3.5.2"
  }
 },
 "nbformat": 4,
 "nbformat_minor": 1
}
