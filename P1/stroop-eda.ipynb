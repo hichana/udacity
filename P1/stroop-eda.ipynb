{
 "cells": [
  {
   "cell_type": "markdown",
   "metadata": {},
   "source": [
    "# Stroop Effect EDA"
   ]
  },
  {
   "cell_type": "markdown",
   "metadata": {},
   "source": [
    "### Project Notes: \n",
    "##### Summary\n",
    "This jupyter notebook is my submission for the P1 section of the Data Analyst nanodegree's 'Statistics: The Science of Decisions' project. Here I will conduct some exploratory data analysis in order to better help me answer the questions for investigation listed in the project instructions. \n",
    "\n",
    "##### About the Stroop Effect Test\n",
    "As descibed in the Instuctions section for this Udacity project, the experiement demonstrating the Stroop Effect is as follows:\n",
    "\n",
    "![image](supporting-files/stroop-summary.png)\n",
    "\n",
    "Additionally, the [University of Washington's Stroop Effect online test](https://faculty.washington.edu/chudler/java/ready.html) was linked to in the P1 project description as a way to try the test out. This may be intereesting to investigate as well."
   ]
  },
  {
   "cell_type": "markdown",
   "metadata": {},
   "source": [
    "### Exploratory Data Analysis:"
   ]
  },
  {
   "cell_type": "markdown",
   "metadata": {},
   "source": [
    "##### Load and Visualize the Data"
   ]
  },
  {
   "cell_type": "code",
   "execution_count": 74,
   "metadata": {
    "collapsed": true
   },
   "outputs": [],
   "source": [
    "import pandas as pd"
   ]
  },
  {
   "cell_type": "markdown",
   "metadata": {},
   "source": [
    "A set of 24 participants' recorded times for the Congruent and Incongruent tasks were provided by Udacity in the instructions for this project. The first five rows are below."
   ]
  },
  {
   "cell_type": "code",
   "execution_count": 75,
   "metadata": {
    "collapsed": false
   },
   "outputs": [
    {
     "data": {
      "text/html": [
       "<div>\n",
       "<table border=\"1\" class=\"dataframe\">\n",
       "  <thead>\n",
       "    <tr style=\"text-align: right;\">\n",
       "      <th></th>\n",
       "      <th>Congruent</th>\n",
       "      <th>Incongruent</th>\n",
       "    </tr>\n",
       "  </thead>\n",
       "  <tbody>\n",
       "    <tr>\n",
       "      <th>0</th>\n",
       "      <td>12.079</td>\n",
       "      <td>19.278</td>\n",
       "    </tr>\n",
       "    <tr>\n",
       "      <th>1</th>\n",
       "      <td>16.791</td>\n",
       "      <td>18.741</td>\n",
       "    </tr>\n",
       "    <tr>\n",
       "      <th>2</th>\n",
       "      <td>9.564</td>\n",
       "      <td>21.214</td>\n",
       "    </tr>\n",
       "    <tr>\n",
       "      <th>3</th>\n",
       "      <td>8.630</td>\n",
       "      <td>15.687</td>\n",
       "    </tr>\n",
       "    <tr>\n",
       "      <th>4</th>\n",
       "      <td>14.669</td>\n",
       "      <td>22.803</td>\n",
       "    </tr>\n",
       "  </tbody>\n",
       "</table>\n",
       "</div>"
      ],
      "text/plain": [
       "   Congruent  Incongruent\n",
       "0     12.079       19.278\n",
       "1     16.791       18.741\n",
       "2      9.564       21.214\n",
       "3      8.630       15.687\n",
       "4     14.669       22.803"
      ]
     },
     "execution_count": 75,
     "metadata": {},
     "output_type": "execute_result"
    }
   ],
   "source": [
    "stroop = pd.read_csv('supporting-files/stroopdata.csv')\n",
    "stroop.head()"
   ]
  },
  {
   "cell_type": "markdown",
   "metadata": {},
   "source": [
    "Here, the same 24 records are plotted as histograms for the Congruent and Incongruent tasks."
   ]
  },
  {
   "cell_type": "code",
   "execution_count": 76,
   "metadata": {
    "collapsed": false
   },
   "outputs": [
    {
     "data": {
      "image/png": "[encoded data removed]",
      "text/plain": [
       "<matplotlib.figure.Figure at 0x118808780>"
      ]
     },
     "metadata": {},
     "output_type": "display_data"
    }
   ],
   "source": [
    "import seaborn as sns\n",
    "import matplotlib.pyplot as plt\n",
    "\n",
    "cong = stroop['Congruent']\n",
    "incong = stroop['Incongruent']\n",
    "\n",
    "fig, (ax1, ax2) = plt.subplots(ncols=2, sharey=True)\n",
    "\n",
    "sns.distplot(cong, bins=range(5,45,5), color='green', ax=ax1, kde=False)\n",
    "ax1.set_ylabel(\"Number of Test Takers\")\n",
    "\n",
    "sns.distplot(incong, bins=range(5,45,5), color='magenta', ax=ax2, kde=False)\n",
    "\n",
    "\n",
    "plt.show()"
   ]
  },
  {
   "cell_type": "markdown",
   "metadata": {},
   "source": [
    "Clearly the Incongruent task is taking longer to complete for most participants. *This may lead to an interesting test of hypothesis to see whether or not the mean time to complete the Incongruent set is significantly longer than that of the Congruent set.*"
   ]
  },
  {
   "cell_type": "markdown",
   "metadata": {},
   "source": [
    "Aside from the data set of 24 participants provided in the project instructions, another set can be uncovered in [the University of Washington's online Stroop test](https://faculty.washington.edu/chudler/java/ready.html). After taking the test, a page is displayed where one can enter one's results from both the Congruent and Incongruent tasks. After doing so a grouped breakdown of all participants' performance up until that point is revealed. When I completed the test I was the 204,083rd person to record a time. I captured the values manually and added them to the below dataframe. The intervals in this grouped data represent the **increase** in time taken to complete the test between the Congruent and Incongruent tasks. Here 'Total' represents the total number of people to have recorded their times."
   ]
  },
  {
   "cell_type": "markdown",
   "metadata": {
    "collapsed": false
   },
   "source": [
    "interval = ['0-5 sec','5-10 sec','10-15 sec','15-20 sec','20-25 sec','25-30 sec','30-35 sec','35-40 sec','More than 40 sec']\n",
    "grouped_values = [40098,52420,48947,23050,11958,4927,3047,1930,3897]\n",
    "midpoint = [2.5, 7.5, 12.5, 17.5, 22.5, 27.5, 32.5, 37.5, 42.5]\n",
    "\n",
    "uw_grouped_data = pd.DataFrame({'Interval':interval,\n",
    "                               'Midpoint':midpoint,\n",
    "                               'Total':grouped_values})\n",
    "uw_grouped_data"
   ]
  },
  {
   "cell_type": "markdown",
   "metadata": {},
   "source": [
    "Two important notes about the University of Washington data:\n",
    "\n",
    "First, a small percentage of people not shown here (approximately 6%) claimed that the Incongruent word set took them **less** time to complete than the Congruent set. While this may have been true for some, I'll maintain here that this can be disregarded given the fact that the data is compiled from manual user-input (people selecting a radio button to note their times and submitting the result, this instead of the website somehow calculating this for them). People may be just clicking through, or  selecting one of the first times they can in order to get to the summary page to see the full summary of all participants' times. This calls into question the accuracy of the data as a whole but, really, there's no other choice but to assume the rest of the data is not significantly inaccurate.\n",
    "\n",
    "Second, slightly less than 2% of participants took more than 40 seconds longer to complete the Incongruent set compared to the Congruent. Given this is a small percentage and mostly follows the somewhat normally distributed nature of the data I'll group all of the times lasting more than 40 seconds in a bin between 40 and 45 seconds.\n",
    "\n",
    "Moving on, it seems reasonable to group the Udacity-provided data set into 5-second units, similar to the University of Washington's grouped data of 204,083 participants. The following histograms show both sets grouped in this way. Note the scale difference on the y-axis:"
   ]
  },
  {
   "cell_type": "code",
   "execution_count": 77,
   "metadata": {
    "collapsed": false
   },
   "outputs": [
    {
     "data": {
      "image/png": "[encoded data removed]",
      "text/plain": [
       "<matplotlib.figure.Figure at 0x11823b6d8>"
      ]
     },
     "metadata": {},
     "output_type": "display_data"
    }
   ],
   "source": [
    "for row in stroop:\n",
    "    stroop['Difference'] = abs(stroop['Congruent'] - stroop['Incongruent'])\n",
    "    \n",
    "# plot the grouped differences in time for both the University of Washington data and the Udacity data\n",
    "fig, (ax1,ax2) = plt.subplots(ncols=2, sharey = False)\n",
    "\n",
    "sns.distplot(midpoint, hist_kws={'weights':uw_grouped_data['Total']}, bins=range(0,50,5), ax=ax1, kde=False)\n",
    "ax1.set_xlabel(\"Increase in Seconds\")\n",
    "ax1.set_ylabel(\"Number of Test Takers\")\n",
    "ax1.set_title(\"University of Washington\")\n",
    "\n",
    "sns.distplot(stroop['Difference'], bins=range(0,50,5), ax=ax2, kde=False)\n",
    "ax2.set_xlabel(\"Increase in Seconds\")\n",
    "ax2.set_ylabel(\"Number of Test Takers\")\n",
    "ax2.set_title(\"Udacity\")\n",
    "\n",
    "plt.show()"
   ]
  },
  {
   "cell_type": "markdown",
   "metadata": {},
   "source": [
    "The distributions look similar, but to what is their respective mean and standard deviation?"
   ]
  },
  {
   "cell_type": "markdown",
   "metadata": {},
   "source": [
    "##### Compute Some Statistics"
   ]
  },
  {
   "cell_type": "code",
   "execution_count": 78,
   "metadata": {
    "collapsed": false
   },
   "outputs": [
    {
     "name": "stdout",
     "output_type": "stream",
     "text": [
      "The Udacity data set mean is: 4.86\n"
     ]
    }
   ],
   "source": [
    "import statistics as stats\n",
    "udacity_mean = stats.stdev(stroop['Difference'])\n",
    "print('The Udacity data set mean is: %s' % round(udacity_mean,2))"
   ]
  },
  {
   "cell_type": "code",
   "execution_count": 79,
   "metadata": {
    "collapsed": false
   },
   "outputs": [
    {
     "name": "stdout",
     "output_type": "stream",
     "text": [
      "The Udacity data set is: 7.96\n"
     ]
    }
   ],
   "source": [
    "udacity_stdv = stats.mean(stroop['Difference'])\n",
    "print('The Udacity data set is: %s' % round(udacity_stdv,2))"
   ]
  },
  {
   "cell_type": "code",
   "execution_count": 80,
   "metadata": {
    "collapsed": false
   },
   "outputs": [
    {
     "data": {
      "text/html": [
       "<div>\n",
       "<table border=\"1\" class=\"dataframe\">\n",
       "  <thead>\n",
       "    <tr style=\"text-align: right;\">\n",
       "      <th></th>\n",
       "      <th>Interval</th>\n",
       "      <th>Midpoint</th>\n",
       "      <th>Total</th>\n",
       "      <th>xj*f</th>\n",
       "      <th>xj^2*f</th>\n",
       "    </tr>\n",
       "  </thead>\n",
       "  <tbody>\n",
       "    <tr>\n",
       "      <th>0</th>\n",
       "      <td>0-5 sec</td>\n",
       "      <td>2.5</td>\n",
       "      <td>40098</td>\n",
       "      <td>100245.0</td>\n",
       "      <td>250612.50</td>\n",
       "    </tr>\n",
       "    <tr>\n",
       "      <th>1</th>\n",
       "      <td>5-10 sec</td>\n",
       "      <td>7.5</td>\n",
       "      <td>52420</td>\n",
       "      <td>393150.0</td>\n",
       "      <td>2948625.00</td>\n",
       "    </tr>\n",
       "    <tr>\n",
       "      <th>2</th>\n",
       "      <td>10-15 sec</td>\n",
       "      <td>12.5</td>\n",
       "      <td>48947</td>\n",
       "      <td>611837.5</td>\n",
       "      <td>7647968.75</td>\n",
       "    </tr>\n",
       "    <tr>\n",
       "      <th>3</th>\n",
       "      <td>15-20 sec</td>\n",
       "      <td>17.5</td>\n",
       "      <td>23050</td>\n",
       "      <td>403375.0</td>\n",
       "      <td>7059062.50</td>\n",
       "    </tr>\n",
       "    <tr>\n",
       "      <th>4</th>\n",
       "      <td>20-25 sec</td>\n",
       "      <td>22.5</td>\n",
       "      <td>11958</td>\n",
       "      <td>269055.0</td>\n",
       "      <td>6053737.50</td>\n",
       "    </tr>\n",
       "    <tr>\n",
       "      <th>5</th>\n",
       "      <td>25-30 sec</td>\n",
       "      <td>27.5</td>\n",
       "      <td>4927</td>\n",
       "      <td>135492.5</td>\n",
       "      <td>3726043.75</td>\n",
       "    </tr>\n",
       "    <tr>\n",
       "      <th>6</th>\n",
       "      <td>30-35 sec</td>\n",
       "      <td>32.5</td>\n",
       "      <td>3047</td>\n",
       "      <td>99027.5</td>\n",
       "      <td>3218393.75</td>\n",
       "    </tr>\n",
       "    <tr>\n",
       "      <th>7</th>\n",
       "      <td>35-40 sec</td>\n",
       "      <td>37.5</td>\n",
       "      <td>1930</td>\n",
       "      <td>72375.0</td>\n",
       "      <td>2714062.50</td>\n",
       "    </tr>\n",
       "    <tr>\n",
       "      <th>8</th>\n",
       "      <td>More than 40 sec</td>\n",
       "      <td>42.5</td>\n",
       "      <td>3897</td>\n",
       "      <td>165622.5</td>\n",
       "      <td>7038956.25</td>\n",
       "    </tr>\n",
       "  </tbody>\n",
       "</table>\n",
       "</div>"
      ],
      "text/plain": [
       "           Interval  Midpoint  Total      xj*f      xj^2*f\n",
       "0           0-5 sec       2.5  40098  100245.0   250612.50\n",
       "1          5-10 sec       7.5  52420  393150.0  2948625.00\n",
       "2         10-15 sec      12.5  48947  611837.5  7647968.75\n",
       "3         15-20 sec      17.5  23050  403375.0  7059062.50\n",
       "4         20-25 sec      22.5  11958  269055.0  6053737.50\n",
       "5         25-30 sec      27.5   4927  135492.5  3726043.75\n",
       "6         30-35 sec      32.5   3047   99027.5  3218393.75\n",
       "7         35-40 sec      37.5   1930   72375.0  2714062.50\n",
       "8  More than 40 sec      42.5   3897  165622.5  7038956.25"
      ]
     },
     "execution_count": 80,
     "metadata": {},
     "output_type": "execute_result"
    }
   ],
   "source": [
    "# prepare UW grouped data frame for computing mean and standard deviation\n",
    "for row in uw_grouped_data:\n",
    "    uw_grouped_data['xj*f'] = uw_grouped_data['Midpoint'] * uw_grouped_data['Total']\n",
    "    uw_grouped_data['xj^2*f'] = uw_grouped_data['Midpoint']**2 * uw_grouped_data['Total']\n",
    "uw_grouped_data"
   ]
  },
  {
   "cell_type": "code",
   "execution_count": 81,
   "metadata": {
    "collapsed": false
   },
   "outputs": [
    {
     "name": "stdout",
     "output_type": "stream",
     "text": [
      "The UW data set mean is: 11.83\n",
      "The UW data set standard deviation is: 8.59\n"
     ]
    }
   ],
   "source": [
    "import math as math\n",
    "uw_mean = uw_grouped_data['xj*f'].sum() / uw_grouped_data['Total'].sum()\n",
    "print('The UW data set mean is: %s' % round(uw_mean,2))\n",
    "\n",
    "uw_stdv = math.sqrt((uw_grouped_data['xj^2*f'].sum() / uw_grouped_data['Total'].sum()) - uw_mean**2) \n",
    "print('The UW data set standard deviation is: %s' % round(uw_stdv,2))"
   ]
  },
  {
   "cell_type": "markdown",
   "metadata": {},
   "source": [
    "Finally, we see some statistics for both the Udacity set and the University of Washington's set of time in second difference between the Congruent and Incongruent Stroop Effect test (all are approximate). \n",
    "\n",
    "Udacity:\n",
    "* Mean, 4.86\n",
    "* Standard deviation, 7.96\n",
    "\n",
    "University of Washington:\n",
    "* Mean, 11.83\n",
    "* Standard deviation, 7.96"
   ]
  },
  {
   "cell_type": "markdown",
   "metadata": {},
   "source": [
    "##### Concluding the Exploratory Data Analysis\n",
    "Two questions that arise from these data:\n",
    "\n",
    "1. Looking only at the Udacity data set, is the mean time to complete the Incongruent set of the Stroop Effect test significantly more than the mean of the Congruent set? It appears to be but a one-tailed hypothesis test may reveal whether or not this is true.\n",
    "\n",
    "2. Comparing the grouped data from University of Washington's Stroop Effect test to the Udacity set, is the mean difference in time between Congruent and Incongruent conditions significantly less in the Udacity set? Again, it appears to be but conducting a one-tailed hypothesis test may reveal if this is the case."
   ]
  },
  {
   "cell_type": "markdown",
   "metadata": {},
   "source": [
    "### Hypothesis Test - Udacity Congruent vs. Incongruent"
   ]
  },
  {
   "cell_type": "markdown",
   "metadata": {},
   "source": [
    "One useful hypothesis test would be to compare the mean time to complete the Congruent task to the Incongruent task for the Udacity data set. Some importan parameters that influence the nature of the hypothesis test:\n",
    "* The sample size, n, is 24, which is less than 30 and warrants using a t-distribution.\n",
    "* The population and standard deviation are unknown which creates the need to use an unbiased estimator for standard deviation when conducting the hypothesis test.\n"
   ]
  },
  {
   "cell_type": "markdown",
   "metadata": {},
   "source": [
    "##### Setting Up the Test Of Significance"
   ]
  },
  {
   "cell_type": "markdown",
   "metadata": {},
   "source": [
    "Within the Udacity data set, is the mean time to complete the Incongruent task significantly longer than that of the Congruent task?"
   ]
  },
  {
   "cell_type": "code",
   "execution_count": 87,
   "metadata": {
    "collapsed": false
   },
   "outputs": [
    {
     "name": "stdout",
     "output_type": "stream",
     "text": [
      "Congruent task mean: 14.0511\n",
      "Incongruent task mean: 22.0159\n"
     ]
    }
   ],
   "source": [
    "# compute the mean for both Congruent and Incongruent tasks\n",
    "udacity_cong_mean = stats.mean(stroop['Congruent'])\n",
    "udacity_incong_mean = stats.mean(stroop['Incongruent'])\n",
    "\n",
    "print(\"Congruent task mean: %s\" % round(udacity_cong_mean,4))\n",
    "print(\"Incongruent task mean: %s\" % round(udacity_incong_mean,4))"
   ]
  },
  {
   "cell_type": "markdown",
   "metadata": {},
   "source": [
    "The Incongruent task mean is definitely larger. The below dataframe isolates the Incongruent task column to assist in calculating the unbiased estimator for standard deviation:"
   ]
  },
  {
   "cell_type": "code",
   "execution_count": 88,
   "metadata": {
    "collapsed": false
   },
   "outputs": [
    {
     "data": {
      "text/html": [
       "<div>\n",
       "<table border=\"1\" class=\"dataframe\">\n",
       "  <thead>\n",
       "    <tr style=\"text-align: right;\">\n",
       "      <th></th>\n",
       "      <th>Incongruent</th>\n",
       "      <th>(xi-xb)^2</th>\n",
       "    </tr>\n",
       "  </thead>\n",
       "  <tbody>\n",
       "    <tr>\n",
       "      <th>0</th>\n",
       "      <td>19.278</td>\n",
       "      <td>7.496188</td>\n",
       "    </tr>\n",
       "    <tr>\n",
       "      <th>1</th>\n",
       "      <td>18.741</td>\n",
       "      <td>10.725079</td>\n",
       "    </tr>\n",
       "    <tr>\n",
       "      <th>2</th>\n",
       "      <td>21.214</td>\n",
       "      <td>0.643070</td>\n",
       "    </tr>\n",
       "    <tr>\n",
       "      <th>3</th>\n",
       "      <td>15.687</td>\n",
       "      <td>40.055186</td>\n",
       "    </tr>\n",
       "    <tr>\n",
       "      <th>4</th>\n",
       "      <td>22.803</td>\n",
       "      <td>0.619500</td>\n",
       "    </tr>\n",
       "  </tbody>\n",
       "</table>\n",
       "</div>"
      ],
      "text/plain": [
       "   Incongruent  (xi-xb)^2\n",
       "0       19.278   7.496188\n",
       "1       18.741  10.725079\n",
       "2       21.214   0.643070\n",
       "3       15.687  40.055186\n",
       "4       22.803   0.619500"
      ]
     },
     "execution_count": 88,
     "metadata": {},
     "output_type": "execute_result"
    }
   ],
   "source": [
    "udacity_incong = pd.DataFrame(stroop['Incongruent'])\n",
    "\n",
    "for row in udacity_cong:\n",
    "    udacity_incong['(xi-xb)^2'] = (udacity_incong['Incongruent'] - udacity_incong_mean)**2\n",
    "\n",
    "udacity_incong.head()"
   ]
  },
  {
   "cell_type": "code",
   "execution_count": 89,
   "metadata": {
    "collapsed": false
   },
   "outputs": [
    {
     "name": "stdout",
     "output_type": "stream",
     "text": [
      "The unbiased estimator for standard deviation: 4.7971\n"
     ]
    }
   ],
   "source": [
    "# compute the unbiasted estimator for stanard deviation of Incongruent set\n",
    "udacity_incong_ubstdv = math.sqrt(udacity_incong['(xi-xb)^2'].sum() / (udacity_incong['Incongruent'].count() - 1))\n",
    "print(\"The unbiased estimator for standard deviation: %s\" % round(udacity_incong_ubstdv,4))"
   ]
  },
  {
   "cell_type": "markdown",
   "metadata": {},
   "source": [
    "The following hypothesis test will examine whether or not the mean of the Incongruent task is significantly more than that of the Congruent task. The important parameters (estimates) for the hypothesis test are:\n",
    "\n",
    "*Incongruent set*\n",
    "* Sample size: 24\n",
    "* Incongruent task mean: 22.0159\n",
    "* Unbiased estimator for standard deviation: 4.7971\n",
    "\n",
    "*Congruent set*\n",
    "* Congruent task mean: 14.0511"
   ]
  },
  {
   "cell_type": "code",
   "execution_count": 114,
   "metadata": {
    "collapsed": false
   },
   "outputs": [],
   "source": [
    "from IPython.display import display, Math, Latex"
   ]
  },
  {
   "cell_type": "code",
   "execution_count": 124,
   "metadata": {
    "collapsed": false
   },
   "outputs": [
    {
     "data": {
      "text/latex": [
       "$$\\alpha = 0.05$$"
      ],
      "text/plain": [
       "<IPython.core.display.Math object>"
      ]
     },
     "metadata": {},
     "output_type": "display_data"
    }
   ],
   "source": [
    "display(Math(r'\\alpha = 0.05'))"
   ]
  },
  {
   "cell_type": "code",
   "execution_count": 115,
   "metadata": {
    "collapsed": false,
    "scrolled": true
   },
   "outputs": [
    {
     "data": {
      "text/latex": [
       "$$H_0:\\mu = 14.0511$$"
      ],
      "text/plain": [
       "<IPython.core.display.Math object>"
      ]
     },
     "metadata": {},
     "output_type": "display_data"
    }
   ],
   "source": [
    "display(Math(r'H_0:\\mu = 14.0511'))"
   ]
  },
  {
   "cell_type": "markdown",
   "metadata": {},
   "source": [
    "vs."
   ]
  },
  {
   "cell_type": "code",
   "execution_count": 117,
   "metadata": {
    "collapsed": false
   },
   "outputs": [
    {
     "data": {
      "text/latex": [
       "$$H_1:\\mu > 14.0511$$"
      ],
      "text/plain": [
       "<IPython.core.display.Math object>"
      ]
     },
     "metadata": {},
     "output_type": "display_data"
    }
   ],
   "source": [
    "\n",
    "display(Math(r'H_1:\\mu > 14.0511'))"
   ]
  },
  {
   "cell_type": "markdown",
   "metadata": {},
   "source": [
    "$e^{i\\pi} + 1 = 0$"
   ]
  },
  {
   "cell_type": "markdown",
   "metadata": {},
   "source": [
    "$$\\sum_{i=0}^n i^2 = \\frac{(n^2+n)(2n+1)}{6}$$ and words around the formula"
   ]
  },
  {
   "cell_type": "code",
   "execution_count": null,
   "metadata": {
    "collapsed": true
   },
   "outputs": [],
   "source": []
  }
 ],
 "metadata": {
  "anaconda-cloud": {},
  "kernelspec": {
   "display_name": "Python [conda env:bunnies]",
   "language": "python",
   "name": "conda-env-bunnies-py"
  },
  "language_info": {
   "codemirror_mode": {
    "name": "ipython",
    "version": 3
   },
   "file_extension": ".py",
   "mimetype": "text/x-python",
   "name": "python",
   "nbconvert_exporter": "python",
   "pygments_lexer": "ipython3",
   "version": "3.5.2"
  }
 },
 "nbformat": 4,
 "nbformat_minor": 1
}
