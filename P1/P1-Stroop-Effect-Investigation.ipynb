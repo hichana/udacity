{
 "cells": [
  {
   "cell_type": "markdown",
   "metadata": {},
   "source": [
    "# Stroop Effect Test Investigation"
   ]
  },
  {
   "cell_type": "markdown",
   "metadata": {},
   "source": [
    "This jupyter notebook is my submission for the P1 section of the Data Analyst Nanodegree project 'Statistics: The Science of Decisions'. Each section of this notebook corresponds to a question from the [project Instructions page](https://docs.google.com/document/d/1-OkpZLjG_kX9J6LIQ5IltsqMzVWjh36QpnP2RYpVdPU/pub?embedded=True)."
   ]
  },
  {
   "cell_type": "markdown",
   "metadata": {},
   "source": [
    "### Question 1:\n",
    "** *What is our independent variable? What is our dependent variable?* **\n",
    "\n",
    "The independent variable is the word set a participant is given (congruent or incongruent) and the dependent variable is the time it takes a participant in the experiment to name the ink colors in the two equally-sized lists."
   ]
  },
  {
   "cell_type": "markdown",
   "metadata": {},
   "source": [
    "### Question 2:\n",
    "** *What is an appropriate set of hypotheses for this task? What kind of statistical test do you expect to perform? Justify your choices.* **\n",
    "\n",
    "An appropriate set of hypotheses that may allow us to make inferences about the population of possible Stroop Effect test takers are:\n",
    "* Null Hypothesis ($H_0$): The population mean difference in time between the Incongruent and Congruent task (Incongruent task time minus Congruent task time), denoted here as $\\mu$, is zero.\n",
    "* Alternative Hypothesis ($H_1$): $\\mu$ is greater than zero.\n",
    "\n",
    "Intuitively, if the Incongruent task takes longer on average than the Congruent task we would expect $\\mu$ to be positive, which is why the following hypothesis test is appropriate:\n",
    "\n",
    "$$H_0:\\mu = 0 \\text{ versus } H_1:\\mu > 0$$\n",
    "\n",
    "Because the Stroop Effect test included a repeated measurement with the same participants under two conditions, it seems appropriate to use a dependent t-test for paired samples to evaluate these hypotheses. Specifically, this will be a one-sample (using the difference between Incongruent and Congruent tasks) , one-tailed t-procedure.\n",
    "\n",
    "The assumptions for the hypothesis test are:\n",
    "\n",
    "* The population of D is assumed to be normally distributed noting here that \"one-sample t-tests are considered \"robust\" for violations of normal distributions\" according to the [Emory University Psychology department notes on Test Assumptions for statistical tests](http://www.psychology.emory.edu/clinical/bliwise/Tutorials/TOM/meanstests/assump.htm). Although later in this notebook a Normal Quantile-Quantile plot and a histogram reveal a couple outliers in the data, the distribution does not appear to be \"highly skewed\". I maintain that it is still appropriate to use a parameteric test with the t-distribution.\n",
    "* we also assume that participants were selected at random from the population.\n",
    "* The sample size here is n=24, which is less than 30 and requires the hypothesis test to follow a t-distribution with $n-1$ degrees of freedom.\n",
    "* We do not know the population's standard deviation so the unbiased estimator for standard deviation, $\\hat{s}$, will be used, which further justifies the use of a t-distribution here."
   ]
  },
  {
   "cell_type": "markdown",
   "metadata": {},
   "source": [
    "### Question 3:\n",
    "** *Report some descriptive statistics regarding this dataset. Include at least one measure of central tendency and at least one measure of variability.* **\n",
    "\n",
    "The following two sub-sections of this notebook contain a data set along with descriptive statistics for each. The first is the 'Udacity data set', which contains twenty four participants' recorded times for both the congruent and incongruent tasks. The second is the 'University of Washington data set' which is a set of grouped data that I captured manually from the last page in the sequence of pages on the UW (University of Washington) Stroop Effect test website. More details on the two data sets and descriptive statistics are provided below."
   ]
  },
  {
   "cell_type": "markdown",
   "metadata": {},
   "source": [
    "##### Udacity data set\n",
    "\n",
    "Within Udacity's project description a [link was provided to a small set of twenty four recorded times](https://drive.google.com/file/d/0B9Yf01UaIbUgQXpYb2NhZ29yX1U/view) for the Stroop Effect test. For each row, the time to complete the Congruent task was provided along side the time to complete the Incongruent task. The below table displays all 24 participants recorded times for both conditions."
   ]
  },
  {
   "cell_type": "code",
   "execution_count": 47,
   "metadata": {},
   "outputs": [
    {
     "data": {
      "text/html": [
       "<div>\n",
       "<table border=\"1\" class=\"dataframe\">\n",
       "  <thead>\n",
       "    <tr style=\"text-align: right;\">\n",
       "      <th></th>\n",
       "      <th>Congruent</th>\n",
       "      <th>Incongruent</th>\n",
       "      <th>Difference</th>\n",
       "    </tr>\n",
       "  </thead>\n",
       "  <tbody>\n",
       "    <tr>\n",
       "      <th>0</th>\n",
       "      <td>12.079</td>\n",
       "      <td>19.278</td>\n",
       "      <td>7.199</td>\n",
       "    </tr>\n",
       "    <tr>\n",
       "      <th>1</th>\n",
       "      <td>16.791</td>\n",
       "      <td>18.741</td>\n",
       "      <td>1.950</td>\n",
       "    </tr>\n",
       "    <tr>\n",
       "      <th>2</th>\n",
       "      <td>9.564</td>\n",
       "      <td>21.214</td>\n",
       "      <td>11.650</td>\n",
       "    </tr>\n",
       "    <tr>\n",
       "      <th>3</th>\n",
       "      <td>8.630</td>\n",
       "      <td>15.687</td>\n",
       "      <td>7.057</td>\n",
       "    </tr>\n",
       "    <tr>\n",
       "      <th>4</th>\n",
       "      <td>14.669</td>\n",
       "      <td>22.803</td>\n",
       "      <td>8.134</td>\n",
       "    </tr>\n",
       "    <tr>\n",
       "      <th>5</th>\n",
       "      <td>12.238</td>\n",
       "      <td>20.878</td>\n",
       "      <td>8.640</td>\n",
       "    </tr>\n",
       "    <tr>\n",
       "      <th>6</th>\n",
       "      <td>14.692</td>\n",
       "      <td>24.572</td>\n",
       "      <td>9.880</td>\n",
       "    </tr>\n",
       "    <tr>\n",
       "      <th>7</th>\n",
       "      <td>8.987</td>\n",
       "      <td>17.394</td>\n",
       "      <td>8.407</td>\n",
       "    </tr>\n",
       "    <tr>\n",
       "      <th>8</th>\n",
       "      <td>9.401</td>\n",
       "      <td>20.762</td>\n",
       "      <td>11.361</td>\n",
       "    </tr>\n",
       "    <tr>\n",
       "      <th>9</th>\n",
       "      <td>14.480</td>\n",
       "      <td>26.282</td>\n",
       "      <td>11.802</td>\n",
       "    </tr>\n",
       "    <tr>\n",
       "      <th>10</th>\n",
       "      <td>22.328</td>\n",
       "      <td>24.524</td>\n",
       "      <td>2.196</td>\n",
       "    </tr>\n",
       "    <tr>\n",
       "      <th>11</th>\n",
       "      <td>15.298</td>\n",
       "      <td>18.644</td>\n",
       "      <td>3.346</td>\n",
       "    </tr>\n",
       "    <tr>\n",
       "      <th>12</th>\n",
       "      <td>15.073</td>\n",
       "      <td>17.510</td>\n",
       "      <td>2.437</td>\n",
       "    </tr>\n",
       "    <tr>\n",
       "      <th>13</th>\n",
       "      <td>16.929</td>\n",
       "      <td>20.330</td>\n",
       "      <td>3.401</td>\n",
       "    </tr>\n",
       "    <tr>\n",
       "      <th>14</th>\n",
       "      <td>18.200</td>\n",
       "      <td>35.255</td>\n",
       "      <td>17.055</td>\n",
       "    </tr>\n",
       "    <tr>\n",
       "      <th>15</th>\n",
       "      <td>12.130</td>\n",
       "      <td>22.158</td>\n",
       "      <td>10.028</td>\n",
       "    </tr>\n",
       "    <tr>\n",
       "      <th>16</th>\n",
       "      <td>18.495</td>\n",
       "      <td>25.139</td>\n",
       "      <td>6.644</td>\n",
       "    </tr>\n",
       "    <tr>\n",
       "      <th>17</th>\n",
       "      <td>10.639</td>\n",
       "      <td>20.429</td>\n",
       "      <td>9.790</td>\n",
       "    </tr>\n",
       "    <tr>\n",
       "      <th>18</th>\n",
       "      <td>11.344</td>\n",
       "      <td>17.425</td>\n",
       "      <td>6.081</td>\n",
       "    </tr>\n",
       "    <tr>\n",
       "      <th>19</th>\n",
       "      <td>12.369</td>\n",
       "      <td>34.288</td>\n",
       "      <td>21.919</td>\n",
       "    </tr>\n",
       "    <tr>\n",
       "      <th>20</th>\n",
       "      <td>12.944</td>\n",
       "      <td>23.894</td>\n",
       "      <td>10.950</td>\n",
       "    </tr>\n",
       "    <tr>\n",
       "      <th>21</th>\n",
       "      <td>14.233</td>\n",
       "      <td>17.960</td>\n",
       "      <td>3.727</td>\n",
       "    </tr>\n",
       "    <tr>\n",
       "      <th>22</th>\n",
       "      <td>19.710</td>\n",
       "      <td>22.058</td>\n",
       "      <td>2.348</td>\n",
       "    </tr>\n",
       "    <tr>\n",
       "      <th>23</th>\n",
       "      <td>16.004</td>\n",
       "      <td>21.157</td>\n",
       "      <td>5.153</td>\n",
       "    </tr>\n",
       "  </tbody>\n",
       "</table>\n",
       "</div>"
      ],
      "text/plain": [
       "    Congruent  Incongruent  Difference\n",
       "0      12.079       19.278       7.199\n",
       "1      16.791       18.741       1.950\n",
       "2       9.564       21.214      11.650\n",
       "3       8.630       15.687       7.057\n",
       "4      14.669       22.803       8.134\n",
       "5      12.238       20.878       8.640\n",
       "6      14.692       24.572       9.880\n",
       "7       8.987       17.394       8.407\n",
       "8       9.401       20.762      11.361\n",
       "9      14.480       26.282      11.802\n",
       "10     22.328       24.524       2.196\n",
       "11     15.298       18.644       3.346\n",
       "12     15.073       17.510       2.437\n",
       "13     16.929       20.330       3.401\n",
       "14     18.200       35.255      17.055\n",
       "15     12.130       22.158      10.028\n",
       "16     18.495       25.139       6.644\n",
       "17     10.639       20.429       9.790\n",
       "18     11.344       17.425       6.081\n",
       "19     12.369       34.288      21.919\n",
       "20     12.944       23.894      10.950\n",
       "21     14.233       17.960       3.727\n",
       "22     19.710       22.058       2.348\n",
       "23     16.004       21.157       5.153"
      ]
     },
     "execution_count": 47,
     "metadata": {},
     "output_type": "execute_result"
    }
   ],
   "source": [
    "# load and display the data with difference calculated\n",
    "import pandas as pd\n",
    "\n",
    "stroop = pd.read_csv('supporting-files/stroopdata.csv')\n",
    "\n",
    "for row in stroop:\n",
    "    stroop['Difference'] = stroop['Incongruent'] - stroop['Congruent']\n",
    "\n",
    "stroop"
   ]
  },
  {
   "cell_type": "markdown",
   "metadata": {},
   "source": [
    "The sample size for this data set is $n=24$.\n",
    "Let X = time to complete a word set under the Congruent condition\n",
    "Let Y = time to complete a word set under the Incongruent condition"
   ]
  },
  {
   "cell_type": "markdown",
   "metadata": {},
   "source": [
    "The sample mean for the incongruent task is calculated by summing all $x_i$ values and dividing by $n$:"
   ]
  },
  {
   "cell_type": "markdown",
   "metadata": {},
   "source": [
    "$$\\bar{x}=\\frac{\\sum_{i=1}^{n}x_i}{n}$$"
   ]
  },
  {
   "cell_type": "code",
   "execution_count": 48,
   "metadata": {},
   "outputs": [
    {
     "name": "stdout",
     "output_type": "stream",
     "text": [
      "Congruent task mean: 14.051125000000004\n",
      "Incongruent task mean: 22.01591666666667\n"
     ]
    }
   ],
   "source": [
    "# compute the sample mean of the congruent and incongruent task\n",
    "cong_mean = stroop['Congruent'].mean()\n",
    "incong_mean = stroop['Incongruent'].mean()\n",
    "print('Congruent task mean: %s' % cong_mean)\n",
    "print('Incongruent task mean: %s' % incong_mean)"
   ]
  },
  {
   "cell_type": "markdown",
   "metadata": {},
   "source": [
    "The sample mean of the congruent and incongruent sets are:\n",
    "$$\\bar{x} \\approx 14.0511$$\n",
    "$$\\bar{y} \\approx 22.0159$$"
   ]
  },
  {
   "cell_type": "markdown",
   "metadata": {
    "collapsed": true
   },
   "source": [
    "A measure of dispersion about the mean is also necessary for the hypothesis test. For this, the unbiased estimator for standard deviation will be used because our sample size is less than thirty. The unbiased estimator for standard deviation is calculated by taking the square root of the variance, which is the sum of the squared deviations from the mean divided by n minus 1:\n",
    "$$\\hat{s} = \\sqrt{\\hat{s}} = \\sqrt{\\frac{1}{n-1}*\\sum_{i=1}^{n}(x_i - \\bar x)^2}$$"
   ]
  },
  {
   "cell_type": "code",
   "execution_count": 49,
   "metadata": {},
   "outputs": [
    {
     "name": "stdout",
     "output_type": "stream",
     "text": [
      "Congruent task unbiased estimator for standard deviation: 3.5593579576451955\n",
      "Incongruent task unbiased estimator for standard deviation: 4.7970571224691385\n"
     ]
    }
   ],
   "source": [
    "# compute the unbiased estimator for standard deviation\n",
    "import statistics as stats\n",
    "cong_ustdv = stats.stdev(stroop['Congruent'])\n",
    "incong_ustdv = stats.stdev(stroop['Incongruent'])\n",
    "print('Congruent task unbiased estimator for standard deviation: %s' % cong_ustdv)\n",
    "print('Incongruent task unbiased estimator for standard deviation: %s' % incong_ustdv)"
   ]
  },
  {
   "cell_type": "markdown",
   "metadata": {},
   "source": [
    "The unbiased estimator for standard deviation of the congruent and incongruent task is:\n",
    "$$\\hat{s}_x \\approx 3.5594$$\n",
    "$$\\hat{s}_y \\approx 4.7971$$"
   ]
  },
  {
   "cell_type": "markdown",
   "metadata": {},
   "source": [
    "##### University of Washington data set\n",
    "\n",
    "Aside from the data set of 24 participants provided in the project instructions, another set can be uncovered in [the University of Washington's online Stroop test](https://faculty.washington.edu/chudler/java/ready.html). After taking the test, a page is displayed where one can enter one's results from both the Congruent and Incongruent tasks. After doing so a grouped breakdown of all participants' performance up until that point is revealed. When I completed the test I was the 204,083rd person to record a time. I captured the values manually and added them to the below dataframe. The intervals in this grouped data represent the **increase** in time taken to complete the test between the Congruent and Incongruent tasks. Here 'Total' represents the total number of people to have recorded their times (aka, the frequency of each measurement where a measurement is the 'Midpoint')."
   ]
  },
  {
   "cell_type": "code",
   "execution_count": 50,
   "metadata": {},
   "outputs": [
    {
     "data": {
      "text/html": [
       "<div>\n",
       "<table border=\"1\" class=\"dataframe\">\n",
       "  <thead>\n",
       "    <tr style=\"text-align: right;\">\n",
       "      <th></th>\n",
       "      <th>Interval</th>\n",
       "      <th>Midpoint</th>\n",
       "      <th>Total</th>\n",
       "    </tr>\n",
       "  </thead>\n",
       "  <tbody>\n",
       "    <tr>\n",
       "      <th>0</th>\n",
       "      <td>0-5 sec</td>\n",
       "      <td>2.5</td>\n",
       "      <td>40098</td>\n",
       "    </tr>\n",
       "    <tr>\n",
       "      <th>1</th>\n",
       "      <td>5-10 sec</td>\n",
       "      <td>7.5</td>\n",
       "      <td>52420</td>\n",
       "    </tr>\n",
       "    <tr>\n",
       "      <th>2</th>\n",
       "      <td>10-15 sec</td>\n",
       "      <td>12.5</td>\n",
       "      <td>48947</td>\n",
       "    </tr>\n",
       "    <tr>\n",
       "      <th>3</th>\n",
       "      <td>15-20 sec</td>\n",
       "      <td>17.5</td>\n",
       "      <td>23050</td>\n",
       "    </tr>\n",
       "    <tr>\n",
       "      <th>4</th>\n",
       "      <td>20-25 sec</td>\n",
       "      <td>22.5</td>\n",
       "      <td>11958</td>\n",
       "    </tr>\n",
       "    <tr>\n",
       "      <th>5</th>\n",
       "      <td>25-30 sec</td>\n",
       "      <td>27.5</td>\n",
       "      <td>4927</td>\n",
       "    </tr>\n",
       "    <tr>\n",
       "      <th>6</th>\n",
       "      <td>30-35 sec</td>\n",
       "      <td>32.5</td>\n",
       "      <td>3047</td>\n",
       "    </tr>\n",
       "    <tr>\n",
       "      <th>7</th>\n",
       "      <td>35-40 sec</td>\n",
       "      <td>37.5</td>\n",
       "      <td>1930</td>\n",
       "    </tr>\n",
       "    <tr>\n",
       "      <th>8</th>\n",
       "      <td>More than 40 sec</td>\n",
       "      <td>42.5</td>\n",
       "      <td>3897</td>\n",
       "    </tr>\n",
       "  </tbody>\n",
       "</table>\n",
       "</div>"
      ],
      "text/plain": [
       "           Interval  Midpoint  Total\n",
       "0           0-5 sec       2.5  40098\n",
       "1          5-10 sec       7.5  52420\n",
       "2         10-15 sec      12.5  48947\n",
       "3         15-20 sec      17.5  23050\n",
       "4         20-25 sec      22.5  11958\n",
       "5         25-30 sec      27.5   4927\n",
       "6         30-35 sec      32.5   3047\n",
       "7         35-40 sec      37.5   1930\n",
       "8  More than 40 sec      42.5   3897"
      ]
     },
     "execution_count": 50,
     "metadata": {},
     "output_type": "execute_result"
    }
   ],
   "source": [
    "interval = ['0-5 sec','5-10 sec','10-15 sec','15-20 sec','20-25 sec','25-30 sec','30-35 sec','35-40 sec','More than 40 sec']\n",
    "grouped_values = [40098,52420,48947,23050,11958,4927,3047,1930,3897]\n",
    "midpoint = [2.5, 7.5, 12.5, 17.5, 22.5, 27.5, 32.5, 37.5, 42.5]\n",
    "\n",
    "uw_grouped_data = pd.DataFrame({'Interval':interval,\n",
    "                               'Midpoint':midpoint,\n",
    "                               'Total':grouped_values})\n",
    "uw_grouped_data"
   ]
  },
  {
   "cell_type": "markdown",
   "metadata": {},
   "source": [
    "Two important notes about the University of Washington data:\n",
    "\n",
    "I suspect that this grouped data contains inaccuracies. First, a small percentage of people (approximately 7%) claimed that the Incongruent word set took them **less** time to complete than the Congruent set. For the purposes of grouping the data in a similar fashion to the Udacity set I've disregarded such instances. While it may be true that, for a small proportion of the sample, the time to complete the incongruent task was less than the congruent task, I suspect some people are misreporting. The  data from the UW website is compiled from manual user-input (people selecting a radio button to note their times and submitting the result - this instead of the website somehow calculating this for them). People may be just clicking through, or selecting one of the first times they can in order to get to the summary page to see the full summary of all participants' times. \n",
    "\n",
    "Second, slightly less than 2% of participants took more than 40 seconds longer to complete the Incongruent set compared to the Congruent. It seems reasonable to group them in a category 'lasting more than 40 sec' given the true nature of the tail of this part of the distribution is unknown.\n",
    "\n",
    "Overall it seems capturing the grouped data, while interesting, may not be sufficiently accurate to justify using it for a statistical investigation. As an exercise into working with already-grouped data, I'll report some descriptive statistics below:\n",
    "\n",
    "Let G = the difference in time for someone in completing the Congruent task and the Incongruent task."
   ]
  },
  {
   "cell_type": "code",
   "execution_count": 51,
   "metadata": {},
   "outputs": [
    {
     "name": "stdout",
     "output_type": "stream",
     "text": [
      "UW sample size: 190274\n"
     ]
    }
   ],
   "source": [
    "# compute the sample size\n",
    "uw_n = uw_grouped_data['Total'].sum()\n",
    "print('UW sample size: %s' % uw_n)"
   ]
  },
  {
   "cell_type": "markdown",
   "metadata": {},
   "source": [
    "The sample size for this data set is is 190274: $$n_g=190274$$"
   ]
  },
  {
   "cell_type": "markdown",
   "metadata": {},
   "source": [
    "The sample mean for the grouped data is calculated by summing all $g_j$ (distinct measurements) multiplied by their frequency $t(g_j)$ and dividing by n:\n",
    "$$\\bar{g} = \\frac{\\sum_{j=1}^{m} (g_j * t(g_j))}{n_g}$$"
   ]
  },
  {
   "cell_type": "code",
   "execution_count": 52,
   "metadata": {},
   "outputs": [
    {
     "data": {
      "text/html": [
       "<div>\n",
       "<table border=\"1\" class=\"dataframe\">\n",
       "  <thead>\n",
       "    <tr style=\"text-align: right;\">\n",
       "      <th></th>\n",
       "      <th>Interval</th>\n",
       "      <th>Midpoint</th>\n",
       "      <th>Total</th>\n",
       "      <th>gj*t(gj)</th>\n",
       "    </tr>\n",
       "  </thead>\n",
       "  <tbody>\n",
       "    <tr>\n",
       "      <th>0</th>\n",
       "      <td>0-5 sec</td>\n",
       "      <td>2.5</td>\n",
       "      <td>40098</td>\n",
       "      <td>100245.0</td>\n",
       "    </tr>\n",
       "    <tr>\n",
       "      <th>1</th>\n",
       "      <td>5-10 sec</td>\n",
       "      <td>7.5</td>\n",
       "      <td>52420</td>\n",
       "      <td>393150.0</td>\n",
       "    </tr>\n",
       "    <tr>\n",
       "      <th>2</th>\n",
       "      <td>10-15 sec</td>\n",
       "      <td>12.5</td>\n",
       "      <td>48947</td>\n",
       "      <td>611837.5</td>\n",
       "    </tr>\n",
       "    <tr>\n",
       "      <th>3</th>\n",
       "      <td>15-20 sec</td>\n",
       "      <td>17.5</td>\n",
       "      <td>23050</td>\n",
       "      <td>403375.0</td>\n",
       "    </tr>\n",
       "    <tr>\n",
       "      <th>4</th>\n",
       "      <td>20-25 sec</td>\n",
       "      <td>22.5</td>\n",
       "      <td>11958</td>\n",
       "      <td>269055.0</td>\n",
       "    </tr>\n",
       "    <tr>\n",
       "      <th>5</th>\n",
       "      <td>25-30 sec</td>\n",
       "      <td>27.5</td>\n",
       "      <td>4927</td>\n",
       "      <td>135492.5</td>\n",
       "    </tr>\n",
       "    <tr>\n",
       "      <th>6</th>\n",
       "      <td>30-35 sec</td>\n",
       "      <td>32.5</td>\n",
       "      <td>3047</td>\n",
       "      <td>99027.5</td>\n",
       "    </tr>\n",
       "    <tr>\n",
       "      <th>7</th>\n",
       "      <td>35-40 sec</td>\n",
       "      <td>37.5</td>\n",
       "      <td>1930</td>\n",
       "      <td>72375.0</td>\n",
       "    </tr>\n",
       "    <tr>\n",
       "      <th>8</th>\n",
       "      <td>More than 40 sec</td>\n",
       "      <td>42.5</td>\n",
       "      <td>3897</td>\n",
       "      <td>165622.5</td>\n",
       "    </tr>\n",
       "  </tbody>\n",
       "</table>\n",
       "</div>"
      ],
      "text/plain": [
       "           Interval  Midpoint  Total  gj*t(gj)\n",
       "0           0-5 sec       2.5  40098  100245.0\n",
       "1          5-10 sec       7.5  52420  393150.0\n",
       "2         10-15 sec      12.5  48947  611837.5\n",
       "3         15-20 sec      17.5  23050  403375.0\n",
       "4         20-25 sec      22.5  11958  269055.0\n",
       "5         25-30 sec      27.5   4927  135492.5\n",
       "6         30-35 sec      32.5   3047   99027.5\n",
       "7         35-40 sec      37.5   1930   72375.0\n",
       "8  More than 40 sec      42.5   3897  165622.5"
      ]
     },
     "execution_count": 52,
     "metadata": {},
     "output_type": "execute_result"
    }
   ],
   "source": [
    "# prepare UW grouped data frame for computing mean\n",
    "for row in uw_grouped_data:\n",
    "    uw_grouped_data['gj*t(gj)'] = uw_grouped_data['Midpoint'] * uw_grouped_data['Total']\n",
    "uw_grouped_data"
   ]
  },
  {
   "cell_type": "code",
   "execution_count": 53,
   "metadata": {},
   "outputs": [
    {
     "name": "stdout",
     "output_type": "stream",
     "text": [
      "UW sample mean is: 11.82599829719247\n"
     ]
    }
   ],
   "source": [
    "# compute the mean\n",
    "uw_mean = uw_grouped_data['gj*t(gj)'].sum() / uw_grouped_data['Total'].sum()\n",
    "print(\"UW sample mean is: %s\" % uw_mean)"
   ]
  },
  {
   "cell_type": "markdown",
   "metadata": {},
   "source": [
    "The sample mean time as an increase from congruent to incongruent tasks for the grouped UW set is: $$\\bar{g} \\approx 11.8260$$"
   ]
  },
  {
   "cell_type": "markdown",
   "metadata": {},
   "source": [
    "In computing the standard deviation for this grouped data, our sample size is sufficiently large enough that the unbiased estimator for standard deviation is not needed. The standard deviation is calculated by taking the square root of variance, which is the sum of the squared deviation of the measurements ('Midpoints') from the mean, multiplied by their respective frequency and divided by n: \n",
    "$$s_g = \\sqrt{s_g^2} = \\sqrt{\\frac{1}{n_g}*(\\sum_{j=1}^{m}(g_j - \\bar{g})^2} * t(g_j))$$"
   ]
  },
  {
   "cell_type": "code",
   "execution_count": 54,
   "metadata": {},
   "outputs": [
    {
     "data": {
      "text/html": [
       "<div>\n",
       "<table border=\"1\" class=\"dataframe\">\n",
       "  <thead>\n",
       "    <tr style=\"text-align: right;\">\n",
       "      <th></th>\n",
       "      <th>Interval</th>\n",
       "      <th>Midpoint</th>\n",
       "      <th>Total</th>\n",
       "      <th>gj*t(gj)</th>\n",
       "      <th>dev_calc</th>\n",
       "    </tr>\n",
       "  </thead>\n",
       "  <tbody>\n",
       "    <tr>\n",
       "      <th>0</th>\n",
       "      <td>0-5 sec</td>\n",
       "      <td>2.5</td>\n",
       "      <td>40098</td>\n",
       "      <td>100245.0</td>\n",
       "      <td>3.487493e+06</td>\n",
       "    </tr>\n",
       "    <tr>\n",
       "      <th>1</th>\n",
       "      <td>5-10 sec</td>\n",
       "      <td>7.5</td>\n",
       "      <td>52420</td>\n",
       "      <td>393150.0</td>\n",
       "      <td>9.810016e+05</td>\n",
       "    </tr>\n",
       "    <tr>\n",
       "      <th>2</th>\n",
       "      <td>10-15 sec</td>\n",
       "      <td>12.5</td>\n",
       "      <td>48947</td>\n",
       "      <td>611837.5</td>\n",
       "      <td>2.223556e+04</td>\n",
       "    </tr>\n",
       "    <tr>\n",
       "      <th>3</th>\n",
       "      <td>15-20 sec</td>\n",
       "      <td>17.5</td>\n",
       "      <td>23050</td>\n",
       "      <td>403375.0</td>\n",
       "      <td>7.420785e+05</td>\n",
       "    </tr>\n",
       "    <tr>\n",
       "      <th>4</th>\n",
       "      <td>20-25 sec</td>\n",
       "      <td>22.5</td>\n",
       "      <td>11958</td>\n",
       "      <td>269055.0</td>\n",
       "      <td>1.362427e+06</td>\n",
       "    </tr>\n",
       "    <tr>\n",
       "      <th>5</th>\n",
       "      <td>25-30 sec</td>\n",
       "      <td>27.5</td>\n",
       "      <td>4927</td>\n",
       "      <td>135492.5</td>\n",
       "      <td>1.210437e+06</td>\n",
       "    </tr>\n",
       "    <tr>\n",
       "      <th>6</th>\n",
       "      <td>30-35 sec</td>\n",
       "      <td>32.5</td>\n",
       "      <td>3047</td>\n",
       "      <td>99027.5</td>\n",
       "      <td>1.302332e+06</td>\n",
       "    </tr>\n",
       "    <tr>\n",
       "      <th>7</th>\n",
       "      <td>35-40 sec</td>\n",
       "      <td>37.5</td>\n",
       "      <td>1930</td>\n",
       "      <td>72375.0</td>\n",
       "      <td>1.272168e+06</td>\n",
       "    </tr>\n",
       "    <tr>\n",
       "      <th>8</th>\n",
       "      <td>More than 40 sec</td>\n",
       "      <td>42.5</td>\n",
       "      <td>3897</td>\n",
       "      <td>165622.5</td>\n",
       "      <td>3.666665e+06</td>\n",
       "    </tr>\n",
       "  </tbody>\n",
       "</table>\n",
       "</div>"
      ],
      "text/plain": [
       "           Interval  Midpoint  Total  gj*t(gj)      dev_calc\n",
       "0           0-5 sec       2.5  40098  100245.0  3.487493e+06\n",
       "1          5-10 sec       7.5  52420  393150.0  9.810016e+05\n",
       "2         10-15 sec      12.5  48947  611837.5  2.223556e+04\n",
       "3         15-20 sec      17.5  23050  403375.0  7.420785e+05\n",
       "4         20-25 sec      22.5  11958  269055.0  1.362427e+06\n",
       "5         25-30 sec      27.5   4927  135492.5  1.210437e+06\n",
       "6         30-35 sec      32.5   3047   99027.5  1.302332e+06\n",
       "7         35-40 sec      37.5   1930   72375.0  1.272168e+06\n",
       "8  More than 40 sec      42.5   3897  165622.5  3.666665e+06"
      ]
     },
     "execution_count": 54,
     "metadata": {},
     "output_type": "execute_result"
    }
   ],
   "source": [
    "# prepare UW grouped data for computing the standard deviation\n",
    "for row in uw_grouped_data:\n",
    "    uw_grouped_data['dev_calc'] = (uw_grouped_data['Midpoint'] - uw_mean)**2 * uw_grouped_data['Total']\n",
    "uw_grouped_data"
   ]
  },
  {
   "cell_type": "code",
   "execution_count": 55,
   "metadata": {},
   "outputs": [
    {
     "name": "stdout",
     "output_type": "stream",
     "text": [
      "UW grouped data standard deviation: 8.592104638868703\n"
     ]
    }
   ],
   "source": [
    "# compute standard deviation for the UW set\n",
    "import math as math\n",
    "\n",
    "uw_stdv = math.sqrt(uw_grouped_data['dev_calc'].sum() / uw_grouped_data['Total'].sum())\n",
    "print(\"UW grouped data standard deviation: %s\" % uw_stdv)"
   ]
  },
  {
   "cell_type": "markdown",
   "metadata": {},
   "source": [
    "The standard deviation for the UW grouped data set is: $$s_g \\approx 8.5921$$"
   ]
  },
  {
   "cell_type": "markdown",
   "metadata": {},
   "source": [
    "### Question 4:\n",
    "** *Provide one or two visualizations that show the distribution of the sample data. Write one or two sentences noting what you observe about the plot or plots.* **\n",
    "\n",
    "For learning and exploration purposes I will visualize both the Udacity and UW data sets, though I intend only on using the Udacity set for my systistical analysis."
   ]
  },
  {
   "cell_type": "markdown",
   "metadata": {},
   "source": [
    "##### Udacity data set visualization\n",
    "\n",
    "Each task, congruent and incongruent, can be grouped in five second bins and plotted in histogram form."
   ]
  },
  {
   "cell_type": "code",
   "execution_count": 56,
   "metadata": {
    "scrolled": false
   },
   "outputs": [
    {
     "data": {
      "image/png": "[encoded data removed]",
      "text/plain": [
       "<matplotlib.figure.Figure at 0x111f05710>"
      ]
     },
     "metadata": {},
     "output_type": "display_data"
    }
   ],
   "source": [
    "import seaborn as sns\n",
    "import matplotlib.pyplot as plt\n",
    "\n",
    "cong = stroop['Congruent']\n",
    "incong = stroop['Incongruent']\n",
    "diff = stroop['Difference']\n",
    "\n",
    "fig, (ax1, ax2, ax3) = plt.subplots(ncols=3, sharey=True)\n",
    "\n",
    "sns.distplot(cong, bins=range(0,45,5), color='green', ax=ax1, kde=False)\n",
    "ax1.set_title(\"Congruent Task\")\n",
    "ax1.set_ylabel(\"number of people\")\n",
    "ax1.set_xlabel(\"seconds to complete\")\n",
    "\n",
    "sns.distplot(incong, bins=range(0,45,5), color='magenta', ax=ax2, kde=False)\n",
    "ax2.set_title(\"Incongruent Task\")\n",
    "ax2.set_xlabel(\"seconds to complete\")\n",
    "\n",
    "sns.distplot(diff, bins=range(0,45,5), color='red', ax=ax3, kde=False)\n",
    "ax3.set_title(\"Difference\")\n",
    "ax3.set_xlabel(\"Increase in time to complete\")\n",
    "\n",
    "plt.show()"
   ]
  },
  {
   "cell_type": "markdown",
   "metadata": {},
   "source": [
    "Clearly the Incongruent task is taking longer to complete for most participants. This supports the statistical test I expect to conduct. \n",
    "\n",
    "A boxplot with a swarmplot superimposed would also be a helpful way to visualize central tendency."
   ]
  },
  {
   "cell_type": "code",
   "execution_count": 57,
   "metadata": {},
   "outputs": [
    {
     "data": {
      "image/png": "[encoded data removed]",
      "text/plain": [
       "<matplotlib.figure.Figure at 0x1175862b0>"
      ]
     },
     "metadata": {},
     "output_type": "display_data"
    }
   ],
   "source": [
    "ax = sns.boxplot(data=stroop)\n",
    "ax = sns.swarmplot(data=stroop, color='.0')\n",
    "\n",
    "mybox = ax.artists[0]\n",
    "mybox.set_facecolor('green')\n",
    "\n",
    "mybox = ax.artists[1]\n",
    "mybox.set_facecolor('magenta')\n",
    "\n",
    "plt.show()"
   ]
  },
  {
   "cell_type": "markdown",
   "metadata": {},
   "source": [
    "Finally, a Normal Quantile-Quantile plot can help visualize whether or not we may consider the population to be normally distributed."
   ]
  },
  {
   "cell_type": "code",
   "execution_count": 58,
   "metadata": {},
   "outputs": [
    {
     "data": {
      "image/png": "[encoded data removed]",
      "text/plain": [
       "<matplotlib.figure.Figure at 0x118de47f0>"
      ]
     },
     "metadata": {},
     "output_type": "display_data"
    }
   ],
   "source": [
    "# the Congruent set\n",
    "from scipy import stats as scistats\n",
    "\n",
    "res1 = scistats.probplot(stroop['Congruent'], plot=plt)\n",
    "plt.show()"
   ]
  },
  {
   "cell_type": "code",
   "execution_count": 59,
   "metadata": {},
   "outputs": [
    {
     "data": {
      "image/png": "[encoded data removed]",
      "text/plain": [
       "<matplotlib.figure.Figure at 0x11900b240>"
      ]
     },
     "metadata": {},
     "output_type": "display_data"
    }
   ],
   "source": [
    "# the Incongruent set\n",
    "res2 = scistats.probplot(stroop['Incongruent'], plot=plt)\n",
    "plt.show()"
   ]
  },
  {
   "cell_type": "markdown",
   "metadata": {},
   "source": [
    "The Incongruent set has a couple of outliers, but it still seems acceptable to consider it as normally distributed:"
   ]
  },
  {
   "cell_type": "code",
   "execution_count": 60,
   "metadata": {},
   "outputs": [
    {
     "data": {
      "image/png": "[encoded data removed]",
      "text/plain": [
       "<matplotlib.figure.Figure at 0x119070710>"
      ]
     },
     "metadata": {},
     "output_type": "display_data"
    }
   ],
   "source": [
    "# the Difference\n",
    "res3 = scistats.probplot(stroop['Difference'], plot=plt)\n",
    "plt.show()"
   ]
  },
  {
   "cell_type": "markdown",
   "metadata": {},
   "source": [
    "Again, the two outliers raise concern that the data is not normally distributed, though overall it seems appropriate to assume normal distribution."
   ]
  },
  {
   "cell_type": "markdown",
   "metadata": {},
   "source": [
    "##### University of Washington data set visualization\n",
    "\n",
    "Although the sample sizes are vastly different, I think it would be interesting to plot the UW data set against the Udacity data set. The below dataframe calculates the difference in time between the congruent and incongruent tasks for the Udacity data set (first five rows are displayed)."
   ]
  },
  {
   "cell_type": "code",
   "execution_count": 61,
   "metadata": {},
   "outputs": [
    {
     "data": {
      "text/html": [
       "<div>\n",
       "<table border=\"1\" class=\"dataframe\">\n",
       "  <thead>\n",
       "    <tr style=\"text-align: right;\">\n",
       "      <th></th>\n",
       "      <th>Congruent</th>\n",
       "      <th>Incongruent</th>\n",
       "      <th>Difference</th>\n",
       "    </tr>\n",
       "  </thead>\n",
       "  <tbody>\n",
       "    <tr>\n",
       "      <th>0</th>\n",
       "      <td>12.079</td>\n",
       "      <td>19.278</td>\n",
       "      <td>7.199</td>\n",
       "    </tr>\n",
       "    <tr>\n",
       "      <th>1</th>\n",
       "      <td>16.791</td>\n",
       "      <td>18.741</td>\n",
       "      <td>1.950</td>\n",
       "    </tr>\n",
       "    <tr>\n",
       "      <th>2</th>\n",
       "      <td>9.564</td>\n",
       "      <td>21.214</td>\n",
       "      <td>11.650</td>\n",
       "    </tr>\n",
       "    <tr>\n",
       "      <th>3</th>\n",
       "      <td>8.630</td>\n",
       "      <td>15.687</td>\n",
       "      <td>7.057</td>\n",
       "    </tr>\n",
       "    <tr>\n",
       "      <th>4</th>\n",
       "      <td>14.669</td>\n",
       "      <td>22.803</td>\n",
       "      <td>8.134</td>\n",
       "    </tr>\n",
       "  </tbody>\n",
       "</table>\n",
       "</div>"
      ],
      "text/plain": [
       "   Congruent  Incongruent  Difference\n",
       "0     12.079       19.278       7.199\n",
       "1     16.791       18.741       1.950\n",
       "2      9.564       21.214      11.650\n",
       "3      8.630       15.687       7.057\n",
       "4     14.669       22.803       8.134"
      ]
     },
     "execution_count": 61,
     "metadata": {},
     "output_type": "execute_result"
    }
   ],
   "source": [
    "for row in stroop:\n",
    "    stroop['Difference'] = abs(stroop['Congruent'] - stroop['Incongruent'])\n",
    "stroop.head()"
   ]
  },
  {
   "cell_type": "markdown",
   "metadata": {},
   "source": [
    "The below histograms constrain both data sets to bin sizes at five-second intervals. "
   ]
  },
  {
   "cell_type": "code",
   "execution_count": 62,
   "metadata": {},
   "outputs": [
    {
     "data": {
      "image/png": "[encoded data removed]",
      "text/plain": [
       "<matplotlib.figure.Figure at 0x11907bc50>"
      ]
     },
     "metadata": {},
     "output_type": "display_data"
    }
   ],
   "source": [
    "# plot the grouped differences in time for both the University of Washington data and the Udacity data\n",
    "fig, (ax1,ax2) = plt.subplots(ncols=2, sharey = False)\n",
    "\n",
    "sns.distplot(midpoint, hist_kws={'weights':uw_grouped_data['Total']}, bins=range(0,50,5), ax=ax1, kde=False)\n",
    "ax1.set_xlabel(\"Increase in Seconds\")\n",
    "ax1.set_ylabel(\"Number of Test Takers\")\n",
    "ax1.set_title(\"University of Washington\")\n",
    "\n",
    "sns.distplot(stroop['Difference'], bins=range(0,50,5), ax=ax2, kde=False)\n",
    "ax2.set_xlabel(\"Increase in Seconds\")\n",
    "ax2.set_ylabel(\"Number of Test Takers\")\n",
    "ax2.set_title(\"Udacity\")\n",
    "\n",
    "plt.show()"
   ]
  },
  {
   "cell_type": "markdown",
   "metadata": {},
   "source": [
    "The two distributions look similar, though I suspect the mean of the UW set is higher given the positive skew of the distribution. Although this is interesting to visualize I don't believe it is appropriate to continue any analysis given the possible inaccuracies of the UW sample and the difference in sample size between the two sets."
   ]
  },
  {
   "cell_type": "markdown",
   "metadata": {},
   "source": [
    "### Question 5:\n",
    "** *Now, perform the statistical test and report your results. What is your confidence level and your critical statistic value? Do you reject the null hypothesis or fail to reject it? Come to a conclusion in terms of the experiment task. Did the results match up with your expectations?* **\n",
    "\n",
    "\n",
    "The main question addressed with the following procedures are:\n",
    "* Are we unlikely to observe a increase in time of this size due to chance alone?\n",
    "* Is there strong evidence that the Incongruent task takes longer on average than the Congruent task?"
   ]
  },
  {
   "cell_type": "markdown",
   "metadata": {},
   "source": [
    "##### Identify critical values for the sample mean at the $\\alpha=0.05$ level \n",
    "Let X = the difference in time between the Incongruent and Congruent tasks (Incongruent minus Congruent).\n",
    "\n",
    "Let $t^*$ = $t_{n-1 \\text{ ,} 0.025}$ be the critical t-value\n",
    "\n",
    "Let $SE(\\bar{X})$ = $\\frac{\\hat{S}}{\\sqrt{n}}$\n",
    "\n",
    "The critical values on the t-distribution are found wherever the following is true:\n",
    "\n",
    "$$|\\bar{X} - \\mu| > t^* * SE(\\bar{X})$$\n",
    "\n",
    "Note, $\\mu$ is theorized to be zero under the null hypothesis, so:\n",
    "\n",
    "$$|\\bar{X} - 0| > t^* * SE(\\bar{X})$$\n",
    "$$|\\bar{X}| > t^* * SE(\\bar{X})$$\n",
    "\n",
    "Noting that at the $\\alpha = 0.05$ level, we are interested in the probability of extreme values at either end of the t-distribution with 9 degrees of freedom. This means that each end has a 0.025 probability, which leaves 0.95 in the middle. "
   ]
  },
  {
   "cell_type": "code",
   "execution_count": 63,
   "metadata": {},
   "outputs": [
    {
     "data": {
      "text/plain": [
       "23"
      ]
     },
     "execution_count": 63,
     "metadata": {},
     "output_type": "execute_result"
    }
   ],
   "source": [
    "# calculate degrees of freedom\n",
    "degrees_f = stroop['Difference'].count() - 1\n",
    "degrees_f"
   ]
  },
  {
   "cell_type": "code",
   "execution_count": 64,
   "metadata": {},
   "outputs": [
    {
     "data": {
      "text/plain": [
       "2.0686576104190406"
      ]
     },
     "execution_count": 64,
     "metadata": {},
     "output_type": "execute_result"
    }
   ],
   "source": [
    "# find the critical t-value\n",
    "t_star = scistats.t.ppf(1-0.025, degrees_f)\n",
    "t_star"
   ]
  },
  {
   "cell_type": "code",
   "execution_count": 65,
   "metadata": {},
   "outputs": [
    {
     "data": {
      "text/plain": [
       "0.99302863477834058"
      ]
     },
     "execution_count": 65,
     "metadata": {},
     "output_type": "execute_result"
    }
   ],
   "source": [
    "# find the standard error\n",
    "diff = stroop['Difference']\n",
    "\n",
    "from scipy import stats as scistats\n",
    "stderr = scistats.sem(diff, ddof=1)\n",
    "stderr"
   ]
  },
  {
   "cell_type": "code",
   "execution_count": 66,
   "metadata": {},
   "outputs": [
    {
     "data": {
      "text/plain": [
       "7.964791666666667"
      ]
     },
     "execution_count": 66,
     "metadata": {},
     "output_type": "execute_result"
    }
   ],
   "source": [
    "# find the mean difference\n",
    "import numpy as np\n",
    "mean_diff = np.mean(diff)\n",
    "mean_diff"
   ]
  },
  {
   "cell_type": "code",
   "execution_count": 67,
   "metadata": {},
   "outputs": [
    {
     "name": "stdout",
     "output_type": "stream",
     "text": [
      "lower critical value: -2.0542\n",
      "upper critical value: 2.0542\n"
     ]
    }
   ],
   "source": [
    "# find the critical value for the sample mean\n",
    "lower_critical = -1 * t_star * stderr\n",
    "upper_critical = t_star * stderr\n",
    "print(\"lower critical value: %s\" %round(lower_critical,4))\n",
    "print(\"upper critical value: %s\" %round(upper_critical,4))"
   ]
  },
  {
   "cell_type": "markdown",
   "metadata": {},
   "source": [
    "Based on this interval at the $\\alpha = 0.05$ level and our sample mean value of approximately 7.9648, there already seems to be strong evidence that the Incongruent condition takes longer on average than the Congruent. Constructing a confidence interval for the population mean difference between Incongruent task and Congruent task (Incongruent minus Congruent) should reveal the same."
   ]
  },
  {
   "cell_type": "markdown",
   "metadata": {},
   "source": [
    "##### Construct a 95% confidence interval for the population mean\n",
    "The interval is constructed with the following statement:\n",
    "$$\\bar{X} - \\mu \\pm t^* * SE(\\bar{X})$$\n",
    "\n",
    "Note, $\\mu$ is theorized to be zero under the null hypothesis, so:\n",
    "\n",
    "$$\\bar{X} - 0 \\pm t^* * SE(\\bar{X})$$\n",
    "$$\\bar{X} \\pm t^* * SE(\\bar{X})$$"
   ]
  },
  {
   "cell_type": "code",
   "execution_count": 68,
   "metadata": {},
   "outputs": [
    {
     "name": "stdout",
     "output_type": "stream",
     "text": [
      "lower bound: 5.9106: \n",
      "upper bound: 10.019: \n"
     ]
    }
   ],
   "source": [
    "# find the upper and lower bounds for the interval\n",
    "lower_bound = mean_diff - (t_star * stderr)\n",
    "upper_bound = mean_diff + (t_star * stderr)\n",
    "print(\"lower bound: %s: \" %round(lower_bound,4))\n",
    "print(\"upper bound: %s: \" %round(upper_bound,4))"
   ]
  },
  {
   "cell_type": "markdown",
   "metadata": {},
   "source": [
    "So our 95% confidence interval is for $\\mu$ is approximately:\n",
    "\n",
    "$$(5.9106, 10.019)$$\n",
    "\n",
    "We can be 95% confident that $\\mu$, the population mean difference between Incongruent and Congruent tasks, lies somewhere in this interval. In other words, we can be 95% confident that $\\mu$, the true mean increase in time to complete the Stroop Effect test when taking it under the Incongruent condition vs. the Congruent condition, lies between 5.9106 and 10.019 seconds. This provides further evidence that on average the Incongruent task is taking longer given that our sample mean value of approximately 7.9648 is within this interval. A hypothesis test at the $\\alpha = 0.05$ may help us know for sure whether to accept or reject the null hypothesis."
   ]
  },
  {
   "cell_type": "markdown",
   "metadata": {},
   "source": [
    "##### Conduct the Hypothesis test\n",
    "The hypothesis test is:\n",
    "$$H_0: \\mu=0 \\text{ versus} H_1: \\mu>0$$\n",
    "\n",
    "Here, $\\mu$ is the population mean difference between Incongruent and Congruent tasks (Incongruent minus Congruent). If $\\mu$ is greater than zero with a significance at or below the $\\alpha=0.05$ level, then the null hypothesis may be rejected.\n",
    "\n",
    "To either accept or reject the null hypothesis a test statistic can be plotted on a t-distribution with n-1 degrees of freedom. If it has a p-value greater than the significance level of 0.05 then we will fail to reject the null hypothesis. If it is less than 0.05, then it is statistically significant and will allow us to reject the null hypothesis in favor of the alternative hypothesis. \n",
    "\n",
    "The test-statistic is calculated:\n",
    "$$\\text{t-stat}= \\frac{\\bar{X}-0}{SE(\\bar{X})}$$"
   ]
  },
  {
   "cell_type": "code",
   "execution_count": 69,
   "metadata": {},
   "outputs": [
    {
     "data": {
      "text/plain": [
       "8.020706944109957"
      ]
     },
     "execution_count": 69,
     "metadata": {},
     "output_type": "execute_result"
    }
   ],
   "source": [
    "# calculate the test statistic\n",
    "t_stat = (mean_diff - 0) / stderr\n",
    "t_stat"
   ]
  },
  {
   "cell_type": "code",
   "execution_count": 70,
   "metadata": {},
   "outputs": [
    {
     "data": {
      "text/plain": [
       "1.7138715277470473"
      ]
     },
     "execution_count": 70,
     "metadata": {},
     "output_type": "execute_result"
    }
   ],
   "source": [
    "# note the one-sided t-value is much less than our test statistic\n",
    "t_val2 = scistats.t.ppf(1-0.05, degrees_f)\n",
    "t_val2"
   ]
  },
  {
   "cell_type": "code",
   "execution_count": 71,
   "metadata": {},
   "outputs": [
    {
     "data": {
      "text/plain": [
       "2.0515002928555891e-08"
      ]
     },
     "execution_count": 71,
     "metadata": {},
     "output_type": "execute_result"
    }
   ],
   "source": [
    "# calculate the p-value for the test statistic\n",
    "p_val = scistats.t.sf(t_stat, degrees_f)\n",
    "p_val"
   ]
  },
  {
   "cell_type": "markdown",
   "metadata": {},
   "source": [
    "We know that just by looking at the value for a one-tailed significance of $\\alpha = 0.05$ being at approx 1.7139, that it's much lower than our test-statistic. This is evidence enough to reject the null hypothesis.\n",
    "\n",
    "On a t-distribution with 23 degrees of freedom, the p-value is extremely small at approximately 0.0000000205, and far less that the given significance value of 0.05. This means we have very significant evidence against the null hypothesis at the 5% significance level. There is significant evidence that the population mean is greater than 0. This means there is significant evidence that the Incongruent task takes longer than the Congruent task (with our one-sided p-value of 0.0000000205)."
   ]
  },
  {
   "cell_type": "markdown",
   "metadata": {
    "collapsed": true
   },
   "source": [
    "### Question 6:\n",
    "** *Optional: What do you think is responsible for the effects observed? Can you think of an alternative or similar task that would result in a similar effect? Some research about the problem will be helpful for thinking about these two questions!* **\n",
    "\n",
    "Intuitively I speculate that our brains are trained to recognize words and the pattern of unique words faster (with more priority) than that of colors. I can think of a similar task that would result in a similar effect, which may also provide some additional insights into how our brains behave.\n",
    "\n",
    "I wonder if a test could be created to compare how fast our brains recognize words vs. objects. The [Rochester Institute of Technology](http://www.rit.edu/) has a page with some theoretical points on [the background of the Stroop Effect](https://www.rit.edu/cla/gssp400/sbackground.html). The most interesting to me is the 'Speed of Processing' model. Essentially, this model claims that word processing is much faster than color processing:\n",
    "\n",
    "** *\"The \"Speed of Processing\" hypothesis suggests that word processing is much faster than color processing. Thus, in a situation of incongruency between words and colors, when the task is to report the color, the word information arrives at the decision process stage earlier than the color information and results in processing confusion. On the other hand, when the task is to report the word, because the color information lags behind the word information, a decision can be made before the conflicting color information arrives.\"* **\n",
    "\n",
    "I speculate that the congruent and incongruent tasks could be tested with a sufficiently large random sample, and compared against a similar test that uses stereotypical objects instead of words. For example, a [rubber ducky](https://img.clipartfest.com/521e9028ec01ceb8ed11bfe48db68b66_rubber-ducky-rubber-ducky_800-800.png) is iconically yellow. A [firetruck](http://images.clipartpanda.com/fire-truck-clipart-niXyyp7iB.gif) is iconically red, etc. Two conditions could be created for the experiment - a congruent and incongruent set. In the Incongruent set the rubber ducky may be blue, and the firetruck may be yellow. The results from the Stroop Effect test using word sets could be compared to the Stroop Effect test using stereotypical objecst. The difference between the two results may point to how quickly our brains process words versus how quickly they process objects."
   ]
  },
  {
   "cell_type": "markdown",
   "metadata": {},
   "source": [
    "##### Sources:\n",
    "Some concepts and methods for the test of hypotheses were inspired by jbstatistics youtube video [An Example of a Paired-Difference t Test and Confidence Interval](https://www.youtube.com/watch?v=upc4zN_-YFM&t=646s)"
   ]
  },
  {
   "cell_type": "code",
   "execution_count": null,
   "metadata": {
    "collapsed": true
   },
   "outputs": [],
   "source": []
  }
 ],
 "metadata": {
  "anaconda-cloud": {},
  "kernelspec": {
   "display_name": "Python 3",
   "language": "python",
   "name": "python3"
  },
  "language_info": {
   "codemirror_mode": {
    "name": "ipython",
    "version": 3
   },
   "file_extension": ".py",
   "mimetype": "text/x-python",
   "name": "python",
   "nbconvert_exporter": "python",
   "pygments_lexer": "ipython3",
   "version": "3.6.0"
  },
  "latex_envs": {
   "LaTeX_envs_menu_present": true,
   "bibliofile": "biblio.bib",
   "cite_by": "apalike",
   "current_citInitial": 1,
   "eqLabelWithNumbers": true,
   "eqNumInitial": 1,
   "hotkeys": {
    "equation": "Ctrl-E",
    "itemize": "Ctrl-I"
   },
   "labels_anchors": false,
   "latex_user_defs": false,
   "report_style_numbering": false,
   "user_envs_cfg": false
  }
 },
 "nbformat": 4,
 "nbformat_minor": 1
}
