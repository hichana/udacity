{
 "cells": [
  {
   "cell_type": "code",
   "execution_count": null,
   "metadata": {
    "collapsed": true
   },
   "outputs": [],
   "source": [
    "#### NOTES:\n",
    "\n",
    "Taking less time on set 2 than set 1 may indicate either people are just clicking through on the buttons (not actually taking a test administered by someone), or maybe some people are just better at looking at colors despite it being an incongruency\n",
    "\n",
    "\n",
    "My times:\n",
    "Congruent, 19.607 sec\n",
    "Incongruent, 27.203\n",
    "total 38.497\n",
    "diff, 7.596\n",
    "\n",
    "What is the difference between your Word Set 2 time and Word Set 1 time? (To calculate the difference: Word 2 time - Word 1 time = Difference Time)\n",
    "204083\n",
    "Word set 2 time is LESS than word set 1 time\t13809\t6.77%\n",
    "0-5 sec\t40098\t19.65%\n",
    "5-10 sec\t52420\t25.69%\n",
    "10-15 sec\t48947\t23.98%\n",
    "15-20 sec\t23050\t11.29%\n",
    "20-25 sec\t11958\t5.86%\n",
    "25-30 sec\t4927\t2.41%\n",
    "30-35 sec\t3047\t1.49%\n",
    "35-40 sec\t1930\t0.95%\n",
    "More than 40 sec\t3897\t1.91%\n"
   ]
  }
 ],
 "metadata": {
  "anaconda-cloud": {},
  "kernelspec": {
   "display_name": "Python [conda env:py35]",
   "language": "python",
   "name": "conda-env-py35-py"
  },
  "language_info": {
   "codemirror_mode": {
    "name": "ipython",
    "version": 3
   },
   "file_extension": ".py",
   "mimetype": "text/x-python",
   "name": "python",
   "nbconvert_exporter": "python",
   "pygments_lexer": "ipython3",
   "version": "3.5.2"
  }
 },
 "nbformat": 4,
 "nbformat_minor": 1
}
