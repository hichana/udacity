{
 "cells": [
  {
   "cell_type": "code",
   "execution_count": null,
   "metadata": {
    "collapsed": true
   },
   "outputs": [],
   "source": [
    "\"\"\"Lesson Notes\"\"\"\n",
    "# even before in-depth analysis, visualization can help provide clues on where to go\n",
    "# simple statistical tools can also help\n",
    "# look for what questions you can ask\n",
    "    # look at distributions/histograms\n",
    "    # look for scatter plot correlations\n",
    "    # assess and validate assumptions upon which future inferences can be made\n",
    "        # which variables are normally distributed, biased, \n",
    "# not a process for formal hypothesis and model building\n",
    "# be sceptical about the data - inspect it, question assumptions\n",
    "# "
   ]
  }
 ],
 "metadata": {
  "kernelspec": {
   "display_name": "Python 3",
   "language": "python",
   "name": "python3"
  },
  "language_info": {
   "codemirror_mode": {
    "name": "ipython",
    "version": 3
   },
   "file_extension": ".py",
   "mimetype": "text/x-python",
   "name": "python",
   "nbconvert_exporter": "python",
   "pygments_lexer": "ipython3",
   "version": "3.6.0"
  }
 },
 "nbformat": 4,
 "nbformat_minor": 2
}
