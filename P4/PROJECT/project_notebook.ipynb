{
 "cells": [
  {
   "cell_type": "code",
   "execution_count": null,
   "metadata": {
    "collapsed": true
   },
   "outputs": [],
   "source": [
    "\"\"\"Main RRAD\"\"\"\n",
    "# REQS\n",
    "    # \"input\": data set\n",
    "    # \"output\": EDA report\n",
    "    # conforms to EDA workflow and conventions\n",
    "    # meets or exceeds rubric requirements\n",
    "    # Explores:\n",
    "        # variables\n",
    "        # patterns\n",
    "        # oddities\n",
    "        # underlying relationships of a data set\n",
    "        # asks interesting questions about the data\n",
    "        # explores the data well\n",
    "# RULES (see Project Description and Rubric)\n",
    "# ALGO (see ALGO/DECOMP)\n",
    "    # create quick and dirty stream-of-consciousness discovery and exploration\n",
    "    # create set of main, detailed and well presented analysis\n",
    "    # create reflection summary\n",
    "    # create documentation\n",
    "    # create after-the-fact abstract - add to top of main file\n",
    "# DECOMP\n",
    "    # ..."
   ]
  },
  {
   "cell_type": "code",
   "execution_count": null,
   "metadata": {
    "collapsed": true
   },
   "outputs": [],
   "source": [
    "\"\"\"Project Description and Rubric (RULES)\"\"\"\n",
    "# Data set:\n",
    "    # If choosing own, must:\n",
    "        # have at least 1,000 observations\n",
    "        # contain at least 1 categorical variable\n",
    "        # contain at least 8 different variables\n",
    "        # be in tidy format\n",
    "        # be in a commonly used flat file\n",
    "        \n",
    "# Deliverables: \n",
    "    # RMD file\n",
    "    # knitted HTML file\n",
    "    # data set used in project\n",
    "\n",
    "# Formatting/format\n",
    "    # non-relevant code chunks hidden\n",
    "    # minimal (quick and dirty) plots that narrow focus for exploration stage\n",
    "    # summarize/explain where appropriate\n",
    "    # create variables where appropriate\n",
    "    # includes univariate, bivariate and multivariate analysis\n",
    "    # contains at least 20 visualizations"
   ]
  },
  {
   "cell_type": "code",
   "execution_count": null,
   "metadata": {
    "collapsed": true
   },
   "outputs": [],
   "source": [
    "\"\"\"ALGO/DECOMP\"\"\"\n",
    "# Quick and dirty stream-of-consciousness discovery and exploration\n",
    "    #√ import and tidy\n",
    "        #√ initial import\n",
    "        #√ Verify integrety of all variables\n",
    "        #√ discuss - is data \"tidy\"?\n",
    "        #√ check for duplicate data - decide what to do w/ NA\n",
    "        #√ review/document data and its structure\n",
    "            \n",
    "    # EDA (visualize <-> transform <-> model)\n",
    "        # <-> VISUALIZE explore variation and co-variation among variables\n",
    "            # preliminary visualizations\n",
    "                #√ multi-facet histos of all continuous\n",
    "                #√ multi-facet histo of all log transformations\n",
    "            # add relevent variables\n",
    "        # <-> TRANSFORM/MUTATE\n",
    "        # <-> MODEL\n",
    "        \n",
    "# Detailed and well presented analysis\n",
    "    # Analysis 1, 2, 3 (at least 3)\n",
    "        \n",
    "# Reflection summary\n",
    "    # describes struggles, successes and ideas for future exploration of the data\n",
    "    # considers how analysis could be enriched or extended\n",
    "    # documents sources\n",
    "        # blog posts\n",
    "        # tutorials\n",
    "        # etc.\n",
    "        \n",
    "# Documentation (for flat file(s) - similar to ?diamonds)\n",
    "    # source\n",
    "    # definition of variables (units, levels of categorical variables)\n",
    "    # the data generating/collection process\n",
    "            \n",
    "# Introduction/Abstract (add after the fact/after EDA)"
   ]
  },
  {
   "cell_type": "code",
   "execution_count": null,
   "metadata": {
    "collapsed": true
   },
   "outputs": [],
   "source": [
    "\"\"\"Data Transformations\"\"\"\n",
    "# good for data spanning multiple orders of magnitude\n",
    "# often done in response to skewed distributions\n",
    "# good to get clues into patterns - where can I go from there?\n",
    "# basic flow (single variable log)\n",
    "    # data is high pos skewed\n",
    "    # if data has 0 as values - add 1 const to fix\n",
    "    # apply log function \n",
    "    # data is condensed preferrentially\n",
    "# questions:\n",
    "    # why is there a gap after transforming?"
   ]
  },
  {
   "cell_type": "code",
   "execution_count": null,
   "metadata": {
    "collapsed": true
   },
   "outputs": [],
   "source": [
    "\"\"\"(Viz <-> Transform <-> Model)\"\"\"\n",
    "# General\n",
    "    # what variables can I create that would be helpful?\n",
    "    # are there clusters? Clusters within clusters? Why cluster at all?\n",
    "    # pluck out values\n",
    "        # how similar or different?\n",
    "        # misleading?\n",
    "        # which values common? Why?\n",
    "        # Which values most rare? Matches expectations?\n",
    "        # Unusual patterns? What may explain them?\n",
    "        # what to do with outliers?\n",
    "    # Could pattern or trend be due to coincidence?\n",
    "    # How can you describe the relationship implied in the pattern?\n",
    "    # How strong is the relationship implied by the pattern?\n",
    "    # What other variables might affect the relationship?\n",
    "    # Does the relationship change if you look at individual subgroups of the data?       \n",
    "    # if squinting, standardize if appropriate or narrow in somehow\n",
    "        \n",
    "# Vizualization\n",
    "    # facets of multiple histos\n",
    "    # facets of single histo w/ categorical \n",
    "    # single histos\n",
    "    # scatter plots\n",
    "    # scatter plots w/ categorical\n",
    "    # box plots\n",
    "    # bin continuous variable, plot multiple box plots on x axis (see r4ds)\n",
    "    # scatter plots + heatmap\n",
    "    # frequency poly(one scalar split by categorical)\n",
    "        \n",
    "# Transform\n",
    "    # refocus\n",
    "    # transform to log\n",
    "    # rebin if necessary\n",
    "    # filter\n",
    "    # drop rows if appropriate\n",
    "    # replace values if appropriate "
   ]
  },
  {
   "cell_type": "code",
   "execution_count": null,
   "metadata": {
    "collapsed": true
   },
   "outputs": [],
   "source": [
    "\"\"\"Ideas/Notes\"\"\"\n",
    "# extreme values in budget column (foreign film currency)\n",
    "# process keywords with ngrams?\n",
    "# number of genres that describe a movie predict success? \"cultness\"? ...\n",
    "# could investigate unique genre combinations (914 of them)\n",
    "# what's similar about movies that have X as keywords?\n",
    "# ratio - num_reviews vs. gross\n",
    "# is there a way to tell what would be a \"cult movie\"?\n",
    "# what about variability in genre descriptions? What does that indicate?\n",
    "# look at trends over title year\n",
    "    # ex. are movies getting longer over time?\n",
    "# look at my facet grid\n",
    "    # decide what could be transformed to log, what just needs focusing\n",
    "    # ex. outlier problem w/ duration\n",
    "    # ex. gross should be log\n",
    "# start to speculate on a story\n",
    "# note, num_genres are suspicious given added by a person at IMDB and not debatable\n",
    "    # numbers more trustworthy in this case"
   ]
  }
 ],
 "metadata": {
  "kernelspec": {
   "display_name": "Python 3",
   "language": "python",
   "name": "python3"
  },
  "language_info": {
   "codemirror_mode": {
    "name": "ipython",
    "version": 3
   },
   "file_extension": ".py",
   "mimetype": "text/x-python",
   "name": "python",
   "nbconvert_exporter": "python",
   "pygments_lexer": "ipython3",
   "version": "3.6.0"
  }
 },
 "nbformat": 4,
 "nbformat_minor": 2
}
