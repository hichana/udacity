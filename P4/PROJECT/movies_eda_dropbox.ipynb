{
 "cells": [
  {
   "cell_type": "code",
   "execution_count": 8,
   "metadata": {},
   "outputs": [
    {
     "name": "stderr",
     "output_type": "stream",
     "text": [
      "Loading tidyverse: ggplot2\n",
      "Loading tidyverse: tibble\n",
      "Loading tidyverse: tidyr\n",
      "Loading tidyverse: readr\n",
      "Loading tidyverse: purrr\n",
      "Loading tidyverse: dplyr\n",
      "Conflicts with tidy packages ---------------------------------------------------\n",
      "filter(): dplyr, stats\n",
      "lag():    dplyr, stats\n"
     ]
    }
   ],
   "source": [
    "library(tidyverse)"
   ]
  },
  {
   "cell_type": "markdown",
   "metadata": {},
   "source": [
    "# Import and Tidy:"
   ]
  },
  {
   "cell_type": "markdown",
   "metadata": {},
   "source": [
    "Initial Import:"
   ]
  },
  {
   "cell_type": "code",
   "execution_count": 9,
   "metadata": {},
   "outputs": [
    {
     "name": "stderr",
     "output_type": "stream",
     "text": [
      "Parsed with column specification:\n",
      "cols(\n",
      "  .default = col_integer(),\n",
      "  color = col_character(),\n",
      "  director_name = col_character(),\n",
      "  actor_2_name = col_character(),\n",
      "  genres = col_character(),\n",
      "  actor_1_name = col_character(),\n",
      "  movie_title = col_character(),\n",
      "  actor_3_name = col_character(),\n",
      "  plot_keywords = col_character(),\n",
      "  movie_imdb_link = col_character(),\n",
      "  language = col_character(),\n",
      "  country = col_character(),\n",
      "  content_rating = col_character(),\n",
      "  imdb_score = col_double(),\n",
      "  aspect_ratio = col_double()\n",
      ")\n",
      "See spec(...) for full column specifications.\n",
      "Warning message:\n",
      "“4 parsing failures.\n",
      " row    col   expected      actual                                  file\n",
      "2324 budget an integer 2400000000  'supporting_files/movie_metadata.csv'\n",
      "2989 budget an integer 12215500000 'supporting_files/movie_metadata.csv'\n",
      "3006 budget an integer 2500000000  'supporting_files/movie_metadata.csv'\n",
      "3860 budget an integer 4200000000  'supporting_files/movie_metadata.csv'\n",
      "”"
     ]
    },
    {
     "data": {
      "text/html": [
       "<table>\n",
       "<thead><tr><th scope=col>color</th><th scope=col>director_name</th><th scope=col>num_critic_for_reviews</th><th scope=col>duration</th><th scope=col>director_facebook_likes</th><th scope=col>actor_3_facebook_likes</th><th scope=col>actor_2_name</th><th scope=col>actor_1_facebook_likes</th><th scope=col>gross</th><th scope=col>genres</th><th scope=col>⋯</th><th scope=col>num_user_for_reviews</th><th scope=col>language</th><th scope=col>country</th><th scope=col>content_rating</th><th scope=col>budget</th><th scope=col>title_year</th><th scope=col>actor_2_facebook_likes</th><th scope=col>imdb_score</th><th scope=col>aspect_ratio</th><th scope=col>movie_facebook_likes</th></tr></thead>\n",
       "<tbody>\n",
       "\t<tr><td>Color                          </td><td>James Cameron                  </td><td>723                            </td><td>178                            </td><td>    0                          </td><td>  855                          </td><td>Joel David Moore               </td><td> 1000                          </td><td>760505847                      </td><td>Action|Adventure|Fantasy|Sci-Fi</td><td>⋯                              </td><td>3054                           </td><td>English                        </td><td>USA                            </td><td>PG-13                          </td><td>237000000                      </td><td>2009                           </td><td>  936                          </td><td>7.9                            </td><td>1.78                           </td><td> 33000                         </td></tr>\n",
       "\t<tr><td>Color                          </td><td>Gore Verbinski                 </td><td>302                            </td><td>169                            </td><td>  563                          </td><td> 1000                          </td><td>Orlando Bloom                  </td><td>40000                          </td><td>309404152                      </td><td>Action|Adventure|Fantasy       </td><td>⋯                              </td><td>1238                           </td><td>English                        </td><td>USA                            </td><td>PG-13                          </td><td>300000000                      </td><td>2007                           </td><td> 5000                          </td><td>7.1                            </td><td>2.35                           </td><td>     0                         </td></tr>\n",
       "\t<tr><td>Color                          </td><td>Sam Mendes                     </td><td>602                            </td><td>148                            </td><td>    0                          </td><td>  161                          </td><td>Rory Kinnear                   </td><td>11000                          </td><td>200074175                      </td><td>Action|Adventure|Thriller      </td><td>⋯                              </td><td> 994                           </td><td>English                        </td><td>UK                             </td><td>PG-13                          </td><td>245000000                      </td><td>2015                           </td><td>  393                          </td><td>6.8                            </td><td>2.35                           </td><td> 85000                         </td></tr>\n",
       "\t<tr><td>Color                          </td><td>Christopher Nolan              </td><td>813                            </td><td>164                            </td><td>22000                          </td><td>23000                          </td><td>Christian Bale                 </td><td>27000                          </td><td>448130642                      </td><td>Action|Thriller                </td><td>⋯                              </td><td>2701                           </td><td>English                        </td><td>USA                            </td><td>PG-13                          </td><td>250000000                      </td><td>2012                           </td><td>23000                          </td><td>8.5                            </td><td>2.35                           </td><td>164000                         </td></tr>\n",
       "\t<tr><td>NA                             </td><td>Doug Walker                    </td><td> NA                            </td><td> NA                            </td><td>  131                          </td><td>   NA                          </td><td>Rob Walker                     </td><td>  131                          </td><td>       NA                      </td><td>Documentary                    </td><td>⋯                              </td><td>  NA                           </td><td>NA                             </td><td>NA                             </td><td>NA                             </td><td>       NA                      </td><td>  NA                           </td><td>   12                          </td><td>7.1                            </td><td>  NA                           </td><td>     0                         </td></tr>\n",
       "\t<tr><td>Color                          </td><td>Andrew Stanton                 </td><td>462                            </td><td>132                            </td><td>  475                          </td><td>  530                          </td><td>Samantha Morton                </td><td>  640                          </td><td> 73058679                      </td><td>Action|Adventure|Sci-Fi        </td><td>⋯                              </td><td> 738                           </td><td>English                        </td><td>USA                            </td><td>PG-13                          </td><td>263700000                      </td><td>2012                           </td><td>  632                          </td><td>6.6                            </td><td>2.35                           </td><td> 24000                         </td></tr>\n",
       "</tbody>\n",
       "</table>\n"
      ],
      "text/latex": [
       "\\begin{tabular}{r|llllllllllllllllllllllllllll}\n",
       " color & director\\_name & num\\_critic\\_for\\_reviews & duration & director\\_facebook\\_likes & actor\\_3\\_facebook\\_likes & actor\\_2\\_name & actor\\_1\\_facebook\\_likes & gross & genres & ⋯ & num\\_user\\_for\\_reviews & language & country & content\\_rating & budget & title\\_year & actor\\_2\\_facebook\\_likes & imdb\\_score & aspect\\_ratio & movie\\_facebook\\_likes\\\\\n",
       "\\hline\n",
       "\t Color                                                         & James Cameron                                                 & 723                                                           & 178                                                           &     0                                                         &   855                                                         & Joel David Moore                                              &  1000                                                         & 760505847                                                     & Action\\textbar{}Adventure\\textbar{}Fantasy\\textbar{}Sci-Fi & ⋯                                                             & 3054                                                          & English                                                       & USA                                                           & PG-13                                                         & 237000000                                                     & 2009                                                          &   936                                                         & 7.9                                                           & 1.78                                                          &  33000                                                       \\\\\n",
       "\t Color                                               & Gore Verbinski                                      & 302                                                 & 169                                                 &   563                                               &  1000                                               & Orlando Bloom                                       & 40000                                               & 309404152                                           & Action\\textbar{}Adventure\\textbar{}Fantasy        & ⋯                                                   & 1238                                                & English                                             & USA                                                 & PG-13                                               & 300000000                                           & 2007                                                &  5000                                               & 7.1                                                 & 2.35                                                &      0                                             \\\\\n",
       "\t Color                                               & Sam Mendes                                          & 602                                                 & 148                                                 &     0                                               &   161                                               & Rory Kinnear                                        & 11000                                               & 200074175                                           & Action\\textbar{}Adventure\\textbar{}Thriller       & ⋯                                                   &  994                                                & English                                             & UK                                                  & PG-13                                               & 245000000                                           & 2015                                                &   393                                               & 6.8                                                 & 2.35                                                &  85000                                             \\\\\n",
       "\t Color                                     & Christopher Nolan                         & 813                                       & 164                                       & 22000                                     & 23000                                     & Christian Bale                            & 27000                                     & 448130642                                 & Action\\textbar{}Thriller                 & ⋯                                         & 2701                                      & English                                   & USA                                       & PG-13                                     & 250000000                                 & 2012                                      & 23000                                     & 8.5                                       & 2.35                                      & 164000                                   \\\\\n",
       "\t NA                              & Doug Walker                     &  NA                             &  NA                             &   131                           &    NA                           & Rob Walker                      &   131                           &        NA                       & Documentary                     & ⋯                               &   NA                            & NA                              & NA                              & NA                              &        NA                       &   NA                            &    12                           & 7.1                             &   NA                            &      0                         \\\\\n",
       "\t Color                                               & Andrew Stanton                                      & 462                                                 & 132                                                 &   475                                               &   530                                               & Samantha Morton                                     &   640                                               &  73058679                                           & Action\\textbar{}Adventure\\textbar{}Sci-Fi         & ⋯                                                   &  738                                                & English                                             & USA                                                 & PG-13                                               & 263700000                                           & 2012                                                &   632                                               & 6.6                                                 & 2.35                                                &  24000                                             \\\\\n",
       "\\end{tabular}\n"
      ],
      "text/markdown": [
       "\n",
       "color | director_name | num_critic_for_reviews | duration | director_facebook_likes | actor_3_facebook_likes | actor_2_name | actor_1_facebook_likes | gross | genres | ⋯ | num_user_for_reviews | language | country | content_rating | budget | title_year | actor_2_facebook_likes | imdb_score | aspect_ratio | movie_facebook_likes | \n",
       "|---|---|---|---|---|---|\n",
       "| Color                           | James Cameron                   | 723                             | 178                             |     0                           |   855                           | Joel David Moore                |  1000                           | 760505847                       | Action|Adventure|Fantasy|Sci-Fi | ⋯                               | 3054                            | English                         | USA                             | PG-13                           | 237000000                       | 2009                            |   936                           | 7.9                             | 1.78                            |  33000                          | \n",
       "| Color                           | Gore Verbinski                  | 302                             | 169                             |   563                           |  1000                           | Orlando Bloom                   | 40000                           | 309404152                       | Action|Adventure|Fantasy        | ⋯                               | 1238                            | English                         | USA                             | PG-13                           | 300000000                       | 2007                            |  5000                           | 7.1                             | 2.35                            |      0                          | \n",
       "| Color                           | Sam Mendes                      | 602                             | 148                             |     0                           |   161                           | Rory Kinnear                    | 11000                           | 200074175                       | Action|Adventure|Thriller       | ⋯                               |  994                            | English                         | UK                              | PG-13                           | 245000000                       | 2015                            |   393                           | 6.8                             | 2.35                            |  85000                          | \n",
       "| Color                           | Christopher Nolan               | 813                             | 164                             | 22000                           | 23000                           | Christian Bale                  | 27000                           | 448130642                       | Action|Thriller                 | ⋯                               | 2701                            | English                         | USA                             | PG-13                           | 250000000                       | 2012                            | 23000                           | 8.5                             | 2.35                            | 164000                          | \n",
       "| NA                              | Doug Walker                     |  NA                             |  NA                             |   131                           |    NA                           | Rob Walker                      |   131                           |        NA                       | Documentary                     | ⋯                               |   NA                            | NA                              | NA                              | NA                              |        NA                       |   NA                            |    12                           | 7.1                             |   NA                            |      0                          | \n",
       "| Color                           | Andrew Stanton                  | 462                             | 132                             |   475                           |   530                           | Samantha Morton                 |   640                           |  73058679                       | Action|Adventure|Sci-Fi         | ⋯                               |  738                            | English                         | USA                             | PG-13                           | 263700000                       | 2012                            |   632                           | 6.6                             | 2.35                            |  24000                          | \n",
       "\n",
       "\n"
      ],
      "text/plain": [
       "  color director_name     num_critic_for_reviews duration\n",
       "1 Color James Cameron     723                    178     \n",
       "2 Color Gore Verbinski    302                    169     \n",
       "3 Color Sam Mendes        602                    148     \n",
       "4 Color Christopher Nolan 813                    164     \n",
       "5 NA    Doug Walker        NA                     NA     \n",
       "6 Color Andrew Stanton    462                    132     \n",
       "  director_facebook_likes actor_3_facebook_likes actor_2_name    \n",
       "1     0                     855                  Joel David Moore\n",
       "2   563                    1000                  Orlando Bloom   \n",
       "3     0                     161                  Rory Kinnear    \n",
       "4 22000                   23000                  Christian Bale  \n",
       "5   131                      NA                  Rob Walker      \n",
       "6   475                     530                  Samantha Morton \n",
       "  actor_1_facebook_likes gross     genres                          ⋯\n",
       "1  1000                  760505847 Action|Adventure|Fantasy|Sci-Fi ⋯\n",
       "2 40000                  309404152 Action|Adventure|Fantasy        ⋯\n",
       "3 11000                  200074175 Action|Adventure|Thriller       ⋯\n",
       "4 27000                  448130642 Action|Thriller                 ⋯\n",
       "5   131                         NA Documentary                     ⋯\n",
       "6   640                   73058679 Action|Adventure|Sci-Fi         ⋯\n",
       "  num_user_for_reviews language country content_rating budget    title_year\n",
       "1 3054                 English  USA     PG-13          237000000 2009      \n",
       "2 1238                 English  USA     PG-13          300000000 2007      \n",
       "3  994                 English  UK      PG-13          245000000 2015      \n",
       "4 2701                 English  USA     PG-13          250000000 2012      \n",
       "5   NA                 NA       NA      NA                    NA   NA      \n",
       "6  738                 English  USA     PG-13          263700000 2012      \n",
       "  actor_2_facebook_likes imdb_score aspect_ratio movie_facebook_likes\n",
       "1   936                  7.9        1.78          33000              \n",
       "2  5000                  7.1        2.35              0              \n",
       "3   393                  6.8        2.35          85000              \n",
       "4 23000                  8.5        2.35         164000              \n",
       "5    12                  7.1          NA              0              \n",
       "6   632                  6.6        2.35          24000              "
      ]
     },
     "metadata": {},
     "output_type": "display_data"
    }
   ],
   "source": [
    "movies <- read_csv(\"supporting_files/movie_metadata.csv\")\n",
    "head(movies)"
   ]
  },
  {
   "cell_type": "markdown",
   "metadata": {},
   "source": [
    "Transpose to make easier to understand:"
   ]
  },
  {
   "cell_type": "code",
   "execution_count": 10,
   "metadata": {},
   "outputs": [
    {
     "name": "stdout",
     "output_type": "stream",
     "text": [
      "Observations: 5,043\n",
      "Variables: 28\n",
      "$ color                     <chr> \"Color\", \"Color\", \"Color\", \"Color\", NA, \"...\n",
      "$ director_name             <chr> \"James Cameron\", \"Gore Verbinski\", \"Sam M...\n",
      "$ num_critic_for_reviews    <int> 723, 302, 602, 813, NA, 462, 392, 324, 63...\n",
      "$ duration                  <int> 178, 169, 148, 164, NA, 132, 156, 100, 14...\n",
      "$ director_facebook_likes   <int> 0, 563, 0, 22000, 131, 475, 0, 15, 0, 282...\n",
      "$ actor_3_facebook_likes    <int> 855, 1000, 161, 23000, NA, 530, 4000, 284...\n",
      "$ actor_2_name              <chr> \"Joel David Moore\", \"Orlando Bloom\", \"Ror...\n",
      "$ actor_1_facebook_likes    <int> 1000, 40000, 11000, 27000, 131, 640, 2400...\n",
      "$ gross                     <int> 760505847, 309404152, 200074175, 44813064...\n",
      "$ genres                    <chr> \"Action|Adventure|Fantasy|Sci-Fi\", \"Actio...\n",
      "$ actor_1_name              <chr> \"CCH Pounder\", \"Johnny Depp\", \"Christoph ...\n",
      "$ movie_title               <chr> \"Avatar \", \"Pirates of the Caribbean: At ...\n",
      "$ num_voted_users           <int> 886204, 471220, 275868, 1144337, 8, 21220...\n",
      "$ cast_total_facebook_likes <int> 4834, 48350, 11700, 106759, 143, 1873, 46...\n",
      "$ actor_3_name              <chr> \"Wes Studi\", \"Jack Davenport\", \"Stephanie...\n",
      "$ facenumber_in_poster      <int> 0, 0, 1, 0, 0, 1, 0, 1, 4, 3, 0, 0, 1, 2,...\n",
      "$ plot_keywords             <chr> \"avatar|future|marine|native|paraplegic\",...\n",
      "$ movie_imdb_link           <chr> \"http://www.imdb.com/title/tt0499549/?ref...\n",
      "$ num_user_for_reviews      <int> 3054, 1238, 994, 2701, NA, 738, 1902, 387...\n",
      "$ language                  <chr> \"English\", \"English\", \"English\", \"English...\n",
      "$ country                   <chr> \"USA\", \"USA\", \"UK\", \"USA\", NA, \"USA\", \"US...\n",
      "$ content_rating            <chr> \"PG-13\", \"PG-13\", \"PG-13\", \"PG-13\", NA, \"...\n",
      "$ budget                    <int> 237000000, 300000000, 245000000, 25000000...\n",
      "$ title_year                <int> 2009, 2007, 2015, 2012, NA, 2012, 2007, 2...\n",
      "$ actor_2_facebook_likes    <int> 936, 5000, 393, 23000, 12, 632, 11000, 55...\n",
      "$ imdb_score                <dbl> 7.9, 7.1, 6.8, 8.5, 7.1, 6.6, 6.2, 7.8, 7...\n",
      "$ aspect_ratio              <dbl> 1.78, 2.35, 2.35, 2.35, NA, 2.35, 2.35, 1...\n",
      "$ movie_facebook_likes      <int> 33000, 0, 85000, 164000, 0, 24000, 0, 290...\n"
     ]
    }
   ],
   "source": [
    "glimpse(movies)"
   ]
  },
  {
   "cell_type": "markdown",
   "metadata": {},
   "source": [
    "Examine parsing errors:"
   ]
  },
  {
   "cell_type": "code",
   "execution_count": 11,
   "metadata": {},
   "outputs": [
    {
     "data": {
      "text/html": [
       "<table>\n",
       "<thead><tr><th scope=col>row</th><th scope=col>col</th><th scope=col>expected</th><th scope=col>actual</th><th scope=col>file</th></tr></thead>\n",
       "<tbody>\n",
       "\t<tr><td>2324                                 </td><td>budget                               </td><td>an integer                           </td><td>2400000000                           </td><td>'supporting_files/movie_metadata.csv'</td></tr>\n",
       "\t<tr><td>2989                                 </td><td>budget                               </td><td>an integer                           </td><td>12215500000                          </td><td>'supporting_files/movie_metadata.csv'</td></tr>\n",
       "\t<tr><td>3006                                 </td><td>budget                               </td><td>an integer                           </td><td>2500000000                           </td><td>'supporting_files/movie_metadata.csv'</td></tr>\n",
       "\t<tr><td>3860                                 </td><td>budget                               </td><td>an integer                           </td><td>4200000000                           </td><td>'supporting_files/movie_metadata.csv'</td></tr>\n",
       "</tbody>\n",
       "</table>\n"
      ],
      "text/latex": [
       "\\begin{tabular}{r|lllll}\n",
       " row & col & expected & actual & file\\\\\n",
       "\\hline\n",
       "\t 2324                                      & budget                                    & an integer                                & 2400000000                                & 'supporting\\_files/movie\\_metadata.csv'\\\\\n",
       "\t 2989                                      & budget                                    & an integer                                & 12215500000                               & 'supporting\\_files/movie\\_metadata.csv'\\\\\n",
       "\t 3006                                      & budget                                    & an integer                                & 2500000000                                & 'supporting\\_files/movie\\_metadata.csv'\\\\\n",
       "\t 3860                                      & budget                                    & an integer                                & 4200000000                                & 'supporting\\_files/movie\\_metadata.csv'\\\\\n",
       "\\end{tabular}\n"
      ],
      "text/markdown": [
       "\n",
       "row | col | expected | actual | file | \n",
       "|---|---|---|---|\n",
       "| 2324                                  | budget                                | an integer                            | 2400000000                            | 'supporting_files/movie_metadata.csv' | \n",
       "| 2989                                  | budget                                | an integer                            | 12215500000                           | 'supporting_files/movie_metadata.csv' | \n",
       "| 3006                                  | budget                                | an integer                            | 2500000000                            | 'supporting_files/movie_metadata.csv' | \n",
       "| 3860                                  | budget                                | an integer                            | 4200000000                            | 'supporting_files/movie_metadata.csv' | \n",
       "\n",
       "\n"
      ],
      "text/plain": [
       "  row  col    expected   actual      file                                 \n",
       "1 2324 budget an integer 2400000000  'supporting_files/movie_metadata.csv'\n",
       "2 2989 budget an integer 12215500000 'supporting_files/movie_metadata.csv'\n",
       "3 3006 budget an integer 2500000000  'supporting_files/movie_metadata.csv'\n",
       "4 3860 budget an integer 4200000000  'supporting_files/movie_metadata.csv'"
      ]
     },
     "metadata": {},
     "output_type": "display_data"
    }
   ],
   "source": [
    "parse_errs <- problems(movies)\n",
    "parse_errs"
   ]
  },
  {
   "cell_type": "markdown",
   "metadata": {},
   "source": [
    "Why such high budgets? Pull out each row and transpose to see details:"
   ]
  },
  {
   "cell_type": "code",
   "execution_count": 12,
   "metadata": {},
   "outputs": [
    {
     "name": "stdout",
     "output_type": "stream",
     "text": [
      "Observations: 4\n",
      "Variables: 28\n",
      "$ color                     <chr> \"Color\", \"Color\", \"Color\", \"Color\"\n",
      "$ director_name             <chr> \"Hayao Miyazaki\", \"Joon-ho Bong\", \"Lajos ...\n",
      "$ num_critic_for_reviews    <int> 174, 363, 73, 202\n",
      "$ duration                  <int> 134, 110, 134, 112\n",
      "$ director_facebook_likes   <int> 6000, 584, 45, 0\n",
      "$ actor_3_facebook_likes    <int> 745, 74, 0, 38\n",
      "$ actor_2_name              <chr> \"Jada Pinkett Smith\", \"Kang-ho Song\", \"Pé...\n",
      "$ actor_1_facebook_likes    <int> 893, 629, 9, 717\n",
      "$ gross                     <int> 2298191, 2201412, 195888, 211667\n",
      "$ genres                    <chr> \"Adventure|Animation|Fantasy\", \"Comedy|Dr...\n",
      "$ actor_1_name              <chr> \"Minnie Driver\", \"Doona Bae\", \"Marcell Na...\n",
      "$ movie_title               <chr> \"Princess Mononoke \", \"The Host \", \"Fatel...\n",
      "$ num_voted_users           <int> 221552, 68883, 5603, 53508\n",
      "$ cast_total_facebook_likes <int> 2710, 1173, 11, 907\n",
      "$ actor_3_name              <chr> \"Billy Crudup\", \"Ah-sung Ko\", \"Bálint Pén...\n",
      "$ facenumber_in_poster      <int> 0, 0, 0, 0\n",
      "$ plot_keywords             <chr> \"anime|cult film|forest|princess|studio g...\n",
      "$ movie_imdb_link           <chr> \"http://www.imdb.com/title/tt0119698/?ref...\n",
      "$ num_user_for_reviews      <int> 570, 279, 45, 131\n",
      "$ language                  <chr> \"Japanese\", \"Korean\", \"Hungarian\", \"Korean\"\n",
      "$ country                   <chr> \"Japan\", \"South Korea\", \"Hungary\", \"South...\n",
      "$ content_rating            <chr> \"PG-13\", \"R\", \"R\", \"R\"\n",
      "$ budget                    <int> NA, NA, NA, NA\n",
      "$ title_year                <int> 1997, 2006, 2005, 2005\n",
      "$ actor_2_facebook_likes    <int> 851, 398, 2, 126\n",
      "$ imdb_score                <dbl> 8.4, 7.0, 7.1, 7.7\n",
      "$ aspect_ratio              <dbl> 1.85, 1.85, 2.35, 2.35\n",
      "$ movie_facebook_likes      <int> 11000, 7000, 607, 4000\n"
     ]
    }
   ],
   "source": [
    "prob_values <- movies[parse_errs$row,]\n",
    "glimpse(prob_values)"
   ]
  },
  {
   "cell_type": "markdown",
   "metadata": {},
   "source": [
    "All international films - I'm betting they're showing the `budget` column all in a foreign currency. Note, Tibble framework sets all parsing errors to `NA`, so I'll disregard for now and let them be `NA`.\n",
    "\n",
    "Finally, look at summary of data frame to understand even better:"
   ]
  },
  {
   "cell_type": "code",
   "execution_count": 13,
   "metadata": {},
   "outputs": [
    {
     "data": {
      "text/plain": [
       "    color           director_name      num_critic_for_reviews    duration    \n",
       " Length:5043        Length:5043        Min.   :  1.0          Min.   :  7.0  \n",
       " Class :character   Class :character   1st Qu.: 50.0          1st Qu.: 93.0  \n",
       " Mode  :character   Mode  :character   Median :110.0          Median :103.0  \n",
       "                                       Mean   :140.2          Mean   :107.2  \n",
       "                                       3rd Qu.:195.0          3rd Qu.:118.0  \n",
       "                                       Max.   :813.0          Max.   :511.0  \n",
       "                                       NA's   :50             NA's   :15     \n",
       " director_facebook_likes actor_3_facebook_likes actor_2_name      \n",
       " Min.   :    0.0         Min.   :    0.0        Length:5043       \n",
       " 1st Qu.:    7.0         1st Qu.:  133.0        Class :character  \n",
       " Median :   49.0         Median :  371.5        Mode  :character  \n",
       " Mean   :  686.5         Mean   :  645.0                          \n",
       " 3rd Qu.:  194.5         3rd Qu.:  636.0                          \n",
       " Max.   :23000.0         Max.   :23000.0                          \n",
       " NA's   :104             NA's   :23                               \n",
       " actor_1_facebook_likes     gross              genres         \n",
       " Min.   :     0         Min.   :      162   Length:5043       \n",
       " 1st Qu.:   614         1st Qu.:  5340988   Class :character  \n",
       " Median :   988         Median : 25517500   Mode  :character  \n",
       " Mean   :  6560         Mean   : 48468408                     \n",
       " 3rd Qu.: 11000         3rd Qu.: 62309438                     \n",
       " Max.   :640000         Max.   :760505847                     \n",
       " NA's   :7              NA's   :884                           \n",
       " actor_1_name       movie_title        num_voted_users  \n",
       " Length:5043        Length:5043        Min.   :      5  \n",
       " Class :character   Class :character   1st Qu.:   8594  \n",
       " Mode  :character   Mode  :character   Median :  34359  \n",
       "                                       Mean   :  83668  \n",
       "                                       3rd Qu.:  96309  \n",
       "                                       Max.   :1689764  \n",
       "                                                        \n",
       " cast_total_facebook_likes actor_3_name       facenumber_in_poster\n",
       " Min.   :     0            Length:5043        Min.   : 0.000      \n",
       " 1st Qu.:  1411            Class :character   1st Qu.: 0.000      \n",
       " Median :  3090            Mode  :character   Median : 1.000      \n",
       " Mean   :  9699                               Mean   : 1.371      \n",
       " 3rd Qu.: 13756                               3rd Qu.: 2.000      \n",
       " Max.   :656730                               Max.   :43.000      \n",
       "                                              NA's   :13          \n",
       " plot_keywords      movie_imdb_link    num_user_for_reviews   language        \n",
       " Length:5043        Length:5043        Min.   :   1.0       Length:5043       \n",
       " Class :character   Class :character   1st Qu.:  65.0       Class :character  \n",
       " Mode  :character   Mode  :character   Median : 156.0       Mode  :character  \n",
       "                                       Mean   : 272.8                         \n",
       "                                       3rd Qu.: 326.0                         \n",
       "                                       Max.   :5060.0                         \n",
       "                                       NA's   :21                             \n",
       "   country          content_rating         budget            title_year  \n",
       " Length:5043        Length:5043        Min.   :2.180e+02   Min.   :1916  \n",
       " Class :character   Class :character   1st Qu.:6.000e+06   1st Qu.:1999  \n",
       " Mode  :character   Mode  :character   Median :2.000e+07   Median :2005  \n",
       "                                       Mean   :3.510e+07   Mean   :2002  \n",
       "                                       3rd Qu.:4.400e+07   3rd Qu.:2011  \n",
       "                                       Max.   :2.128e+09   Max.   :2016  \n",
       "                                       NA's   :496         NA's   :108   \n",
       " actor_2_facebook_likes   imdb_score     aspect_ratio   movie_facebook_likes\n",
       " Min.   :     0         Min.   :1.600   Min.   : 1.18   Min.   :     0      \n",
       " 1st Qu.:   281         1st Qu.:5.800   1st Qu.: 1.85   1st Qu.:     0      \n",
       " Median :   595         Median :6.600   Median : 2.35   Median :   166      \n",
       " Mean   :  1652         Mean   :6.442   Mean   : 2.22   Mean   :  7526      \n",
       " 3rd Qu.:   918         3rd Qu.:7.200   3rd Qu.: 2.35   3rd Qu.:  3000      \n",
       " Max.   :137000         Max.   :9.500   Max.   :16.00   Max.   :349000      \n",
       " NA's   :13                             NA's   :329                         "
      ]
     },
     "metadata": {},
     "output_type": "display_data"
    }
   ],
   "source": [
    "summary(movies)"
   ]
  },
  {
   "cell_type": "markdown",
   "metadata": {},
   "source": [
    "Things to keep an eye on from looking at summary again:\n",
    "\n",
    "* multiple variables have `NA` instead of a value. Ones to be aware of:\n",
    "  * `duration`: strange that a movie's duration is unknown. Thankfully only 15 instances.\n",
    "  * `budget`: also strange if no value here, but for the 4 instances of foreign film I found, makes sense. Many more here, at 496.\n",
    "  * `title_year`: each film definitely has a year it was finished, so strange that 108 instances\n",
    "  * `aspect_ratio`: 329 instances. But note not really interesting variable given aspect ratio is often modified for some films (3:4 to 16:9)\n",
    "  * some values may be very excessive - like in `budget`, which has a max of approximatel 2,128,000,000. I'm sure never been movie made for over two billion dollars\n",
    "\n",
    "Is the data \"tidy\"?:\n",
    "\n",
    "* each variable has its own column? Of the 28 variables shown, each represents a unique type of measurement. Check.\n",
    "* each observation has its own row? Yes, no values exist that branch out into their own measurements. Check.\n",
    "* each value has its own cell? No, but will treat `plot_keywords` and `generes` as-is. Notes:\n",
    "  * `genres` is up to five genre keywords in alphabetical order and strings restricted to a representative keyword (ex. there is SciFi but no Scifi). Can leverage this by treating each unique combination as a measurement.\n",
    "  * `plot_keywords` has a small number of keywords, but nearly infinite number of combinations of any word or short phrase from human language. So leaving this as-is (but possibly using n-grams or something else)\n",
    " \n",
    "Finally, are there any duplicate observations?"
   ]
  },
  {
   "cell_type": "code",
   "execution_count": 14,
   "metadata": {},
   "outputs": [
    {
     "data": {
      "text/html": [
       "<ol class=list-inline>\n",
       "\t<li>138</li>\n",
       "\t<li>188</li>\n",
       "\t<li>205</li>\n",
       "\t<li>304</li>\n",
       "\t<li>390</li>\n",
       "\t<li>396</li>\n",
       "\t<li>591</li>\n",
       "\t<li>657</li>\n",
       "\t<li>795</li>\n",
       "\t<li>1221</li>\n",
       "\t<li>1306</li>\n",
       "\t<li>1450</li>\n",
       "\t<li>2170</li>\n",
       "\t<li>2293</li>\n",
       "\t<li>2473</li>\n",
       "\t<li>2494</li>\n",
       "\t<li>2534</li>\n",
       "\t<li>2563</li>\n",
       "\t<li>2569</li>\n",
       "\t<li>2620</li>\n",
       "\t<li>2772</li>\n",
       "\t<li>2778</li>\n",
       "\t<li>2799</li>\n",
       "\t<li>2972</li>\n",
       "\t<li>3118</li>\n",
       "\t<li>3346</li>\n",
       "\t<li>3453</li>\n",
       "\t<li>3481</li>\n",
       "\t<li>3730</li>\n",
       "\t<li>3901</li>\n",
       "\t<li>3916</li>\n",
       "\t<li>4183</li>\n",
       "\t<li>4227</li>\n",
       "\t<li>4283</li>\n",
       "\t<li>4314</li>\n",
       "\t<li>4409</li>\n",
       "\t<li>4566</li>\n",
       "\t<li>4574</li>\n",
       "\t<li>4632</li>\n",
       "\t<li>4770</li>\n",
       "\t<li>4883</li>\n",
       "\t<li>4928</li>\n",
       "\t<li>4943</li>\n",
       "\t<li>4951</li>\n",
       "\t<li>4952</li>\n",
       "</ol>\n"
      ],
      "text/latex": [
       "\\begin{enumerate*}\n",
       "\\item 138\n",
       "\\item 188\n",
       "\\item 205\n",
       "\\item 304\n",
       "\\item 390\n",
       "\\item 396\n",
       "\\item 591\n",
       "\\item 657\n",
       "\\item 795\n",
       "\\item 1221\n",
       "\\item 1306\n",
       "\\item 1450\n",
       "\\item 2170\n",
       "\\item 2293\n",
       "\\item 2473\n",
       "\\item 2494\n",
       "\\item 2534\n",
       "\\item 2563\n",
       "\\item 2569\n",
       "\\item 2620\n",
       "\\item 2772\n",
       "\\item 2778\n",
       "\\item 2799\n",
       "\\item 2972\n",
       "\\item 3118\n",
       "\\item 3346\n",
       "\\item 3453\n",
       "\\item 3481\n",
       "\\item 3730\n",
       "\\item 3901\n",
       "\\item 3916\n",
       "\\item 4183\n",
       "\\item 4227\n",
       "\\item 4283\n",
       "\\item 4314\n",
       "\\item 4409\n",
       "\\item 4566\n",
       "\\item 4574\n",
       "\\item 4632\n",
       "\\item 4770\n",
       "\\item 4883\n",
       "\\item 4928\n",
       "\\item 4943\n",
       "\\item 4951\n",
       "\\item 4952\n",
       "\\end{enumerate*}\n"
      ],
      "text/markdown": [
       "1. 138\n",
       "2. 188\n",
       "3. 205\n",
       "4. 304\n",
       "5. 390\n",
       "6. 396\n",
       "7. 591\n",
       "8. 657\n",
       "9. 795\n",
       "10. 1221\n",
       "11. 1306\n",
       "12. 1450\n",
       "13. 2170\n",
       "14. 2293\n",
       "15. 2473\n",
       "16. 2494\n",
       "17. 2534\n",
       "18. 2563\n",
       "19. 2569\n",
       "20. 2620\n",
       "21. 2772\n",
       "22. 2778\n",
       "23. 2799\n",
       "24. 2972\n",
       "25. 3118\n",
       "26. 3346\n",
       "27. 3453\n",
       "28. 3481\n",
       "29. 3730\n",
       "30. 3901\n",
       "31. 3916\n",
       "32. 4183\n",
       "33. 4227\n",
       "34. 4283\n",
       "35. 4314\n",
       "36. 4409\n",
       "37. 4566\n",
       "38. 4574\n",
       "39. 4632\n",
       "40. 4770\n",
       "41. 4883\n",
       "42. 4928\n",
       "43. 4943\n",
       "44. 4951\n",
       "45. 4952\n",
       "\n",
       "\n"
      ],
      "text/plain": [
       " [1]  138  188  205  304  390  396  591  657  795 1221 1306 1450 2170 2293 2473\n",
       "[16] 2494 2534 2563 2569 2620 2772 2778 2799 2972 3118 3346 3453 3481 3730 3901\n",
       "[31] 3916 4183 4227 4283 4314 4409 4566 4574 4632 4770 4883 4928 4943 4951 4952"
      ]
     },
     "metadata": {},
     "output_type": "display_data"
    },
    {
     "data": {
      "text/html": [
       "<table>\n",
       "<thead><tr><th scope=col>color</th><th scope=col>director_name</th><th scope=col>num_critic_for_reviews</th><th scope=col>duration</th><th scope=col>director_facebook_likes</th><th scope=col>actor_3_facebook_likes</th><th scope=col>actor_2_name</th><th scope=col>actor_1_facebook_likes</th><th scope=col>gross</th><th scope=col>genres</th><th scope=col>⋯</th><th scope=col>num_user_for_reviews</th><th scope=col>language</th><th scope=col>country</th><th scope=col>content_rating</th><th scope=col>budget</th><th scope=col>title_year</th><th scope=col>actor_2_facebook_likes</th><th scope=col>imdb_score</th><th scope=col>aspect_ratio</th><th scope=col>movie_facebook_likes</th></tr></thead>\n",
       "<tbody>\n",
       "\t<tr><td>Color                               </td><td>David Yates                         </td><td>248                                 </td><td>110                                 </td><td>282                                 </td><td>  103                               </td><td>Alexander Skarsgård                 </td><td>11000                               </td><td>124051759                           </td><td>Action|Adventure|Drama|Romance      </td><td>⋯                                   </td><td>239                                 </td><td>English                             </td><td>USA                                 </td><td>PG-13                               </td><td>180000000                           </td><td>2016                                </td><td>10000                               </td><td>6.6                                 </td><td>2.35                                </td><td>29000                               </td></tr>\n",
       "\t<tr><td>Color                               </td><td>Bill Condon                         </td><td>322                                 </td><td>115                                 </td><td>386                                 </td><td>12000                               </td><td>Kristen Stewart                     </td><td>21000                               </td><td>292298923                           </td><td>Adventure|Drama|Fantasy|Romance     </td><td>⋯                                   </td><td>329                                 </td><td>English                             </td><td>USA                                 </td><td>PG-13                               </td><td>120000000                           </td><td>2012                                </td><td>17000                               </td><td>5.5                                 </td><td>2.35                                </td><td>65000                               </td></tr>\n",
       "\t<tr><td>Color                               </td><td>Hideaki Anno                        </td><td>  1                                 </td><td>120                                 </td><td> 28                                 </td><td>   12                               </td><td>Shin'ya Tsukamoto                   </td><td>  544                               </td><td>       NA                           </td><td>Action|Adventure|Drama|Horror|Sci-Fi</td><td>⋯                                   </td><td> 13                                 </td><td>Japanese                            </td><td>Japan                               </td><td>NA                                  </td><td>       NA                           </td><td>2016                                </td><td>  106                               </td><td>8.2                                 </td><td>2.35                                </td><td>    0                               </td></tr>\n",
       "\t<tr><td>Color                               </td><td>Joe Wright                          </td><td>256                                 </td><td>111                                 </td><td>456                                 </td><td>  394                               </td><td>Cara Delevingne                     </td><td>20000                               </td><td> 34964818                           </td><td>Adventure|Family|Fantasy            </td><td>⋯                                   </td><td>186                                 </td><td>English                             </td><td>USA                                 </td><td>PG                                  </td><td>150000000                           </td><td>2015                                </td><td>  548                               </td><td>5.8                                 </td><td>2.35                                </td><td>24000                               </td></tr>\n",
       "\t<tr><td>Color                               </td><td>Josh Trank                          </td><td>369                                 </td><td>100                                 </td><td>128                                 </td><td>   78                               </td><td>Reg E. Cathey                       </td><td>  596                               </td><td> 56114221                           </td><td>Action|Adventure|Sci-Fi             </td><td>⋯                                   </td><td>695                                 </td><td>English                             </td><td>USA                                 </td><td>PG-13                               </td><td>120000000                           </td><td>2015                                </td><td>  360                               </td><td>4.3                                 </td><td>2.35                                </td><td>41000                               </td></tr>\n",
       "\t<tr><td>Color                               </td><td>Rob Cohen                           </td><td>187                                 </td><td>106                                 </td><td>357                                 </td><td> 4000                               </td><td>Vin Diesel                          </td><td>23000                               </td><td>144512310                           </td><td>Action|Crime|Thriller               </td><td>⋯                                   </td><td>988                                 </td><td>English                             </td><td>USA                                 </td><td>PG-13                               </td><td> 38000000                           </td><td>2001                                </td><td>14000                               </td><td>6.7                                 </td><td>2.35                                </td><td>14000                               </td></tr>\n",
       "</tbody>\n",
       "</table>\n"
      ],
      "text/latex": [
       "\\begin{tabular}{r|llllllllllllllllllllllllllll}\n",
       " color & director\\_name & num\\_critic\\_for\\_reviews & duration & director\\_facebook\\_likes & actor\\_3\\_facebook\\_likes & actor\\_2\\_name & actor\\_1\\_facebook\\_likes & gross & genres & ⋯ & num\\_user\\_for\\_reviews & language & country & content\\_rating & budget & title\\_year & actor\\_2\\_facebook\\_likes & imdb\\_score & aspect\\_ratio & movie\\_facebook\\_likes\\\\\n",
       "\\hline\n",
       "\t Color                                                              & David Yates                                                        & 248                                                                & 110                                                                & 282                                                                &   103                                                              & Alexander Skarsgård                                                & 11000                                                              & 124051759                                                          & Action\\textbar{}Adventure\\textbar{}Drama\\textbar{}Romance       & ⋯                                                                  & 239                                                                & English                                                            & USA                                                                & PG-13                                                              & 180000000                                                          & 2016                                                               & 10000                                                              & 6.6                                                                & 2.35                                                               & 29000                                                             \\\\\n",
       "\t Color                                                              & Bill Condon                                                        & 322                                                                & 115                                                                & 386                                                                & 12000                                                              & Kristen Stewart                                                    & 21000                                                              & 292298923                                                          & Adventure\\textbar{}Drama\\textbar{}Fantasy\\textbar{}Romance      & ⋯                                                                  & 329                                                                & English                                                            & USA                                                                & PG-13                                                              & 120000000                                                          & 2012                                                               & 17000                                                              & 5.5                                                                & 2.35                                                               & 65000                                                             \\\\\n",
       "\t Color                                                                        & Hideaki Anno                                                                 &   1                                                                          & 120                                                                          &  28                                                                          &    12                                                                        & Shin'ya Tsukamoto                                                            &   544                                                                        &        NA                                                                    & Action\\textbar{}Adventure\\textbar{}Drama\\textbar{}Horror\\textbar{}Sci-Fi & ⋯                                                                            &  13                                                                          & Japanese                                                                     & Japan                                                                        & NA                                                                           &        NA                                                                    & 2016                                                                         &   106                                                                        & 8.2                                                                          & 2.35                                                                         &     0                                                                       \\\\\n",
       "\t Color                                                    & Joe Wright                                               & 256                                                      & 111                                                      & 456                                                      &   394                                                    & Cara Delevingne                                          & 20000                                                    &  34964818                                                & Adventure\\textbar{}Family\\textbar{}Fantasy             & ⋯                                                        & 186                                                      & English                                                  & USA                                                      & PG                                                       & 150000000                                                & 2015                                                     &   548                                                    & 5.8                                                      & 2.35                                                     & 24000                                                   \\\\\n",
       "\t Color                                                    & Josh Trank                                               & 369                                                      & 100                                                      & 128                                                      &    78                                                    & Reg E. Cathey                                            &   596                                                    &  56114221                                                & Action\\textbar{}Adventure\\textbar{}Sci-Fi              & ⋯                                                        & 695                                                      & English                                                  & USA                                                      & PG-13                                                    & 120000000                                                & 2015                                                     &   360                                                    & 4.3                                                      & 2.35                                                     & 41000                                                   \\\\\n",
       "\t Color                                                    & Rob Cohen                                                & 187                                                      & 106                                                      & 357                                                      &  4000                                                    & Vin Diesel                                               & 23000                                                    & 144512310                                                & Action\\textbar{}Crime\\textbar{}Thriller                & ⋯                                                        & 988                                                      & English                                                  & USA                                                      & PG-13                                                    &  38000000                                                & 2001                                                     & 14000                                                    & 6.7                                                      & 2.35                                                     & 14000                                                   \\\\\n",
       "\\end{tabular}\n"
      ],
      "text/markdown": [
       "\n",
       "color | director_name | num_critic_for_reviews | duration | director_facebook_likes | actor_3_facebook_likes | actor_2_name | actor_1_facebook_likes | gross | genres | ⋯ | num_user_for_reviews | language | country | content_rating | budget | title_year | actor_2_facebook_likes | imdb_score | aspect_ratio | movie_facebook_likes | \n",
       "|---|---|---|---|---|---|\n",
       "| Color                                | David Yates                          | 248                                  | 110                                  | 282                                  |   103                                | Alexander Skarsgård                  | 11000                                | 124051759                            | Action|Adventure|Drama|Romance       | ⋯                                    | 239                                  | English                              | USA                                  | PG-13                                | 180000000                            | 2016                                 | 10000                                | 6.6                                  | 2.35                                 | 29000                                | \n",
       "| Color                                | Bill Condon                          | 322                                  | 115                                  | 386                                  | 12000                                | Kristen Stewart                      | 21000                                | 292298923                            | Adventure|Drama|Fantasy|Romance      | ⋯                                    | 329                                  | English                              | USA                                  | PG-13                                | 120000000                            | 2012                                 | 17000                                | 5.5                                  | 2.35                                 | 65000                                | \n",
       "| Color                                | Hideaki Anno                         |   1                                  | 120                                  |  28                                  |    12                                | Shin'ya Tsukamoto                    |   544                                |        NA                            | Action|Adventure|Drama|Horror|Sci-Fi | ⋯                                    |  13                                  | Japanese                             | Japan                                | NA                                   |        NA                            | 2016                                 |   106                                | 8.2                                  | 2.35                                 |     0                                | \n",
       "| Color                                | Joe Wright                           | 256                                  | 111                                  | 456                                  |   394                                | Cara Delevingne                      | 20000                                |  34964818                            | Adventure|Family|Fantasy             | ⋯                                    | 186                                  | English                              | USA                                  | PG                                   | 150000000                            | 2015                                 |   548                                | 5.8                                  | 2.35                                 | 24000                                | \n",
       "| Color                                | Josh Trank                           | 369                                  | 100                                  | 128                                  |    78                                | Reg E. Cathey                        |   596                                |  56114221                            | Action|Adventure|Sci-Fi              | ⋯                                    | 695                                  | English                              | USA                                  | PG-13                                | 120000000                            | 2015                                 |   360                                | 4.3                                  | 2.35                                 | 41000                                | \n",
       "| Color                                | Rob Cohen                            | 187                                  | 106                                  | 357                                  |  4000                                | Vin Diesel                           | 23000                                | 144512310                            | Action|Crime|Thriller                | ⋯                                    | 988                                  | English                              | USA                                  | PG-13                                |  38000000                            | 2001                                 | 14000                                | 6.7                                  | 2.35                                 | 14000                                | \n",
       "\n",
       "\n"
      ],
      "text/plain": [
       "  color director_name num_critic_for_reviews duration director_facebook_likes\n",
       "1 Color David Yates   248                    110      282                    \n",
       "2 Color Bill Condon   322                    115      386                    \n",
       "3 Color Hideaki Anno    1                    120       28                    \n",
       "4 Color Joe Wright    256                    111      456                    \n",
       "5 Color Josh Trank    369                    100      128                    \n",
       "6 Color Rob Cohen     187                    106      357                    \n",
       "  actor_3_facebook_likes actor_2_name        actor_1_facebook_likes gross    \n",
       "1   103                  Alexander Skarsgård 11000                  124051759\n",
       "2 12000                  Kristen Stewart     21000                  292298923\n",
       "3    12                  Shin'ya Tsukamoto     544                         NA\n",
       "4   394                  Cara Delevingne     20000                   34964818\n",
       "5    78                  Reg E. Cathey         596                   56114221\n",
       "6  4000                  Vin Diesel          23000                  144512310\n",
       "  genres                               ⋯ num_user_for_reviews language country\n",
       "1 Action|Adventure|Drama|Romance       ⋯ 239                  English  USA    \n",
       "2 Adventure|Drama|Fantasy|Romance      ⋯ 329                  English  USA    \n",
       "3 Action|Adventure|Drama|Horror|Sci-Fi ⋯  13                  Japanese Japan  \n",
       "4 Adventure|Family|Fantasy             ⋯ 186                  English  USA    \n",
       "5 Action|Adventure|Sci-Fi              ⋯ 695                  English  USA    \n",
       "6 Action|Crime|Thriller                ⋯ 988                  English  USA    \n",
       "  content_rating budget    title_year actor_2_facebook_likes imdb_score\n",
       "1 PG-13          180000000 2016       10000                  6.6       \n",
       "2 PG-13          120000000 2012       17000                  5.5       \n",
       "3 NA                    NA 2016         106                  8.2       \n",
       "4 PG             150000000 2015         548                  5.8       \n",
       "5 PG-13          120000000 2015         360                  4.3       \n",
       "6 PG-13           38000000 2001       14000                  6.7       \n",
       "  aspect_ratio movie_facebook_likes\n",
       "1 2.35         29000               \n",
       "2 2.35         65000               \n",
       "3 2.35             0               \n",
       "4 2.35         24000               \n",
       "5 2.35         41000               \n",
       "6 2.35         14000               "
      ]
     },
     "metadata": {},
     "output_type": "display_data"
    }
   ],
   "source": [
    "dupes <- which(duplicated(movies))\n",
    "dupes\n",
    "head(movies[dupes,])"
   ]
  },
  {
   "cell_type": "markdown",
   "metadata": {},
   "source": [
    "Yes, so create new data frame that removes all duplicate observations:"
   ]
  },
  {
   "cell_type": "code",
   "execution_count": 15,
   "metadata": {},
   "outputs": [
    {
     "data": {
      "text/html": [
       "<table>\n",
       "<thead><tr><th scope=col>color</th><th scope=col>director_name</th><th scope=col>num_critic_for_reviews</th><th scope=col>duration</th><th scope=col>director_facebook_likes</th><th scope=col>actor_3_facebook_likes</th><th scope=col>actor_2_name</th><th scope=col>actor_1_facebook_likes</th><th scope=col>gross</th><th scope=col>genres</th><th scope=col>⋯</th><th scope=col>num_user_for_reviews</th><th scope=col>language</th><th scope=col>country</th><th scope=col>content_rating</th><th scope=col>budget</th><th scope=col>title_year</th><th scope=col>actor_2_facebook_likes</th><th scope=col>imdb_score</th><th scope=col>aspect_ratio</th><th scope=col>movie_facebook_likes</th></tr></thead>\n",
       "<tbody>\n",
       "\t<tr><td>Color                          </td><td>James Cameron                  </td><td>723                            </td><td>178                            </td><td>    0                          </td><td>  855                          </td><td>Joel David Moore               </td><td> 1000                          </td><td>760505847                      </td><td>Action|Adventure|Fantasy|Sci-Fi</td><td>⋯                              </td><td>3054                           </td><td>English                        </td><td>USA                            </td><td>PG-13                          </td><td>237000000                      </td><td>2009                           </td><td>  936                          </td><td>7.9                            </td><td>1.78                           </td><td> 33000                         </td></tr>\n",
       "\t<tr><td>Color                          </td><td>Gore Verbinski                 </td><td>302                            </td><td>169                            </td><td>  563                          </td><td> 1000                          </td><td>Orlando Bloom                  </td><td>40000                          </td><td>309404152                      </td><td>Action|Adventure|Fantasy       </td><td>⋯                              </td><td>1238                           </td><td>English                        </td><td>USA                            </td><td>PG-13                          </td><td>300000000                      </td><td>2007                           </td><td> 5000                          </td><td>7.1                            </td><td>2.35                           </td><td>     0                         </td></tr>\n",
       "\t<tr><td>Color                          </td><td>Sam Mendes                     </td><td>602                            </td><td>148                            </td><td>    0                          </td><td>  161                          </td><td>Rory Kinnear                   </td><td>11000                          </td><td>200074175                      </td><td>Action|Adventure|Thriller      </td><td>⋯                              </td><td> 994                           </td><td>English                        </td><td>UK                             </td><td>PG-13                          </td><td>245000000                      </td><td>2015                           </td><td>  393                          </td><td>6.8                            </td><td>2.35                           </td><td> 85000                         </td></tr>\n",
       "\t<tr><td>Color                          </td><td>Christopher Nolan              </td><td>813                            </td><td>164                            </td><td>22000                          </td><td>23000                          </td><td>Christian Bale                 </td><td>27000                          </td><td>448130642                      </td><td>Action|Thriller                </td><td>⋯                              </td><td>2701                           </td><td>English                        </td><td>USA                            </td><td>PG-13                          </td><td>250000000                      </td><td>2012                           </td><td>23000                          </td><td>8.5                            </td><td>2.35                           </td><td>164000                         </td></tr>\n",
       "\t<tr><td>NA                             </td><td>Doug Walker                    </td><td> NA                            </td><td> NA                            </td><td>  131                          </td><td>   NA                          </td><td>Rob Walker                     </td><td>  131                          </td><td>       NA                      </td><td>Documentary                    </td><td>⋯                              </td><td>  NA                           </td><td>NA                             </td><td>NA                             </td><td>NA                             </td><td>       NA                      </td><td>  NA                           </td><td>   12                          </td><td>7.1                            </td><td>  NA                           </td><td>     0                         </td></tr>\n",
       "\t<tr><td>Color                          </td><td>Andrew Stanton                 </td><td>462                            </td><td>132                            </td><td>  475                          </td><td>  530                          </td><td>Samantha Morton                </td><td>  640                          </td><td> 73058679                      </td><td>Action|Adventure|Sci-Fi        </td><td>⋯                              </td><td> 738                           </td><td>English                        </td><td>USA                            </td><td>PG-13                          </td><td>263700000                      </td><td>2012                           </td><td>  632                          </td><td>6.6                            </td><td>2.35                           </td><td> 24000                         </td></tr>\n",
       "</tbody>\n",
       "</table>\n"
      ],
      "text/latex": [
       "\\begin{tabular}{r|llllllllllllllllllllllllllll}\n",
       " color & director\\_name & num\\_critic\\_for\\_reviews & duration & director\\_facebook\\_likes & actor\\_3\\_facebook\\_likes & actor\\_2\\_name & actor\\_1\\_facebook\\_likes & gross & genres & ⋯ & num\\_user\\_for\\_reviews & language & country & content\\_rating & budget & title\\_year & actor\\_2\\_facebook\\_likes & imdb\\_score & aspect\\_ratio & movie\\_facebook\\_likes\\\\\n",
       "\\hline\n",
       "\t Color                                                         & James Cameron                                                 & 723                                                           & 178                                                           &     0                                                         &   855                                                         & Joel David Moore                                              &  1000                                                         & 760505847                                                     & Action\\textbar{}Adventure\\textbar{}Fantasy\\textbar{}Sci-Fi & ⋯                                                             & 3054                                                          & English                                                       & USA                                                           & PG-13                                                         & 237000000                                                     & 2009                                                          &   936                                                         & 7.9                                                           & 1.78                                                          &  33000                                                       \\\\\n",
       "\t Color                                               & Gore Verbinski                                      & 302                                                 & 169                                                 &   563                                               &  1000                                               & Orlando Bloom                                       & 40000                                               & 309404152                                           & Action\\textbar{}Adventure\\textbar{}Fantasy        & ⋯                                                   & 1238                                                & English                                             & USA                                                 & PG-13                                               & 300000000                                           & 2007                                                &  5000                                               & 7.1                                                 & 2.35                                                &      0                                             \\\\\n",
       "\t Color                                               & Sam Mendes                                          & 602                                                 & 148                                                 &     0                                               &   161                                               & Rory Kinnear                                        & 11000                                               & 200074175                                           & Action\\textbar{}Adventure\\textbar{}Thriller       & ⋯                                                   &  994                                                & English                                             & UK                                                  & PG-13                                               & 245000000                                           & 2015                                                &   393                                               & 6.8                                                 & 2.35                                                &  85000                                             \\\\\n",
       "\t Color                                     & Christopher Nolan                         & 813                                       & 164                                       & 22000                                     & 23000                                     & Christian Bale                            & 27000                                     & 448130642                                 & Action\\textbar{}Thriller                 & ⋯                                         & 2701                                      & English                                   & USA                                       & PG-13                                     & 250000000                                 & 2012                                      & 23000                                     & 8.5                                       & 2.35                                      & 164000                                   \\\\\n",
       "\t NA                              & Doug Walker                     &  NA                             &  NA                             &   131                           &    NA                           & Rob Walker                      &   131                           &        NA                       & Documentary                     & ⋯                               &   NA                            & NA                              & NA                              & NA                              &        NA                       &   NA                            &    12                           & 7.1                             &   NA                            &      0                         \\\\\n",
       "\t Color                                               & Andrew Stanton                                      & 462                                                 & 132                                                 &   475                                               &   530                                               & Samantha Morton                                     &   640                                               &  73058679                                           & Action\\textbar{}Adventure\\textbar{}Sci-Fi         & ⋯                                                   &  738                                                & English                                             & USA                                                 & PG-13                                               & 263700000                                           & 2012                                                &   632                                               & 6.6                                                 & 2.35                                                &  24000                                             \\\\\n",
       "\\end{tabular}\n"
      ],
      "text/markdown": [
       "\n",
       "color | director_name | num_critic_for_reviews | duration | director_facebook_likes | actor_3_facebook_likes | actor_2_name | actor_1_facebook_likes | gross | genres | ⋯ | num_user_for_reviews | language | country | content_rating | budget | title_year | actor_2_facebook_likes | imdb_score | aspect_ratio | movie_facebook_likes | \n",
       "|---|---|---|---|---|---|\n",
       "| Color                           | James Cameron                   | 723                             | 178                             |     0                           |   855                           | Joel David Moore                |  1000                           | 760505847                       | Action|Adventure|Fantasy|Sci-Fi | ⋯                               | 3054                            | English                         | USA                             | PG-13                           | 237000000                       | 2009                            |   936                           | 7.9                             | 1.78                            |  33000                          | \n",
       "| Color                           | Gore Verbinski                  | 302                             | 169                             |   563                           |  1000                           | Orlando Bloom                   | 40000                           | 309404152                       | Action|Adventure|Fantasy        | ⋯                               | 1238                            | English                         | USA                             | PG-13                           | 300000000                       | 2007                            |  5000                           | 7.1                             | 2.35                            |      0                          | \n",
       "| Color                           | Sam Mendes                      | 602                             | 148                             |     0                           |   161                           | Rory Kinnear                    | 11000                           | 200074175                       | Action|Adventure|Thriller       | ⋯                               |  994                            | English                         | UK                              | PG-13                           | 245000000                       | 2015                            |   393                           | 6.8                             | 2.35                            |  85000                          | \n",
       "| Color                           | Christopher Nolan               | 813                             | 164                             | 22000                           | 23000                           | Christian Bale                  | 27000                           | 448130642                       | Action|Thriller                 | ⋯                               | 2701                            | English                         | USA                             | PG-13                           | 250000000                       | 2012                            | 23000                           | 8.5                             | 2.35                            | 164000                          | \n",
       "| NA                              | Doug Walker                     |  NA                             |  NA                             |   131                           |    NA                           | Rob Walker                      |   131                           |        NA                       | Documentary                     | ⋯                               |   NA                            | NA                              | NA                              | NA                              |        NA                       |   NA                            |    12                           | 7.1                             |   NA                            |      0                          | \n",
       "| Color                           | Andrew Stanton                  | 462                             | 132                             |   475                           |   530                           | Samantha Morton                 |   640                           |  73058679                       | Action|Adventure|Sci-Fi         | ⋯                               |  738                            | English                         | USA                             | PG-13                           | 263700000                       | 2012                            |   632                           | 6.6                             | 2.35                            |  24000                          | \n",
       "\n",
       "\n"
      ],
      "text/plain": [
       "  color director_name     num_critic_for_reviews duration\n",
       "1 Color James Cameron     723                    178     \n",
       "2 Color Gore Verbinski    302                    169     \n",
       "3 Color Sam Mendes        602                    148     \n",
       "4 Color Christopher Nolan 813                    164     \n",
       "5 NA    Doug Walker        NA                     NA     \n",
       "6 Color Andrew Stanton    462                    132     \n",
       "  director_facebook_likes actor_3_facebook_likes actor_2_name    \n",
       "1     0                     855                  Joel David Moore\n",
       "2   563                    1000                  Orlando Bloom   \n",
       "3     0                     161                  Rory Kinnear    \n",
       "4 22000                   23000                  Christian Bale  \n",
       "5   131                      NA                  Rob Walker      \n",
       "6   475                     530                  Samantha Morton \n",
       "  actor_1_facebook_likes gross     genres                          ⋯\n",
       "1  1000                  760505847 Action|Adventure|Fantasy|Sci-Fi ⋯\n",
       "2 40000                  309404152 Action|Adventure|Fantasy        ⋯\n",
       "3 11000                  200074175 Action|Adventure|Thriller       ⋯\n",
       "4 27000                  448130642 Action|Thriller                 ⋯\n",
       "5   131                         NA Documentary                     ⋯\n",
       "6   640                   73058679 Action|Adventure|Sci-Fi         ⋯\n",
       "  num_user_for_reviews language country content_rating budget    title_year\n",
       "1 3054                 English  USA     PG-13          237000000 2009      \n",
       "2 1238                 English  USA     PG-13          300000000 2007      \n",
       "3  994                 English  UK      PG-13          245000000 2015      \n",
       "4 2701                 English  USA     PG-13          250000000 2012      \n",
       "5   NA                 NA       NA      NA                    NA   NA      \n",
       "6  738                 English  USA     PG-13          263700000 2012      \n",
       "  actor_2_facebook_likes imdb_score aspect_ratio movie_facebook_likes\n",
       "1   936                  7.9        1.78          33000              \n",
       "2  5000                  7.1        2.35              0              \n",
       "3   393                  6.8        2.35          85000              \n",
       "4 23000                  8.5        2.35         164000              \n",
       "5    12                  7.1          NA              0              \n",
       "6   632                  6.6        2.35          24000              "
      ]
     },
     "metadata": {},
     "output_type": "display_data"
    }
   ],
   "source": [
    "movies <- movies[which(!duplicated(movies)),]\n",
    "head(movies)"
   ]
  },
  {
   "cell_type": "code",
   "execution_count": 16,
   "metadata": {},
   "outputs": [
    {
     "data": {
      "text/plain": [
       "    color           director_name      num_critic_for_reviews    duration    \n",
       " Length:4998        Length:4998        Min.   :  1.0          Min.   :  7.0  \n",
       " Class :character   Class :character   1st Qu.: 50.0          1st Qu.: 93.0  \n",
       " Mode  :character   Mode  :character   Median :110.0          Median :103.0  \n",
       "                                       Mean   :139.9          Mean   :107.2  \n",
       "                                       3rd Qu.:195.0          3rd Qu.:118.0  \n",
       "                                       Max.   :813.0          Max.   :511.0  \n",
       "                                       NA's   :49             NA's   :15     \n",
       " director_facebook_likes actor_3_facebook_likes actor_2_name      \n",
       " Min.   :    0.0         Min.   :    0.0        Length:4998       \n",
       " 1st Qu.:    7.0         1st Qu.:  133.0        Class :character  \n",
       " Median :   49.0         Median :  369.0        Mode  :character  \n",
       " Mean   :  688.7         Mean   :  639.9                          \n",
       " 3rd Qu.:  192.0         3rd Qu.:  635.0                          \n",
       " Max.   :23000.0         Max.   :23000.0                          \n",
       " NA's   :103             NA's   :23                               \n",
       " actor_1_facebook_likes     gross              genres         \n",
       " Min.   :     0.0       Min.   :      162   Length:4998       \n",
       " 1st Qu.:   611.5       1st Qu.:  5304835   Class :character  \n",
       " Median :   984.0       Median : 25445749   Mode  :character  \n",
       " Mean   :  6556.9       Mean   : 48325649                     \n",
       " 3rd Qu.: 11000.0       3rd Qu.: 62319416                     \n",
       " Max.   :640000.0       Max.   :760505847                     \n",
       " NA's   :7              NA's   :874                           \n",
       " actor_1_name       movie_title        num_voted_users  \n",
       " Length:4998        Length:4998        Min.   :      5  \n",
       " Class :character   Class :character   1st Qu.:   8560  \n",
       " Mode  :character   Mode  :character   Median :  34260  \n",
       "                                       Mean   :  83470  \n",
       "                                       3rd Qu.:  96121  \n",
       "                                       Max.   :1689764  \n",
       "                                                        \n",
       " cast_total_facebook_likes actor_3_name       facenumber_in_poster\n",
       " Min.   :     0            Length:4998        Min.   : 0.000      \n",
       " 1st Qu.:  1406            Class :character   1st Qu.: 0.000      \n",
       " Median :  3086            Mode  :character   Median : 1.000      \n",
       " Mean   :  9677                               Mean   : 1.369      \n",
       " 3rd Qu.: 13740                               3rd Qu.: 2.000      \n",
       " Max.   :656730                               Max.   :43.000      \n",
       "                                              NA's   :13          \n",
       " plot_keywords      movie_imdb_link    num_user_for_reviews   language        \n",
       " Length:4998        Length:4998        Min.   :   1         Length:4998       \n",
       " Class :character   Class :character   1st Qu.:  64         Class :character  \n",
       " Mode  :character   Mode  :character   Median : 156         Mode  :character  \n",
       "                                       Mean   : 272                           \n",
       "                                       3rd Qu.: 324                           \n",
       "                                       Max.   :5060                           \n",
       "                                       NA's   :21                             \n",
       "   country          content_rating         budget            title_year  \n",
       " Length:4998        Length:4998        Min.   :2.180e+02   Min.   :1916  \n",
       " Class :character   Class :character   1st Qu.:6.000e+06   1st Qu.:1999  \n",
       " Mode  :character   Mode  :character   Median :2.000e+07   Median :2005  \n",
       "                                       Mean   :3.505e+07   Mean   :2002  \n",
       "                                       3rd Qu.:4.425e+07   3rd Qu.:2011  \n",
       "                                       Max.   :2.128e+09   Max.   :2016  \n",
       "                                       NA's   :491         NA's   :107   \n",
       " actor_2_facebook_likes   imdb_score     aspect_ratio    movie_facebook_likes\n",
       " Min.   :     0         Min.   :1.600   Min.   : 1.180   Min.   :     0.0    \n",
       " 1st Qu.:   280         1st Qu.:5.800   1st Qu.: 1.850   1st Qu.:     0.0    \n",
       " Median :   595         Median :6.600   Median : 2.350   Median :   162.5    \n",
       " Mean   :  1643         Mean   :6.441   Mean   : 2.221   Mean   :  7487.4    \n",
       " 3rd Qu.:   917         3rd Qu.:7.200   3rd Qu.: 2.350   3rd Qu.:  3000.0    \n",
       " Max.   :137000         Max.   :9.500   Max.   :16.000   Max.   :349000.0    \n",
       " NA's   :13                             NA's   :327                          "
      ]
     },
     "metadata": {},
     "output_type": "display_data"
    }
   ],
   "source": [
    "summary(movies)"
   ]
  },
  {
   "cell_type": "markdown",
   "metadata": {},
   "source": [
    "Left with 4,998 rows. So in summary, checked for parsing errors, reviewed data frame for NA and extreme values, checked if tidy, removed duplicates. Good to go!\n",
    "\n",
    "### Review/document data and its structure\n",
    "So what do I have here? No documentation on Kaggle. Looked at spreadsheet and compared against web page for a given movie. My best guesses for variables and what they mean (only ones that are not obvious):\n",
    "\n",
    "Look at all variables:"
   ]
  },
  {
   "cell_type": "code",
   "execution_count": 17,
   "metadata": {},
   "outputs": [
    {
     "data": {
      "text/html": [
       "<ol class=list-inline>\n",
       "\t<li>'color'</li>\n",
       "\t<li>'director_name'</li>\n",
       "\t<li>'num_critic_for_reviews'</li>\n",
       "\t<li>'duration'</li>\n",
       "\t<li>'director_facebook_likes'</li>\n",
       "\t<li>'actor_3_facebook_likes'</li>\n",
       "\t<li>'actor_2_name'</li>\n",
       "\t<li>'actor_1_facebook_likes'</li>\n",
       "\t<li>'gross'</li>\n",
       "\t<li>'genres'</li>\n",
       "\t<li>'actor_1_name'</li>\n",
       "\t<li>'movie_title'</li>\n",
       "\t<li>'num_voted_users'</li>\n",
       "\t<li>'cast_total_facebook_likes'</li>\n",
       "\t<li>'actor_3_name'</li>\n",
       "\t<li>'facenumber_in_poster'</li>\n",
       "\t<li>'plot_keywords'</li>\n",
       "\t<li>'movie_imdb_link'</li>\n",
       "\t<li>'num_user_for_reviews'</li>\n",
       "\t<li>'language'</li>\n",
       "\t<li>'country'</li>\n",
       "\t<li>'content_rating'</li>\n",
       "\t<li>'budget'</li>\n",
       "\t<li>'title_year'</li>\n",
       "\t<li>'actor_2_facebook_likes'</li>\n",
       "\t<li>'imdb_score'</li>\n",
       "\t<li>'aspect_ratio'</li>\n",
       "\t<li>'movie_facebook_likes'</li>\n",
       "</ol>\n"
      ],
      "text/latex": [
       "\\begin{enumerate*}\n",
       "\\item 'color'\n",
       "\\item 'director\\_name'\n",
       "\\item 'num\\_critic\\_for\\_reviews'\n",
       "\\item 'duration'\n",
       "\\item 'director\\_facebook\\_likes'\n",
       "\\item 'actor\\_3\\_facebook\\_likes'\n",
       "\\item 'actor\\_2\\_name'\n",
       "\\item 'actor\\_1\\_facebook\\_likes'\n",
       "\\item 'gross'\n",
       "\\item 'genres'\n",
       "\\item 'actor\\_1\\_name'\n",
       "\\item 'movie\\_title'\n",
       "\\item 'num\\_voted\\_users'\n",
       "\\item 'cast\\_total\\_facebook\\_likes'\n",
       "\\item 'actor\\_3\\_name'\n",
       "\\item 'facenumber\\_in\\_poster'\n",
       "\\item 'plot\\_keywords'\n",
       "\\item 'movie\\_imdb\\_link'\n",
       "\\item 'num\\_user\\_for\\_reviews'\n",
       "\\item 'language'\n",
       "\\item 'country'\n",
       "\\item 'content\\_rating'\n",
       "\\item 'budget'\n",
       "\\item 'title\\_year'\n",
       "\\item 'actor\\_2\\_facebook\\_likes'\n",
       "\\item 'imdb\\_score'\n",
       "\\item 'aspect\\_ratio'\n",
       "\\item 'movie\\_facebook\\_likes'\n",
       "\\end{enumerate*}\n"
      ],
      "text/markdown": [
       "1. 'color'\n",
       "2. 'director_name'\n",
       "3. 'num_critic_for_reviews'\n",
       "4. 'duration'\n",
       "5. 'director_facebook_likes'\n",
       "6. 'actor_3_facebook_likes'\n",
       "7. 'actor_2_name'\n",
       "8. 'actor_1_facebook_likes'\n",
       "9. 'gross'\n",
       "10. 'genres'\n",
       "11. 'actor_1_name'\n",
       "12. 'movie_title'\n",
       "13. 'num_voted_users'\n",
       "14. 'cast_total_facebook_likes'\n",
       "15. 'actor_3_name'\n",
       "16. 'facenumber_in_poster'\n",
       "17. 'plot_keywords'\n",
       "18. 'movie_imdb_link'\n",
       "19. 'num_user_for_reviews'\n",
       "20. 'language'\n",
       "21. 'country'\n",
       "22. 'content_rating'\n",
       "23. 'budget'\n",
       "24. 'title_year'\n",
       "25. 'actor_2_facebook_likes'\n",
       "26. 'imdb_score'\n",
       "27. 'aspect_ratio'\n",
       "28. 'movie_facebook_likes'\n",
       "\n",
       "\n"
      ],
      "text/plain": [
       " [1] \"color\"                     \"director_name\"            \n",
       " [3] \"num_critic_for_reviews\"    \"duration\"                 \n",
       " [5] \"director_facebook_likes\"   \"actor_3_facebook_likes\"   \n",
       " [7] \"actor_2_name\"              \"actor_1_facebook_likes\"   \n",
       " [9] \"gross\"                     \"genres\"                   \n",
       "[11] \"actor_1_name\"              \"movie_title\"              \n",
       "[13] \"num_voted_users\"           \"cast_total_facebook_likes\"\n",
       "[15] \"actor_3_name\"              \"facenumber_in_poster\"     \n",
       "[17] \"plot_keywords\"             \"movie_imdb_link\"          \n",
       "[19] \"num_user_for_reviews\"      \"language\"                 \n",
       "[21] \"country\"                   \"content_rating\"           \n",
       "[23] \"budget\"                    \"title_year\"               \n",
       "[25] \"actor_2_facebook_likes\"    \"imdb_score\"               \n",
       "[27] \"aspect_ratio\"              \"movie_facebook_likes\"     "
      ]
     },
     "metadata": {},
     "output_type": "display_data"
    }
   ],
   "source": [
    "colnames(movies)"
   ]
  },
  {
   "cell_type": "markdown",
   "metadata": {},
   "source": [
    "* `num_critic_for_reviews`: number of IMDB movie-critic-generated star/text reviews\n",
    "* `num_voted_users`: number of IMDB user-generated star-only reviews on a scale of 1-10\n",
    "* `num_user_for_reviews`: number of IMDB regular-user-generated star/text reviews\n",
    "\n",
    "Ok, data is now tidy and documented well-enough. Moving on to EDA."
   ]
  },
  {
   "cell_type": "markdown",
   "metadata": {},
   "source": [
    "# EDA (Visualize <-> Transform <-> Model)\n",
    "Review data set again:"
   ]
  },
  {
   "cell_type": "code",
   "execution_count": 18,
   "metadata": {},
   "outputs": [
    {
     "name": "stdout",
     "output_type": "stream",
     "text": [
      "Observations: 4,998\n",
      "Variables: 28\n",
      "$ color                     <chr> \"Color\", \"Color\", \"Color\", \"Color\", NA, \"...\n",
      "$ director_name             <chr> \"James Cameron\", \"Gore Verbinski\", \"Sam M...\n",
      "$ num_critic_for_reviews    <int> 723, 302, 602, 813, NA, 462, 392, 324, 63...\n",
      "$ duration                  <int> 178, 169, 148, 164, NA, 132, 156, 100, 14...\n",
      "$ director_facebook_likes   <int> 0, 563, 0, 22000, 131, 475, 0, 15, 0, 282...\n",
      "$ actor_3_facebook_likes    <int> 855, 1000, 161, 23000, NA, 530, 4000, 284...\n",
      "$ actor_2_name              <chr> \"Joel David Moore\", \"Orlando Bloom\", \"Ror...\n",
      "$ actor_1_facebook_likes    <int> 1000, 40000, 11000, 27000, 131, 640, 2400...\n",
      "$ gross                     <int> 760505847, 309404152, 200074175, 44813064...\n",
      "$ genres                    <chr> \"Action|Adventure|Fantasy|Sci-Fi\", \"Actio...\n",
      "$ actor_1_name              <chr> \"CCH Pounder\", \"Johnny Depp\", \"Christoph ...\n",
      "$ movie_title               <chr> \"Avatar \", \"Pirates of the Caribbean: At ...\n",
      "$ num_voted_users           <int> 886204, 471220, 275868, 1144337, 8, 21220...\n",
      "$ cast_total_facebook_likes <int> 4834, 48350, 11700, 106759, 143, 1873, 46...\n",
      "$ actor_3_name              <chr> \"Wes Studi\", \"Jack Davenport\", \"Stephanie...\n",
      "$ facenumber_in_poster      <int> 0, 0, 1, 0, 0, 1, 0, 1, 4, 3, 0, 0, 1, 2,...\n",
      "$ plot_keywords             <chr> \"avatar|future|marine|native|paraplegic\",...\n",
      "$ movie_imdb_link           <chr> \"http://www.imdb.com/title/tt0499549/?ref...\n",
      "$ num_user_for_reviews      <int> 3054, 1238, 994, 2701, NA, 738, 1902, 387...\n",
      "$ language                  <chr> \"English\", \"English\", \"English\", \"English...\n",
      "$ country                   <chr> \"USA\", \"USA\", \"UK\", \"USA\", NA, \"USA\", \"US...\n",
      "$ content_rating            <chr> \"PG-13\", \"PG-13\", \"PG-13\", \"PG-13\", NA, \"...\n",
      "$ budget                    <int> 237000000, 300000000, 245000000, 25000000...\n",
      "$ title_year                <int> 2009, 2007, 2015, 2012, NA, 2012, 2007, 2...\n",
      "$ actor_2_facebook_likes    <int> 936, 5000, 393, 23000, 12, 632, 11000, 55...\n",
      "$ imdb_score                <dbl> 7.9, 7.1, 6.8, 8.5, 7.1, 6.6, 6.2, 7.8, 7...\n",
      "$ aspect_ratio              <dbl> 1.78, 2.35, 2.35, 2.35, NA, 2.35, 2.35, 1...\n",
      "$ movie_facebook_likes      <int> 33000, 0, 85000, 164000, 0, 24000, 0, 290...\n"
     ]
    }
   ],
   "source": [
    "glimpse(movies)"
   ]
  },
  {
   "cell_type": "markdown",
   "metadata": {},
   "source": [
    "Now a very quick and dirty plot:"
   ]
  },
  {
   "cell_type": "code",
   "execution_count": 19,
   "metadata": {},
   "outputs": [
    {
     "name": "stderr",
     "output_type": "stream",
     "text": [
      "`stat_bin()` using `bins = 30`. Pick better value with `binwidth`.\n",
      "Warning message:\n",
      "“Removed 2043 rows containing non-finite values (stat_bin).”"
     ]
    },
    {
     "data": {},
     "metadata": {},
     "output_type": "display_data"
    },
    {
     "data": {
      "image/png": "[encoded data removed]",
      "text/plain": [
       "plot without title"
      ]
     },
     "metadata": {},
     "output_type": "display_data"
    }
   ],
   "source": [
    "library(purrr)\n",
    "\n",
    "movies %>%\n",
    "    keep(is.numeric) %>%\n",
    "    gather() %>%\n",
    "    ggplot(aes(x = value)) +\n",
    "        facet_wrap(~ key, scales = \"free\") +\n",
    "        geom_histogram()"
   ]
  },
  {
   "cell_type": "markdown",
   "metadata": {},
   "source": [
    "Some of these plots are highly skewed and make it difficult to see well (the top row for example). I would like to transform a few of them to log scale:\n",
    "\n",
    "* actor_1_facebook_likes\n",
    "* actor_2_facebook_likes\n",
    "* actor_3_facebook_likes\n",
    "* budget\n",
    "* cast_total_facebook_likes\n",
    "* director_facebook_likes\n",
    "* gross\n",
    "* movie_facebook_likes\n",
    "* num_user_for_reviews\n",
    "* num_voted_users"
   ]
  },
  {
   "cell_type": "code",
   "execution_count": 20,
   "metadata": {},
   "outputs": [
    {
     "data": {
      "text/html": [
       "<table>\n",
       "<thead><tr><th scope=col>likes</th></tr></thead>\n",
       "<tbody>\n",
       "\t<tr><td>38000</td></tr>\n",
       "\t<tr><td>    0</td></tr>\n",
       "\t<tr><td>  134</td></tr>\n",
       "\t<tr><td>  872</td></tr>\n",
       "\t<tr><td>  951</td></tr>\n",
       "\t<tr><td>  122</td></tr>\n",
       "</tbody>\n",
       "</table>\n"
      ],
      "text/latex": [
       "\\begin{tabular}{r|l}\n",
       " likes\\\\\n",
       "\\hline\n",
       "\t 38000\\\\\n",
       "\t     0\\\\\n",
       "\t   134\\\\\n",
       "\t   872\\\\\n",
       "\t   951\\\\\n",
       "\t   122\\\\\n",
       "\\end{tabular}\n"
      ],
      "text/markdown": [
       "\n",
       "likes | \n",
       "|---|---|---|---|---|---|\n",
       "| 38000 | \n",
       "|     0 | \n",
       "|   134 | \n",
       "|   872 | \n",
       "|   951 | \n",
       "|   122 | \n",
       "\n",
       "\n"
      ],
      "text/plain": [
       "  likes\n",
       "1 38000\n",
       "2     0\n",
       "3   134\n",
       "4   872\n",
       "5   951\n",
       "6   122"
      ]
     },
     "metadata": {},
     "output_type": "display_data"
    }
   ],
   "source": [
    "rand_sample <- tibble(likes = sample(movies$movie_facebook_likes, 100)) \n",
    "head(rand_sample)"
   ]
  },
  {
   "cell_type": "code",
   "execution_count": 21,
   "metadata": {},
   "outputs": [
    {
     "data": {
      "text/html": [
       "<ol class=list-inline>\n",
       "\t<li>0</li>\n",
       "\t<li>0</li>\n",
       "\t<li>0</li>\n",
       "\t<li>0</li>\n",
       "\t<li>0</li>\n",
       "\t<li>0</li>\n",
       "\t<li>0</li>\n",
       "\t<li>0</li>\n",
       "\t<li>0</li>\n",
       "\t<li>0</li>\n",
       "\t<li>0</li>\n",
       "\t<li>0</li>\n",
       "\t<li>0</li>\n",
       "\t<li>0</li>\n",
       "\t<li>0</li>\n",
       "\t<li>0</li>\n",
       "\t<li>0</li>\n",
       "\t<li>0</li>\n",
       "\t<li>0</li>\n",
       "\t<li>0</li>\n",
       "\t<li>0</li>\n",
       "\t<li>0</li>\n",
       "\t<li>0</li>\n",
       "\t<li>0</li>\n",
       "\t<li>0</li>\n",
       "\t<li>0</li>\n",
       "\t<li>0</li>\n",
       "\t<li>0</li>\n",
       "\t<li>0</li>\n",
       "\t<li>0</li>\n",
       "\t<li>0</li>\n",
       "\t<li>0</li>\n",
       "\t<li>0</li>\n",
       "\t<li>0</li>\n",
       "\t<li>0</li>\n",
       "\t<li>0</li>\n",
       "\t<li>0</li>\n",
       "\t<li>0</li>\n",
       "\t<li>0</li>\n",
       "\t<li>0</li>\n",
       "\t<li>0</li>\n",
       "\t<li>0</li>\n",
       "\t<li>0</li>\n",
       "\t<li>0</li>\n",
       "\t<li>0</li>\n",
       "\t<li>0</li>\n",
       "\t<li>17</li>\n",
       "\t<li>38</li>\n",
       "\t<li>73</li>\n",
       "\t<li>109</li>\n",
       "\t<li>122</li>\n",
       "\t<li>134</li>\n",
       "\t<li>157</li>\n",
       "\t<li>167</li>\n",
       "\t<li>227</li>\n",
       "\t<li>246</li>\n",
       "\t<li>387</li>\n",
       "\t<li>389</li>\n",
       "\t<li>491</li>\n",
       "\t<li>504</li>\n",
       "\t<li>515</li>\n",
       "\t<li>672</li>\n",
       "\t<li>797</li>\n",
       "\t<li>797</li>\n",
       "\t<li>872</li>\n",
       "\t<li>933</li>\n",
       "\t<li>951</li>\n",
       "\t<li>962</li>\n",
       "\t<li>1000</li>\n",
       "\t<li>2000</li>\n",
       "\t<li>2000</li>\n",
       "\t<li>3000</li>\n",
       "\t<li>3000</li>\n",
       "\t<li>5000</li>\n",
       "\t<li>7000</li>\n",
       "\t<li>12000</li>\n",
       "\t<li>12000</li>\n",
       "\t<li>13000</li>\n",
       "\t<li>14000</li>\n",
       "\t<li>14000</li>\n",
       "\t<li>15000</li>\n",
       "\t<li>17000</li>\n",
       "\t<li>18000</li>\n",
       "\t<li>18000</li>\n",
       "\t<li>19000</li>\n",
       "\t<li>21000</li>\n",
       "\t<li>22000</li>\n",
       "\t<li>23000</li>\n",
       "\t<li>24000</li>\n",
       "\t<li>25000</li>\n",
       "\t<li>29000</li>\n",
       "\t<li>33000</li>\n",
       "\t<li>37000</li>\n",
       "\t<li>38000</li>\n",
       "\t<li>58000</li>\n",
       "\t<li>62000</li>\n",
       "\t<li>62000</li>\n",
       "\t<li>77000</li>\n",
       "\t<li>80000</li>\n",
       "\t<li>149000</li>\n",
       "</ol>\n"
      ],
      "text/latex": [
       "\\begin{enumerate*}\n",
       "\\item 0\n",
       "\\item 0\n",
       "\\item 0\n",
       "\\item 0\n",
       "\\item 0\n",
       "\\item 0\n",
       "\\item 0\n",
       "\\item 0\n",
       "\\item 0\n",
       "\\item 0\n",
       "\\item 0\n",
       "\\item 0\n",
       "\\item 0\n",
       "\\item 0\n",
       "\\item 0\n",
       "\\item 0\n",
       "\\item 0\n",
       "\\item 0\n",
       "\\item 0\n",
       "\\item 0\n",
       "\\item 0\n",
       "\\item 0\n",
       "\\item 0\n",
       "\\item 0\n",
       "\\item 0\n",
       "\\item 0\n",
       "\\item 0\n",
       "\\item 0\n",
       "\\item 0\n",
       "\\item 0\n",
       "\\item 0\n",
       "\\item 0\n",
       "\\item 0\n",
       "\\item 0\n",
       "\\item 0\n",
       "\\item 0\n",
       "\\item 0\n",
       "\\item 0\n",
       "\\item 0\n",
       "\\item 0\n",
       "\\item 0\n",
       "\\item 0\n",
       "\\item 0\n",
       "\\item 0\n",
       "\\item 0\n",
       "\\item 0\n",
       "\\item 17\n",
       "\\item 38\n",
       "\\item 73\n",
       "\\item 109\n",
       "\\item 122\n",
       "\\item 134\n",
       "\\item 157\n",
       "\\item 167\n",
       "\\item 227\n",
       "\\item 246\n",
       "\\item 387\n",
       "\\item 389\n",
       "\\item 491\n",
       "\\item 504\n",
       "\\item 515\n",
       "\\item 672\n",
       "\\item 797\n",
       "\\item 797\n",
       "\\item 872\n",
       "\\item 933\n",
       "\\item 951\n",
       "\\item 962\n",
       "\\item 1000\n",
       "\\item 2000\n",
       "\\item 2000\n",
       "\\item 3000\n",
       "\\item 3000\n",
       "\\item 5000\n",
       "\\item 7000\n",
       "\\item 12000\n",
       "\\item 12000\n",
       "\\item 13000\n",
       "\\item 14000\n",
       "\\item 14000\n",
       "\\item 15000\n",
       "\\item 17000\n",
       "\\item 18000\n",
       "\\item 18000\n",
       "\\item 19000\n",
       "\\item 21000\n",
       "\\item 22000\n",
       "\\item 23000\n",
       "\\item 24000\n",
       "\\item 25000\n",
       "\\item 29000\n",
       "\\item 33000\n",
       "\\item 37000\n",
       "\\item 38000\n",
       "\\item 58000\n",
       "\\item 62000\n",
       "\\item 62000\n",
       "\\item 77000\n",
       "\\item 80000\n",
       "\\item 149000\n",
       "\\end{enumerate*}\n"
      ],
      "text/markdown": [
       "1. 0\n",
       "2. 0\n",
       "3. 0\n",
       "4. 0\n",
       "5. 0\n",
       "6. 0\n",
       "7. 0\n",
       "8. 0\n",
       "9. 0\n",
       "10. 0\n",
       "11. 0\n",
       "12. 0\n",
       "13. 0\n",
       "14. 0\n",
       "15. 0\n",
       "16. 0\n",
       "17. 0\n",
       "18. 0\n",
       "19. 0\n",
       "20. 0\n",
       "21. 0\n",
       "22. 0\n",
       "23. 0\n",
       "24. 0\n",
       "25. 0\n",
       "26. 0\n",
       "27. 0\n",
       "28. 0\n",
       "29. 0\n",
       "30. 0\n",
       "31. 0\n",
       "32. 0\n",
       "33. 0\n",
       "34. 0\n",
       "35. 0\n",
       "36. 0\n",
       "37. 0\n",
       "38. 0\n",
       "39. 0\n",
       "40. 0\n",
       "41. 0\n",
       "42. 0\n",
       "43. 0\n",
       "44. 0\n",
       "45. 0\n",
       "46. 0\n",
       "47. 17\n",
       "48. 38\n",
       "49. 73\n",
       "50. 109\n",
       "51. 122\n",
       "52. 134\n",
       "53. 157\n",
       "54. 167\n",
       "55. 227\n",
       "56. 246\n",
       "57. 387\n",
       "58. 389\n",
       "59. 491\n",
       "60. 504\n",
       "61. 515\n",
       "62. 672\n",
       "63. 797\n",
       "64. 797\n",
       "65. 872\n",
       "66. 933\n",
       "67. 951\n",
       "68. 962\n",
       "69. 1000\n",
       "70. 2000\n",
       "71. 2000\n",
       "72. 3000\n",
       "73. 3000\n",
       "74. 5000\n",
       "75. 7000\n",
       "76. 12000\n",
       "77. 12000\n",
       "78. 13000\n",
       "79. 14000\n",
       "80. 14000\n",
       "81. 15000\n",
       "82. 17000\n",
       "83. 18000\n",
       "84. 18000\n",
       "85. 19000\n",
       "86. 21000\n",
       "87. 22000\n",
       "88. 23000\n",
       "89. 24000\n",
       "90. 25000\n",
       "91. 29000\n",
       "92. 33000\n",
       "93. 37000\n",
       "94. 38000\n",
       "95. 58000\n",
       "96. 62000\n",
       "97. 62000\n",
       "98. 77000\n",
       "99. 80000\n",
       "100. 149000\n",
       "\n",
       "\n"
      ],
      "text/plain": [
       "  [1]      0      0      0      0      0      0      0      0      0      0\n",
       " [11]      0      0      0      0      0      0      0      0      0      0\n",
       " [21]      0      0      0      0      0      0      0      0      0      0\n",
       " [31]      0      0      0      0      0      0      0      0      0      0\n",
       " [41]      0      0      0      0      0      0     17     38     73    109\n",
       " [51]    122    134    157    167    227    246    387    389    491    504\n",
       " [61]    515    672    797    797    872    933    951    962   1000   2000\n",
       " [71]   2000   3000   3000   5000   7000  12000  12000  13000  14000  14000\n",
       " [81]  15000  17000  18000  18000  19000  21000  22000  23000  24000  25000\n",
       " [91]  29000  33000  37000  38000  58000  62000  62000  77000  80000 149000"
      ]
     },
     "metadata": {},
     "output_type": "display_data"
    }
   ],
   "source": [
    "sort(rand_sample$likes)"
   ]
  },
  {
   "cell_type": "code",
   "execution_count": 22,
   "metadata": {},
   "outputs": [
    {
     "data": {},
     "metadata": {},
     "output_type": "display_data"
    },
    {
     "data": {
      "image/png": "[encoded data removed]",
      "text/plain": [
       "plot without title"
      ]
     },
     "metadata": {},
     "output_type": "display_data"
    }
   ],
   "source": [
    "ggplot(rand_sample, aes(x = likes)) +\n",
    "    geom_histogram(binwidth = 100)"
   ]
  },
  {
   "cell_type": "code",
   "execution_count": 23,
   "metadata": {},
   "outputs": [
    {
     "data": {
      "text/html": [
       "<table>\n",
       "<thead><tr><th scope=col>likes</th><th scope=col>likes_log</th></tr></thead>\n",
       "<tbody>\n",
       "\t<tr><td>38000   </td><td>4.579795</td></tr>\n",
       "\t<tr><td>    0   </td><td>0.000000</td></tr>\n",
       "\t<tr><td>  134   </td><td>2.130334</td></tr>\n",
       "\t<tr><td>  872   </td><td>2.941014</td></tr>\n",
       "\t<tr><td>  951   </td><td>2.978637</td></tr>\n",
       "\t<tr><td>  122   </td><td>2.089905</td></tr>\n",
       "</tbody>\n",
       "</table>\n"
      ],
      "text/latex": [
       "\\begin{tabular}{r|ll}\n",
       " likes & likes\\_log\\\\\n",
       "\\hline\n",
       "\t 38000    & 4.579795\\\\\n",
       "\t     0    & 0.000000\\\\\n",
       "\t   134    & 2.130334\\\\\n",
       "\t   872    & 2.941014\\\\\n",
       "\t   951    & 2.978637\\\\\n",
       "\t   122    & 2.089905\\\\\n",
       "\\end{tabular}\n"
      ],
      "text/markdown": [
       "\n",
       "likes | likes_log | \n",
       "|---|---|---|---|---|---|\n",
       "| 38000    | 4.579795 | \n",
       "|     0    | 0.000000 | \n",
       "|   134    | 2.130334 | \n",
       "|   872    | 2.941014 | \n",
       "|   951    | 2.978637 | \n",
       "|   122    | 2.089905 | \n",
       "\n",
       "\n"
      ],
      "text/plain": [
       "  likes likes_log\n",
       "1 38000 4.579795 \n",
       "2     0 0.000000 \n",
       "3   134 2.130334 \n",
       "4   872 2.941014 \n",
       "5   951 2.978637 \n",
       "6   122 2.089905 "
      ]
     },
     "metadata": {},
     "output_type": "display_data"
    }
   ],
   "source": [
    "rand_sample_log <- rand_sample %>%\n",
    "    mutate(likes_log = log10(likes + 1))\n",
    "head(rand_sample_log)"
   ]
  },
  {
   "cell_type": "code",
   "execution_count": 24,
   "metadata": {},
   "outputs": [
    {
     "data": {},
     "metadata": {},
     "output_type": "display_data"
    },
    {
     "data": {
      "image/png": "[encoded data removed]",
      "text/plain": [
       "plot without title"
      ]
     },
     "metadata": {},
     "output_type": "display_data"
    }
   ],
   "source": [
    "ggplot(rand_sample_log, aes(x = likes_log)) +\n",
    "    geom_histogram(binwidth = .1)"
   ]
  },
  {
   "cell_type": "code",
   "execution_count": null,
   "metadata": {
    "collapsed": true
   },
   "outputs": [],
   "source": []
  },
  {
   "cell_type": "code",
   "execution_count": null,
   "metadata": {
    "collapsed": true
   },
   "outputs": [],
   "source": []
  },
  {
   "cell_type": "code",
   "execution_count": null,
   "metadata": {
    "collapsed": true
   },
   "outputs": [],
   "source": []
  },
  {
   "cell_type": "code",
   "execution_count": null,
   "metadata": {
    "collapsed": true
   },
   "outputs": [],
   "source": []
  },
  {
   "cell_type": "code",
   "execution_count": null,
   "metadata": {
    "collapsed": true
   },
   "outputs": [],
   "source": []
  },
  {
   "cell_type": "code",
   "execution_count": null,
   "metadata": {
    "collapsed": true
   },
   "outputs": [],
   "source": []
  },
  {
   "cell_type": "code",
   "execution_count": null,
   "metadata": {
    "collapsed": true
   },
   "outputs": [],
   "source": []
  },
  {
   "cell_type": "markdown",
   "metadata": {},
   "source": [
    "What do I think is valuable to add at this point?\n",
    "I wonder what number of genres looks like:"
   ]
  },
  {
   "cell_type": "code",
   "execution_count": null,
   "metadata": {
    "collapsed": true
   },
   "outputs": [],
   "source": [
    "movies <- mutate(movies,\n",
    "                num_genres = sapply(gregexpr(\"[|]\", movies$genres), length))\n",
    "movies"
   ]
  },
  {
   "cell_type": "markdown",
   "metadata": {},
   "source": [
    "Not sure what to do with this"
   ]
  },
  {
   "cell_type": "markdown",
   "metadata": {},
   "source": [
    "Plot number of genres:"
   ]
  },
  {
   "cell_type": "code",
   "execution_count": null,
   "metadata": {
    "collapsed": true
   },
   "outputs": [],
   "source": [
    "ggplot(movies) +\n",
    "    geom_bar(aes(x = num_genres))"
   ]
  },
  {
   "cell_type": "markdown",
   "metadata": {},
   "source": [
    "Now plot some other things - plot all the continuous variables to see if anything sticks out:"
   ]
  },
  {
   "cell_type": "code",
   "execution_count": null,
   "metadata": {
    "collapsed": true
   },
   "outputs": [],
   "source": [
    "ggplot(movies) +\n",
    "    geom_bar(aes(x = genres))"
   ]
  },
  {
   "cell_type": "markdown",
   "metadata": {},
   "source": [
    "How many unique combinations of genres exist?"
   ]
  },
  {
   "cell_type": "code",
   "execution_count": null,
   "metadata": {
    "collapsed": true
   },
   "outputs": [],
   "source": [
    "length(unique(movies$genres))\n",
    "sort(unique(movies$genres))"
   ]
  },
  {
   "cell_type": "markdown",
   "metadata": {},
   "source": [
    "Two continuous variables in a scatter plot with one categorical variable as color:"
   ]
  },
  {
   "cell_type": "code",
   "execution_count": null,
   "metadata": {
    "collapsed": true
   },
   "outputs": [],
   "source": [
    "ggplot(movies) +\n",
    "    geom_point(aes(x = budget, y = imdb_score, color = color))"
   ]
  },
  {
   "cell_type": "markdown",
   "metadata": {},
   "source": [
    "Single categorical variable in bar chart:"
   ]
  },
  {
   "cell_type": "code",
   "execution_count": null,
   "metadata": {
    "collapsed": true,
    "scrolled": false
   },
   "outputs": [],
   "source": [
    "ggplot(movies, aes(x = content_rating)) +\n",
    "    geom_bar()"
   ]
  },
  {
   "cell_type": "markdown",
   "metadata": {},
   "source": [
    "Single continuous variable in histogram:"
   ]
  },
  {
   "cell_type": "code",
   "execution_count": null,
   "metadata": {
    "collapsed": true
   },
   "outputs": [],
   "source": [
    "ggplot(movies, aes(x = imdb_score)) +\n",
    "    geom_histogram(binwidth = .1)"
   ]
  },
  {
   "cell_type": "code",
   "execution_count": null,
   "metadata": {
    "collapsed": true
   },
   "outputs": [],
   "source": [
    "ggplot(movies, aes(x = movie_facebook_likes)) +\n",
    "    geom_histogram(binwidth = 1000)"
   ]
  },
  {
   "cell_type": "code",
   "execution_count": null,
   "metadata": {
    "collapsed": true
   },
   "outputs": [],
   "source": [
    "movies %>%\n",
    "    filter(movie_facebook_likes > 0) %>%\n",
    "    ggplot(aes(x = log10(movie_facebook_likes) + 1)) +\n",
    "        geom_histogram(binwidth = .1)"
   ]
  },
  {
   "cell_type": "code",
   "execution_count": null,
   "metadata": {
    "collapsed": true
   },
   "outputs": [],
   "source": [
    "x <- movies$movie_facebook_likes\n",
    "sort(x)"
   ]
  },
  {
   "cell_type": "code",
   "execution_count": null,
   "metadata": {
    "collapsed": true
   },
   "outputs": [],
   "source": [
    "y <- log10(movies$movie_facebook_likes + 1)\n",
    "sort(y)"
   ]
  }
 ],
 "metadata": {
  "kernelspec": {
   "display_name": "R",
   "language": "R",
   "name": "ir"
  },
  "language_info": {
   "codemirror_mode": "r",
   "file_extension": ".r",
   "mimetype": "text/x-r-source",
   "name": "R",
   "pygments_lexer": "r",
   "version": "3.3.2"
  }
 },
 "nbformat": 4,
 "nbformat_minor": 2
}
